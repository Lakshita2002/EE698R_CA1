{
  "cells": [
    {
      "cell_type": "markdown",
      "id": "described-israel",
      "metadata": {
        "id": "described-israel"
      },
      "source": [
        "## Instructions:\n",
        "- You can use NN libraries such as tensorflow, pytorch, etc. But implement NF and importance sampling on your own.\n",
        "- Zero tolerance for plagiarism. Do not copy from Practice and Share; the student who submitted there originally only can use; Github tracks who pushed what code.\n",
        "- Total marks: 50 + 5 (bonus)\n",
        "- Marks will be for plots and explanations. Describe your experiments, observations, challenges-faced, hyper-parameter tuning, etc., in the explanations."
      ]
    },
    {
      "cell_type": "code",
      "execution_count": 1,
      "id": "spoken-raleigh",
      "metadata": {
        "id": "spoken-raleigh"
      },
      "outputs": [],
      "source": [
        "import CodingQuiz1lib as given\n",
        "import numpy as np\n",
        "np.random.seed(5)\n",
        "import matplotlib.pyplot as plt\n",
        "import tensorflow as tf\n",
        "import tqdm"
      ]
    },
    {
      "cell_type": "markdown",
      "id": "future-multimedia",
      "metadata": {
        "id": "future-multimedia"
      },
      "source": [
        "# Q1: Model a 2D GMM using NF\n",
        "- Prepare the target probability distribution $p_x^*$ as a GMM with 5 components\n",
        "```\n",
        "    ptarget = given.GMM()  \n",
        "    samples = ptarget.sample(5) # to obtain 5 samples\n",
        "    given.plot_samples_2d(samples, filename='target')   # plot the samples in file\n",
        "    ptarget.prob(samples)       # to obtain probability values of samples\n",
        "```\n",
        "- Prepare the source distribution $p_u$ as a Gaussian with zero mean and unit variance. Use `given.Gaussian`.\n",
        "\n",
        "## a.\n",
        "- Given only the samples from the target distribution, train an NF $x=T(u)$ to model that distribution. Use any flow of your choice.\n",
        "- Evaluation:\n",
        "    - Generate samples from the model and plot them using `given.plot_samples_2d()`. Also plot samples from target distribution for comparison. Write your obervations in the markdown block below the plots. [10 marks]\n",
        "    - Generate samples from the given target distribution and estimate their probabilities using the model as well as `ptarget.prob()`. Plot a histogram of the absolute difference in the two probability values. Write your obervations in the markdown block below the plots. [10 marks]\n",
        "\n",
        "## b.\n",
        "- Given only the function `ptarget.prob()` from the target distribution, train an NF to model that distribution.\n",
        "- Evaluation:\n",
        "    - Generate samples from the model and plot them using `given.plot_samples_2d()`. Also plot samples from target distribution for comparison. Write your obervations in the markdown block below the plots. [10 marks]\n",
        "    - Generate samples from the given target distribution and estimate their probabilities using the model as well as `ptarget.prob()`. Plot a histogram of the absolute difference in the two probability values. Write your obervations in the markdown block below the plots. [10 marks]\n",
        "\n",
        "## c. (BONUS)\n",
        "- Draw plots that may help understand your models better. Write your obervations in the markdown block below the plots. [5 marks]"
      ]
    },
    {
      "cell_type": "markdown",
      "id": "hawaiian-friday",
      "metadata": {
        "id": "hawaiian-friday"
      },
      "source": [
        "## YOUR CODE:"
      ]
    },
    {
      "cell_type": "markdown",
      "source": [
        "### Q1 a."
      ],
      "metadata": {
        "id": "nBSETreMDu3M"
      },
      "id": "nBSETreMDu3M"
    },
    {
      "cell_type": "code",
      "execution_count": 2,
      "id": "olympic-singles",
      "metadata": {
        "id": "olympic-singles"
      },
      "outputs": [],
      "source": [
        "##### Q1 a. #####\n",
        "\n",
        "epoch = 500\n",
        "ptarget = given.GMM()\n",
        "psource = given.Gaussian(mu=np.asarray([0, 0]), sigma=np.asarray([[1, 0], [0, 1]]))\n",
        "n_samples = 30\n",
        "eta = 0.001"
      ]
    },
    {
      "cell_type": "code",
      "source": [
        "# modelling planar flow function\n",
        "\n",
        "def T(u, c, w, b):\n",
        "  return u + tf.matmul(tf.math.tanh(tf.matmul(u, w) + b), tf.transpose(c))"
      ],
      "metadata": {
        "id": "ht-xrPdfCU1r"
      },
      "id": "ht-xrPdfCU1r",
      "execution_count": 3,
      "outputs": []
    },
    {
      "cell_type": "code",
      "source": [
        "# function to find determinant of jacobian\n",
        "\n",
        "def det_J(u, c, w, b):\n",
        "\n",
        "  detJ = []\n",
        "\n",
        "  for i in u:\n",
        "    with tf.GradientTape(persistent=True) as tape:\n",
        "      m = tf.matmul(tf.transpose(w), tf.reshape(i, (2,1))) + b\n",
        "      h = tf.math.tanh(m)\n",
        "    dh_dm = tape.gradient(h, m)\n",
        "    det = 1 + (dh_dm)*tf.matmul(tf.transpose(w), c)\n",
        "    detJ.append(det)\n",
        "\n",
        "  return detJ"
      ],
      "metadata": {
        "id": "553-slPZCaEb"
      },
      "id": "553-slPZCaEb",
      "execution_count": 4,
      "outputs": []
    },
    {
      "cell_type": "code",
      "source": [
        "# initializing parameters\n",
        "\n",
        "c = tf.Variable(tf.random.uniform([2, 1], 0, 1), trainable=True, dtype=tf.float32)\n",
        "w = tf.Variable(tf.random.uniform([2, 1], 0, 1), trainable=True, dtype=tf.float32)\n",
        "b = tf.Variable(tf.random.uniform([1, 1], 0, 1), trainable=True, dtype=tf.float32)"
      ],
      "metadata": {
        "id": "FAiLG0HRD_mE"
      },
      "id": "FAiLG0HRD_mE",
      "execution_count": 5,
      "outputs": []
    },
    {
      "cell_type": "code",
      "source": [
        "# S = 30\n",
        "# D = 2\n",
        "\n",
        "def step1(c, w, b, ptarget, psource, eta, n_samples, loss=False):\n",
        "  with tf.GradientTape(persistent=True) as tape2:\n",
        "\n",
        "    x = tf.cast(ptarget.sample(n_samples), dtype=tf.float32)\n",
        "    u = T(x, c, w, b)\n",
        "    # u = tf.cast(psource.sample(n_samples), dtype=tf.float32) # u = 30 x 2\n",
        "    p_u_u = psource.prob(np.asarray(u)) # p_u_u = 30 x 1\n",
        "    log_puu = tf.cast(tf.math.log(p_u_u), dtype=tf.float32) # log_puu = 30 x 1\n",
        "\n",
        "    # x = T(u, c, w, b) # x = 30 x 2\n",
        "    # p_x_star = ptarget.prob(np.asarray(x))   \n",
        "    # log_pxstar = tf.cast(tf.math.log(p_x_star), dtype=tf.float32)\n",
        "\n",
        "    mod_det_J = tf.math.abs(det_J(x, c, w, b))\n",
        "    log_det_J = tf.math.log(mod_det_J)\n",
        "\n",
        "    mc_loss = -tf.reduce_sum(log_puu + log_det_J)/n_samples\n",
        "    \n",
        "  dloss_dc = tape2.gradient(mc_loss, c)\n",
        "  dloss_dw = tape2.gradient(mc_loss, w)\n",
        "  dloss_db = tape2.gradient(mc_loss, b)\n",
        "  c.assign(c - eta*dloss_dc)\n",
        "  w.assign(w - eta*dloss_dw)\n",
        "  b.assign(b - eta*dloss_db)\n",
        "\n",
        "  if loss:\n",
        "    return c, w, b, mc_loss.numpy()\n",
        "  else:\n",
        "    return c, w, b"
      ],
      "metadata": {
        "id": "VXEczetVECjE"
      },
      "id": "VXEczetVECjE",
      "execution_count": 6,
      "outputs": []
    },
    {
      "cell_type": "code",
      "source": [
        "for _ in tqdm.trange(epoch, desc=\"Training\", bar_format='{l_bar}{bar:50}{r_bar}'):\n",
        "  c, w, b = step1(c, w, b, ptarget, psource, eta, n_samples)"
      ],
      "metadata": {
        "id": "ptrNAuWjF2oe",
        "colab": {
          "base_uri": "https://localhost:8080/"
        },
        "outputId": "4ac96911-2e09-4c25-8280-c4a2e74cb04c"
      },
      "id": "ptrNAuWjF2oe",
      "execution_count": 7,
      "outputs": [
        {
          "output_type": "stream",
          "name": "stderr",
          "text": [
            "\rTraining:   0%|                                                  | 0/500 [00:00<?, ?it/s]"
          ]
        },
        {
          "output_type": "stream",
          "name": "stdout",
          "text": [
            "[0.01404067 0.11816142 0.40426436 0.45028626 0.01324729]\n",
            "[ 0  0 14 15  1]\n"
          ]
        },
        {
          "output_type": "stream",
          "name": "stderr",
          "text": [
            "\rTraining:   0%|                                                  | 1/500 [00:00<03:48,  2.18it/s]"
          ]
        },
        {
          "output_type": "stream",
          "name": "stdout",
          "text": [
            "[0.01404067 0.11816142 0.40426436 0.45028626 0.01324729]\n",
            "[ 2  3  8 17  0]\n"
          ]
        },
        {
          "output_type": "stream",
          "name": "stderr",
          "text": [
            "\rTraining:   0%|▏                                                 | 2/500 [00:00<02:45,  3.00it/s]"
          ]
        },
        {
          "output_type": "stream",
          "name": "stdout",
          "text": [
            "[0.01404067 0.11816142 0.40426436 0.45028626 0.01324729]\n",
            "[ 0  3  7 20  0]\n"
          ]
        },
        {
          "output_type": "stream",
          "name": "stderr",
          "text": [
            "\rTraining:   1%|▎                                                 | 3/500 [00:00<02:27,  3.37it/s]"
          ]
        },
        {
          "output_type": "stream",
          "name": "stdout",
          "text": [
            "[0.01404067 0.11816142 0.40426436 0.45028626 0.01324729]\n",
            "[ 0  5  9 16  0]\n"
          ]
        },
        {
          "output_type": "stream",
          "name": "stderr",
          "text": [
            "\rTraining:   1%|▍                                                 | 4/500 [00:01<02:19,  3.57it/s]"
          ]
        },
        {
          "output_type": "stream",
          "name": "stdout",
          "text": [
            "[0.01404067 0.11816142 0.40426436 0.45028626 0.01324729]\n",
            "[ 1  3 12 13  1]\n"
          ]
        },
        {
          "output_type": "stream",
          "name": "stderr",
          "text": [
            "\rTraining:   1%|▌                                                 | 5/500 [00:01<02:15,  3.64it/s]"
          ]
        },
        {
          "output_type": "stream",
          "name": "stdout",
          "text": [
            "[0.01404067 0.11816142 0.40426436 0.45028626 0.01324729]\n",
            "[ 0  6  8 16  0]\n"
          ]
        },
        {
          "output_type": "stream",
          "name": "stderr",
          "text": [
            "\rTraining:   1%|▌                                                 | 6/500 [00:01<02:08,  3.84it/s]"
          ]
        },
        {
          "output_type": "stream",
          "name": "stdout",
          "text": [
            "[0.01404067 0.11816142 0.40426436 0.45028626 0.01324729]\n",
            "[ 2  2 15 11  0]\n"
          ]
        },
        {
          "output_type": "stream",
          "name": "stderr",
          "text": [
            "\rTraining:   1%|▋                                                 | 7/500 [00:01<02:05,  3.93it/s]"
          ]
        },
        {
          "output_type": "stream",
          "name": "stdout",
          "text": [
            "[0.01404067 0.11816142 0.40426436 0.45028626 0.01324729]\n",
            "[ 0  2 17 11  0]\n"
          ]
        },
        {
          "output_type": "stream",
          "name": "stderr",
          "text": [
            "\rTraining:   2%|▊                                                 | 8/500 [00:02<02:02,  4.02it/s]"
          ]
        },
        {
          "output_type": "stream",
          "name": "stdout",
          "text": [
            "[0.01404067 0.11816142 0.40426436 0.45028626 0.01324729]\n",
            "[ 0  1 14 15  0]\n"
          ]
        },
        {
          "output_type": "stream",
          "name": "stderr",
          "text": [
            "\rTraining:   2%|▉                                                 | 9/500 [00:02<02:03,  3.96it/s]"
          ]
        },
        {
          "output_type": "stream",
          "name": "stdout",
          "text": [
            "[0.01404067 0.11816142 0.40426436 0.45028626 0.01324729]\n",
            "[ 0  3 13 14  0]\n"
          ]
        },
        {
          "output_type": "stream",
          "name": "stderr",
          "text": [
            "\rTraining:   2%|█                                                 | 10/500 [00:02<02:04,  3.95it/s]"
          ]
        },
        {
          "output_type": "stream",
          "name": "stdout",
          "text": [
            "[0.01404067 0.11816142 0.40426436 0.45028626 0.01324729]\n",
            "[ 1  2 10 15  2]\n"
          ]
        },
        {
          "output_type": "stream",
          "name": "stderr",
          "text": [
            "\rTraining:   2%|█                                                 | 11/500 [00:02<02:01,  4.04it/s]"
          ]
        },
        {
          "output_type": "stream",
          "name": "stdout",
          "text": [
            "[0.01404067 0.11816142 0.40426436 0.45028626 0.01324729]\n",
            "[ 3  3  9 15  0]\n"
          ]
        },
        {
          "output_type": "stream",
          "name": "stderr",
          "text": [
            "\rTraining:   2%|█▏                                                | 12/500 [00:03<01:59,  4.07it/s]"
          ]
        },
        {
          "output_type": "stream",
          "name": "stdout",
          "text": [
            "[0.01404067 0.11816142 0.40426436 0.45028626 0.01324729]\n",
            "[ 0  6 14 10  0]\n"
          ]
        },
        {
          "output_type": "stream",
          "name": "stderr",
          "text": [
            "\rTraining:   3%|█▎                                                | 13/500 [00:03<02:00,  4.05it/s]"
          ]
        },
        {
          "output_type": "stream",
          "name": "stdout",
          "text": [
            "[0.01404067 0.11816142 0.40426436 0.45028626 0.01324729]\n",
            "[ 0  4 11 14  1]\n"
          ]
        },
        {
          "output_type": "stream",
          "name": "stderr",
          "text": [
            "\rTraining:   3%|█▍                                                | 14/500 [00:03<01:58,  4.09it/s]"
          ]
        },
        {
          "output_type": "stream",
          "name": "stdout",
          "text": [
            "[0.01404067 0.11816142 0.40426436 0.45028626 0.01324729]\n",
            "[ 1  6 10 13  0]\n"
          ]
        },
        {
          "output_type": "stream",
          "name": "stderr",
          "text": [
            "\rTraining:   3%|█▌                                                | 15/500 [00:03<01:57,  4.13it/s]"
          ]
        },
        {
          "output_type": "stream",
          "name": "stdout",
          "text": [
            "[0.01404067 0.11816142 0.40426436 0.45028626 0.01324729]\n",
            "[ 0  4 14 12  0]\n"
          ]
        },
        {
          "output_type": "stream",
          "name": "stderr",
          "text": [
            "\rTraining:   3%|█▌                                                | 16/500 [00:04<01:59,  4.06it/s]"
          ]
        },
        {
          "output_type": "stream",
          "name": "stdout",
          "text": [
            "[0.01404067 0.11816142 0.40426436 0.45028626 0.01324729]\n",
            "[ 0  3 10 16  1]\n"
          ]
        },
        {
          "output_type": "stream",
          "name": "stderr",
          "text": [
            "\rTraining:   3%|█▋                                                | 17/500 [00:04<01:57,  4.13it/s]"
          ]
        },
        {
          "output_type": "stream",
          "name": "stdout",
          "text": [
            "[0.01404067 0.11816142 0.40426436 0.45028626 0.01324729]\n",
            "[ 0  2 14 14  0]\n"
          ]
        },
        {
          "output_type": "stream",
          "name": "stderr",
          "text": [
            "\rTraining:   4%|█▊                                                | 18/500 [00:04<01:54,  4.20it/s]"
          ]
        },
        {
          "output_type": "stream",
          "name": "stdout",
          "text": [
            "[0.01404067 0.11816142 0.40426436 0.45028626 0.01324729]\n",
            "[ 1  3 12 14  0]\n"
          ]
        },
        {
          "output_type": "stream",
          "name": "stderr",
          "text": [
            "\rTraining:   4%|█▉                                                | 19/500 [00:04<01:57,  4.09it/s]"
          ]
        },
        {
          "output_type": "stream",
          "name": "stdout",
          "text": [
            "[0.01404067 0.11816142 0.40426436 0.45028626 0.01324729]\n",
            "[ 1  2 17 10  0]\n"
          ]
        },
        {
          "output_type": "stream",
          "name": "stderr",
          "text": [
            "\rTraining:   4%|██                                                | 20/500 [00:05<01:59,  4.00it/s]"
          ]
        },
        {
          "output_type": "stream",
          "name": "stdout",
          "text": [
            "[0.01404067 0.11816142 0.40426436 0.45028626 0.01324729]\n",
            "[ 1  5 14 10  0]\n"
          ]
        },
        {
          "output_type": "stream",
          "name": "stderr",
          "text": [
            "\rTraining:   4%|██                                                | 21/500 [00:05<01:59,  3.99it/s]"
          ]
        },
        {
          "output_type": "stream",
          "name": "stdout",
          "text": [
            "[0.01404067 0.11816142 0.40426436 0.45028626 0.01324729]\n",
            "[ 0  3 12 15  0]\n"
          ]
        },
        {
          "output_type": "stream",
          "name": "stderr",
          "text": [
            "\rTraining:   4%|██▏                                               | 22/500 [00:05<02:00,  3.98it/s]"
          ]
        },
        {
          "output_type": "stream",
          "name": "stdout",
          "text": [
            "[0.01404067 0.11816142 0.40426436 0.45028626 0.01324729]\n",
            "[ 0  5 11 14  0]\n"
          ]
        },
        {
          "output_type": "stream",
          "name": "stderr",
          "text": [
            "\rTraining:   5%|██▎                                               | 23/500 [00:05<01:59,  3.99it/s]"
          ]
        },
        {
          "output_type": "stream",
          "name": "stdout",
          "text": [
            "[0.01404067 0.11816142 0.40426436 0.45028626 0.01324729]\n",
            "[ 0  2 11 17  0]\n"
          ]
        },
        {
          "output_type": "stream",
          "name": "stderr",
          "text": [
            "\rTraining:   5%|██▍                                               | 24/500 [00:06<01:57,  4.05it/s]"
          ]
        },
        {
          "output_type": "stream",
          "name": "stdout",
          "text": [
            "[0.01404067 0.11816142 0.40426436 0.45028626 0.01324729]\n",
            "[ 0  3 15 12  0]\n"
          ]
        },
        {
          "output_type": "stream",
          "name": "stderr",
          "text": [
            "\rTraining:   5%|██▌                                               | 25/500 [00:06<01:55,  4.12it/s]"
          ]
        },
        {
          "output_type": "stream",
          "name": "stdout",
          "text": [
            "[0.01404067 0.11816142 0.40426436 0.45028626 0.01324729]\n",
            "[ 0  2 11 17  0]\n"
          ]
        },
        {
          "output_type": "stream",
          "name": "stderr",
          "text": [
            "\rTraining:   5%|██▌                                               | 26/500 [00:06<01:54,  4.13it/s]"
          ]
        },
        {
          "output_type": "stream",
          "name": "stdout",
          "text": [
            "[0.01404067 0.11816142 0.40426436 0.45028626 0.01324729]\n",
            "[ 0  7 11 12  0]\n"
          ]
        },
        {
          "output_type": "stream",
          "name": "stderr",
          "text": [
            "\rTraining:   5%|██▋                                               | 27/500 [00:06<01:54,  4.14it/s]"
          ]
        },
        {
          "output_type": "stream",
          "name": "stdout",
          "text": [
            "[0.01404067 0.11816142 0.40426436 0.45028626 0.01324729]\n",
            "[ 0  2 14 14  0]\n"
          ]
        },
        {
          "output_type": "stream",
          "name": "stderr",
          "text": [
            "\rTraining:   6%|██▊                                               | 28/500 [00:07<01:56,  4.04it/s]"
          ]
        },
        {
          "output_type": "stream",
          "name": "stdout",
          "text": [
            "[0.01404067 0.11816142 0.40426436 0.45028626 0.01324729]\n",
            "[ 0  3 11 16  0]\n"
          ]
        },
        {
          "output_type": "stream",
          "name": "stderr",
          "text": [
            "\rTraining:   6%|██▉                                               | 29/500 [00:07<01:57,  4.00it/s]"
          ]
        },
        {
          "output_type": "stream",
          "name": "stdout",
          "text": [
            "[0.01404067 0.11816142 0.40426436 0.45028626 0.01324729]\n",
            "[ 0  6 15  9  0]\n"
          ]
        },
        {
          "output_type": "stream",
          "name": "stderr",
          "text": [
            "\rTraining:   6%|███                                               | 30/500 [00:07<01:58,  3.96it/s]"
          ]
        },
        {
          "output_type": "stream",
          "name": "stdout",
          "text": [
            "[0.01404067 0.11816142 0.40426436 0.45028626 0.01324729]\n",
            "[ 0  5 11 14  0]\n"
          ]
        },
        {
          "output_type": "stream",
          "name": "stderr",
          "text": [
            "\rTraining:   6%|███                                               | 31/500 [00:07<01:57,  3.98it/s]"
          ]
        },
        {
          "output_type": "stream",
          "name": "stdout",
          "text": [
            "[0.01404067 0.11816142 0.40426436 0.45028626 0.01324729]\n",
            "[ 1  5 10 14  0]\n"
          ]
        },
        {
          "output_type": "stream",
          "name": "stderr",
          "text": [
            "\rTraining:   6%|███▏                                              | 32/500 [00:08<01:59,  3.92it/s]"
          ]
        },
        {
          "output_type": "stream",
          "name": "stdout",
          "text": [
            "[0.01404067 0.11816142 0.40426436 0.45028626 0.01324729]\n",
            "[ 0  5 11 14  0]\n"
          ]
        },
        {
          "output_type": "stream",
          "name": "stderr",
          "text": [
            "\rTraining:   7%|███▎                                              | 33/500 [00:08<01:59,  3.92it/s]"
          ]
        },
        {
          "output_type": "stream",
          "name": "stdout",
          "text": [
            "[0.01404067 0.11816142 0.40426436 0.45028626 0.01324729]\n",
            "[ 1  2 11 16  0]\n"
          ]
        },
        {
          "output_type": "stream",
          "name": "stderr",
          "text": [
            "\rTraining:   7%|███▍                                              | 34/500 [00:08<01:58,  3.94it/s]"
          ]
        },
        {
          "output_type": "stream",
          "name": "stdout",
          "text": [
            "[0.01404067 0.11816142 0.40426436 0.45028626 0.01324729]\n",
            "[ 1  2 15 12  0]\n"
          ]
        },
        {
          "output_type": "stream",
          "name": "stderr",
          "text": [
            "\rTraining:   7%|███▌                                              | 35/500 [00:08<01:58,  3.92it/s]"
          ]
        },
        {
          "output_type": "stream",
          "name": "stdout",
          "text": [
            "[0.01404067 0.11816142 0.40426436 0.45028626 0.01324729]\n",
            "[ 0  4 12 14  0]\n"
          ]
        },
        {
          "output_type": "stream",
          "name": "stderr",
          "text": [
            "\rTraining:   7%|███▌                                              | 36/500 [00:09<02:01,  3.83it/s]"
          ]
        },
        {
          "output_type": "stream",
          "name": "stdout",
          "text": [
            "[0.01404067 0.11816142 0.40426436 0.45028626 0.01324729]\n",
            "[ 0  3 12 15  0]\n"
          ]
        },
        {
          "output_type": "stream",
          "name": "stderr",
          "text": [
            "\rTraining:   7%|███▋                                              | 37/500 [00:09<02:00,  3.86it/s]"
          ]
        },
        {
          "output_type": "stream",
          "name": "stdout",
          "text": [
            "[0.01404067 0.11816142 0.40426436 0.45028626 0.01324729]\n",
            "[ 0  1  9 19  1]\n"
          ]
        },
        {
          "output_type": "stream",
          "name": "stderr",
          "text": [
            "\rTraining:   8%|███▊                                              | 38/500 [00:09<02:00,  3.85it/s]"
          ]
        },
        {
          "output_type": "stream",
          "name": "stdout",
          "text": [
            "[0.01404067 0.11816142 0.40426436 0.45028626 0.01324729]\n",
            "[ 0  3 11 16  0]\n"
          ]
        },
        {
          "output_type": "stream",
          "name": "stderr",
          "text": [
            "\rTraining:   8%|███▉                                              | 39/500 [00:09<01:59,  3.86it/s]"
          ]
        },
        {
          "output_type": "stream",
          "name": "stdout",
          "text": [
            "[0.01404067 0.11816142 0.40426436 0.45028626 0.01324729]\n",
            "[ 0  5 12 13  0]\n"
          ]
        },
        {
          "output_type": "stream",
          "name": "stderr",
          "text": [
            "\rTraining:   8%|████                                              | 40/500 [00:10<02:00,  3.82it/s]"
          ]
        },
        {
          "output_type": "stream",
          "name": "stdout",
          "text": [
            "[0.01404067 0.11816142 0.40426436 0.45028626 0.01324729]\n",
            "[ 1  6  7 14  2]\n"
          ]
        },
        {
          "output_type": "stream",
          "name": "stderr",
          "text": [
            "\rTraining:   8%|████                                              | 41/500 [00:10<01:59,  3.84it/s]"
          ]
        },
        {
          "output_type": "stream",
          "name": "stdout",
          "text": [
            "[0.01404067 0.11816142 0.40426436 0.45028626 0.01324729]\n",
            "[ 0  2 13 15  0]\n"
          ]
        },
        {
          "output_type": "stream",
          "name": "stderr",
          "text": [
            "\rTraining:   8%|████▏                                             | 42/500 [00:10<01:58,  3.86it/s]"
          ]
        },
        {
          "output_type": "stream",
          "name": "stdout",
          "text": [
            "[0.01404067 0.11816142 0.40426436 0.45028626 0.01324729]\n",
            "[ 1  4 10 15  0]\n"
          ]
        },
        {
          "output_type": "stream",
          "name": "stderr",
          "text": [
            "\rTraining:   9%|████▎                                             | 43/500 [00:10<01:56,  3.92it/s]"
          ]
        },
        {
          "output_type": "stream",
          "name": "stdout",
          "text": [
            "[0.01404067 0.11816142 0.40426436 0.45028626 0.01324729]\n",
            "[ 1  5 13 11  0]\n"
          ]
        },
        {
          "output_type": "stream",
          "name": "stderr",
          "text": [
            "\rTraining:   9%|████▍                                             | 44/500 [00:11<01:55,  3.94it/s]"
          ]
        },
        {
          "output_type": "stream",
          "name": "stdout",
          "text": [
            "[0.01404067 0.11816142 0.40426436 0.45028626 0.01324729]\n",
            "[ 1  1 12 15  1]\n"
          ]
        },
        {
          "output_type": "stream",
          "name": "stderr",
          "text": [
            "\rTraining:   9%|████▌                                             | 45/500 [00:11<01:53,  4.01it/s]"
          ]
        },
        {
          "output_type": "stream",
          "name": "stdout",
          "text": [
            "[0.01404067 0.11816142 0.40426436 0.45028626 0.01324729]\n",
            "[ 2  2 11 15  0]\n"
          ]
        },
        {
          "output_type": "stream",
          "name": "stderr",
          "text": [
            "\rTraining:   9%|████▌                                             | 46/500 [00:11<01:50,  4.09it/s]"
          ]
        },
        {
          "output_type": "stream",
          "name": "stdout",
          "text": [
            "[0.01404067 0.11816142 0.40426436 0.45028626 0.01324729]\n",
            "[ 0  4 14 12  0]\n"
          ]
        },
        {
          "output_type": "stream",
          "name": "stderr",
          "text": [
            "\rTraining:   9%|████▋                                             | 47/500 [00:11<01:50,  4.10it/s]"
          ]
        },
        {
          "output_type": "stream",
          "name": "stdout",
          "text": [
            "[0.01404067 0.11816142 0.40426436 0.45028626 0.01324729]\n",
            "[ 0  4 13 12  1]\n"
          ]
        },
        {
          "output_type": "stream",
          "name": "stderr",
          "text": [
            "\rTraining:  10%|████▊                                             | 48/500 [00:12<01:51,  4.07it/s]"
          ]
        },
        {
          "output_type": "stream",
          "name": "stdout",
          "text": [
            "[0.01404067 0.11816142 0.40426436 0.45028626 0.01324729]\n",
            "[ 0  3 11 16  0]\n"
          ]
        },
        {
          "output_type": "stream",
          "name": "stderr",
          "text": [
            "\rTraining:  10%|████▉                                             | 49/500 [00:12<01:49,  4.13it/s]"
          ]
        },
        {
          "output_type": "stream",
          "name": "stdout",
          "text": [
            "[0.01404067 0.11816142 0.40426436 0.45028626 0.01324729]\n",
            "[ 1  5 13 11  0]\n"
          ]
        },
        {
          "output_type": "stream",
          "name": "stderr",
          "text": [
            "\rTraining:  10%|█████                                             | 50/500 [00:12<01:50,  4.07it/s]"
          ]
        },
        {
          "output_type": "stream",
          "name": "stdout",
          "text": [
            "[0.01404067 0.11816142 0.40426436 0.45028626 0.01324729]\n",
            "[ 2  3 13 11  1]\n"
          ]
        },
        {
          "output_type": "stream",
          "name": "stderr",
          "text": [
            "\rTraining:  10%|█████                                             | 51/500 [00:12<01:51,  4.03it/s]"
          ]
        },
        {
          "output_type": "stream",
          "name": "stdout",
          "text": [
            "[0.01404067 0.11816142 0.40426436 0.45028626 0.01324729]\n",
            "[ 1  5 13 10  1]\n"
          ]
        },
        {
          "output_type": "stream",
          "name": "stderr",
          "text": [
            "\rTraining:  10%|█████▏                                            | 52/500 [00:13<01:51,  4.00it/s]"
          ]
        },
        {
          "output_type": "stream",
          "name": "stdout",
          "text": [
            "[0.01404067 0.11816142 0.40426436 0.45028626 0.01324729]\n",
            "[ 1  6 10 13  0]\n"
          ]
        },
        {
          "output_type": "stream",
          "name": "stderr",
          "text": [
            "\rTraining:  11%|█████▎                                            | 53/500 [00:13<01:50,  4.05it/s]"
          ]
        },
        {
          "output_type": "stream",
          "name": "stdout",
          "text": [
            "[0.01404067 0.11816142 0.40426436 0.45028626 0.01324729]\n",
            "[ 0  3 16 10  1]\n"
          ]
        },
        {
          "output_type": "stream",
          "name": "stderr",
          "text": [
            "\rTraining:  11%|█████▍                                            | 54/500 [00:13<01:49,  4.07it/s]"
          ]
        },
        {
          "output_type": "stream",
          "name": "stdout",
          "text": [
            "[0.01404067 0.11816142 0.40426436 0.45028626 0.01324729]\n",
            "[ 0  2 14 12  2]\n"
          ]
        },
        {
          "output_type": "stream",
          "name": "stderr",
          "text": [
            "\rTraining:  11%|█████▌                                            | 55/500 [00:13<01:49,  4.08it/s]"
          ]
        },
        {
          "output_type": "stream",
          "name": "stdout",
          "text": [
            "[0.01404067 0.11816142 0.40426436 0.45028626 0.01324729]\n",
            "[ 2  4 12 11  1]\n"
          ]
        },
        {
          "output_type": "stream",
          "name": "stderr",
          "text": [
            "\rTraining:  11%|█████▌                                            | 56/500 [00:14<01:47,  4.13it/s]"
          ]
        },
        {
          "output_type": "stream",
          "name": "stdout",
          "text": [
            "[0.01404067 0.11816142 0.40426436 0.45028626 0.01324729]\n",
            "[ 0  5 14 11  0]\n"
          ]
        },
        {
          "output_type": "stream",
          "name": "stderr",
          "text": [
            "\rTraining:  11%|█████▋                                            | 57/500 [00:14<01:48,  4.10it/s]"
          ]
        },
        {
          "output_type": "stream",
          "name": "stdout",
          "text": [
            "[0.01404067 0.11816142 0.40426436 0.45028626 0.01324729]\n",
            "[ 0  3 12 15  0]\n"
          ]
        },
        {
          "output_type": "stream",
          "name": "stderr",
          "text": [
            "\rTraining:  12%|█████▊                                            | 58/500 [00:14<01:46,  4.15it/s]"
          ]
        },
        {
          "output_type": "stream",
          "name": "stdout",
          "text": [
            "[0.01404067 0.11816142 0.40426436 0.45028626 0.01324729]\n",
            "[ 0  5 16  9  0]\n"
          ]
        },
        {
          "output_type": "stream",
          "name": "stderr",
          "text": [
            "\rTraining:  12%|█████▉                                            | 59/500 [00:14<01:47,  4.12it/s]"
          ]
        },
        {
          "output_type": "stream",
          "name": "stdout",
          "text": [
            "[0.01404067 0.11816142 0.40426436 0.45028626 0.01324729]\n",
            "[ 2 10  9  9  0]\n"
          ]
        },
        {
          "output_type": "stream",
          "name": "stderr",
          "text": [
            "\rTraining:  12%|██████                                            | 60/500 [00:15<01:46,  4.12it/s]"
          ]
        },
        {
          "output_type": "stream",
          "name": "stdout",
          "text": [
            "[0.01404067 0.11816142 0.40426436 0.45028626 0.01324729]\n",
            "[ 0  1 20  9  0]\n"
          ]
        },
        {
          "output_type": "stream",
          "name": "stderr",
          "text": [
            "\rTraining:  12%|██████                                            | 61/500 [00:15<01:48,  4.06it/s]"
          ]
        },
        {
          "output_type": "stream",
          "name": "stdout",
          "text": [
            "[0.01404067 0.11816142 0.40426436 0.45028626 0.01324729]\n",
            "[ 0  2  8 20  0]\n"
          ]
        },
        {
          "output_type": "stream",
          "name": "stderr",
          "text": [
            "\rTraining:  12%|██████▏                                           | 62/500 [00:15<01:48,  4.02it/s]"
          ]
        },
        {
          "output_type": "stream",
          "name": "stdout",
          "text": [
            "[0.01404067 0.11816142 0.40426436 0.45028626 0.01324729]\n",
            "[ 1  4  8 17  0]\n"
          ]
        },
        {
          "output_type": "stream",
          "name": "stderr",
          "text": [
            "\rTraining:  13%|██████▎                                           | 63/500 [00:15<01:48,  4.02it/s]"
          ]
        },
        {
          "output_type": "stream",
          "name": "stdout",
          "text": [
            "[0.01404067 0.11816142 0.40426436 0.45028626 0.01324729]\n",
            "[ 1  2 12 14  1]\n"
          ]
        },
        {
          "output_type": "stream",
          "name": "stderr",
          "text": [
            "\rTraining:  13%|██████▍                                           | 64/500 [00:16<01:46,  4.08it/s]"
          ]
        },
        {
          "output_type": "stream",
          "name": "stdout",
          "text": [
            "[0.01404067 0.11816142 0.40426436 0.45028626 0.01324729]\n",
            "[ 1  3 13 13  0]\n"
          ]
        },
        {
          "output_type": "stream",
          "name": "stderr",
          "text": [
            "\rTraining:  13%|██████▌                                           | 65/500 [00:16<01:45,  4.11it/s]"
          ]
        },
        {
          "output_type": "stream",
          "name": "stdout",
          "text": [
            "[0.01404067 0.11816142 0.40426436 0.45028626 0.01324729]\n",
            "[ 0  3 17 10  0]\n"
          ]
        },
        {
          "output_type": "stream",
          "name": "stderr",
          "text": [
            "\rTraining:  13%|██████▌                                           | 66/500 [00:16<01:45,  4.10it/s]"
          ]
        },
        {
          "output_type": "stream",
          "name": "stdout",
          "text": [
            "[0.01404067 0.11816142 0.40426436 0.45028626 0.01324729]\n",
            "[ 1  2 11 16  0]\n"
          ]
        },
        {
          "output_type": "stream",
          "name": "stderr",
          "text": [
            "\rTraining:  13%|██████▋                                           | 67/500 [00:16<01:45,  4.12it/s]"
          ]
        },
        {
          "output_type": "stream",
          "name": "stdout",
          "text": [
            "[0.01404067 0.11816142 0.40426436 0.45028626 0.01324729]\n",
            "[ 0  5 14 11  0]\n"
          ]
        },
        {
          "output_type": "stream",
          "name": "stderr",
          "text": [
            "\rTraining:  14%|██████▊                                           | 68/500 [00:17<01:46,  4.07it/s]"
          ]
        },
        {
          "output_type": "stream",
          "name": "stdout",
          "text": [
            "[0.01404067 0.11816142 0.40426436 0.45028626 0.01324729]\n",
            "[ 0  1 12 16  1]\n"
          ]
        },
        {
          "output_type": "stream",
          "name": "stderr",
          "text": [
            "\rTraining:  14%|██████▉                                           | 69/500 [00:17<01:47,  4.00it/s]"
          ]
        },
        {
          "output_type": "stream",
          "name": "stdout",
          "text": [
            "[0.01404067 0.11816142 0.40426436 0.45028626 0.01324729]\n",
            "[ 1  4 10 15  0]\n"
          ]
        },
        {
          "output_type": "stream",
          "name": "stderr",
          "text": [
            "\rTraining:  14%|███████                                           | 70/500 [00:17<01:48,  3.96it/s]"
          ]
        },
        {
          "output_type": "stream",
          "name": "stdout",
          "text": [
            "[0.01404067 0.11816142 0.40426436 0.45028626 0.01324729]\n",
            "[ 0  0 16 13  1]\n"
          ]
        },
        {
          "output_type": "stream",
          "name": "stderr",
          "text": [
            "\rTraining:  14%|███████                                           | 71/500 [00:17<01:47,  4.00it/s]"
          ]
        },
        {
          "output_type": "stream",
          "name": "stdout",
          "text": [
            "[0.01404067 0.11816142 0.40426436 0.45028626 0.01324729]\n",
            "[ 0  4 12 13  1]\n"
          ]
        },
        {
          "output_type": "stream",
          "name": "stderr",
          "text": [
            "\rTraining:  14%|███████▏                                          | 72/500 [00:18<01:45,  4.04it/s]"
          ]
        },
        {
          "output_type": "stream",
          "name": "stdout",
          "text": [
            "[0.01404067 0.11816142 0.40426436 0.45028626 0.01324729]\n",
            "[ 1  1 14 14  0]\n"
          ]
        },
        {
          "output_type": "stream",
          "name": "stderr",
          "text": [
            "\rTraining:  15%|███████▎                                          | 73/500 [00:18<01:44,  4.09it/s]"
          ]
        },
        {
          "output_type": "stream",
          "name": "stdout",
          "text": [
            "[0.01404067 0.11816142 0.40426436 0.45028626 0.01324729]\n",
            "[ 0  7 12 11  0]\n"
          ]
        },
        {
          "output_type": "stream",
          "name": "stderr",
          "text": [
            "\rTraining:  15%|███████▍                                          | 74/500 [00:18<01:45,  4.05it/s]"
          ]
        },
        {
          "output_type": "stream",
          "name": "stdout",
          "text": [
            "[0.01404067 0.11816142 0.40426436 0.45028626 0.01324729]\n",
            "[ 0  7 11 12  0]\n"
          ]
        },
        {
          "output_type": "stream",
          "name": "stderr",
          "text": [
            "\rTraining:  15%|███████▌                                          | 75/500 [00:18<01:46,  4.01it/s]"
          ]
        },
        {
          "output_type": "stream",
          "name": "stdout",
          "text": [
            "[0.01404067 0.11816142 0.40426436 0.45028626 0.01324729]\n",
            "[ 1  2 16 10  1]\n"
          ]
        },
        {
          "output_type": "stream",
          "name": "stderr",
          "text": [
            "\rTraining:  15%|███████▌                                          | 76/500 [00:19<01:46,  4.00it/s]"
          ]
        },
        {
          "output_type": "stream",
          "name": "stdout",
          "text": [
            "[0.01404067 0.11816142 0.40426436 0.45028626 0.01324729]\n",
            "[ 0  1 17 12  0]\n"
          ]
        },
        {
          "output_type": "stream",
          "name": "stderr",
          "text": [
            "\rTraining:  15%|███████▋                                          | 77/500 [00:19<01:46,  3.98it/s]"
          ]
        },
        {
          "output_type": "stream",
          "name": "stdout",
          "text": [
            "[0.01404067 0.11816142 0.40426436 0.45028626 0.01324729]\n",
            "[ 0  4  9 17  0]\n"
          ]
        },
        {
          "output_type": "stream",
          "name": "stderr",
          "text": [
            "\rTraining:  16%|███████▊                                          | 78/500 [00:19<01:46,  3.95it/s]"
          ]
        },
        {
          "output_type": "stream",
          "name": "stdout",
          "text": [
            "[0.01404067 0.11816142 0.40426436 0.45028626 0.01324729]\n",
            "[ 0  2 14 14  0]\n"
          ]
        },
        {
          "output_type": "stream",
          "name": "stderr",
          "text": [
            "\rTraining:  16%|███████▉                                          | 79/500 [00:19<01:47,  3.91it/s]"
          ]
        },
        {
          "output_type": "stream",
          "name": "stdout",
          "text": [
            "[0.01404067 0.11816142 0.40426436 0.45028626 0.01324729]\n",
            "[ 1  3 11 14  1]\n"
          ]
        },
        {
          "output_type": "stream",
          "name": "stderr",
          "text": [
            "\rTraining:  16%|████████                                          | 80/500 [00:20<01:46,  3.93it/s]"
          ]
        },
        {
          "output_type": "stream",
          "name": "stdout",
          "text": [
            "[0.01404067 0.11816142 0.40426436 0.45028626 0.01324729]\n",
            "[ 1  1 12 16  0]\n"
          ]
        },
        {
          "output_type": "stream",
          "name": "stderr",
          "text": [
            "\rTraining:  16%|████████                                          | 81/500 [00:20<01:48,  3.87it/s]"
          ]
        },
        {
          "output_type": "stream",
          "name": "stdout",
          "text": [
            "[0.01404067 0.11816142 0.40426436 0.45028626 0.01324729]\n",
            "[ 1  3  9 15  2]\n"
          ]
        },
        {
          "output_type": "stream",
          "name": "stderr",
          "text": [
            "\rTraining:  16%|████████▏                                         | 82/500 [00:20<01:48,  3.85it/s]"
          ]
        },
        {
          "output_type": "stream",
          "name": "stdout",
          "text": [
            "[0.01404067 0.11816142 0.40426436 0.45028626 0.01324729]\n",
            "[ 2  4 13 11  0]\n"
          ]
        },
        {
          "output_type": "stream",
          "name": "stderr",
          "text": [
            "\rTraining:  17%|████████▎                                         | 83/500 [00:20<01:47,  3.86it/s]"
          ]
        },
        {
          "output_type": "stream",
          "name": "stdout",
          "text": [
            "[0.01404067 0.11816142 0.40426436 0.45028626 0.01324729]\n",
            "[ 0  5 13 12  0]\n"
          ]
        },
        {
          "output_type": "stream",
          "name": "stderr",
          "text": [
            "\rTraining:  17%|████████▍                                         | 84/500 [00:21<01:46,  3.89it/s]"
          ]
        },
        {
          "output_type": "stream",
          "name": "stdout",
          "text": [
            "[0.01404067 0.11816142 0.40426436 0.45028626 0.01324729]\n",
            "[ 1  4  8 17  0]\n"
          ]
        },
        {
          "output_type": "stream",
          "name": "stderr",
          "text": [
            "\rTraining:  17%|████████▌                                         | 85/500 [00:21<01:48,  3.82it/s]"
          ]
        },
        {
          "output_type": "stream",
          "name": "stdout",
          "text": [
            "[0.01404067 0.11816142 0.40426436 0.45028626 0.01324729]\n",
            "[ 0  2 13 13  2]\n"
          ]
        },
        {
          "output_type": "stream",
          "name": "stderr",
          "text": [
            "\rTraining:  17%|████████▌                                         | 86/500 [00:21<01:49,  3.80it/s]"
          ]
        },
        {
          "output_type": "stream",
          "name": "stdout",
          "text": [
            "[0.01404067 0.11816142 0.40426436 0.45028626 0.01324729]\n",
            "[ 0  5 14 10  1]\n"
          ]
        },
        {
          "output_type": "stream",
          "name": "stderr",
          "text": [
            "\rTraining:  17%|████████▋                                         | 87/500 [00:21<01:48,  3.79it/s]"
          ]
        },
        {
          "output_type": "stream",
          "name": "stdout",
          "text": [
            "[0.01404067 0.11816142 0.40426436 0.45028626 0.01324729]\n",
            "[ 0  3  9 18  0]\n"
          ]
        },
        {
          "output_type": "stream",
          "name": "stderr",
          "text": [
            "\rTraining:  18%|████████▊                                         | 88/500 [00:22<01:47,  3.82it/s]"
          ]
        },
        {
          "output_type": "stream",
          "name": "stdout",
          "text": [
            "[0.01404067 0.11816142 0.40426436 0.45028626 0.01324729]\n",
            "[ 0  3 12 14  1]\n"
          ]
        },
        {
          "output_type": "stream",
          "name": "stderr",
          "text": [
            "\rTraining:  18%|████████▉                                         | 89/500 [00:22<01:48,  3.79it/s]"
          ]
        },
        {
          "output_type": "stream",
          "name": "stdout",
          "text": [
            "[0.01404067 0.11816142 0.40426436 0.45028626 0.01324729]\n",
            "[ 1  4 15 10  0]\n"
          ]
        },
        {
          "output_type": "stream",
          "name": "stderr",
          "text": [
            "\rTraining:  18%|█████████                                         | 90/500 [00:22<01:48,  3.78it/s]"
          ]
        },
        {
          "output_type": "stream",
          "name": "stdout",
          "text": [
            "[0.01404067 0.11816142 0.40426436 0.45028626 0.01324729]\n",
            "[ 1  7 10 11  1]\n"
          ]
        },
        {
          "output_type": "stream",
          "name": "stderr",
          "text": [
            "\rTraining:  18%|█████████                                         | 91/500 [00:23<01:46,  3.84it/s]"
          ]
        },
        {
          "output_type": "stream",
          "name": "stdout",
          "text": [
            "[0.01404067 0.11816142 0.40426436 0.45028626 0.01324729]\n",
            "[ 0  6 12 12  0]\n"
          ]
        },
        {
          "output_type": "stream",
          "name": "stderr",
          "text": [
            "\rTraining:  18%|█████████▏                                        | 92/500 [00:23<01:45,  3.88it/s]"
          ]
        },
        {
          "output_type": "stream",
          "name": "stdout",
          "text": [
            "[0.01404067 0.11816142 0.40426436 0.45028626 0.01324729]\n",
            "[ 0  9  9 11  1]\n"
          ]
        },
        {
          "output_type": "stream",
          "name": "stderr",
          "text": [
            "\rTraining:  19%|█████████▎                                        | 93/500 [00:23<01:47,  3.77it/s]"
          ]
        },
        {
          "output_type": "stream",
          "name": "stdout",
          "text": [
            "[0.01404067 0.11816142 0.40426436 0.45028626 0.01324729]\n",
            "[ 0  8 10  9  3]\n"
          ]
        },
        {
          "output_type": "stream",
          "name": "stderr",
          "text": [
            "\rTraining:  19%|█████████▍                                        | 94/500 [00:23<01:45,  3.84it/s]"
          ]
        },
        {
          "output_type": "stream",
          "name": "stdout",
          "text": [
            "[0.01404067 0.11816142 0.40426436 0.45028626 0.01324729]\n",
            "[ 0  7 12 10  1]\n"
          ]
        },
        {
          "output_type": "stream",
          "name": "stderr",
          "text": [
            "\rTraining:  19%|█████████▌                                        | 95/500 [00:24<01:44,  3.89it/s]"
          ]
        },
        {
          "output_type": "stream",
          "name": "stdout",
          "text": [
            "[0.01404067 0.11816142 0.40426436 0.45028626 0.01324729]\n",
            "[ 1  2 19  8  0]\n"
          ]
        },
        {
          "output_type": "stream",
          "name": "stderr",
          "text": [
            "\rTraining:  19%|█████████▌                                        | 96/500 [00:24<01:41,  3.97it/s]"
          ]
        },
        {
          "output_type": "stream",
          "name": "stdout",
          "text": [
            "[0.01404067 0.11816142 0.40426436 0.45028626 0.01324729]\n",
            "[ 0  5  9 16  0]\n"
          ]
        },
        {
          "output_type": "stream",
          "name": "stderr",
          "text": [
            "\rTraining:  19%|█████████▋                                        | 97/500 [00:24<01:40,  3.99it/s]"
          ]
        },
        {
          "output_type": "stream",
          "name": "stdout",
          "text": [
            "[0.01404067 0.11816142 0.40426436 0.45028626 0.01324729]\n",
            "[ 1  5 16  8  0]\n"
          ]
        },
        {
          "output_type": "stream",
          "name": "stderr",
          "text": [
            "\rTraining:  20%|█████████▊                                        | 98/500 [00:24<01:39,  4.05it/s]"
          ]
        },
        {
          "output_type": "stream",
          "name": "stdout",
          "text": [
            "[0.01404067 0.11816142 0.40426436 0.45028626 0.01324729]\n",
            "[ 1  2 12 14  1]\n"
          ]
        },
        {
          "output_type": "stream",
          "name": "stderr",
          "text": [
            "\rTraining:  20%|█████████▉                                        | 99/500 [00:25<01:38,  4.05it/s]"
          ]
        },
        {
          "output_type": "stream",
          "name": "stdout",
          "text": [
            "[0.01404067 0.11816142 0.40426436 0.45028626 0.01324729]\n",
            "[ 1  2 10 16  1]\n"
          ]
        },
        {
          "output_type": "stream",
          "name": "stderr",
          "text": [
            "\rTraining:  20%|██████████                                        | 100/500 [00:25<01:39,  4.02it/s]"
          ]
        },
        {
          "output_type": "stream",
          "name": "stdout",
          "text": [
            "[0.01404067 0.11816142 0.40426436 0.45028626 0.01324729]\n",
            "[ 1  2 10 15  2]\n"
          ]
        },
        {
          "output_type": "stream",
          "name": "stderr",
          "text": [
            "\rTraining:  20%|██████████                                        | 101/500 [00:25<01:41,  3.94it/s]"
          ]
        },
        {
          "output_type": "stream",
          "name": "stdout",
          "text": [
            "[0.01404067 0.11816142 0.40426436 0.45028626 0.01324729]\n",
            "[ 0  4  8 18  0]\n"
          ]
        },
        {
          "output_type": "stream",
          "name": "stderr",
          "text": [
            "\rTraining:  20%|██████████▏                                       | 102/500 [00:25<01:41,  3.92it/s]"
          ]
        },
        {
          "output_type": "stream",
          "name": "stdout",
          "text": [
            "[0.01404067 0.11816142 0.40426436 0.45028626 0.01324729]\n",
            "[ 0  2 12 16  0]\n"
          ]
        },
        {
          "output_type": "stream",
          "name": "stderr",
          "text": [
            "\rTraining:  21%|██████████▎                                       | 103/500 [00:26<01:40,  3.94it/s]"
          ]
        },
        {
          "output_type": "stream",
          "name": "stdout",
          "text": [
            "[0.01404067 0.11816142 0.40426436 0.45028626 0.01324729]\n",
            "[ 0  3 14 11  2]\n"
          ]
        },
        {
          "output_type": "stream",
          "name": "stderr",
          "text": [
            "\rTraining:  21%|██████████▍                                       | 104/500 [00:26<01:40,  3.95it/s]"
          ]
        },
        {
          "output_type": "stream",
          "name": "stdout",
          "text": [
            "[0.01404067 0.11816142 0.40426436 0.45028626 0.01324729]\n",
            "[ 1  3  8 17  1]\n"
          ]
        },
        {
          "output_type": "stream",
          "name": "stderr",
          "text": [
            "\rTraining:  21%|██████████▌                                       | 105/500 [00:26<01:42,  3.87it/s]"
          ]
        },
        {
          "output_type": "stream",
          "name": "stdout",
          "text": [
            "[0.01404067 0.11816142 0.40426436 0.45028626 0.01324729]\n",
            "[ 0  7  9 14  0]\n"
          ]
        },
        {
          "output_type": "stream",
          "name": "stderr",
          "text": [
            "\rTraining:  21%|██████████▌                                       | 106/500 [00:26<01:40,  3.93it/s]"
          ]
        },
        {
          "output_type": "stream",
          "name": "stdout",
          "text": [
            "[0.01404067 0.11816142 0.40426436 0.45028626 0.01324729]\n",
            "[ 0  3 15 12  0]\n"
          ]
        },
        {
          "output_type": "stream",
          "name": "stderr",
          "text": [
            "\rTraining:  21%|██████████▋                                       | 107/500 [00:27<01:38,  4.00it/s]"
          ]
        },
        {
          "output_type": "stream",
          "name": "stdout",
          "text": [
            "[0.01404067 0.11816142 0.40426436 0.45028626 0.01324729]\n",
            "[ 1  2 14 12  1]\n"
          ]
        },
        {
          "output_type": "stream",
          "name": "stderr",
          "text": [
            "\rTraining:  22%|██████████▊                                       | 108/500 [00:27<01:36,  4.06it/s]"
          ]
        },
        {
          "output_type": "stream",
          "name": "stdout",
          "text": [
            "[0.01404067 0.11816142 0.40426436 0.45028626 0.01324729]\n",
            "[ 0  5 13 12  0]\n"
          ]
        },
        {
          "output_type": "stream",
          "name": "stderr",
          "text": [
            "\rTraining:  22%|██████████▉                                       | 109/500 [00:27<01:36,  4.04it/s]"
          ]
        },
        {
          "output_type": "stream",
          "name": "stdout",
          "text": [
            "[0.01404067 0.11816142 0.40426436 0.45028626 0.01324729]\n",
            "[ 0  4 14 11  1]\n"
          ]
        },
        {
          "output_type": "stream",
          "name": "stderr",
          "text": [
            "\rTraining:  22%|███████████                                       | 110/500 [00:27<01:38,  3.97it/s]"
          ]
        },
        {
          "output_type": "stream",
          "name": "stdout",
          "text": [
            "[0.01404067 0.11816142 0.40426436 0.45028626 0.01324729]\n",
            "[ 0  2 13 15  0]\n"
          ]
        },
        {
          "output_type": "stream",
          "name": "stderr",
          "text": [
            "\rTraining:  22%|███████████                                       | 111/500 [00:28<01:38,  3.96it/s]"
          ]
        },
        {
          "output_type": "stream",
          "name": "stdout",
          "text": [
            "[0.01404067 0.11816142 0.40426436 0.45028626 0.01324729]\n",
            "[ 0  2 15 11  2]\n"
          ]
        },
        {
          "output_type": "stream",
          "name": "stderr",
          "text": [
            "\rTraining:  22%|███████████▏                                      | 112/500 [00:28<01:37,  3.97it/s]"
          ]
        },
        {
          "output_type": "stream",
          "name": "stdout",
          "text": [
            "[0.01404067 0.11816142 0.40426436 0.45028626 0.01324729]\n",
            "[ 0  3 11 14  2]\n"
          ]
        },
        {
          "output_type": "stream",
          "name": "stderr",
          "text": [
            "\rTraining:  23%|███████████▎                                      | 113/500 [00:28<01:38,  3.94it/s]"
          ]
        },
        {
          "output_type": "stream",
          "name": "stdout",
          "text": [
            "[0.01404067 0.11816142 0.40426436 0.45028626 0.01324729]\n",
            "[ 1  1 13 14  1]\n"
          ]
        },
        {
          "output_type": "stream",
          "name": "stderr",
          "text": [
            "\rTraining:  23%|███████████▍                                      | 114/500 [00:28<01:40,  3.85it/s]"
          ]
        },
        {
          "output_type": "stream",
          "name": "stdout",
          "text": [
            "[0.01404067 0.11816142 0.40426436 0.45028626 0.01324729]\n",
            "[ 0  4 10 16  0]\n"
          ]
        },
        {
          "output_type": "stream",
          "name": "stderr",
          "text": [
            "\rTraining:  23%|███████████▌                                      | 115/500 [00:29<01:38,  3.90it/s]"
          ]
        },
        {
          "output_type": "stream",
          "name": "stdout",
          "text": [
            "[0.01404067 0.11816142 0.40426436 0.45028626 0.01324729]\n",
            "[ 0  4 13 13  0]\n"
          ]
        },
        {
          "output_type": "stream",
          "name": "stderr",
          "text": [
            "\rTraining:  23%|███████████▌                                      | 116/500 [00:29<01:36,  3.98it/s]"
          ]
        },
        {
          "output_type": "stream",
          "name": "stdout",
          "text": [
            "[0.01404067 0.11816142 0.40426436 0.45028626 0.01324729]\n",
            "[ 0  3 14 13  0]\n"
          ]
        },
        {
          "output_type": "stream",
          "name": "stderr",
          "text": [
            "\rTraining:  23%|███████████▋                                      | 117/500 [00:29<01:35,  4.01it/s]"
          ]
        },
        {
          "output_type": "stream",
          "name": "stdout",
          "text": [
            "[0.01404067 0.11816142 0.40426436 0.45028626 0.01324729]\n",
            "[ 0  8 10 12  0]\n"
          ]
        },
        {
          "output_type": "stream",
          "name": "stderr",
          "text": [
            "\rTraining:  24%|███████████▊                                      | 118/500 [00:29<01:34,  4.03it/s]"
          ]
        },
        {
          "output_type": "stream",
          "name": "stdout",
          "text": [
            "[0.01404067 0.11816142 0.40426436 0.45028626 0.01324729]\n",
            "[ 1  7 12  9  1]\n"
          ]
        },
        {
          "output_type": "stream",
          "name": "stderr",
          "text": [
            "\rTraining:  24%|███████████▉                                      | 119/500 [00:30<01:35,  3.99it/s]"
          ]
        },
        {
          "output_type": "stream",
          "name": "stdout",
          "text": [
            "[0.01404067 0.11816142 0.40426436 0.45028626 0.01324729]\n",
            "[ 0  2 16 11  1]\n"
          ]
        },
        {
          "output_type": "stream",
          "name": "stderr",
          "text": [
            "\rTraining:  24%|████████████                                      | 120/500 [00:30<01:35,  3.97it/s]"
          ]
        },
        {
          "output_type": "stream",
          "name": "stdout",
          "text": [
            "[0.01404067 0.11816142 0.40426436 0.45028626 0.01324729]\n",
            "[ 1  6 10 12  1]\n"
          ]
        },
        {
          "output_type": "stream",
          "name": "stderr",
          "text": [
            "\rTraining:  24%|████████████                                      | 121/500 [00:30<01:34,  4.03it/s]"
          ]
        },
        {
          "output_type": "stream",
          "name": "stdout",
          "text": [
            "[0.01404067 0.11816142 0.40426436 0.45028626 0.01324729]\n",
            "[ 0  5 14 10  1]\n"
          ]
        },
        {
          "output_type": "stream",
          "name": "stderr",
          "text": [
            "\rTraining:  24%|████████████▏                                     | 122/500 [00:30<01:33,  4.05it/s]"
          ]
        },
        {
          "output_type": "stream",
          "name": "stdout",
          "text": [
            "[0.01404067 0.11816142 0.40426436 0.45028626 0.01324729]\n",
            "[ 1  3 14 12  0]\n"
          ]
        },
        {
          "output_type": "stream",
          "name": "stderr",
          "text": [
            "\rTraining:  25%|████████████▎                                     | 123/500 [00:31<01:34,  4.00it/s]"
          ]
        },
        {
          "output_type": "stream",
          "name": "stdout",
          "text": [
            "[0.01404067 0.11816142 0.40426436 0.45028626 0.01324729]\n",
            "[ 0  5 11 14  0]\n"
          ]
        },
        {
          "output_type": "stream",
          "name": "stderr",
          "text": [
            "\rTraining:  25%|████████████▍                                     | 124/500 [00:31<01:32,  4.05it/s]"
          ]
        },
        {
          "output_type": "stream",
          "name": "stdout",
          "text": [
            "[0.01404067 0.11816142 0.40426436 0.45028626 0.01324729]\n",
            "[ 0  7 13 10  0]\n"
          ]
        },
        {
          "output_type": "stream",
          "name": "stderr",
          "text": [
            "\rTraining:  25%|████████████▌                                     | 125/500 [00:31<01:31,  4.11it/s]"
          ]
        },
        {
          "output_type": "stream",
          "name": "stdout",
          "text": [
            "[0.01404067 0.11816142 0.40426436 0.45028626 0.01324729]\n",
            "[ 0  4 14 11  1]\n"
          ]
        },
        {
          "output_type": "stream",
          "name": "stderr",
          "text": [
            "\rTraining:  25%|████████████▌                                     | 126/500 [00:31<01:30,  4.12it/s]"
          ]
        },
        {
          "output_type": "stream",
          "name": "stdout",
          "text": [
            "[0.01404067 0.11816142 0.40426436 0.45028626 0.01324729]\n",
            "[ 1  5 15  9  0]\n"
          ]
        },
        {
          "output_type": "stream",
          "name": "stderr",
          "text": [
            "\rTraining:  25%|████████████▋                                     | 127/500 [00:32<01:32,  4.05it/s]"
          ]
        },
        {
          "output_type": "stream",
          "name": "stdout",
          "text": [
            "[0.01404067 0.11816142 0.40426436 0.45028626 0.01324729]\n",
            "[ 0  4 12 12  2]\n"
          ]
        },
        {
          "output_type": "stream",
          "name": "stderr",
          "text": [
            "\rTraining:  26%|████████████▊                                     | 128/500 [00:32<01:29,  4.14it/s]"
          ]
        },
        {
          "output_type": "stream",
          "name": "stdout",
          "text": [
            "[0.01404067 0.11816142 0.40426436 0.45028626 0.01324729]\n",
            "[ 0  3 13 14  0]\n"
          ]
        },
        {
          "output_type": "stream",
          "name": "stderr",
          "text": [
            "\rTraining:  26%|████████████▉                                     | 129/500 [00:32<01:28,  4.17it/s]"
          ]
        },
        {
          "output_type": "stream",
          "name": "stdout",
          "text": [
            "[0.01404067 0.11816142 0.40426436 0.45028626 0.01324729]\n",
            "[ 1  0 15 14  0]\n"
          ]
        },
        {
          "output_type": "stream",
          "name": "stderr",
          "text": [
            "\rTraining:  26%|█████████████                                     | 130/500 [00:32<01:29,  4.14it/s]"
          ]
        },
        {
          "output_type": "stream",
          "name": "stdout",
          "text": [
            "[0.01404067 0.11816142 0.40426436 0.45028626 0.01324729]\n",
            "[ 0  4  8 17  1]\n"
          ]
        },
        {
          "output_type": "stream",
          "name": "stderr",
          "text": [
            "\rTraining:  26%|█████████████                                     | 131/500 [00:33<01:30,  4.07it/s]"
          ]
        },
        {
          "output_type": "stream",
          "name": "stdout",
          "text": [
            "[0.01404067 0.11816142 0.40426436 0.45028626 0.01324729]\n",
            "[ 1  2 10 17  0]\n"
          ]
        },
        {
          "output_type": "stream",
          "name": "stderr",
          "text": [
            "\rTraining:  26%|█████████████▏                                    | 132/500 [00:33<01:31,  4.02it/s]"
          ]
        },
        {
          "output_type": "stream",
          "name": "stdout",
          "text": [
            "[0.01404067 0.11816142 0.40426436 0.45028626 0.01324729]\n",
            "[ 0  6 14  9  1]\n"
          ]
        },
        {
          "output_type": "stream",
          "name": "stderr",
          "text": [
            "\rTraining:  27%|█████████████▎                                    | 133/500 [00:33<01:31,  4.00it/s]"
          ]
        },
        {
          "output_type": "stream",
          "name": "stdout",
          "text": [
            "[0.01404067 0.11816142 0.40426436 0.45028626 0.01324729]\n",
            "[ 0  4  9 17  0]\n"
          ]
        },
        {
          "output_type": "stream",
          "name": "stderr",
          "text": [
            "\rTraining:  27%|█████████████▍                                    | 134/500 [00:33<01:32,  3.95it/s]"
          ]
        },
        {
          "output_type": "stream",
          "name": "stdout",
          "text": [
            "[0.01404067 0.11816142 0.40426436 0.45028626 0.01324729]\n",
            "[ 0  4  9 14  3]\n"
          ]
        },
        {
          "output_type": "stream",
          "name": "stderr",
          "text": [
            "\rTraining:  27%|█████████████▌                                    | 135/500 [00:34<01:31,  3.98it/s]"
          ]
        },
        {
          "output_type": "stream",
          "name": "stdout",
          "text": [
            "[0.01404067 0.11816142 0.40426436 0.45028626 0.01324729]\n",
            "[ 0  4 15 11  0]\n"
          ]
        },
        {
          "output_type": "stream",
          "name": "stderr",
          "text": [
            "\rTraining:  27%|█████████████▌                                    | 136/500 [00:34<01:29,  4.07it/s]"
          ]
        },
        {
          "output_type": "stream",
          "name": "stdout",
          "text": [
            "[0.01404067 0.11816142 0.40426436 0.45028626 0.01324729]\n",
            "[ 1  5 12 12  0]\n"
          ]
        },
        {
          "output_type": "stream",
          "name": "stderr",
          "text": [
            "\rTraining:  27%|█████████████▋                                    | 137/500 [00:34<01:28,  4.09it/s]"
          ]
        },
        {
          "output_type": "stream",
          "name": "stdout",
          "text": [
            "[0.01404067 0.11816142 0.40426436 0.45028626 0.01324729]\n",
            "[ 0  8 11 10  1]\n"
          ]
        },
        {
          "output_type": "stream",
          "name": "stderr",
          "text": [
            "\rTraining:  28%|█████████████▊                                    | 138/500 [00:34<01:28,  4.09it/s]"
          ]
        },
        {
          "output_type": "stream",
          "name": "stdout",
          "text": [
            "[0.01404067 0.11816142 0.40426436 0.45028626 0.01324729]\n",
            "[ 0  3 12 15  0]\n"
          ]
        },
        {
          "output_type": "stream",
          "name": "stderr",
          "text": [
            "\rTraining:  28%|█████████████▉                                    | 139/500 [00:34<01:28,  4.09it/s]"
          ]
        },
        {
          "output_type": "stream",
          "name": "stdout",
          "text": [
            "[0.01404067 0.11816142 0.40426436 0.45028626 0.01324729]\n",
            "[ 0  6 10 14  0]\n"
          ]
        },
        {
          "output_type": "stream",
          "name": "stderr",
          "text": [
            "\rTraining:  28%|██████████████                                    | 140/500 [00:35<01:29,  4.04it/s]"
          ]
        },
        {
          "output_type": "stream",
          "name": "stdout",
          "text": [
            "[0.01404067 0.11816142 0.40426436 0.45028626 0.01324729]\n",
            "[ 0  2 17 11  0]\n"
          ]
        },
        {
          "output_type": "stream",
          "name": "stderr",
          "text": [
            "\rTraining:  28%|██████████████                                    | 141/500 [00:35<01:29,  4.00it/s]"
          ]
        },
        {
          "output_type": "stream",
          "name": "stdout",
          "text": [
            "[0.01404067 0.11816142 0.40426436 0.45028626 0.01324729]\n",
            "[ 0  6 11 13  0]\n"
          ]
        },
        {
          "output_type": "stream",
          "name": "stderr",
          "text": [
            "\rTraining:  28%|██████████████▏                                   | 142/500 [00:35<01:31,  3.92it/s]"
          ]
        },
        {
          "output_type": "stream",
          "name": "stdout",
          "text": [
            "[0.01404067 0.11816142 0.40426436 0.45028626 0.01324729]\n",
            "[ 0  3 11 16  0]\n"
          ]
        },
        {
          "output_type": "stream",
          "name": "stderr",
          "text": [
            "\rTraining:  29%|██████████████▎                                   | 143/500 [00:36<01:31,  3.91it/s]"
          ]
        },
        {
          "output_type": "stream",
          "name": "stdout",
          "text": [
            "[0.01404067 0.11816142 0.40426436 0.45028626 0.01324729]\n",
            "[ 2  2 12 13  1]\n"
          ]
        },
        {
          "output_type": "stream",
          "name": "stderr",
          "text": [
            "\rTraining:  29%|██████████████▍                                   | 144/500 [00:36<01:30,  3.95it/s]"
          ]
        },
        {
          "output_type": "stream",
          "name": "stdout",
          "text": [
            "[0.01404067 0.11816142 0.40426436 0.45028626 0.01324729]\n",
            "[ 1  3 13 13  0]\n"
          ]
        },
        {
          "output_type": "stream",
          "name": "stderr",
          "text": [
            "\rTraining:  29%|██████████████▍                                   | 145/500 [00:36<01:30,  3.92it/s]"
          ]
        },
        {
          "output_type": "stream",
          "name": "stdout",
          "text": [
            "[0.01404067 0.11816142 0.40426436 0.45028626 0.01324729]\n",
            "[ 0  1 10 18  1]\n"
          ]
        },
        {
          "output_type": "stream",
          "name": "stderr",
          "text": [
            "\rTraining:  29%|██████████████▌                                   | 146/500 [00:36<01:32,  3.82it/s]"
          ]
        },
        {
          "output_type": "stream",
          "name": "stdout",
          "text": [
            "[0.01404067 0.11816142 0.40426436 0.45028626 0.01324729]\n",
            "[ 0  4 17  8  1]\n"
          ]
        },
        {
          "output_type": "stream",
          "name": "stderr",
          "text": [
            "\rTraining:  29%|██████████████▋                                   | 147/500 [00:37<01:31,  3.85it/s]"
          ]
        },
        {
          "output_type": "stream",
          "name": "stdout",
          "text": [
            "[0.01404067 0.11816142 0.40426436 0.45028626 0.01324729]\n",
            "[ 2  3 12 12  1]\n"
          ]
        },
        {
          "output_type": "stream",
          "name": "stderr",
          "text": [
            "\rTraining:  30%|██████████████▊                                   | 148/500 [00:37<01:30,  3.87it/s]"
          ]
        },
        {
          "output_type": "stream",
          "name": "stdout",
          "text": [
            "[0.01404067 0.11816142 0.40426436 0.45028626 0.01324729]\n",
            "[ 0  6 11 13  0]\n"
          ]
        },
        {
          "output_type": "stream",
          "name": "stderr",
          "text": [
            "\rTraining:  30%|██████████████▉                                   | 149/500 [00:37<01:28,  3.96it/s]"
          ]
        },
        {
          "output_type": "stream",
          "name": "stdout",
          "text": [
            "[0.01404067 0.11816142 0.40426436 0.45028626 0.01324729]\n",
            "[ 0  2  9 18  1]\n"
          ]
        },
        {
          "output_type": "stream",
          "name": "stderr",
          "text": [
            "\rTraining:  30%|███████████████                                   | 150/500 [00:37<01:27,  3.99it/s]"
          ]
        },
        {
          "output_type": "stream",
          "name": "stdout",
          "text": [
            "[0.01404067 0.11816142 0.40426436 0.45028626 0.01324729]\n",
            "[ 1  4 15 10  0]\n"
          ]
        },
        {
          "output_type": "stream",
          "name": "stderr",
          "text": [
            "\rTraining:  30%|███████████████                                   | 151/500 [00:38<01:26,  4.05it/s]"
          ]
        },
        {
          "output_type": "stream",
          "name": "stdout",
          "text": [
            "[0.01404067 0.11816142 0.40426436 0.45028626 0.01324729]\n",
            "[ 0  2 11 17  0]\n"
          ]
        },
        {
          "output_type": "stream",
          "name": "stderr",
          "text": [
            "\rTraining:  30%|███████████████▏                                  | 152/500 [00:38<01:24,  4.10it/s]"
          ]
        },
        {
          "output_type": "stream",
          "name": "stdout",
          "text": [
            "[0.01404067 0.11816142 0.40426436 0.45028626 0.01324729]\n",
            "[ 2  6 10 11  1]\n"
          ]
        },
        {
          "output_type": "stream",
          "name": "stderr",
          "text": [
            "\rTraining:  31%|███████████████▎                                  | 153/500 [00:38<01:24,  4.13it/s]"
          ]
        },
        {
          "output_type": "stream",
          "name": "stdout",
          "text": [
            "[0.01404067 0.11816142 0.40426436 0.45028626 0.01324729]\n",
            "[ 2  4 14 10  0]\n"
          ]
        },
        {
          "output_type": "stream",
          "name": "stderr",
          "text": [
            "\rTraining:  31%|███████████████▍                                  | 154/500 [00:38<01:24,  4.11it/s]"
          ]
        },
        {
          "output_type": "stream",
          "name": "stdout",
          "text": [
            "[0.01404067 0.11816142 0.40426436 0.45028626 0.01324729]\n",
            "[ 0  4 13 11  2]\n"
          ]
        },
        {
          "output_type": "stream",
          "name": "stderr",
          "text": [
            "\rTraining:  31%|███████████████▌                                  | 155/500 [00:39<01:24,  4.09it/s]"
          ]
        },
        {
          "output_type": "stream",
          "name": "stdout",
          "text": [
            "[0.01404067 0.11816142 0.40426436 0.45028626 0.01324729]\n",
            "[ 2  1 11 15  1]\n"
          ]
        },
        {
          "output_type": "stream",
          "name": "stderr",
          "text": [
            "\rTraining:  31%|███████████████▌                                  | 156/500 [00:39<01:23,  4.14it/s]"
          ]
        },
        {
          "output_type": "stream",
          "name": "stdout",
          "text": [
            "[0.01404067 0.11816142 0.40426436 0.45028626 0.01324729]\n",
            "[ 1  5 14 10  0]\n"
          ]
        },
        {
          "output_type": "stream",
          "name": "stderr",
          "text": [
            "\rTraining:  31%|███████████████▋                                  | 157/500 [00:39<01:22,  4.17it/s]"
          ]
        },
        {
          "output_type": "stream",
          "name": "stdout",
          "text": [
            "[0.01404067 0.11816142 0.40426436 0.45028626 0.01324729]\n",
            "[ 2  6 11 11  0]\n"
          ]
        },
        {
          "output_type": "stream",
          "name": "stderr",
          "text": [
            "\rTraining:  32%|███████████████▊                                  | 158/500 [00:39<01:22,  4.15it/s]"
          ]
        },
        {
          "output_type": "stream",
          "name": "stdout",
          "text": [
            "[0.01404067 0.11816142 0.40426436 0.45028626 0.01324729]\n",
            "[ 1  2 15 12  0]\n"
          ]
        },
        {
          "output_type": "stream",
          "name": "stderr",
          "text": [
            "\rTraining:  32%|███████████████▉                                  | 159/500 [00:39<01:22,  4.14it/s]"
          ]
        },
        {
          "output_type": "stream",
          "name": "stdout",
          "text": [
            "[0.01404067 0.11816142 0.40426436 0.45028626 0.01324729]\n",
            "[ 1  2 14 13  0]\n"
          ]
        },
        {
          "output_type": "stream",
          "name": "stderr",
          "text": [
            "\rTraining:  32%|████████████████                                  | 160/500 [00:40<01:21,  4.16it/s]"
          ]
        },
        {
          "output_type": "stream",
          "name": "stdout",
          "text": [
            "[0.01404067 0.11816142 0.40426436 0.45028626 0.01324729]\n",
            "[ 0  7  9 14  0]\n"
          ]
        },
        {
          "output_type": "stream",
          "name": "stderr",
          "text": [
            "\rTraining:  32%|████████████████                                  | 161/500 [00:40<01:20,  4.24it/s]"
          ]
        },
        {
          "output_type": "stream",
          "name": "stdout",
          "text": [
            "[0.01404067 0.11816142 0.40426436 0.45028626 0.01324729]\n",
            "[ 1  7 13  9  0]\n"
          ]
        },
        {
          "output_type": "stream",
          "name": "stderr",
          "text": [
            "\rTraining:  32%|████████████████▏                                 | 162/500 [00:40<01:19,  4.23it/s]"
          ]
        },
        {
          "output_type": "stream",
          "name": "stdout",
          "text": [
            "[0.01404067 0.11816142 0.40426436 0.45028626 0.01324729]\n",
            "[ 2  2 13 12  1]\n"
          ]
        },
        {
          "output_type": "stream",
          "name": "stderr",
          "text": [
            "\rTraining:  33%|████████████████▎                                 | 163/500 [00:40<01:23,  4.04it/s]"
          ]
        },
        {
          "output_type": "stream",
          "name": "stdout",
          "text": [
            "[0.01404067 0.11816142 0.40426436 0.45028626 0.01324729]\n",
            "[ 0  4 17  9  0]\n"
          ]
        },
        {
          "output_type": "stream",
          "name": "stderr",
          "text": [
            "\rTraining:  33%|████████████████▍                                 | 164/500 [00:41<01:24,  4.00it/s]"
          ]
        },
        {
          "output_type": "stream",
          "name": "stdout",
          "text": [
            "[0.01404067 0.11816142 0.40426436 0.45028626 0.01324729]\n",
            "[ 0  4 11 14  1]\n"
          ]
        },
        {
          "output_type": "stream",
          "name": "stderr",
          "text": [
            "\rTraining:  33%|████████████████▌                                 | 165/500 [00:41<01:23,  4.00it/s]"
          ]
        },
        {
          "output_type": "stream",
          "name": "stdout",
          "text": [
            "[0.01404067 0.11816142 0.40426436 0.45028626 0.01324729]\n",
            "[ 0  4 16 10  0]\n"
          ]
        },
        {
          "output_type": "stream",
          "name": "stderr",
          "text": [
            "\rTraining:  33%|████████████████▌                                 | 166/500 [00:41<01:25,  3.93it/s]"
          ]
        },
        {
          "output_type": "stream",
          "name": "stdout",
          "text": [
            "[0.01404067 0.11816142 0.40426436 0.45028626 0.01324729]\n",
            "[ 0  2 13 15  0]\n"
          ]
        },
        {
          "output_type": "stream",
          "name": "stderr",
          "text": [
            "\rTraining:  33%|████████████████▋                                 | 167/500 [00:41<01:24,  3.94it/s]"
          ]
        },
        {
          "output_type": "stream",
          "name": "stdout",
          "text": [
            "[0.01404067 0.11816142 0.40426436 0.45028626 0.01324729]\n",
            "[ 0  4  9 16  1]\n"
          ]
        },
        {
          "output_type": "stream",
          "name": "stderr",
          "text": [
            "\rTraining:  34%|████████████████▊                                 | 168/500 [00:42<01:23,  3.98it/s]"
          ]
        },
        {
          "output_type": "stream",
          "name": "stdout",
          "text": [
            "[0.01404067 0.11816142 0.40426436 0.45028626 0.01324729]\n",
            "[ 0  5 12 12  1]\n"
          ]
        },
        {
          "output_type": "stream",
          "name": "stderr",
          "text": [
            "\rTraining:  34%|████████████████▉                                 | 169/500 [00:42<01:23,  3.94it/s]"
          ]
        },
        {
          "output_type": "stream",
          "name": "stdout",
          "text": [
            "[0.01404067 0.11816142 0.40426436 0.45028626 0.01324729]\n",
            "[ 0  3 14 11  2]\n"
          ]
        },
        {
          "output_type": "stream",
          "name": "stderr",
          "text": [
            "\rTraining:  34%|█████████████████                                 | 170/500 [00:42<01:23,  3.97it/s]"
          ]
        },
        {
          "output_type": "stream",
          "name": "stdout",
          "text": [
            "[0.01404067 0.11816142 0.40426436 0.45028626 0.01324729]\n",
            "[ 1  5 11 13  0]\n"
          ]
        },
        {
          "output_type": "stream",
          "name": "stderr",
          "text": [
            "\rTraining:  34%|█████████████████                                 | 171/500 [00:42<01:23,  3.95it/s]"
          ]
        },
        {
          "output_type": "stream",
          "name": "stdout",
          "text": [
            "[0.01404067 0.11816142 0.40426436 0.45028626 0.01324729]\n",
            "[ 0  2 15 13  0]\n"
          ]
        },
        {
          "output_type": "stream",
          "name": "stderr",
          "text": [
            "\rTraining:  34%|█████████████████▏                                | 172/500 [00:43<01:21,  4.03it/s]"
          ]
        },
        {
          "output_type": "stream",
          "name": "stdout",
          "text": [
            "[0.01404067 0.11816142 0.40426436 0.45028626 0.01324729]\n",
            "[ 0  3 14 13  0]\n"
          ]
        },
        {
          "output_type": "stream",
          "name": "stderr",
          "text": [
            "\rTraining:  35%|█████████████████▎                                | 173/500 [00:43<01:19,  4.10it/s]"
          ]
        },
        {
          "output_type": "stream",
          "name": "stdout",
          "text": [
            "[0.01404067 0.11816142 0.40426436 0.45028626 0.01324729]\n",
            "[ 0  6 13 11  0]\n"
          ]
        },
        {
          "output_type": "stream",
          "name": "stderr",
          "text": [
            "\rTraining:  35%|█████████████████▍                                | 174/500 [00:43<01:20,  4.04it/s]"
          ]
        },
        {
          "output_type": "stream",
          "name": "stdout",
          "text": [
            "[0.01404067 0.11816142 0.40426436 0.45028626 0.01324729]\n",
            "[ 0  5 11 14  0]\n"
          ]
        },
        {
          "output_type": "stream",
          "name": "stderr",
          "text": [
            "\rTraining:  35%|█████████████████▌                                | 175/500 [00:43<01:22,  3.95it/s]"
          ]
        },
        {
          "output_type": "stream",
          "name": "stdout",
          "text": [
            "[0.01404067 0.11816142 0.40426436 0.45028626 0.01324729]\n",
            "[ 0  4 14 11  1]\n"
          ]
        },
        {
          "output_type": "stream",
          "name": "stderr",
          "text": [
            "\rTraining:  35%|█████████████████▌                                | 176/500 [00:44<01:21,  3.96it/s]"
          ]
        },
        {
          "output_type": "stream",
          "name": "stdout",
          "text": [
            "[0.01404067 0.11816142 0.40426436 0.45028626 0.01324729]\n",
            "[ 0  6 12 11  1]\n"
          ]
        },
        {
          "output_type": "stream",
          "name": "stderr",
          "text": [
            "\rTraining:  35%|█████████████████▋                                | 177/500 [00:44<01:22,  3.92it/s]"
          ]
        },
        {
          "output_type": "stream",
          "name": "stdout",
          "text": [
            "[0.01404067 0.11816142 0.40426436 0.45028626 0.01324729]\n",
            "[ 2  4 11 13  0]\n"
          ]
        },
        {
          "output_type": "stream",
          "name": "stderr",
          "text": [
            "\rTraining:  36%|█████████████████▊                                | 178/500 [00:44<01:21,  3.96it/s]"
          ]
        },
        {
          "output_type": "stream",
          "name": "stdout",
          "text": [
            "[0.01404067 0.11816142 0.40426436 0.45028626 0.01324729]\n",
            "[ 0  3 13 14  0]\n"
          ]
        },
        {
          "output_type": "stream",
          "name": "stderr",
          "text": [
            "\rTraining:  36%|█████████████████▉                                | 179/500 [00:44<01:21,  3.93it/s]"
          ]
        },
        {
          "output_type": "stream",
          "name": "stdout",
          "text": [
            "[0.01404067 0.11816142 0.40426436 0.45028626 0.01324729]\n",
            "[ 0  2 11 17  0]\n"
          ]
        },
        {
          "output_type": "stream",
          "name": "stderr",
          "text": [
            "\rTraining:  36%|██████████████████                                | 180/500 [00:45<01:20,  4.00it/s]"
          ]
        },
        {
          "output_type": "stream",
          "name": "stdout",
          "text": [
            "[0.01404067 0.11816142 0.40426436 0.45028626 0.01324729]\n",
            "[ 0  2 13 15  0]\n"
          ]
        },
        {
          "output_type": "stream",
          "name": "stderr",
          "text": [
            "\rTraining:  36%|██████████████████                                | 181/500 [00:45<01:18,  4.07it/s]"
          ]
        },
        {
          "output_type": "stream",
          "name": "stdout",
          "text": [
            "[0.01404067 0.11816142 0.40426436 0.45028626 0.01324729]\n",
            "[ 1  4 11 14  0]\n"
          ]
        },
        {
          "output_type": "stream",
          "name": "stderr",
          "text": [
            "\rTraining:  36%|██████████████████▏                               | 182/500 [00:45<01:17,  4.08it/s]"
          ]
        },
        {
          "output_type": "stream",
          "name": "stdout",
          "text": [
            "[0.01404067 0.11816142 0.40426436 0.45028626 0.01324729]\n",
            "[ 0  7  8 15  0]\n"
          ]
        },
        {
          "output_type": "stream",
          "name": "stderr",
          "text": [
            "\rTraining:  37%|██████████████████▎                               | 183/500 [00:45<01:18,  4.02it/s]"
          ]
        },
        {
          "output_type": "stream",
          "name": "stdout",
          "text": [
            "[0.01404067 0.11816142 0.40426436 0.45028626 0.01324729]\n",
            "[ 0  1 18 11  0]\n"
          ]
        },
        {
          "output_type": "stream",
          "name": "stderr",
          "text": [
            "\rTraining:  37%|██████████████████▍                               | 184/500 [00:46<01:20,  3.95it/s]"
          ]
        },
        {
          "output_type": "stream",
          "name": "stdout",
          "text": [
            "[0.01404067 0.11816142 0.40426436 0.45028626 0.01324729]\n",
            "[ 0  2 14 14  0]\n"
          ]
        },
        {
          "output_type": "stream",
          "name": "stderr",
          "text": [
            "\rTraining:  37%|██████████████████▌                               | 185/500 [00:46<01:19,  3.95it/s]"
          ]
        },
        {
          "output_type": "stream",
          "name": "stdout",
          "text": [
            "[0.01404067 0.11816142 0.40426436 0.45028626 0.01324729]\n",
            "[ 0  5 11 13  1]\n"
          ]
        },
        {
          "output_type": "stream",
          "name": "stderr",
          "text": [
            "\rTraining:  37%|██████████████████▌                               | 186/500 [00:46<01:19,  3.93it/s]"
          ]
        },
        {
          "output_type": "stream",
          "name": "stdout",
          "text": [
            "[0.01404067 0.11816142 0.40426436 0.45028626 0.01324729]\n",
            "[ 0  5 15 10  0]\n"
          ]
        },
        {
          "output_type": "stream",
          "name": "stderr",
          "text": [
            "\rTraining:  37%|██████████████████▋                               | 187/500 [00:46<01:18,  3.97it/s]"
          ]
        },
        {
          "output_type": "stream",
          "name": "stdout",
          "text": [
            "[0.01404067 0.11816142 0.40426436 0.45028626 0.01324729]\n",
            "[ 1  4 13 10  2]\n"
          ]
        },
        {
          "output_type": "stream",
          "name": "stderr",
          "text": [
            "\rTraining:  38%|██████████████████▊                               | 188/500 [00:47<01:17,  4.01it/s]"
          ]
        },
        {
          "output_type": "stream",
          "name": "stdout",
          "text": [
            "[0.01404067 0.11816142 0.40426436 0.45028626 0.01324729]\n",
            "[ 1  5  5 18  1]\n"
          ]
        },
        {
          "output_type": "stream",
          "name": "stderr",
          "text": [
            "\rTraining:  38%|██████████████████▉                               | 189/500 [00:47<01:18,  3.97it/s]"
          ]
        },
        {
          "output_type": "stream",
          "name": "stdout",
          "text": [
            "[0.01404067 0.11816142 0.40426436 0.45028626 0.01324729]\n",
            "[ 0  7 15  8  0]\n"
          ]
        },
        {
          "output_type": "stream",
          "name": "stderr",
          "text": [
            "\rTraining:  38%|███████████████████                               | 190/500 [00:47<01:18,  3.93it/s]"
          ]
        },
        {
          "output_type": "stream",
          "name": "stdout",
          "text": [
            "[0.01404067 0.11816142 0.40426436 0.45028626 0.01324729]\n",
            "[ 0  2 15 12  1]\n"
          ]
        },
        {
          "output_type": "stream",
          "name": "stderr",
          "text": [
            "\rTraining:  38%|███████████████████                               | 191/500 [00:47<01:17,  4.01it/s]"
          ]
        },
        {
          "output_type": "stream",
          "name": "stdout",
          "text": [
            "[0.01404067 0.11816142 0.40426436 0.45028626 0.01324729]\n",
            "[ 0  5 15 10  0]\n"
          ]
        },
        {
          "output_type": "stream",
          "name": "stderr",
          "text": [
            "\rTraining:  38%|███████████████████▏                              | 192/500 [00:48<01:16,  4.00it/s]"
          ]
        },
        {
          "output_type": "stream",
          "name": "stdout",
          "text": [
            "[0.01404067 0.11816142 0.40426436 0.45028626 0.01324729]\n",
            "[ 0  4 14 12  0]\n"
          ]
        },
        {
          "output_type": "stream",
          "name": "stderr",
          "text": [
            "\rTraining:  39%|███████████████████▎                              | 193/500 [00:48<01:15,  4.05it/s]"
          ]
        },
        {
          "output_type": "stream",
          "name": "stdout",
          "text": [
            "[0.01404067 0.11816142 0.40426436 0.45028626 0.01324729]\n",
            "[ 1  4 10 15  0]\n"
          ]
        },
        {
          "output_type": "stream",
          "name": "stderr",
          "text": [
            "\rTraining:  39%|███████████████████▍                              | 194/500 [00:48<01:16,  3.99it/s]"
          ]
        },
        {
          "output_type": "stream",
          "name": "stdout",
          "text": [
            "[0.01404067 0.11816142 0.40426436 0.45028626 0.01324729]\n",
            "[ 0  2 13 15  0]\n"
          ]
        },
        {
          "output_type": "stream",
          "name": "stderr",
          "text": [
            "\rTraining:  39%|███████████████████▌                              | 195/500 [00:48<01:14,  4.07it/s]"
          ]
        },
        {
          "output_type": "stream",
          "name": "stdout",
          "text": [
            "[0.01404067 0.11816142 0.40426436 0.45028626 0.01324729]\n",
            "[ 1  2 14 12  1]\n"
          ]
        },
        {
          "output_type": "stream",
          "name": "stderr",
          "text": [
            "\rTraining:  39%|███████████████████▌                              | 196/500 [00:49<01:14,  4.05it/s]"
          ]
        },
        {
          "output_type": "stream",
          "name": "stdout",
          "text": [
            "[0.01404067 0.11816142 0.40426436 0.45028626 0.01324729]\n",
            "[ 0  3 11 15  1]\n"
          ]
        },
        {
          "output_type": "stream",
          "name": "stderr",
          "text": [
            "\rTraining:  39%|███████████████████▋                              | 197/500 [00:49<01:15,  4.02it/s]"
          ]
        },
        {
          "output_type": "stream",
          "name": "stdout",
          "text": [
            "[0.01404067 0.11816142 0.40426436 0.45028626 0.01324729]\n",
            "[ 0  6 10 13  1]\n"
          ]
        },
        {
          "output_type": "stream",
          "name": "stderr",
          "text": [
            "\rTraining:  40%|███████████████████▊                              | 198/500 [00:49<01:14,  4.06it/s]"
          ]
        },
        {
          "output_type": "stream",
          "name": "stdout",
          "text": [
            "[0.01404067 0.11816142 0.40426436 0.45028626 0.01324729]\n",
            "[ 0  4  9 16  1]\n"
          ]
        },
        {
          "output_type": "stream",
          "name": "stderr",
          "text": [
            "\rTraining:  40%|███████████████████▉                              | 199/500 [00:49<01:14,  4.05it/s]"
          ]
        },
        {
          "output_type": "stream",
          "name": "stdout",
          "text": [
            "[0.01404067 0.11816142 0.40426436 0.45028626 0.01324729]\n",
            "[ 0  3 11 15  1]\n"
          ]
        },
        {
          "output_type": "stream",
          "name": "stderr",
          "text": [
            "\rTraining:  40%|████████████████████                              | 200/500 [00:50<01:14,  4.02it/s]"
          ]
        },
        {
          "output_type": "stream",
          "name": "stdout",
          "text": [
            "[0.01404067 0.11816142 0.40426436 0.45028626 0.01324729]\n",
            "[ 2  2 15 11  0]\n"
          ]
        },
        {
          "output_type": "stream",
          "name": "stderr",
          "text": [
            "\rTraining:  40%|████████████████████                              | 201/500 [00:50<01:13,  4.08it/s]"
          ]
        },
        {
          "output_type": "stream",
          "name": "stdout",
          "text": [
            "[0.01404067 0.11816142 0.40426436 0.45028626 0.01324729]\n",
            "[ 0  3 20  7  0]\n"
          ]
        },
        {
          "output_type": "stream",
          "name": "stderr",
          "text": [
            "\rTraining:  40%|████████████████████▏                             | 202/500 [00:50<01:11,  4.15it/s]"
          ]
        },
        {
          "output_type": "stream",
          "name": "stdout",
          "text": [
            "[0.01404067 0.11816142 0.40426436 0.45028626 0.01324729]\n",
            "[ 1  2 16 11  0]\n"
          ]
        },
        {
          "output_type": "stream",
          "name": "stderr",
          "text": [
            "\rTraining:  41%|████████████████████▎                             | 203/500 [00:50<01:11,  4.15it/s]"
          ]
        },
        {
          "output_type": "stream",
          "name": "stdout",
          "text": [
            "[0.01404067 0.11816142 0.40426436 0.45028626 0.01324729]\n",
            "[ 0  4  9 17  0]\n"
          ]
        },
        {
          "output_type": "stream",
          "name": "stderr",
          "text": [
            "\rTraining:  41%|████████████████████▍                             | 204/500 [00:51<01:12,  4.07it/s]"
          ]
        },
        {
          "output_type": "stream",
          "name": "stdout",
          "text": [
            "[0.01404067 0.11816142 0.40426436 0.45028626 0.01324729]\n",
            "[ 0  8  4 18  0]\n"
          ]
        },
        {
          "output_type": "stream",
          "name": "stderr",
          "text": [
            "\rTraining:  41%|████████████████████▌                             | 205/500 [00:51<01:13,  4.01it/s]"
          ]
        },
        {
          "output_type": "stream",
          "name": "stdout",
          "text": [
            "[0.01404067 0.11816142 0.40426436 0.45028626 0.01324729]\n",
            "[ 0  4 13 13  0]\n"
          ]
        },
        {
          "output_type": "stream",
          "name": "stderr",
          "text": [
            "\rTraining:  41%|████████████████████▌                             | 206/500 [00:51<01:12,  4.03it/s]"
          ]
        },
        {
          "output_type": "stream",
          "name": "stdout",
          "text": [
            "[0.01404067 0.11816142 0.40426436 0.45028626 0.01324729]\n",
            "[ 0  3  9 18  0]\n"
          ]
        },
        {
          "output_type": "stream",
          "name": "stderr",
          "text": [
            "\rTraining:  41%|████████████████████▋                             | 207/500 [00:51<01:11,  4.07it/s]"
          ]
        },
        {
          "output_type": "stream",
          "name": "stdout",
          "text": [
            "[0.01404067 0.11816142 0.40426436 0.45028626 0.01324729]\n",
            "[ 0  1 13 16  0]\n"
          ]
        },
        {
          "output_type": "stream",
          "name": "stderr",
          "text": [
            "\rTraining:  42%|████████████████████▊                             | 208/500 [00:52<01:12,  4.03it/s]"
          ]
        },
        {
          "output_type": "stream",
          "name": "stdout",
          "text": [
            "[0.01404067 0.11816142 0.40426436 0.45028626 0.01324729]\n",
            "[ 0  5 14 11  0]\n"
          ]
        },
        {
          "output_type": "stream",
          "name": "stderr",
          "text": [
            "\rTraining:  42%|████████████████████▉                             | 209/500 [00:52<01:12,  4.02it/s]"
          ]
        },
        {
          "output_type": "stream",
          "name": "stdout",
          "text": [
            "[0.01404067 0.11816142 0.40426436 0.45028626 0.01324729]\n",
            "[ 0  7 10 13  0]\n"
          ]
        },
        {
          "output_type": "stream",
          "name": "stderr",
          "text": [
            "\rTraining:  42%|█████████████████████                             | 210/500 [00:52<01:11,  4.04it/s]"
          ]
        },
        {
          "output_type": "stream",
          "name": "stdout",
          "text": [
            "[0.01404067 0.11816142 0.40426436 0.45028626 0.01324729]\n",
            "[ 0  4 15 11  0]\n"
          ]
        },
        {
          "output_type": "stream",
          "name": "stderr",
          "text": [
            "\rTraining:  42%|█████████████████████                             | 211/500 [00:52<01:11,  4.03it/s]"
          ]
        },
        {
          "output_type": "stream",
          "name": "stdout",
          "text": [
            "[0.01404067 0.11816142 0.40426436 0.45028626 0.01324729]\n",
            "[ 1  5 15  9  0]\n"
          ]
        },
        {
          "output_type": "stream",
          "name": "stderr",
          "text": [
            "\rTraining:  42%|█████████████████████▏                            | 212/500 [00:53<01:11,  4.04it/s]"
          ]
        },
        {
          "output_type": "stream",
          "name": "stdout",
          "text": [
            "[0.01404067 0.11816142 0.40426436 0.45028626 0.01324729]\n",
            "[ 0  2 16 12  0]\n"
          ]
        },
        {
          "output_type": "stream",
          "name": "stderr",
          "text": [
            "\rTraining:  43%|█████████████████████▎                            | 213/500 [00:53<01:11,  4.04it/s]"
          ]
        },
        {
          "output_type": "stream",
          "name": "stdout",
          "text": [
            "[0.01404067 0.11816142 0.40426436 0.45028626 0.01324729]\n",
            "[ 0  1 12 17  0]\n"
          ]
        },
        {
          "output_type": "stream",
          "name": "stderr",
          "text": [
            "\rTraining:  43%|█████████████████████▍                            | 214/500 [00:53<01:10,  4.05it/s]"
          ]
        },
        {
          "output_type": "stream",
          "name": "stdout",
          "text": [
            "[0.01404067 0.11816142 0.40426436 0.45028626 0.01324729]\n",
            "[ 1  3 11 15  0]\n"
          ]
        },
        {
          "output_type": "stream",
          "name": "stderr",
          "text": [
            "\rTraining:  43%|█████████████████████▌                            | 215/500 [00:53<01:10,  4.03it/s]"
          ]
        },
        {
          "output_type": "stream",
          "name": "stdout",
          "text": [
            "[0.01404067 0.11816142 0.40426436 0.45028626 0.01324729]\n",
            "[ 0  4 11 15  0]\n"
          ]
        },
        {
          "output_type": "stream",
          "name": "stderr",
          "text": [
            "\rTraining:  43%|█████████████████████▌                            | 216/500 [00:54<01:12,  3.92it/s]"
          ]
        },
        {
          "output_type": "stream",
          "name": "stdout",
          "text": [
            "[0.01404067 0.11816142 0.40426436 0.45028626 0.01324729]\n",
            "[ 1  4 15 10  0]\n"
          ]
        },
        {
          "output_type": "stream",
          "name": "stderr",
          "text": [
            "\rTraining:  43%|█████████████████████▋                            | 217/500 [00:54<01:12,  3.89it/s]"
          ]
        },
        {
          "output_type": "stream",
          "name": "stdout",
          "text": [
            "[0.01404067 0.11816142 0.40426436 0.45028626 0.01324729]\n",
            "[ 0  4 12 13  1]\n"
          ]
        },
        {
          "output_type": "stream",
          "name": "stderr",
          "text": [
            "\rTraining:  44%|█████████████████████▊                            | 218/500 [00:54<01:12,  3.90it/s]"
          ]
        },
        {
          "output_type": "stream",
          "name": "stdout",
          "text": [
            "[0.01404067 0.11816142 0.40426436 0.45028626 0.01324729]\n",
            "[ 0  4 12 13  1]\n"
          ]
        },
        {
          "output_type": "stream",
          "name": "stderr",
          "text": [
            "\rTraining:  44%|█████████████████████▉                            | 219/500 [00:54<01:11,  3.91it/s]"
          ]
        },
        {
          "output_type": "stream",
          "name": "stdout",
          "text": [
            "[0.01404067 0.11816142 0.40426436 0.45028626 0.01324729]\n",
            "[ 1  3 14 12  0]\n"
          ]
        },
        {
          "output_type": "stream",
          "name": "stderr",
          "text": [
            "\rTraining:  44%|██████████████████████                            | 220/500 [00:55<01:11,  3.91it/s]"
          ]
        },
        {
          "output_type": "stream",
          "name": "stdout",
          "text": [
            "[0.01404067 0.11816142 0.40426436 0.45028626 0.01324729]\n",
            "[ 0  5  9 16  0]\n"
          ]
        },
        {
          "output_type": "stream",
          "name": "stderr",
          "text": [
            "\rTraining:  44%|██████████████████████                            | 221/500 [00:55<01:10,  3.95it/s]"
          ]
        },
        {
          "output_type": "stream",
          "name": "stdout",
          "text": [
            "[0.01404067 0.11816142 0.40426436 0.45028626 0.01324729]\n",
            "[ 0  5 10 14  1]\n"
          ]
        },
        {
          "output_type": "stream",
          "name": "stderr",
          "text": [
            "\rTraining:  44%|██████████████████████▏                           | 222/500 [00:55<01:11,  3.89it/s]"
          ]
        },
        {
          "output_type": "stream",
          "name": "stdout",
          "text": [
            "[0.01404067 0.11816142 0.40426436 0.45028626 0.01324729]\n",
            "[ 0  4 15 10  1]\n"
          ]
        },
        {
          "output_type": "stream",
          "name": "stderr",
          "text": [
            "\rTraining:  45%|██████████████████████▎                           | 223/500 [00:55<01:10,  3.91it/s]"
          ]
        },
        {
          "output_type": "stream",
          "name": "stdout",
          "text": [
            "[0.01404067 0.11816142 0.40426436 0.45028626 0.01324729]\n",
            "[ 1  4 15  9  1]\n"
          ]
        },
        {
          "output_type": "stream",
          "name": "stderr",
          "text": [
            "\rTraining:  45%|██████████████████████▍                           | 224/500 [00:56<01:11,  3.85it/s]"
          ]
        },
        {
          "output_type": "stream",
          "name": "stdout",
          "text": [
            "[0.01404067 0.11816142 0.40426436 0.45028626 0.01324729]\n",
            "[ 0  2 15 13  0]\n"
          ]
        },
        {
          "output_type": "stream",
          "name": "stderr",
          "text": [
            "\rTraining:  45%|██████████████████████▌                           | 225/500 [00:56<01:12,  3.81it/s]"
          ]
        },
        {
          "output_type": "stream",
          "name": "stdout",
          "text": [
            "[0.01404067 0.11816142 0.40426436 0.45028626 0.01324729]\n",
            "[ 0  4  8 18  0]\n"
          ]
        },
        {
          "output_type": "stream",
          "name": "stderr",
          "text": [
            "\rTraining:  45%|██████████████████████▌                           | 226/500 [00:56<01:11,  3.85it/s]"
          ]
        },
        {
          "output_type": "stream",
          "name": "stdout",
          "text": [
            "[0.01404067 0.11816142 0.40426436 0.45028626 0.01324729]\n",
            "[ 0  2  9 19  0]\n"
          ]
        },
        {
          "output_type": "stream",
          "name": "stderr",
          "text": [
            "\rTraining:  45%|██████████████████████▋                           | 227/500 [00:57<01:10,  3.86it/s]"
          ]
        },
        {
          "output_type": "stream",
          "name": "stdout",
          "text": [
            "[0.01404067 0.11816142 0.40426436 0.45028626 0.01324729]\n",
            "[ 0  6 13 10  1]\n"
          ]
        },
        {
          "output_type": "stream",
          "name": "stderr",
          "text": [
            "\rTraining:  46%|██████████████████████▊                           | 228/500 [00:57<01:10,  3.88it/s]"
          ]
        },
        {
          "output_type": "stream",
          "name": "stdout",
          "text": [
            "[0.01404067 0.11816142 0.40426436 0.45028626 0.01324729]\n",
            "[ 0  2 12 16  0]\n"
          ]
        },
        {
          "output_type": "stream",
          "name": "stderr",
          "text": [
            "\rTraining:  46%|██████████████████████▉                           | 229/500 [00:57<01:08,  3.93it/s]"
          ]
        },
        {
          "output_type": "stream",
          "name": "stdout",
          "text": [
            "[0.01404067 0.11816142 0.40426436 0.45028626 0.01324729]\n",
            "[ 1  3 14 12  0]\n"
          ]
        },
        {
          "output_type": "stream",
          "name": "stderr",
          "text": [
            "\rTraining:  46%|███████████████████████                           | 230/500 [00:57<01:07,  3.98it/s]"
          ]
        },
        {
          "output_type": "stream",
          "name": "stdout",
          "text": [
            "[0.01404067 0.11816142 0.40426436 0.45028626 0.01324729]\n",
            "[ 0  5 10 15  0]\n"
          ]
        },
        {
          "output_type": "stream",
          "name": "stderr",
          "text": [
            "\rTraining:  46%|███████████████████████                           | 231/500 [00:58<01:07,  4.01it/s]"
          ]
        },
        {
          "output_type": "stream",
          "name": "stdout",
          "text": [
            "[0.01404067 0.11816142 0.40426436 0.45028626 0.01324729]\n",
            "[ 1  5  8 16  0]\n"
          ]
        },
        {
          "output_type": "stream",
          "name": "stderr",
          "text": [
            "\rTraining:  46%|███████████████████████▏                          | 232/500 [00:58<01:08,  3.93it/s]"
          ]
        },
        {
          "output_type": "stream",
          "name": "stdout",
          "text": [
            "[0.01404067 0.11816142 0.40426436 0.45028626 0.01324729]\n",
            "[ 0  8 11 11  0]\n"
          ]
        },
        {
          "output_type": "stream",
          "name": "stderr",
          "text": [
            "\rTraining:  47%|███████████████████████▎                          | 233/500 [00:58<01:08,  3.91it/s]"
          ]
        },
        {
          "output_type": "stream",
          "name": "stdout",
          "text": [
            "[0.01404067 0.11816142 0.40426436 0.45028626 0.01324729]\n",
            "[ 0  2  7 19  2]\n"
          ]
        },
        {
          "output_type": "stream",
          "name": "stderr",
          "text": [
            "\rTraining:  47%|███████████████████████▍                          | 234/500 [00:58<01:08,  3.88it/s]"
          ]
        },
        {
          "output_type": "stream",
          "name": "stdout",
          "text": [
            "[0.01404067 0.11816142 0.40426436 0.45028626 0.01324729]\n",
            "[ 1  4 15  9  1]\n"
          ]
        },
        {
          "output_type": "stream",
          "name": "stderr",
          "text": [
            "\rTraining:  47%|███████████████████████▌                          | 235/500 [00:59<01:08,  3.88it/s]"
          ]
        },
        {
          "output_type": "stream",
          "name": "stdout",
          "text": [
            "[0.01404067 0.11816142 0.40426436 0.45028626 0.01324729]\n",
            "[ 2  2 14 12  0]\n"
          ]
        },
        {
          "output_type": "stream",
          "name": "stderr",
          "text": [
            "\rTraining:  47%|███████████████████████▌                          | 236/500 [00:59<01:09,  3.82it/s]"
          ]
        },
        {
          "output_type": "stream",
          "name": "stdout",
          "text": [
            "[0.01404067 0.11816142 0.40426436 0.45028626 0.01324729]\n",
            "[ 0  5 14 11  0]\n"
          ]
        },
        {
          "output_type": "stream",
          "name": "stderr",
          "text": [
            "\rTraining:  47%|███████████████████████▋                          | 237/500 [00:59<01:09,  3.79it/s]"
          ]
        },
        {
          "output_type": "stream",
          "name": "stdout",
          "text": [
            "[0.01404067 0.11816142 0.40426436 0.45028626 0.01324729]\n",
            "[ 3  4 12 11  0]\n"
          ]
        },
        {
          "output_type": "stream",
          "name": "stderr",
          "text": [
            "\rTraining:  48%|███████████████████████▊                          | 238/500 [00:59<01:08,  3.82it/s]"
          ]
        },
        {
          "output_type": "stream",
          "name": "stdout",
          "text": [
            "[0.01404067 0.11816142 0.40426436 0.45028626 0.01324729]\n",
            "[ 2  5 13 10  0]\n"
          ]
        },
        {
          "output_type": "stream",
          "name": "stderr",
          "text": [
            "\rTraining:  48%|███████████████████████▉                          | 239/500 [01:00<01:06,  3.91it/s]"
          ]
        },
        {
          "output_type": "stream",
          "name": "stdout",
          "text": [
            "[0.01404067 0.11816142 0.40426436 0.45028626 0.01324729]\n",
            "[ 0  4 12 14  0]\n"
          ]
        },
        {
          "output_type": "stream",
          "name": "stderr",
          "text": [
            "\rTraining:  48%|████████████████████████                          | 240/500 [01:00<01:07,  3.86it/s]"
          ]
        },
        {
          "output_type": "stream",
          "name": "stdout",
          "text": [
            "[0.01404067 0.11816142 0.40426436 0.45028626 0.01324729]\n",
            "[ 0  5  8 15  2]\n"
          ]
        },
        {
          "output_type": "stream",
          "name": "stderr",
          "text": [
            "\rTraining:  48%|████████████████████████                          | 241/500 [01:00<01:06,  3.92it/s]"
          ]
        },
        {
          "output_type": "stream",
          "name": "stdout",
          "text": [
            "[0.01404067 0.11816142 0.40426436 0.45028626 0.01324729]\n",
            "[ 2  5 12 10  1]\n"
          ]
        },
        {
          "output_type": "stream",
          "name": "stderr",
          "text": [
            "\rTraining:  48%|████████████████████████▏                         | 242/500 [01:00<01:04,  3.98it/s]"
          ]
        },
        {
          "output_type": "stream",
          "name": "stdout",
          "text": [
            "[0.01404067 0.11816142 0.40426436 0.45028626 0.01324729]\n",
            "[ 0  4 12 13  1]\n"
          ]
        },
        {
          "output_type": "stream",
          "name": "stderr",
          "text": [
            "\rTraining:  49%|████████████████████████▎                         | 243/500 [01:01<01:06,  3.84it/s]"
          ]
        },
        {
          "output_type": "stream",
          "name": "stdout",
          "text": [
            "[0.01404067 0.11816142 0.40426436 0.45028626 0.01324729]\n",
            "[ 1  2  9 16  2]\n"
          ]
        },
        {
          "output_type": "stream",
          "name": "stderr",
          "text": [
            "\rTraining:  49%|████████████████████████▍                         | 244/500 [01:01<01:08,  3.74it/s]"
          ]
        },
        {
          "output_type": "stream",
          "name": "stdout",
          "text": [
            "[0.01404067 0.11816142 0.40426436 0.45028626 0.01324729]\n",
            "[ 0  4 10 15  1]\n"
          ]
        },
        {
          "output_type": "stream",
          "name": "stderr",
          "text": [
            "\rTraining:  49%|████████████████████████▌                         | 245/500 [01:01<01:08,  3.72it/s]"
          ]
        },
        {
          "output_type": "stream",
          "name": "stdout",
          "text": [
            "[0.01404067 0.11816142 0.40426436 0.45028626 0.01324729]\n",
            "[ 0  1 12 16  1]\n"
          ]
        },
        {
          "output_type": "stream",
          "name": "stderr",
          "text": [
            "\rTraining:  49%|████████████████████████▌                         | 246/500 [01:01<01:06,  3.79it/s]"
          ]
        },
        {
          "output_type": "stream",
          "name": "stdout",
          "text": [
            "[0.01404067 0.11816142 0.40426436 0.45028626 0.01324729]\n",
            "[ 0  7 13  9  1]\n"
          ]
        },
        {
          "output_type": "stream",
          "name": "stderr",
          "text": [
            "\rTraining:  49%|████████████████████████▋                         | 247/500 [01:02<01:05,  3.86it/s]"
          ]
        },
        {
          "output_type": "stream",
          "name": "stdout",
          "text": [
            "[0.01404067 0.11816142 0.40426436 0.45028626 0.01324729]\n",
            "[ 1  5 14 10  0]\n"
          ]
        },
        {
          "output_type": "stream",
          "name": "stderr",
          "text": [
            "\rTraining:  50%|████████████████████████▊                         | 248/500 [01:02<01:06,  3.78it/s]"
          ]
        },
        {
          "output_type": "stream",
          "name": "stdout",
          "text": [
            "[0.01404067 0.11816142 0.40426436 0.45028626 0.01324729]\n",
            "[ 0  7 12 10  1]\n"
          ]
        },
        {
          "output_type": "stream",
          "name": "stderr",
          "text": [
            "\rTraining:  50%|████████████████████████▉                         | 249/500 [01:02<01:06,  3.78it/s]"
          ]
        },
        {
          "output_type": "stream",
          "name": "stdout",
          "text": [
            "[0.01404067 0.11816142 0.40426436 0.45028626 0.01324729]\n",
            "[ 0  6 11 13  0]\n"
          ]
        },
        {
          "output_type": "stream",
          "name": "stderr",
          "text": [
            "\rTraining:  50%|█████████████████████████                         | 250/500 [01:02<01:05,  3.79it/s]"
          ]
        },
        {
          "output_type": "stream",
          "name": "stdout",
          "text": [
            "[0.01404067 0.11816142 0.40426436 0.45028626 0.01324729]\n",
            "[ 0  3 14 13  0]\n"
          ]
        },
        {
          "output_type": "stream",
          "name": "stderr",
          "text": [
            "\rTraining:  50%|█████████████████████████                         | 251/500 [01:03<01:04,  3.86it/s]"
          ]
        },
        {
          "output_type": "stream",
          "name": "stdout",
          "text": [
            "[0.01404067 0.11816142 0.40426436 0.45028626 0.01324729]\n",
            "[ 0  3 14 13  0]\n"
          ]
        },
        {
          "output_type": "stream",
          "name": "stderr",
          "text": [
            "\rTraining:  50%|█████████████████████████▏                        | 252/500 [01:03<01:03,  3.90it/s]"
          ]
        },
        {
          "output_type": "stream",
          "name": "stdout",
          "text": [
            "[0.01404067 0.11816142 0.40426436 0.45028626 0.01324729]\n",
            "[ 0  4 11 15  0]\n"
          ]
        },
        {
          "output_type": "stream",
          "name": "stderr",
          "text": [
            "\rTraining:  51%|█████████████████████████▎                        | 253/500 [01:03<01:01,  3.99it/s]"
          ]
        },
        {
          "output_type": "stream",
          "name": "stdout",
          "text": [
            "[0.01404067 0.11816142 0.40426436 0.45028626 0.01324729]\n",
            "[ 1  6 10 11  2]\n"
          ]
        },
        {
          "output_type": "stream",
          "name": "stderr",
          "text": [
            "\rTraining:  51%|█████████████████████████▍                        | 254/500 [01:03<01:01,  3.97it/s]"
          ]
        },
        {
          "output_type": "stream",
          "name": "stdout",
          "text": [
            "[0.01404067 0.11816142 0.40426436 0.45028626 0.01324729]\n",
            "[ 0  3  6 21  0]\n"
          ]
        },
        {
          "output_type": "stream",
          "name": "stderr",
          "text": [
            "\rTraining:  51%|█████████████████████████▌                        | 255/500 [01:04<01:01,  4.00it/s]"
          ]
        },
        {
          "output_type": "stream",
          "name": "stdout",
          "text": [
            "[0.01404067 0.11816142 0.40426436 0.45028626 0.01324729]\n",
            "[ 1  4 11 14  0]\n"
          ]
        },
        {
          "output_type": "stream",
          "name": "stderr",
          "text": [
            "\rTraining:  51%|█████████████████████████▌                        | 256/500 [01:04<01:01,  3.99it/s]"
          ]
        },
        {
          "output_type": "stream",
          "name": "stdout",
          "text": [
            "[0.01404067 0.11816142 0.40426436 0.45028626 0.01324729]\n",
            "[ 0  5  9 15  1]\n"
          ]
        },
        {
          "output_type": "stream",
          "name": "stderr",
          "text": [
            "\rTraining:  51%|█████████████████████████▋                        | 257/500 [01:04<01:01,  3.96it/s]"
          ]
        },
        {
          "output_type": "stream",
          "name": "stdout",
          "text": [
            "[0.01404067 0.11816142 0.40426436 0.45028626 0.01324729]\n",
            "[ 1  6 10 13  0]\n"
          ]
        },
        {
          "output_type": "stream",
          "name": "stderr",
          "text": [
            "\rTraining:  52%|█████████████████████████▊                        | 258/500 [01:04<01:01,  3.94it/s]"
          ]
        },
        {
          "output_type": "stream",
          "name": "stdout",
          "text": [
            "[0.01404067 0.11816142 0.40426436 0.45028626 0.01324729]\n",
            "[ 0  2 10 18  0]\n"
          ]
        },
        {
          "output_type": "stream",
          "name": "stderr",
          "text": [
            "\rTraining:  52%|█████████████████████████▉                        | 259/500 [01:05<01:01,  3.93it/s]"
          ]
        },
        {
          "output_type": "stream",
          "name": "stdout",
          "text": [
            "[0.01404067 0.11816142 0.40426436 0.45028626 0.01324729]\n",
            "[ 0  5 11 12  2]\n"
          ]
        },
        {
          "output_type": "stream",
          "name": "stderr",
          "text": [
            "\rTraining:  52%|██████████████████████████                        | 260/500 [01:05<01:00,  3.97it/s]"
          ]
        },
        {
          "output_type": "stream",
          "name": "stdout",
          "text": [
            "[0.01404067 0.11816142 0.40426436 0.45028626 0.01324729]\n",
            "[ 0  4 16  9  1]\n"
          ]
        },
        {
          "output_type": "stream",
          "name": "stderr",
          "text": [
            "\rTraining:  52%|██████████████████████████                        | 261/500 [01:05<00:59,  4.04it/s]"
          ]
        },
        {
          "output_type": "stream",
          "name": "stdout",
          "text": [
            "[0.01404067 0.11816142 0.40426436 0.45028626 0.01324729]\n",
            "[ 1  7  9 12  1]\n"
          ]
        },
        {
          "output_type": "stream",
          "name": "stderr",
          "text": [
            "\rTraining:  52%|██████████████████████████▏                       | 262/500 [01:05<00:58,  4.05it/s]"
          ]
        },
        {
          "output_type": "stream",
          "name": "stdout",
          "text": [
            "[0.01404067 0.11816142 0.40426436 0.45028626 0.01324729]\n",
            "[ 0  3 13 14  0]\n"
          ]
        },
        {
          "output_type": "stream",
          "name": "stderr",
          "text": [
            "\rTraining:  53%|██████████████████████████▎                       | 263/500 [01:06<00:59,  4.00it/s]"
          ]
        },
        {
          "output_type": "stream",
          "name": "stdout",
          "text": [
            "[0.01404067 0.11816142 0.40426436 0.45028626 0.01324729]\n",
            "[ 1  1 13 15  0]\n"
          ]
        },
        {
          "output_type": "stream",
          "name": "stderr",
          "text": [
            "\rTraining:  53%|██████████████████████████▍                       | 264/500 [01:06<00:59,  3.98it/s]"
          ]
        },
        {
          "output_type": "stream",
          "name": "stdout",
          "text": [
            "[0.01404067 0.11816142 0.40426436 0.45028626 0.01324729]\n",
            "[ 0  5  9 16  0]\n"
          ]
        },
        {
          "output_type": "stream",
          "name": "stderr",
          "text": [
            "\rTraining:  53%|██████████████████████████▌                       | 265/500 [01:06<00:59,  3.93it/s]"
          ]
        },
        {
          "output_type": "stream",
          "name": "stdout",
          "text": [
            "[0.01404067 0.11816142 0.40426436 0.45028626 0.01324729]\n",
            "[ 1  2 12 15  0]\n"
          ]
        },
        {
          "output_type": "stream",
          "name": "stderr",
          "text": [
            "\rTraining:  53%|██████████████████████████▌                       | 266/500 [01:06<00:59,  3.95it/s]"
          ]
        },
        {
          "output_type": "stream",
          "name": "stdout",
          "text": [
            "[0.01404067 0.11816142 0.40426436 0.45028626 0.01324729]\n",
            "[ 0  4  9 16  1]\n"
          ]
        },
        {
          "output_type": "stream",
          "name": "stderr",
          "text": [
            "\rTraining:  53%|██████████████████████████▋                       | 267/500 [01:07<00:59,  3.94it/s]"
          ]
        },
        {
          "output_type": "stream",
          "name": "stdout",
          "text": [
            "[0.01404067 0.11816142 0.40426436 0.45028626 0.01324729]\n",
            "[ 0  3  9 17  1]\n"
          ]
        },
        {
          "output_type": "stream",
          "name": "stderr",
          "text": [
            "\rTraining:  54%|██████████████████████████▊                       | 268/500 [01:07<00:58,  3.95it/s]"
          ]
        },
        {
          "output_type": "stream",
          "name": "stdout",
          "text": [
            "[0.01404067 0.11816142 0.40426436 0.45028626 0.01324729]\n",
            "[ 1  4 10 15  0]\n"
          ]
        },
        {
          "output_type": "stream",
          "name": "stderr",
          "text": [
            "\rTraining:  54%|██████████████████████████▉                       | 269/500 [01:07<00:57,  3.99it/s]"
          ]
        },
        {
          "output_type": "stream",
          "name": "stdout",
          "text": [
            "[0.01404067 0.11816142 0.40426436 0.45028626 0.01324729]\n",
            "[ 0  5  8 17  0]\n"
          ]
        },
        {
          "output_type": "stream",
          "name": "stderr",
          "text": [
            "\rTraining:  54%|███████████████████████████                       | 270/500 [01:07<00:57,  3.99it/s]"
          ]
        },
        {
          "output_type": "stream",
          "name": "stdout",
          "text": [
            "[0.01404067 0.11816142 0.40426436 0.45028626 0.01324729]\n",
            "[ 0  2 12 15  1]\n"
          ]
        },
        {
          "output_type": "stream",
          "name": "stderr",
          "text": [
            "\rTraining:  54%|███████████████████████████                       | 271/500 [01:08<00:58,  3.93it/s]"
          ]
        },
        {
          "output_type": "stream",
          "name": "stdout",
          "text": [
            "[0.01404067 0.11816142 0.40426436 0.45028626 0.01324729]\n",
            "[ 0  5 10 15  0]\n"
          ]
        },
        {
          "output_type": "stream",
          "name": "stderr",
          "text": [
            "\rTraining:  54%|███████████████████████████▏                      | 272/500 [01:08<00:56,  4.02it/s]"
          ]
        },
        {
          "output_type": "stream",
          "name": "stdout",
          "text": [
            "[0.01404067 0.11816142 0.40426436 0.45028626 0.01324729]\n",
            "[ 0  2 16 12  0]\n"
          ]
        },
        {
          "output_type": "stream",
          "name": "stderr",
          "text": [
            "\rTraining:  55%|███████████████████████████▎                      | 273/500 [01:08<00:56,  4.00it/s]"
          ]
        },
        {
          "output_type": "stream",
          "name": "stdout",
          "text": [
            "[0.01404067 0.11816142 0.40426436 0.45028626 0.01324729]\n",
            "[ 1  0 15 14  0]\n"
          ]
        },
        {
          "output_type": "stream",
          "name": "stderr",
          "text": [
            "\rTraining:  55%|███████████████████████████▍                      | 274/500 [01:08<00:56,  4.01it/s]"
          ]
        },
        {
          "output_type": "stream",
          "name": "stdout",
          "text": [
            "[0.01404067 0.11816142 0.40426436 0.45028626 0.01324729]\n",
            "[ 0  4 11 14  1]\n"
          ]
        },
        {
          "output_type": "stream",
          "name": "stderr",
          "text": [
            "\rTraining:  55%|███████████████████████████▌                      | 275/500 [01:09<00:55,  4.04it/s]"
          ]
        },
        {
          "output_type": "stream",
          "name": "stdout",
          "text": [
            "[0.01404067 0.11816142 0.40426436 0.45028626 0.01324729]\n",
            "[ 0  6 10 13  1]\n"
          ]
        },
        {
          "output_type": "stream",
          "name": "stderr",
          "text": [
            "\rTraining:  55%|███████████████████████████▌                      | 276/500 [01:09<00:55,  4.04it/s]"
          ]
        },
        {
          "output_type": "stream",
          "name": "stdout",
          "text": [
            "[0.01404067 0.11816142 0.40426436 0.45028626 0.01324729]\n",
            "[ 0  2  8 18  2]\n"
          ]
        },
        {
          "output_type": "stream",
          "name": "stderr",
          "text": [
            "\rTraining:  55%|███████████████████████████▋                      | 277/500 [01:09<00:55,  4.04it/s]"
          ]
        },
        {
          "output_type": "stream",
          "name": "stdout",
          "text": [
            "[0.01404067 0.11816142 0.40426436 0.45028626 0.01324729]\n",
            "[ 0  4 17  8  1]\n"
          ]
        },
        {
          "output_type": "stream",
          "name": "stderr",
          "text": [
            "\rTraining:  56%|███████████████████████████▊                      | 278/500 [01:09<00:55,  4.02it/s]"
          ]
        },
        {
          "output_type": "stream",
          "name": "stdout",
          "text": [
            "[0.01404067 0.11816142 0.40426436 0.45028626 0.01324729]\n",
            "[ 0  1 15 13  1]\n"
          ]
        },
        {
          "output_type": "stream",
          "name": "stderr",
          "text": [
            "\rTraining:  56%|███████████████████████████▉                      | 279/500 [01:10<00:55,  4.01it/s]"
          ]
        },
        {
          "output_type": "stream",
          "name": "stdout",
          "text": [
            "[0.01404067 0.11816142 0.40426436 0.45028626 0.01324729]\n",
            "[ 0  3 13 14  0]\n"
          ]
        },
        {
          "output_type": "stream",
          "name": "stderr",
          "text": [
            "\rTraining:  56%|████████████████████████████                      | 280/500 [01:10<00:55,  3.95it/s]"
          ]
        },
        {
          "output_type": "stream",
          "name": "stdout",
          "text": [
            "[0.01404067 0.11816142 0.40426436 0.45028626 0.01324729]\n",
            "[ 2  4 13 11  0]\n"
          ]
        },
        {
          "output_type": "stream",
          "name": "stderr",
          "text": [
            "\rTraining:  56%|████████████████████████████                      | 281/500 [01:10<00:55,  3.95it/s]"
          ]
        },
        {
          "output_type": "stream",
          "name": "stdout",
          "text": [
            "[0.01404067 0.11816142 0.40426436 0.45028626 0.01324729]\n",
            "[ 1  4 10 14  1]\n"
          ]
        },
        {
          "output_type": "stream",
          "name": "stderr",
          "text": [
            "\rTraining:  56%|████████████████████████████▏                     | 282/500 [01:10<00:54,  3.99it/s]"
          ]
        },
        {
          "output_type": "stream",
          "name": "stdout",
          "text": [
            "[0.01404067 0.11816142 0.40426436 0.45028626 0.01324729]\n",
            "[ 2  6  7 15  0]\n"
          ]
        },
        {
          "output_type": "stream",
          "name": "stderr",
          "text": [
            "\rTraining:  57%|████████████████████████████▎                     | 283/500 [01:11<00:53,  4.08it/s]"
          ]
        },
        {
          "output_type": "stream",
          "name": "stdout",
          "text": [
            "[0.01404067 0.11816142 0.40426436 0.45028626 0.01324729]\n",
            "[ 0  5 11 14  0]\n"
          ]
        },
        {
          "output_type": "stream",
          "name": "stderr",
          "text": [
            "\rTraining:  57%|████████████████████████████▍                     | 284/500 [01:11<00:52,  4.10it/s]"
          ]
        },
        {
          "output_type": "stream",
          "name": "stdout",
          "text": [
            "[0.01404067 0.11816142 0.40426436 0.45028626 0.01324729]\n",
            "[ 1  4 13 11  1]\n"
          ]
        },
        {
          "output_type": "stream",
          "name": "stderr",
          "text": [
            "\rTraining:  57%|████████████████████████████▍                     | 285/500 [01:11<00:53,  4.05it/s]"
          ]
        },
        {
          "output_type": "stream",
          "name": "stdout",
          "text": [
            "[0.01404067 0.11816142 0.40426436 0.45028626 0.01324729]\n",
            "[ 0  4 10 16  0]\n"
          ]
        },
        {
          "output_type": "stream",
          "name": "stderr",
          "text": [
            "\rTraining:  57%|████████████████████████████▌                     | 286/500 [01:11<00:54,  3.94it/s]"
          ]
        },
        {
          "output_type": "stream",
          "name": "stdout",
          "text": [
            "[0.01404067 0.11816142 0.40426436 0.45028626 0.01324729]\n",
            "[ 0  4 12 14  0]\n"
          ]
        },
        {
          "output_type": "stream",
          "name": "stderr",
          "text": [
            "\rTraining:  57%|████████████████████████████▋                     | 287/500 [01:12<00:53,  3.95it/s]"
          ]
        },
        {
          "output_type": "stream",
          "name": "stdout",
          "text": [
            "[0.01404067 0.11816142 0.40426436 0.45028626 0.01324729]\n",
            "[ 0  4 11 15  0]\n"
          ]
        },
        {
          "output_type": "stream",
          "name": "stderr",
          "text": [
            "\rTraining:  58%|████████████████████████████▊                     | 288/500 [01:12<00:55,  3.85it/s]"
          ]
        },
        {
          "output_type": "stream",
          "name": "stdout",
          "text": [
            "[0.01404067 0.11816142 0.40426436 0.45028626 0.01324729]\n",
            "[ 0  3 10 16  1]\n"
          ]
        },
        {
          "output_type": "stream",
          "name": "stderr",
          "text": [
            "\rTraining:  58%|████████████████████████████▉                     | 289/500 [01:12<00:55,  3.81it/s]"
          ]
        },
        {
          "output_type": "stream",
          "name": "stdout",
          "text": [
            "[0.01404067 0.11816142 0.40426436 0.45028626 0.01324729]\n",
            "[ 1  4 12 13  0]\n"
          ]
        },
        {
          "output_type": "stream",
          "name": "stderr",
          "text": [
            "\rTraining:  58%|████████████████████████████▉                     | 290/500 [01:13<00:54,  3.86it/s]"
          ]
        },
        {
          "output_type": "stream",
          "name": "stdout",
          "text": [
            "[0.01404067 0.11816142 0.40426436 0.45028626 0.01324729]\n",
            "[ 1  7  6 15  1]\n"
          ]
        },
        {
          "output_type": "stream",
          "name": "stderr",
          "text": [
            "\rTraining:  58%|█████████████████████████████                     | 291/500 [01:13<00:54,  3.84it/s]"
          ]
        },
        {
          "output_type": "stream",
          "name": "stdout",
          "text": [
            "[0.01404067 0.11816142 0.40426436 0.45028626 0.01324729]\n",
            "[ 1  4 14 11  0]\n"
          ]
        },
        {
          "output_type": "stream",
          "name": "stderr",
          "text": [
            "\rTraining:  58%|█████████████████████████████▏                    | 292/500 [01:13<00:54,  3.85it/s]"
          ]
        },
        {
          "output_type": "stream",
          "name": "stdout",
          "text": [
            "[0.01404067 0.11816142 0.40426436 0.45028626 0.01324729]\n",
            "[ 0  7 13 10  0]\n"
          ]
        },
        {
          "output_type": "stream",
          "name": "stderr",
          "text": [
            "\rTraining:  59%|█████████████████████████████▎                    | 293/500 [01:13<00:53,  3.88it/s]"
          ]
        },
        {
          "output_type": "stream",
          "name": "stdout",
          "text": [
            "[0.01404067 0.11816142 0.40426436 0.45028626 0.01324729]\n",
            "[ 0  2 16 11  1]\n"
          ]
        },
        {
          "output_type": "stream",
          "name": "stderr",
          "text": [
            "\rTraining:  59%|█████████████████████████████▍                    | 294/500 [01:14<00:52,  3.92it/s]"
          ]
        },
        {
          "output_type": "stream",
          "name": "stdout",
          "text": [
            "[0.01404067 0.11816142 0.40426436 0.45028626 0.01324729]\n",
            "[ 1  4 13 12  0]\n"
          ]
        },
        {
          "output_type": "stream",
          "name": "stderr",
          "text": [
            "\rTraining:  59%|█████████████████████████████▌                    | 295/500 [01:14<00:51,  4.00it/s]"
          ]
        },
        {
          "output_type": "stream",
          "name": "stdout",
          "text": [
            "[0.01404067 0.11816142 0.40426436 0.45028626 0.01324729]\n",
            "[ 1  5 12 12  0]\n"
          ]
        },
        {
          "output_type": "stream",
          "name": "stderr",
          "text": [
            "\rTraining:  59%|█████████████████████████████▌                    | 296/500 [01:14<00:50,  4.04it/s]"
          ]
        },
        {
          "output_type": "stream",
          "name": "stdout",
          "text": [
            "[0.01404067 0.11816142 0.40426436 0.45028626 0.01324729]\n",
            "[ 0  3 10 17  0]\n"
          ]
        },
        {
          "output_type": "stream",
          "name": "stderr",
          "text": [
            "\rTraining:  59%|█████████████████████████████▋                    | 297/500 [01:14<00:51,  3.97it/s]"
          ]
        },
        {
          "output_type": "stream",
          "name": "stdout",
          "text": [
            "[0.01404067 0.11816142 0.40426436 0.45028626 0.01324729]\n",
            "[ 0  2 13 15  0]\n"
          ]
        },
        {
          "output_type": "stream",
          "name": "stderr",
          "text": [
            "\rTraining:  60%|█████████████████████████████▊                    | 298/500 [01:15<00:50,  3.98it/s]"
          ]
        },
        {
          "output_type": "stream",
          "name": "stdout",
          "text": [
            "[0.01404067 0.11816142 0.40426436 0.45028626 0.01324729]\n",
            "[ 0  6  9 14  1]\n"
          ]
        },
        {
          "output_type": "stream",
          "name": "stderr",
          "text": [
            "\rTraining:  60%|█████████████████████████████▉                    | 299/500 [01:15<00:50,  3.95it/s]"
          ]
        },
        {
          "output_type": "stream",
          "name": "stdout",
          "text": [
            "[0.01404067 0.11816142 0.40426436 0.45028626 0.01324729]\n",
            "[ 0  5 13 12  0]\n"
          ]
        },
        {
          "output_type": "stream",
          "name": "stderr",
          "text": [
            "\rTraining:  60%|██████████████████████████████                    | 300/500 [01:15<00:50,  3.94it/s]"
          ]
        },
        {
          "output_type": "stream",
          "name": "stdout",
          "text": [
            "[0.01404067 0.11816142 0.40426436 0.45028626 0.01324729]\n",
            "[ 1  0 14 14  1]\n"
          ]
        },
        {
          "output_type": "stream",
          "name": "stderr",
          "text": [
            "\rTraining:  60%|██████████████████████████████                    | 301/500 [01:15<00:51,  3.86it/s]"
          ]
        },
        {
          "output_type": "stream",
          "name": "stdout",
          "text": [
            "[0.01404067 0.11816142 0.40426436 0.45028626 0.01324729]\n",
            "[ 0  4 10 16  0]\n"
          ]
        },
        {
          "output_type": "stream",
          "name": "stderr",
          "text": [
            "\rTraining:  60%|██████████████████████████████▏                   | 302/500 [01:16<00:50,  3.89it/s]"
          ]
        },
        {
          "output_type": "stream",
          "name": "stdout",
          "text": [
            "[0.01404067 0.11816142 0.40426436 0.45028626 0.01324729]\n",
            "[ 1  7 10 12  0]\n"
          ]
        },
        {
          "output_type": "stream",
          "name": "stderr",
          "text": [
            "\rTraining:  61%|██████████████████████████████▎                   | 303/500 [01:16<00:50,  3.91it/s]"
          ]
        },
        {
          "output_type": "stream",
          "name": "stdout",
          "text": [
            "[0.01404067 0.11816142 0.40426436 0.45028626 0.01324729]\n",
            "[ 0  4 13 13  0]\n"
          ]
        },
        {
          "output_type": "stream",
          "name": "stderr",
          "text": [
            "\rTraining:  61%|██████████████████████████████▍                   | 304/500 [01:16<00:50,  3.85it/s]"
          ]
        },
        {
          "output_type": "stream",
          "name": "stdout",
          "text": [
            "[0.01404067 0.11816142 0.40426436 0.45028626 0.01324729]\n",
            "[ 0  3 12 14  1]\n"
          ]
        },
        {
          "output_type": "stream",
          "name": "stderr",
          "text": [
            "\rTraining:  61%|██████████████████████████████▌                   | 305/500 [01:16<00:50,  3.85it/s]"
          ]
        },
        {
          "output_type": "stream",
          "name": "stdout",
          "text": [
            "[0.01404067 0.11816142 0.40426436 0.45028626 0.01324729]\n",
            "[ 1  2 10 17  0]\n"
          ]
        },
        {
          "output_type": "stream",
          "name": "stderr",
          "text": [
            "\rTraining:  61%|██████████████████████████████▌                   | 306/500 [01:17<00:48,  3.96it/s]"
          ]
        },
        {
          "output_type": "stream",
          "name": "stdout",
          "text": [
            "[0.01404067 0.11816142 0.40426436 0.45028626 0.01324729]\n",
            "[ 1  4 14 11  0]\n"
          ]
        },
        {
          "output_type": "stream",
          "name": "stderr",
          "text": [
            "\rTraining:  61%|██████████████████████████████▋                   | 307/500 [01:17<00:48,  4.02it/s]"
          ]
        },
        {
          "output_type": "stream",
          "name": "stdout",
          "text": [
            "[0.01404067 0.11816142 0.40426436 0.45028626 0.01324729]\n",
            "[ 1  3 10 15  1]\n"
          ]
        },
        {
          "output_type": "stream",
          "name": "stderr",
          "text": [
            "\rTraining:  62%|██████████████████████████████▊                   | 308/500 [01:17<00:47,  4.07it/s]"
          ]
        },
        {
          "output_type": "stream",
          "name": "stdout",
          "text": [
            "[0.01404067 0.11816142 0.40426436 0.45028626 0.01324729]\n",
            "[ 0  2 15 13  0]\n"
          ]
        },
        {
          "output_type": "stream",
          "name": "stderr",
          "text": [
            "\rTraining:  62%|██████████████████████████████▉                   | 309/500 [01:17<00:48,  3.94it/s]"
          ]
        },
        {
          "output_type": "stream",
          "name": "stdout",
          "text": [
            "[0.01404067 0.11816142 0.40426436 0.45028626 0.01324729]\n",
            "[ 0  4  9 17  0]\n"
          ]
        },
        {
          "output_type": "stream",
          "name": "stderr",
          "text": [
            "\rTraining:  62%|███████████████████████████████                   | 310/500 [01:18<00:47,  4.01it/s]"
          ]
        },
        {
          "output_type": "stream",
          "name": "stdout",
          "text": [
            "[0.01404067 0.11816142 0.40426436 0.45028626 0.01324729]\n",
            "[ 0  3 14 13  0]\n"
          ]
        },
        {
          "output_type": "stream",
          "name": "stderr",
          "text": [
            "\rTraining:  62%|███████████████████████████████                   | 311/500 [01:18<00:46,  4.05it/s]"
          ]
        },
        {
          "output_type": "stream",
          "name": "stdout",
          "text": [
            "[0.01404067 0.11816142 0.40426436 0.45028626 0.01324729]\n",
            "[ 2  3 10 15  0]\n"
          ]
        },
        {
          "output_type": "stream",
          "name": "stderr",
          "text": [
            "\rTraining:  62%|███████████████████████████████▏                  | 312/500 [01:18<00:46,  4.05it/s]"
          ]
        },
        {
          "output_type": "stream",
          "name": "stdout",
          "text": [
            "[0.01404067 0.11816142 0.40426436 0.45028626 0.01324729]\n",
            "[ 1  3 14 12  0]\n"
          ]
        },
        {
          "output_type": "stream",
          "name": "stderr",
          "text": [
            "\rTraining:  63%|███████████████████████████████▎                  | 313/500 [01:18<00:46,  4.04it/s]"
          ]
        },
        {
          "output_type": "stream",
          "name": "stdout",
          "text": [
            "[0.01404067 0.11816142 0.40426436 0.45028626 0.01324729]\n",
            "[ 0  1 14 15  0]\n"
          ]
        },
        {
          "output_type": "stream",
          "name": "stderr",
          "text": [
            "\rTraining:  63%|███████████████████████████████▍                  | 314/500 [01:19<00:46,  4.01it/s]"
          ]
        },
        {
          "output_type": "stream",
          "name": "stdout",
          "text": [
            "[0.01404067 0.11816142 0.40426436 0.45028626 0.01324729]\n",
            "[ 0  1 14 15  0]\n"
          ]
        },
        {
          "output_type": "stream",
          "name": "stderr",
          "text": [
            "\rTraining:  63%|███████████████████████████████▌                  | 315/500 [01:19<00:46,  3.97it/s]"
          ]
        },
        {
          "output_type": "stream",
          "name": "stdout",
          "text": [
            "[0.01404067 0.11816142 0.40426436 0.45028626 0.01324729]\n",
            "[ 0  4 14 12  0]\n"
          ]
        },
        {
          "output_type": "stream",
          "name": "stderr",
          "text": [
            "\rTraining:  63%|███████████████████████████████▌                  | 316/500 [01:19<00:46,  3.93it/s]"
          ]
        },
        {
          "output_type": "stream",
          "name": "stdout",
          "text": [
            "[0.01404067 0.11816142 0.40426436 0.45028626 0.01324729]\n",
            "[ 0  3  8 17  2]\n"
          ]
        },
        {
          "output_type": "stream",
          "name": "stderr",
          "text": [
            "\rTraining:  63%|███████████████████████████████▋                  | 317/500 [01:19<00:46,  3.93it/s]"
          ]
        },
        {
          "output_type": "stream",
          "name": "stdout",
          "text": [
            "[0.01404067 0.11816142 0.40426436 0.45028626 0.01324729]\n",
            "[ 0  3 13 13  1]\n"
          ]
        },
        {
          "output_type": "stream",
          "name": "stderr",
          "text": [
            "\rTraining:  64%|███████████████████████████████▊                  | 318/500 [01:20<00:45,  3.98it/s]"
          ]
        },
        {
          "output_type": "stream",
          "name": "stdout",
          "text": [
            "[0.01404067 0.11816142 0.40426436 0.45028626 0.01324729]\n",
            "[ 0  9 11 10  0]\n"
          ]
        },
        {
          "output_type": "stream",
          "name": "stderr",
          "text": [
            "\rTraining:  64%|███████████████████████████████▉                  | 319/500 [01:20<00:46,  3.92it/s]"
          ]
        },
        {
          "output_type": "stream",
          "name": "stdout",
          "text": [
            "[0.01404067 0.11816142 0.40426436 0.45028626 0.01324729]\n",
            "[ 0  2  9 19  0]\n"
          ]
        },
        {
          "output_type": "stream",
          "name": "stderr",
          "text": [
            "\rTraining:  64%|████████████████████████████████                  | 320/500 [01:20<00:45,  3.93it/s]"
          ]
        },
        {
          "output_type": "stream",
          "name": "stdout",
          "text": [
            "[0.01404067 0.11816142 0.40426436 0.45028626 0.01324729]\n",
            "[ 0  5 12 13  0]\n"
          ]
        },
        {
          "output_type": "stream",
          "name": "stderr",
          "text": [
            "\rTraining:  64%|████████████████████████████████                  | 321/500 [01:20<00:46,  3.88it/s]"
          ]
        },
        {
          "output_type": "stream",
          "name": "stdout",
          "text": [
            "[0.01404067 0.11816142 0.40426436 0.45028626 0.01324729]\n",
            "[ 0  4  8 18  0]\n"
          ]
        },
        {
          "output_type": "stream",
          "name": "stderr",
          "text": [
            "\rTraining:  64%|████████████████████████████████▏                 | 322/500 [01:21<00:44,  3.97it/s]"
          ]
        },
        {
          "output_type": "stream",
          "name": "stdout",
          "text": [
            "[0.01404067 0.11816142 0.40426436 0.45028626 0.01324729]\n",
            "[ 0  4 13 13  0]\n"
          ]
        },
        {
          "output_type": "stream",
          "name": "stderr",
          "text": [
            "\rTraining:  65%|████████████████████████████████▎                 | 323/500 [01:21<00:43,  4.06it/s]"
          ]
        },
        {
          "output_type": "stream",
          "name": "stdout",
          "text": [
            "[0.01404067 0.11816142 0.40426436 0.45028626 0.01324729]\n",
            "[ 0  5  8 17  0]\n"
          ]
        },
        {
          "output_type": "stream",
          "name": "stderr",
          "text": [
            "\rTraining:  65%|████████████████████████████████▍                 | 324/500 [01:21<00:43,  4.06it/s]"
          ]
        },
        {
          "output_type": "stream",
          "name": "stdout",
          "text": [
            "[0.01404067 0.11816142 0.40426436 0.45028626 0.01324729]\n",
            "[ 0  5  7 18  0]\n"
          ]
        },
        {
          "output_type": "stream",
          "name": "stderr",
          "text": [
            "\rTraining:  65%|████████████████████████████████▌                 | 325/500 [01:21<00:43,  4.00it/s]"
          ]
        },
        {
          "output_type": "stream",
          "name": "stdout",
          "text": [
            "[0.01404067 0.11816142 0.40426436 0.45028626 0.01324729]\n",
            "[ 0  4  9 17  0]\n"
          ]
        },
        {
          "output_type": "stream",
          "name": "stderr",
          "text": [
            "\rTraining:  65%|████████████████████████████████▌                 | 326/500 [01:22<00:43,  3.99it/s]"
          ]
        },
        {
          "output_type": "stream",
          "name": "stdout",
          "text": [
            "[0.01404067 0.11816142 0.40426436 0.45028626 0.01324729]\n",
            "[ 0  3 11 15  1]\n"
          ]
        },
        {
          "output_type": "stream",
          "name": "stderr",
          "text": [
            "\rTraining:  65%|████████████████████████████████▋                 | 327/500 [01:22<00:44,  3.90it/s]"
          ]
        },
        {
          "output_type": "stream",
          "name": "stdout",
          "text": [
            "[0.01404067 0.11816142 0.40426436 0.45028626 0.01324729]\n",
            "[ 0  4 11 15  0]\n"
          ]
        },
        {
          "output_type": "stream",
          "name": "stderr",
          "text": [
            "\rTraining:  66%|████████████████████████████████▊                 | 328/500 [01:22<00:44,  3.85it/s]"
          ]
        },
        {
          "output_type": "stream",
          "name": "stdout",
          "text": [
            "[0.01404067 0.11816142 0.40426436 0.45028626 0.01324729]\n",
            "[ 1  5  8 16  0]\n"
          ]
        },
        {
          "output_type": "stream",
          "name": "stderr",
          "text": [
            "\rTraining:  66%|████████████████████████████████▉                 | 329/500 [01:22<00:43,  3.90it/s]"
          ]
        },
        {
          "output_type": "stream",
          "name": "stdout",
          "text": [
            "[0.01404067 0.11816142 0.40426436 0.45028626 0.01324729]\n",
            "[ 0  2 14 12  2]\n"
          ]
        },
        {
          "output_type": "stream",
          "name": "stderr",
          "text": [
            "\rTraining:  66%|█████████████████████████████████                 | 330/500 [01:23<00:43,  3.88it/s]"
          ]
        },
        {
          "output_type": "stream",
          "name": "stdout",
          "text": [
            "[0.01404067 0.11816142 0.40426436 0.45028626 0.01324729]\n",
            "[ 1  4 15 10  0]\n"
          ]
        },
        {
          "output_type": "stream",
          "name": "stderr",
          "text": [
            "\rTraining:  66%|█████████████████████████████████                 | 331/500 [01:23<00:42,  3.98it/s]"
          ]
        },
        {
          "output_type": "stream",
          "name": "stdout",
          "text": [
            "[0.01404067 0.11816142 0.40426436 0.45028626 0.01324729]\n",
            "[ 0  4 16 10  0]\n"
          ]
        },
        {
          "output_type": "stream",
          "name": "stderr",
          "text": [
            "\rTraining:  66%|█████████████████████████████████▏                | 332/500 [01:23<00:41,  4.04it/s]"
          ]
        },
        {
          "output_type": "stream",
          "name": "stdout",
          "text": [
            "[0.01404067 0.11816142 0.40426436 0.45028626 0.01324729]\n",
            "[ 0  4 11 15  0]\n"
          ]
        },
        {
          "output_type": "stream",
          "name": "stderr",
          "text": [
            "\rTraining:  67%|█████████████████████████████████▎                | 333/500 [01:23<00:40,  4.09it/s]"
          ]
        },
        {
          "output_type": "stream",
          "name": "stdout",
          "text": [
            "[0.01404067 0.11816142 0.40426436 0.45028626 0.01324729]\n",
            "[ 0  2 12 15  1]\n"
          ]
        },
        {
          "output_type": "stream",
          "name": "stderr",
          "text": [
            "\rTraining:  67%|█████████████████████████████████▍                | 334/500 [01:24<00:40,  4.08it/s]"
          ]
        },
        {
          "output_type": "stream",
          "name": "stdout",
          "text": [
            "[0.01404067 0.11816142 0.40426436 0.45028626 0.01324729]\n",
            "[ 0  4 10 16  0]\n"
          ]
        },
        {
          "output_type": "stream",
          "name": "stderr",
          "text": [
            "\rTraining:  67%|█████████████████████████████████▌                | 335/500 [01:24<00:40,  4.04it/s]"
          ]
        },
        {
          "output_type": "stream",
          "name": "stdout",
          "text": [
            "[0.01404067 0.11816142 0.40426436 0.45028626 0.01324729]\n",
            "[ 0  4 12 14  0]\n"
          ]
        },
        {
          "output_type": "stream",
          "name": "stderr",
          "text": [
            "\rTraining:  67%|█████████████████████████████████▌                | 336/500 [01:24<00:41,  3.98it/s]"
          ]
        },
        {
          "output_type": "stream",
          "name": "stdout",
          "text": [
            "[0.01404067 0.11816142 0.40426436 0.45028626 0.01324729]\n",
            "[ 2  5  7 16  0]\n"
          ]
        },
        {
          "output_type": "stream",
          "name": "stderr",
          "text": [
            "\rTraining:  67%|█████████████████████████████████▋                | 337/500 [01:24<00:41,  3.94it/s]"
          ]
        },
        {
          "output_type": "stream",
          "name": "stdout",
          "text": [
            "[0.01404067 0.11816142 0.40426436 0.45028626 0.01324729]\n",
            "[ 2  3 13 11  1]\n"
          ]
        },
        {
          "output_type": "stream",
          "name": "stderr",
          "text": [
            "\rTraining:  68%|█████████████████████████████████▊                | 338/500 [01:25<00:41,  3.91it/s]"
          ]
        },
        {
          "output_type": "stream",
          "name": "stdout",
          "text": [
            "[0.01404067 0.11816142 0.40426436 0.45028626 0.01324729]\n",
            "[ 0  4  8 18  0]\n"
          ]
        },
        {
          "output_type": "stream",
          "name": "stderr",
          "text": [
            "\rTraining:  68%|█████████████████████████████████▉                | 339/500 [01:25<00:41,  3.90it/s]"
          ]
        },
        {
          "output_type": "stream",
          "name": "stdout",
          "text": [
            "[0.01404067 0.11816142 0.40426436 0.45028626 0.01324729]\n",
            "[ 0  4 11 15  0]\n"
          ]
        },
        {
          "output_type": "stream",
          "name": "stderr",
          "text": [
            "\rTraining:  68%|██████████████████████████████████                | 340/500 [01:25<00:41,  3.89it/s]"
          ]
        },
        {
          "output_type": "stream",
          "name": "stdout",
          "text": [
            "[0.01404067 0.11816142 0.40426436 0.45028626 0.01324729]\n",
            "[ 0  7 11 12  0]\n"
          ]
        },
        {
          "output_type": "stream",
          "name": "stderr",
          "text": [
            "\rTraining:  68%|██████████████████████████████████                | 341/500 [01:25<00:40,  3.89it/s]"
          ]
        },
        {
          "output_type": "stream",
          "name": "stdout",
          "text": [
            "[0.01404067 0.11816142 0.40426436 0.45028626 0.01324729]\n",
            "[ 3  4 14  9  0]\n"
          ]
        },
        {
          "output_type": "stream",
          "name": "stderr",
          "text": [
            "\rTraining:  68%|██████████████████████████████████▏               | 342/500 [01:26<00:40,  3.92it/s]"
          ]
        },
        {
          "output_type": "stream",
          "name": "stdout",
          "text": [
            "[0.01404067 0.11816142 0.40426436 0.45028626 0.01324729]\n",
            "[ 1  4 10 15  0]\n"
          ]
        },
        {
          "output_type": "stream",
          "name": "stderr",
          "text": [
            "\rTraining:  69%|██████████████████████████████████▎               | 343/500 [01:26<00:39,  3.98it/s]"
          ]
        },
        {
          "output_type": "stream",
          "name": "stdout",
          "text": [
            "[0.01404067 0.11816142 0.40426436 0.45028626 0.01324729]\n",
            "[ 0  3 14 13  0]\n"
          ]
        },
        {
          "output_type": "stream",
          "name": "stderr",
          "text": [
            "\rTraining:  69%|██████████████████████████████████▍               | 344/500 [01:26<00:38,  4.03it/s]"
          ]
        },
        {
          "output_type": "stream",
          "name": "stdout",
          "text": [
            "[0.01404067 0.11816142 0.40426436 0.45028626 0.01324729]\n",
            "[ 2  2 15 10  1]\n"
          ]
        },
        {
          "output_type": "stream",
          "name": "stderr",
          "text": [
            "\rTraining:  69%|██████████████████████████████████▌               | 345/500 [01:26<00:38,  4.06it/s]"
          ]
        },
        {
          "output_type": "stream",
          "name": "stdout",
          "text": [
            "[0.01404067 0.11816142 0.40426436 0.45028626 0.01324729]\n",
            "[ 1  4 14 11  0]\n"
          ]
        },
        {
          "output_type": "stream",
          "name": "stderr",
          "text": [
            "\rTraining:  69%|██████████████████████████████████▌               | 346/500 [01:27<00:38,  4.04it/s]"
          ]
        },
        {
          "output_type": "stream",
          "name": "stdout",
          "text": [
            "[0.01404067 0.11816142 0.40426436 0.45028626 0.01324729]\n",
            "[ 0  6  9 15  0]\n"
          ]
        },
        {
          "output_type": "stream",
          "name": "stderr",
          "text": [
            "\rTraining:  69%|██████████████████████████████████▋               | 347/500 [01:27<00:37,  4.11it/s]"
          ]
        },
        {
          "output_type": "stream",
          "name": "stdout",
          "text": [
            "[0.01404067 0.11816142 0.40426436 0.45028626 0.01324729]\n",
            "[ 2  1  9 18  0]\n"
          ]
        },
        {
          "output_type": "stream",
          "name": "stderr",
          "text": [
            "\rTraining:  70%|██████████████████████████████████▊               | 348/500 [01:27<00:37,  4.10it/s]"
          ]
        },
        {
          "output_type": "stream",
          "name": "stdout",
          "text": [
            "[0.01404067 0.11816142 0.40426436 0.45028626 0.01324729]\n",
            "[ 0  2 12 15  1]\n"
          ]
        },
        {
          "output_type": "stream",
          "name": "stderr",
          "text": [
            "\rTraining:  70%|██████████████████████████████████▉               | 349/500 [01:27<00:36,  4.12it/s]"
          ]
        },
        {
          "output_type": "stream",
          "name": "stdout",
          "text": [
            "[0.01404067 0.11816142 0.40426436 0.45028626 0.01324729]\n",
            "[ 0  4 12 13  1]\n"
          ]
        },
        {
          "output_type": "stream",
          "name": "stderr",
          "text": [
            "\rTraining:  70%|███████████████████████████████████               | 350/500 [01:28<00:36,  4.10it/s]"
          ]
        },
        {
          "output_type": "stream",
          "name": "stdout",
          "text": [
            "[0.01404067 0.11816142 0.40426436 0.45028626 0.01324729]\n",
            "[ 1  2 17 10  0]\n"
          ]
        },
        {
          "output_type": "stream",
          "name": "stderr",
          "text": [
            "\rTraining:  70%|███████████████████████████████████               | 351/500 [01:28<00:36,  4.12it/s]"
          ]
        },
        {
          "output_type": "stream",
          "name": "stdout",
          "text": [
            "[0.01404067 0.11816142 0.40426436 0.45028626 0.01324729]\n",
            "[ 1  4  8 16  1]\n"
          ]
        },
        {
          "output_type": "stream",
          "name": "stderr",
          "text": [
            "\rTraining:  70%|███████████████████████████████████▏              | 352/500 [01:28<00:36,  4.07it/s]"
          ]
        },
        {
          "output_type": "stream",
          "name": "stdout",
          "text": [
            "[0.01404067 0.11816142 0.40426436 0.45028626 0.01324729]\n",
            "[ 0  3 11 15  1]\n"
          ]
        },
        {
          "output_type": "stream",
          "name": "stderr",
          "text": [
            "\rTraining:  71%|███████████████████████████████████▎              | 353/500 [01:28<00:35,  4.10it/s]"
          ]
        },
        {
          "output_type": "stream",
          "name": "stdout",
          "text": [
            "[0.01404067 0.11816142 0.40426436 0.45028626 0.01324729]\n",
            "[ 1  4 13 12  0]\n"
          ]
        },
        {
          "output_type": "stream",
          "name": "stderr",
          "text": [
            "\rTraining:  71%|███████████████████████████████████▍              | 354/500 [01:29<00:35,  4.07it/s]"
          ]
        },
        {
          "output_type": "stream",
          "name": "stdout",
          "text": [
            "[0.01404067 0.11816142 0.40426436 0.45028626 0.01324729]\n",
            "[ 1  3 13 13  0]\n"
          ]
        },
        {
          "output_type": "stream",
          "name": "stderr",
          "text": [
            "\rTraining:  71%|███████████████████████████████████▌              | 355/500 [01:29<00:36,  3.96it/s]"
          ]
        },
        {
          "output_type": "stream",
          "name": "stdout",
          "text": [
            "[0.01404067 0.11816142 0.40426436 0.45028626 0.01324729]\n",
            "[ 0  3 14 13  0]\n"
          ]
        },
        {
          "output_type": "stream",
          "name": "stderr",
          "text": [
            "\rTraining:  71%|███████████████████████████████████▌              | 356/500 [01:29<00:35,  4.01it/s]"
          ]
        },
        {
          "output_type": "stream",
          "name": "stdout",
          "text": [
            "[0.01404067 0.11816142 0.40426436 0.45028626 0.01324729]\n",
            "[ 0  5 13 10  2]\n"
          ]
        },
        {
          "output_type": "stream",
          "name": "stderr",
          "text": [
            "\rTraining:  71%|███████████████████████████████████▋              | 357/500 [01:29<00:35,  4.07it/s]"
          ]
        },
        {
          "output_type": "stream",
          "name": "stdout",
          "text": [
            "[0.01404067 0.11816142 0.40426436 0.45028626 0.01324729]\n",
            "[ 0  3 14 11  2]\n"
          ]
        },
        {
          "output_type": "stream",
          "name": "stderr",
          "text": [
            "\rTraining:  72%|███████████████████████████████████▊              | 358/500 [01:30<00:34,  4.09it/s]"
          ]
        },
        {
          "output_type": "stream",
          "name": "stdout",
          "text": [
            "[0.01404067 0.11816142 0.40426436 0.45028626 0.01324729]\n",
            "[ 0  5 11 14  0]\n"
          ]
        },
        {
          "output_type": "stream",
          "name": "stderr",
          "text": [
            "\rTraining:  72%|███████████████████████████████████▉              | 359/500 [01:30<00:34,  4.12it/s]"
          ]
        },
        {
          "output_type": "stream",
          "name": "stdout",
          "text": [
            "[0.01404067 0.11816142 0.40426436 0.45028626 0.01324729]\n",
            "[ 1  3 10 15  1]\n"
          ]
        },
        {
          "output_type": "stream",
          "name": "stderr",
          "text": [
            "\rTraining:  72%|████████████████████████████████████              | 360/500 [01:30<00:34,  4.10it/s]"
          ]
        },
        {
          "output_type": "stream",
          "name": "stdout",
          "text": [
            "[0.01404067 0.11816142 0.40426436 0.45028626 0.01324729]\n",
            "[ 1  2 11 16  0]\n"
          ]
        },
        {
          "output_type": "stream",
          "name": "stderr",
          "text": [
            "\rTraining:  72%|████████████████████████████████████              | 361/500 [01:30<00:33,  4.16it/s]"
          ]
        },
        {
          "output_type": "stream",
          "name": "stdout",
          "text": [
            "[0.01404067 0.11816142 0.40426436 0.45028626 0.01324729]\n",
            "[ 0  2 17 11  0]\n"
          ]
        },
        {
          "output_type": "stream",
          "name": "stderr",
          "text": [
            "\rTraining:  72%|████████████████████████████████████▏             | 362/500 [01:31<00:33,  4.11it/s]"
          ]
        },
        {
          "output_type": "stream",
          "name": "stdout",
          "text": [
            "[0.01404067 0.11816142 0.40426436 0.45028626 0.01324729]\n",
            "[ 0  4 12 14  0]\n"
          ]
        },
        {
          "output_type": "stream",
          "name": "stderr",
          "text": [
            "\rTraining:  73%|████████████████████████████████████▎             | 363/500 [01:31<00:33,  4.08it/s]"
          ]
        },
        {
          "output_type": "stream",
          "name": "stdout",
          "text": [
            "[0.01404067 0.11816142 0.40426436 0.45028626 0.01324729]\n",
            "[ 2  4 13 11  0]\n"
          ]
        },
        {
          "output_type": "stream",
          "name": "stderr",
          "text": [
            "\rTraining:  73%|████████████████████████████████████▍             | 364/500 [01:31<00:33,  4.11it/s]"
          ]
        },
        {
          "output_type": "stream",
          "name": "stdout",
          "text": [
            "[0.01404067 0.11816142 0.40426436 0.45028626 0.01324729]\n",
            "[ 0  7 11 12  0]\n"
          ]
        },
        {
          "output_type": "stream",
          "name": "stderr",
          "text": [
            "\rTraining:  73%|████████████████████████████████████▌             | 365/500 [01:31<00:33,  4.07it/s]"
          ]
        },
        {
          "output_type": "stream",
          "name": "stdout",
          "text": [
            "[0.01404067 0.11816142 0.40426436 0.45028626 0.01324729]\n",
            "[ 0  4 10 15  1]\n"
          ]
        },
        {
          "output_type": "stream",
          "name": "stderr",
          "text": [
            "\rTraining:  73%|████████████████████████████████████▌             | 366/500 [01:32<00:32,  4.10it/s]"
          ]
        },
        {
          "output_type": "stream",
          "name": "stdout",
          "text": [
            "[0.01404067 0.11816142 0.40426436 0.45028626 0.01324729]\n",
            "[ 1  2 15 12  0]\n"
          ]
        },
        {
          "output_type": "stream",
          "name": "stderr",
          "text": [
            "\rTraining:  73%|████████████████████████████████████▋             | 367/500 [01:32<00:32,  4.09it/s]"
          ]
        },
        {
          "output_type": "stream",
          "name": "stdout",
          "text": [
            "[0.01404067 0.11816142 0.40426436 0.45028626 0.01324729]\n",
            "[ 0  7 10 13  0]\n"
          ]
        },
        {
          "output_type": "stream",
          "name": "stderr",
          "text": [
            "\rTraining:  74%|████████████████████████████████████▊             | 368/500 [01:32<00:32,  4.12it/s]"
          ]
        },
        {
          "output_type": "stream",
          "name": "stdout",
          "text": [
            "[0.01404067 0.11816142 0.40426436 0.45028626 0.01324729]\n",
            "[ 0  2 12 15  1]\n"
          ]
        },
        {
          "output_type": "stream",
          "name": "stderr",
          "text": [
            "\rTraining:  74%|████████████████████████████████████▉             | 369/500 [01:32<00:31,  4.14it/s]"
          ]
        },
        {
          "output_type": "stream",
          "name": "stdout",
          "text": [
            "[0.01404067 0.11816142 0.40426436 0.45028626 0.01324729]\n",
            "[ 1  1 13 15  0]\n"
          ]
        },
        {
          "output_type": "stream",
          "name": "stderr",
          "text": [
            "\rTraining:  74%|█████████████████████████████████████             | 370/500 [01:33<00:31,  4.12it/s]"
          ]
        },
        {
          "output_type": "stream",
          "name": "stdout",
          "text": [
            "[0.01404067 0.11816142 0.40426436 0.45028626 0.01324729]\n",
            "[ 2  1 11 16  0]\n"
          ]
        },
        {
          "output_type": "stream",
          "name": "stderr",
          "text": [
            "\rTraining:  74%|█████████████████████████████████████             | 371/500 [01:33<00:32,  4.01it/s]"
          ]
        },
        {
          "output_type": "stream",
          "name": "stdout",
          "text": [
            "[0.01404067 0.11816142 0.40426436 0.45028626 0.01324729]\n",
            "[ 1  4 10 15  0]\n"
          ]
        },
        {
          "output_type": "stream",
          "name": "stderr",
          "text": [
            "\rTraining:  74%|█████████████████████████████████████▏            | 372/500 [01:33<00:32,  3.92it/s]"
          ]
        },
        {
          "output_type": "stream",
          "name": "stdout",
          "text": [
            "[0.01404067 0.11816142 0.40426436 0.45028626 0.01324729]\n",
            "[ 0  8  8 11  3]\n"
          ]
        },
        {
          "output_type": "stream",
          "name": "stderr",
          "text": [
            "\rTraining:  75%|█████████████████████████████████████▎            | 373/500 [01:33<00:32,  3.87it/s]"
          ]
        },
        {
          "output_type": "stream",
          "name": "stdout",
          "text": [
            "[0.01404067 0.11816142 0.40426436 0.45028626 0.01324729]\n",
            "[ 0  4 16  9  1]\n"
          ]
        },
        {
          "output_type": "stream",
          "name": "stderr",
          "text": [
            "\rTraining:  75%|█████████████████████████████████████▍            | 374/500 [01:34<00:32,  3.92it/s]"
          ]
        },
        {
          "output_type": "stream",
          "name": "stdout",
          "text": [
            "[0.01404067 0.11816142 0.40426436 0.45028626 0.01324729]\n",
            "[ 1  2 11 16  0]\n"
          ]
        },
        {
          "output_type": "stream",
          "name": "stderr",
          "text": [
            "\rTraining:  75%|█████████████████████████████████████▌            | 375/500 [01:34<00:32,  3.88it/s]"
          ]
        },
        {
          "output_type": "stream",
          "name": "stdout",
          "text": [
            "[0.01404067 0.11816142 0.40426436 0.45028626 0.01324729]\n",
            "[ 2  5 13 10  0]\n"
          ]
        },
        {
          "output_type": "stream",
          "name": "stderr",
          "text": [
            "\rTraining:  75%|█████████████████████████████████████▌            | 376/500 [01:34<00:32,  3.85it/s]"
          ]
        },
        {
          "output_type": "stream",
          "name": "stdout",
          "text": [
            "[0.01404067 0.11816142 0.40426436 0.45028626 0.01324729]\n",
            "[ 1  5 17  7  0]\n"
          ]
        },
        {
          "output_type": "stream",
          "name": "stderr",
          "text": [
            "\rTraining:  75%|█████████████████████████████████████▋            | 377/500 [01:35<00:44,  2.74it/s]"
          ]
        },
        {
          "output_type": "stream",
          "name": "stdout",
          "text": [
            "[0.01404067 0.11816142 0.40426436 0.45028626 0.01324729]\n",
            "[ 0  3 12 14  1]\n"
          ]
        },
        {
          "output_type": "stream",
          "name": "stderr",
          "text": [
            "\rTraining:  76%|█████████████████████████████████████▊            | 378/500 [01:35<00:41,  2.91it/s]"
          ]
        },
        {
          "output_type": "stream",
          "name": "stdout",
          "text": [
            "[0.01404067 0.11816142 0.40426436 0.45028626 0.01324729]\n",
            "[ 0  6 10 14  0]\n"
          ]
        },
        {
          "output_type": "stream",
          "name": "stderr",
          "text": [
            "\rTraining:  76%|█████████████████████████████████████▉            | 379/500 [01:35<00:38,  3.16it/s]"
          ]
        },
        {
          "output_type": "stream",
          "name": "stdout",
          "text": [
            "[0.01404067 0.11816142 0.40426436 0.45028626 0.01324729]\n",
            "[ 0  1  9 19  1]\n"
          ]
        },
        {
          "output_type": "stream",
          "name": "stderr",
          "text": [
            "\rTraining:  76%|██████████████████████████████████████            | 380/500 [01:35<00:35,  3.37it/s]"
          ]
        },
        {
          "output_type": "stream",
          "name": "stdout",
          "text": [
            "[0.01404067 0.11816142 0.40426436 0.45028626 0.01324729]\n",
            "[ 0  2 15 13  0]\n"
          ]
        },
        {
          "output_type": "stream",
          "name": "stderr",
          "text": [
            "\rTraining:  76%|██████████████████████████████████████            | 381/500 [01:36<00:34,  3.44it/s]"
          ]
        },
        {
          "output_type": "stream",
          "name": "stdout",
          "text": [
            "[0.01404067 0.11816142 0.40426436 0.45028626 0.01324729]\n",
            "[ 0  7  9 14  0]\n"
          ]
        },
        {
          "output_type": "stream",
          "name": "stderr",
          "text": [
            "\rTraining:  76%|██████████████████████████████████████▏           | 382/500 [01:36<00:33,  3.56it/s]"
          ]
        },
        {
          "output_type": "stream",
          "name": "stdout",
          "text": [
            "[0.01404067 0.11816142 0.40426436 0.45028626 0.01324729]\n",
            "[ 0  1 17 12  0]\n"
          ]
        },
        {
          "output_type": "stream",
          "name": "stderr",
          "text": [
            "\rTraining:  77%|██████████████████████████████████████▎           | 383/500 [01:36<00:31,  3.67it/s]"
          ]
        },
        {
          "output_type": "stream",
          "name": "stdout",
          "text": [
            "[0.01404067 0.11816142 0.40426436 0.45028626 0.01324729]\n",
            "[ 1  5 11 13  0]\n"
          ]
        },
        {
          "output_type": "stream",
          "name": "stderr",
          "text": [
            "\rTraining:  77%|██████████████████████████████████████▍           | 384/500 [01:37<00:31,  3.73it/s]"
          ]
        },
        {
          "output_type": "stream",
          "name": "stdout",
          "text": [
            "[0.01404067 0.11816142 0.40426436 0.45028626 0.01324729]\n",
            "[ 0  5 14 11  0]\n"
          ]
        },
        {
          "output_type": "stream",
          "name": "stderr",
          "text": [
            "\rTraining:  77%|██████████████████████████████████████▌           | 385/500 [01:37<00:30,  3.76it/s]"
          ]
        },
        {
          "output_type": "stream",
          "name": "stdout",
          "text": [
            "[0.01404067 0.11816142 0.40426436 0.45028626 0.01324729]\n",
            "[ 0  6  6 18  0]\n"
          ]
        },
        {
          "output_type": "stream",
          "name": "stderr",
          "text": [
            "\rTraining:  77%|██████████████████████████████████████▌           | 386/500 [01:37<00:29,  3.88it/s]"
          ]
        },
        {
          "output_type": "stream",
          "name": "stdout",
          "text": [
            "[0.01404067 0.11816142 0.40426436 0.45028626 0.01324729]\n",
            "[ 0  6  9 15  0]\n"
          ]
        },
        {
          "output_type": "stream",
          "name": "stderr",
          "text": [
            "\rTraining:  77%|██████████████████████████████████████▋           | 387/500 [01:37<00:28,  3.93it/s]"
          ]
        },
        {
          "output_type": "stream",
          "name": "stdout",
          "text": [
            "[0.01404067 0.11816142 0.40426436 0.45028626 0.01324729]\n",
            "[ 0  3 11 16  0]\n"
          ]
        },
        {
          "output_type": "stream",
          "name": "stderr",
          "text": [
            "\rTraining:  78%|██████████████████████████████████████▊           | 388/500 [01:38<00:27,  4.00it/s]"
          ]
        },
        {
          "output_type": "stream",
          "name": "stdout",
          "text": [
            "[0.01404067 0.11816142 0.40426436 0.45028626 0.01324729]\n",
            "[ 0  2 14 14  0]\n"
          ]
        },
        {
          "output_type": "stream",
          "name": "stderr",
          "text": [
            "\rTraining:  78%|██████████████████████████████████████▉           | 389/500 [01:38<00:27,  4.08it/s]"
          ]
        },
        {
          "output_type": "stream",
          "name": "stdout",
          "text": [
            "[0.01404067 0.11816142 0.40426436 0.45028626 0.01324729]\n",
            "[ 0  7 12 11  0]\n"
          ]
        },
        {
          "output_type": "stream",
          "name": "stderr",
          "text": [
            "\rTraining:  78%|███████████████████████████████████████           | 390/500 [01:38<00:27,  4.04it/s]"
          ]
        },
        {
          "output_type": "stream",
          "name": "stdout",
          "text": [
            "[0.01404067 0.11816142 0.40426436 0.45028626 0.01324729]\n",
            "[ 1  2 12 14  1]\n"
          ]
        },
        {
          "output_type": "stream",
          "name": "stderr",
          "text": [
            "\rTraining:  78%|███████████████████████████████████████           | 391/500 [01:38<00:26,  4.08it/s]"
          ]
        },
        {
          "output_type": "stream",
          "name": "stdout",
          "text": [
            "[0.01404067 0.11816142 0.40426436 0.45028626 0.01324729]\n",
            "[ 1  3 14 11  1]\n"
          ]
        },
        {
          "output_type": "stream",
          "name": "stderr",
          "text": [
            "\rTraining:  78%|███████████████████████████████████████▏          | 392/500 [01:38<00:26,  4.07it/s]"
          ]
        },
        {
          "output_type": "stream",
          "name": "stdout",
          "text": [
            "[0.01404067 0.11816142 0.40426436 0.45028626 0.01324729]\n",
            "[ 0  3 16  9  2]\n"
          ]
        },
        {
          "output_type": "stream",
          "name": "stderr",
          "text": [
            "\rTraining:  79%|███████████████████████████████████████▎          | 393/500 [01:39<00:26,  3.97it/s]"
          ]
        },
        {
          "output_type": "stream",
          "name": "stdout",
          "text": [
            "[0.01404067 0.11816142 0.40426436 0.45028626 0.01324729]\n",
            "[ 0  3 14 12  1]\n"
          ]
        },
        {
          "output_type": "stream",
          "name": "stderr",
          "text": [
            "\rTraining:  79%|███████████████████████████████████████▍          | 394/500 [01:39<00:26,  3.95it/s]"
          ]
        },
        {
          "output_type": "stream",
          "name": "stdout",
          "text": [
            "[0.01404067 0.11816142 0.40426436 0.45028626 0.01324729]\n",
            "[ 0  1 12 17  0]\n"
          ]
        },
        {
          "output_type": "stream",
          "name": "stderr",
          "text": [
            "\rTraining:  79%|███████████████████████████████████████▌          | 395/500 [01:39<00:26,  4.02it/s]"
          ]
        },
        {
          "output_type": "stream",
          "name": "stdout",
          "text": [
            "[0.01404067 0.11816142 0.40426436 0.45028626 0.01324729]\n",
            "[ 0  5 10 15  0]\n"
          ]
        },
        {
          "output_type": "stream",
          "name": "stderr",
          "text": [
            "\rTraining:  79%|███████████████████████████████████████▌          | 396/500 [01:39<00:25,  4.07it/s]"
          ]
        },
        {
          "output_type": "stream",
          "name": "stdout",
          "text": [
            "[0.01404067 0.11816142 0.40426436 0.45028626 0.01324729]\n",
            "[ 0  2 18  9  1]\n"
          ]
        },
        {
          "output_type": "stream",
          "name": "stderr",
          "text": [
            "\rTraining:  79%|███████████████████████████████████████▋          | 397/500 [01:40<00:25,  4.08it/s]"
          ]
        },
        {
          "output_type": "stream",
          "name": "stdout",
          "text": [
            "[0.01404067 0.11816142 0.40426436 0.45028626 0.01324729]\n",
            "[ 1  4 10 14  1]\n"
          ]
        },
        {
          "output_type": "stream",
          "name": "stderr",
          "text": [
            "\rTraining:  80%|███████████████████████████████████████▊          | 398/500 [01:40<00:25,  4.04it/s]"
          ]
        },
        {
          "output_type": "stream",
          "name": "stdout",
          "text": [
            "[0.01404067 0.11816142 0.40426436 0.45028626 0.01324729]\n",
            "[ 0  2 14 12  2]\n"
          ]
        },
        {
          "output_type": "stream",
          "name": "stderr",
          "text": [
            "\rTraining:  80%|███████████████████████████████████████▉          | 399/500 [01:40<00:24,  4.10it/s]"
          ]
        },
        {
          "output_type": "stream",
          "name": "stdout",
          "text": [
            "[0.01404067 0.11816142 0.40426436 0.45028626 0.01324729]\n",
            "[ 0  2 13 15  0]\n"
          ]
        },
        {
          "output_type": "stream",
          "name": "stderr",
          "text": [
            "\rTraining:  80%|████████████████████████████████████████          | 400/500 [01:40<00:24,  4.05it/s]"
          ]
        },
        {
          "output_type": "stream",
          "name": "stdout",
          "text": [
            "[0.01404067 0.11816142 0.40426436 0.45028626 0.01324729]\n",
            "[ 0  2 13 15  0]\n"
          ]
        },
        {
          "output_type": "stream",
          "name": "stderr",
          "text": [
            "\rTraining:  80%|████████████████████████████████████████          | 401/500 [01:41<00:24,  4.00it/s]"
          ]
        },
        {
          "output_type": "stream",
          "name": "stdout",
          "text": [
            "[0.01404067 0.11816142 0.40426436 0.45028626 0.01324729]\n",
            "[ 1  1 10 16  2]\n"
          ]
        },
        {
          "output_type": "stream",
          "name": "stderr",
          "text": [
            "\rTraining:  80%|████████████████████████████████████████▏         | 402/500 [01:41<00:25,  3.90it/s]"
          ]
        },
        {
          "output_type": "stream",
          "name": "stdout",
          "text": [
            "[0.01404067 0.11816142 0.40426436 0.45028626 0.01324729]\n",
            "[ 1  5  7 16  1]\n"
          ]
        },
        {
          "output_type": "stream",
          "name": "stderr",
          "text": [
            "\rTraining:  81%|████████████████████████████████████████▎         | 403/500 [01:41<00:25,  3.84it/s]"
          ]
        },
        {
          "output_type": "stream",
          "name": "stdout",
          "text": [
            "[0.01404067 0.11816142 0.40426436 0.45028626 0.01324729]\n",
            "[ 0  4 10 15  1]\n"
          ]
        },
        {
          "output_type": "stream",
          "name": "stderr",
          "text": [
            "\rTraining:  81%|████████████████████████████████████████▍         | 404/500 [01:42<00:25,  3.83it/s]"
          ]
        },
        {
          "output_type": "stream",
          "name": "stdout",
          "text": [
            "[0.01404067 0.11816142 0.40426436 0.45028626 0.01324729]\n",
            "[ 0  3 13 13  1]\n"
          ]
        },
        {
          "output_type": "stream",
          "name": "stderr",
          "text": [
            "\rTraining:  81%|████████████████████████████████████████▌         | 405/500 [01:42<00:24,  3.82it/s]"
          ]
        },
        {
          "output_type": "stream",
          "name": "stdout",
          "text": [
            "[0.01404067 0.11816142 0.40426436 0.45028626 0.01324729]\n",
            "[ 0  2 10 16  2]\n"
          ]
        },
        {
          "output_type": "stream",
          "name": "stderr",
          "text": [
            "\rTraining:  81%|████████████████████████████████████████▌         | 406/500 [01:42<00:24,  3.81it/s]"
          ]
        },
        {
          "output_type": "stream",
          "name": "stdout",
          "text": [
            "[0.01404067 0.11816142 0.40426436 0.45028626 0.01324729]\n",
            "[ 0  4 14 12  0]\n"
          ]
        },
        {
          "output_type": "stream",
          "name": "stderr",
          "text": [
            "\rTraining:  81%|████████████████████████████████████████▋         | 407/500 [01:42<00:24,  3.86it/s]"
          ]
        },
        {
          "output_type": "stream",
          "name": "stdout",
          "text": [
            "[0.01404067 0.11816142 0.40426436 0.45028626 0.01324729]\n",
            "[ 0  8 12 10  0]\n"
          ]
        },
        {
          "output_type": "stream",
          "name": "stderr",
          "text": [
            "\rTraining:  82%|████████████████████████████████████████▊         | 408/500 [01:43<00:23,  3.96it/s]"
          ]
        },
        {
          "output_type": "stream",
          "name": "stdout",
          "text": [
            "[0.01404067 0.11816142 0.40426436 0.45028626 0.01324729]\n",
            "[ 1  1 13 15  0]\n"
          ]
        },
        {
          "output_type": "stream",
          "name": "stderr",
          "text": [
            "\rTraining:  82%|████████████████████████████████████████▉         | 409/500 [01:43<00:22,  3.99it/s]"
          ]
        },
        {
          "output_type": "stream",
          "name": "stdout",
          "text": [
            "[0.01404067 0.11816142 0.40426436 0.45028626 0.01324729]\n",
            "[ 0  4  6 19  1]\n"
          ]
        },
        {
          "output_type": "stream",
          "name": "stderr",
          "text": [
            "\rTraining:  82%|█████████████████████████████████████████         | 410/500 [01:43<00:22,  3.99it/s]"
          ]
        },
        {
          "output_type": "stream",
          "name": "stdout",
          "text": [
            "[0.01404067 0.11816142 0.40426436 0.45028626 0.01324729]\n",
            "[ 1  5 11 12  1]\n"
          ]
        },
        {
          "output_type": "stream",
          "name": "stderr",
          "text": [
            "\rTraining:  82%|█████████████████████████████████████████         | 411/500 [01:43<00:22,  3.97it/s]"
          ]
        },
        {
          "output_type": "stream",
          "name": "stdout",
          "text": [
            "[0.01404067 0.11816142 0.40426436 0.45028626 0.01324729]\n",
            "[ 0  5 10 15  0]\n"
          ]
        },
        {
          "output_type": "stream",
          "name": "stderr",
          "text": [
            "\rTraining:  82%|█████████████████████████████████████████▏        | 412/500 [01:44<00:22,  3.86it/s]"
          ]
        },
        {
          "output_type": "stream",
          "name": "stdout",
          "text": [
            "[0.01404067 0.11816142 0.40426436 0.45028626 0.01324729]\n",
            "[ 0  2 15 13  0]\n"
          ]
        },
        {
          "output_type": "stream",
          "name": "stderr",
          "text": [
            "\rTraining:  83%|█████████████████████████████████████████▎        | 413/500 [01:44<00:22,  3.86it/s]"
          ]
        },
        {
          "output_type": "stream",
          "name": "stdout",
          "text": [
            "[0.01404067 0.11816142 0.40426436 0.45028626 0.01324729]\n",
            "[ 0  3 13 14  0]\n"
          ]
        },
        {
          "output_type": "stream",
          "name": "stderr",
          "text": [
            "\rTraining:  83%|█████████████████████████████████████████▍        | 414/500 [01:44<00:22,  3.88it/s]"
          ]
        },
        {
          "output_type": "stream",
          "name": "stdout",
          "text": [
            "[0.01404067 0.11816142 0.40426436 0.45028626 0.01324729]\n",
            "[ 1  4 16  9  0]\n"
          ]
        },
        {
          "output_type": "stream",
          "name": "stderr",
          "text": [
            "\rTraining:  83%|█████████████████████████████████████████▌        | 415/500 [01:44<00:21,  3.93it/s]"
          ]
        },
        {
          "output_type": "stream",
          "name": "stdout",
          "text": [
            "[0.01404067 0.11816142 0.40426436 0.45028626 0.01324729]\n",
            "[ 0  3 11 15  1]\n"
          ]
        },
        {
          "output_type": "stream",
          "name": "stderr",
          "text": [
            "\rTraining:  83%|█████████████████████████████████████████▌        | 416/500 [01:45<00:20,  4.02it/s]"
          ]
        },
        {
          "output_type": "stream",
          "name": "stdout",
          "text": [
            "[0.01404067 0.11816142 0.40426436 0.45028626 0.01324729]\n",
            "[ 1  2 16  9  2]\n"
          ]
        },
        {
          "output_type": "stream",
          "name": "stderr",
          "text": [
            "\rTraining:  83%|█████████████████████████████████████████▋        | 417/500 [01:45<00:20,  4.06it/s]"
          ]
        },
        {
          "output_type": "stream",
          "name": "stdout",
          "text": [
            "[0.01404067 0.11816142 0.40426436 0.45028626 0.01324729]\n",
            "[ 0  3 14 13  0]\n"
          ]
        },
        {
          "output_type": "stream",
          "name": "stderr",
          "text": [
            "\rTraining:  84%|█████████████████████████████████████████▊        | 418/500 [01:45<00:20,  3.94it/s]"
          ]
        },
        {
          "output_type": "stream",
          "name": "stdout",
          "text": [
            "[0.01404067 0.11816142 0.40426436 0.45028626 0.01324729]\n",
            "[ 0  3 13 14  0]\n"
          ]
        },
        {
          "output_type": "stream",
          "name": "stderr",
          "text": [
            "\rTraining:  84%|█████████████████████████████████████████▉        | 419/500 [01:45<00:20,  3.96it/s]"
          ]
        },
        {
          "output_type": "stream",
          "name": "stdout",
          "text": [
            "[0.01404067 0.11816142 0.40426436 0.45028626 0.01324729]\n",
            "[ 0  2 15 13  0]\n"
          ]
        },
        {
          "output_type": "stream",
          "name": "stderr",
          "text": [
            "\rTraining:  84%|██████████████████████████████████████████        | 420/500 [01:46<00:20,  3.97it/s]"
          ]
        },
        {
          "output_type": "stream",
          "name": "stdout",
          "text": [
            "[0.01404067 0.11816142 0.40426436 0.45028626 0.01324729]\n",
            "[ 0  2 13 15  0]\n"
          ]
        },
        {
          "output_type": "stream",
          "name": "stderr",
          "text": [
            "\rTraining:  84%|██████████████████████████████████████████        | 421/500 [01:46<00:19,  3.95it/s]"
          ]
        },
        {
          "output_type": "stream",
          "name": "stdout",
          "text": [
            "[0.01404067 0.11816142 0.40426436 0.45028626 0.01324729]\n",
            "[ 0  2 13 15  0]\n"
          ]
        },
        {
          "output_type": "stream",
          "name": "stderr",
          "text": [
            "\rTraining:  84%|██████████████████████████████████████████▏       | 422/500 [01:46<00:20,  3.89it/s]"
          ]
        },
        {
          "output_type": "stream",
          "name": "stdout",
          "text": [
            "[0.01404067 0.11816142 0.40426436 0.45028626 0.01324729]\n",
            "[ 0  3 12 15  0]\n"
          ]
        },
        {
          "output_type": "stream",
          "name": "stderr",
          "text": [
            "\rTraining:  85%|██████████████████████████████████████████▎       | 423/500 [01:46<00:19,  3.86it/s]"
          ]
        },
        {
          "output_type": "stream",
          "name": "stdout",
          "text": [
            "[0.01404067 0.11816142 0.40426436 0.45028626 0.01324729]\n",
            "[ 0  1 15 14  0]\n"
          ]
        },
        {
          "output_type": "stream",
          "name": "stderr",
          "text": [
            "\rTraining:  85%|██████████████████████████████████████████▍       | 424/500 [01:47<00:19,  3.88it/s]"
          ]
        },
        {
          "output_type": "stream",
          "name": "stdout",
          "text": [
            "[0.01404067 0.11816142 0.40426436 0.45028626 0.01324729]\n",
            "[ 1  3 13 13  0]\n"
          ]
        },
        {
          "output_type": "stream",
          "name": "stderr",
          "text": [
            "\rTraining:  85%|██████████████████████████████████████████▌       | 425/500 [01:47<00:18,  3.97it/s]"
          ]
        },
        {
          "output_type": "stream",
          "name": "stdout",
          "text": [
            "[0.01404067 0.11816142 0.40426436 0.45028626 0.01324729]\n",
            "[ 0  7 10 13  0]\n"
          ]
        },
        {
          "output_type": "stream",
          "name": "stderr",
          "text": [
            "\rTraining:  85%|██████████████████████████████████████████▌       | 426/500 [01:47<00:18,  3.93it/s]"
          ]
        },
        {
          "output_type": "stream",
          "name": "stdout",
          "text": [
            "[0.01404067 0.11816142 0.40426436 0.45028626 0.01324729]\n",
            "[ 0  4 13 13  0]\n"
          ]
        },
        {
          "output_type": "stream",
          "name": "stderr",
          "text": [
            "\rTraining:  85%|██████████████████████████████████████████▋       | 427/500 [01:47<00:18,  3.89it/s]"
          ]
        },
        {
          "output_type": "stream",
          "name": "stdout",
          "text": [
            "[0.01404067 0.11816142 0.40426436 0.45028626 0.01324729]\n",
            "[ 1  4 13 12  0]\n"
          ]
        },
        {
          "output_type": "stream",
          "name": "stderr",
          "text": [
            "\rTraining:  86%|██████████████████████████████████████████▊       | 428/500 [01:48<00:18,  3.89it/s]"
          ]
        },
        {
          "output_type": "stream",
          "name": "stdout",
          "text": [
            "[0.01404067 0.11816142 0.40426436 0.45028626 0.01324729]\n",
            "[ 0  4 14 12  0]\n"
          ]
        },
        {
          "output_type": "stream",
          "name": "stderr",
          "text": [
            "\rTraining:  86%|██████████████████████████████████████████▉       | 429/500 [01:48<00:18,  3.86it/s]"
          ]
        },
        {
          "output_type": "stream",
          "name": "stdout",
          "text": [
            "[0.01404067 0.11816142 0.40426436 0.45028626 0.01324729]\n",
            "[ 0  1 12 15  2]\n"
          ]
        },
        {
          "output_type": "stream",
          "name": "stderr",
          "text": [
            "\rTraining:  86%|███████████████████████████████████████████       | 430/500 [01:48<00:18,  3.80it/s]"
          ]
        },
        {
          "output_type": "stream",
          "name": "stdout",
          "text": [
            "[0.01404067 0.11816142 0.40426436 0.45028626 0.01324729]\n",
            "[ 0  1 15 13  1]\n"
          ]
        },
        {
          "output_type": "stream",
          "name": "stderr",
          "text": [
            "\rTraining:  86%|███████████████████████████████████████████       | 431/500 [01:48<00:17,  3.89it/s]"
          ]
        },
        {
          "output_type": "stream",
          "name": "stdout",
          "text": [
            "[0.01404067 0.11816142 0.40426436 0.45028626 0.01324729]\n",
            "[ 0  0 13 17  0]\n"
          ]
        },
        {
          "output_type": "stream",
          "name": "stderr",
          "text": [
            "\rTraining:  86%|███████████████████████████████████████████▏      | 432/500 [01:49<00:17,  3.97it/s]"
          ]
        },
        {
          "output_type": "stream",
          "name": "stdout",
          "text": [
            "[0.01404067 0.11816142 0.40426436 0.45028626 0.01324729]\n",
            "[ 0  4 13 12  1]\n"
          ]
        },
        {
          "output_type": "stream",
          "name": "stderr",
          "text": [
            "\rTraining:  87%|███████████████████████████████████████████▎      | 433/500 [01:49<00:16,  3.97it/s]"
          ]
        },
        {
          "output_type": "stream",
          "name": "stdout",
          "text": [
            "[0.01404067 0.11816142 0.40426436 0.45028626 0.01324729]\n",
            "[ 0  4 11 15  0]\n"
          ]
        },
        {
          "output_type": "stream",
          "name": "stderr",
          "text": [
            "\rTraining:  87%|███████████████████████████████████████████▍      | 434/500 [01:49<00:16,  3.97it/s]"
          ]
        },
        {
          "output_type": "stream",
          "name": "stdout",
          "text": [
            "[0.01404067 0.11816142 0.40426436 0.45028626 0.01324729]\n",
            "[ 0  1 13 16  0]\n"
          ]
        },
        {
          "output_type": "stream",
          "name": "stderr",
          "text": [
            "\rTraining:  87%|███████████████████████████████████████████▌      | 435/500 [01:49<00:16,  3.99it/s]"
          ]
        },
        {
          "output_type": "stream",
          "name": "stdout",
          "text": [
            "[0.01404067 0.11816142 0.40426436 0.45028626 0.01324729]\n",
            "[ 0  3  8 18  1]\n"
          ]
        },
        {
          "output_type": "stream",
          "name": "stderr",
          "text": [
            "\rTraining:  87%|███████████████████████████████████████████▌      | 436/500 [01:50<00:15,  4.02it/s]"
          ]
        },
        {
          "output_type": "stream",
          "name": "stdout",
          "text": [
            "[0.01404067 0.11816142 0.40426436 0.45028626 0.01324729]\n",
            "[ 0  2 11 16  1]\n"
          ]
        },
        {
          "output_type": "stream",
          "name": "stderr",
          "text": [
            "\rTraining:  87%|███████████████████████████████████████████▋      | 437/500 [01:50<00:15,  4.09it/s]"
          ]
        },
        {
          "output_type": "stream",
          "name": "stdout",
          "text": [
            "[0.01404067 0.11816142 0.40426436 0.45028626 0.01324729]\n",
            "[ 1  1  8 20  0]\n"
          ]
        },
        {
          "output_type": "stream",
          "name": "stderr",
          "text": [
            "\rTraining:  88%|███████████████████████████████████████████▊      | 438/500 [01:50<00:15,  4.03it/s]"
          ]
        },
        {
          "output_type": "stream",
          "name": "stdout",
          "text": [
            "[0.01404067 0.11816142 0.40426436 0.45028626 0.01324729]\n",
            "[ 0  2 14 14  0]\n"
          ]
        },
        {
          "output_type": "stream",
          "name": "stderr",
          "text": [
            "\rTraining:  88%|███████████████████████████████████████████▉      | 439/500 [01:50<00:15,  4.03it/s]"
          ]
        },
        {
          "output_type": "stream",
          "name": "stdout",
          "text": [
            "[0.01404067 0.11816142 0.40426436 0.45028626 0.01324729]\n",
            "[ 0  4 13 12  1]\n"
          ]
        },
        {
          "output_type": "stream",
          "name": "stderr",
          "text": [
            "\rTraining:  88%|████████████████████████████████████████████      | 440/500 [01:51<00:15,  3.99it/s]"
          ]
        },
        {
          "output_type": "stream",
          "name": "stdout",
          "text": [
            "[0.01404067 0.11816142 0.40426436 0.45028626 0.01324729]\n",
            "[ 0  3 12 15  0]\n"
          ]
        },
        {
          "output_type": "stream",
          "name": "stderr",
          "text": [
            "\rTraining:  88%|████████████████████████████████████████████      | 441/500 [01:51<00:14,  4.02it/s]"
          ]
        },
        {
          "output_type": "stream",
          "name": "stdout",
          "text": [
            "[0.01404067 0.11816142 0.40426436 0.45028626 0.01324729]\n",
            "[ 0  4 13 13  0]\n"
          ]
        },
        {
          "output_type": "stream",
          "name": "stderr",
          "text": [
            "\rTraining:  88%|████████████████████████████████████████████▏     | 442/500 [01:51<00:14,  3.97it/s]"
          ]
        },
        {
          "output_type": "stream",
          "name": "stdout",
          "text": [
            "[0.01404067 0.11816142 0.40426436 0.45028626 0.01324729]\n",
            "[ 0  6 10 14  0]\n"
          ]
        },
        {
          "output_type": "stream",
          "name": "stderr",
          "text": [
            "\rTraining:  89%|████████████████████████████████████████████▎     | 443/500 [01:51<00:14,  3.95it/s]"
          ]
        },
        {
          "output_type": "stream",
          "name": "stdout",
          "text": [
            "[0.01404067 0.11816142 0.40426436 0.45028626 0.01324729]\n",
            "[ 0  4 13 11  2]\n"
          ]
        },
        {
          "output_type": "stream",
          "name": "stderr",
          "text": [
            "\rTraining:  89%|████████████████████████████████████████████▍     | 444/500 [01:52<00:14,  3.98it/s]"
          ]
        },
        {
          "output_type": "stream",
          "name": "stdout",
          "text": [
            "[0.01404067 0.11816142 0.40426436 0.45028626 0.01324729]\n",
            "[ 1  2 14 13  0]\n"
          ]
        },
        {
          "output_type": "stream",
          "name": "stderr",
          "text": [
            "\rTraining:  89%|████████████████████████████████████████████▌     | 445/500 [01:52<00:13,  4.01it/s]"
          ]
        },
        {
          "output_type": "stream",
          "name": "stdout",
          "text": [
            "[0.01404067 0.11816142 0.40426436 0.45028626 0.01324729]\n",
            "[ 0  4 13 13  0]\n"
          ]
        },
        {
          "output_type": "stream",
          "name": "stderr",
          "text": [
            "\rTraining:  89%|████████████████████████████████████████████▌     | 446/500 [01:52<00:13,  4.01it/s]"
          ]
        },
        {
          "output_type": "stream",
          "name": "stdout",
          "text": [
            "[0.01404067 0.11816142 0.40426436 0.45028626 0.01324729]\n",
            "[ 0  4 13 11  2]\n"
          ]
        },
        {
          "output_type": "stream",
          "name": "stderr",
          "text": [
            "\rTraining:  89%|████████████████████████████████████████████▋     | 447/500 [01:52<00:13,  4.01it/s]"
          ]
        },
        {
          "output_type": "stream",
          "name": "stdout",
          "text": [
            "[0.01404067 0.11816142 0.40426436 0.45028626 0.01324729]\n",
            "[ 1  3 10 15  1]\n"
          ]
        },
        {
          "output_type": "stream",
          "name": "stderr",
          "text": [
            "\rTraining:  90%|████████████████████████████████████████████▊     | 448/500 [01:53<00:12,  4.03it/s]"
          ]
        },
        {
          "output_type": "stream",
          "name": "stdout",
          "text": [
            "[0.01404067 0.11816142 0.40426436 0.45028626 0.01324729]\n",
            "[ 1  5 11 13  0]\n"
          ]
        },
        {
          "output_type": "stream",
          "name": "stderr",
          "text": [
            "\rTraining:  90%|████████████████████████████████████████████▉     | 449/500 [01:53<00:12,  4.05it/s]"
          ]
        },
        {
          "output_type": "stream",
          "name": "stdout",
          "text": [
            "[0.01404067 0.11816142 0.40426436 0.45028626 0.01324729]\n",
            "[ 1  6 10 12  1]\n"
          ]
        },
        {
          "output_type": "stream",
          "name": "stderr",
          "text": [
            "\rTraining:  90%|█████████████████████████████████████████████     | 450/500 [01:53<00:12,  4.00it/s]"
          ]
        },
        {
          "output_type": "stream",
          "name": "stdout",
          "text": [
            "[0.01404067 0.11816142 0.40426436 0.45028626 0.01324729]\n",
            "[ 0  1 16 13  0]\n"
          ]
        },
        {
          "output_type": "stream",
          "name": "stderr",
          "text": [
            "\rTraining:  90%|█████████████████████████████████████████████     | 451/500 [01:53<00:12,  4.02it/s]"
          ]
        },
        {
          "output_type": "stream",
          "name": "stdout",
          "text": [
            "[0.01404067 0.11816142 0.40426436 0.45028626 0.01324729]\n",
            "[ 0  1 11 18  0]\n"
          ]
        },
        {
          "output_type": "stream",
          "name": "stderr",
          "text": [
            "\rTraining:  90%|█████████████████████████████████████████████▏    | 452/500 [01:54<00:12,  3.99it/s]"
          ]
        },
        {
          "output_type": "stream",
          "name": "stdout",
          "text": [
            "[0.01404067 0.11816142 0.40426436 0.45028626 0.01324729]\n",
            "[ 1  3 12 14  0]\n"
          ]
        },
        {
          "output_type": "stream",
          "name": "stderr",
          "text": [
            "\rTraining:  91%|█████████████████████████████████████████████▎    | 453/500 [01:54<00:11,  3.98it/s]"
          ]
        },
        {
          "output_type": "stream",
          "name": "stdout",
          "text": [
            "[0.01404067 0.11816142 0.40426436 0.45028626 0.01324729]\n",
            "[ 0  5 11 14  0]\n"
          ]
        },
        {
          "output_type": "stream",
          "name": "stderr",
          "text": [
            "\rTraining:  91%|█████████████████████████████████████████████▍    | 454/500 [01:54<00:11,  3.88it/s]"
          ]
        },
        {
          "output_type": "stream",
          "name": "stdout",
          "text": [
            "[0.01404067 0.11816142 0.40426436 0.45028626 0.01324729]\n",
            "[ 0  2 13 15  0]\n"
          ]
        },
        {
          "output_type": "stream",
          "name": "stderr",
          "text": [
            "\rTraining:  91%|█████████████████████████████████████████████▌    | 455/500 [01:54<00:11,  3.78it/s]"
          ]
        },
        {
          "output_type": "stream",
          "name": "stdout",
          "text": [
            "[0.01404067 0.11816142 0.40426436 0.45028626 0.01324729]\n",
            "[ 1  3 17  9  0]\n"
          ]
        },
        {
          "output_type": "stream",
          "name": "stderr",
          "text": [
            "\rTraining:  91%|█████████████████████████████████████████████▌    | 456/500 [01:55<00:11,  3.80it/s]"
          ]
        },
        {
          "output_type": "stream",
          "name": "stdout",
          "text": [
            "[0.01404067 0.11816142 0.40426436 0.45028626 0.01324729]\n",
            "[ 0  2 12 16  0]\n"
          ]
        },
        {
          "output_type": "stream",
          "name": "stderr",
          "text": [
            "\rTraining:  91%|█████████████████████████████████████████████▋    | 457/500 [01:55<00:11,  3.82it/s]"
          ]
        },
        {
          "output_type": "stream",
          "name": "stdout",
          "text": [
            "[0.01404067 0.11816142 0.40426436 0.45028626 0.01324729]\n",
            "[ 1  2 11 16  0]\n"
          ]
        },
        {
          "output_type": "stream",
          "name": "stderr",
          "text": [
            "\rTraining:  92%|█████████████████████████████████████████████▊    | 458/500 [01:55<00:11,  3.81it/s]"
          ]
        },
        {
          "output_type": "stream",
          "name": "stdout",
          "text": [
            "[0.01404067 0.11816142 0.40426436 0.45028626 0.01324729]\n",
            "[ 0  3 12 14  1]\n"
          ]
        },
        {
          "output_type": "stream",
          "name": "stderr",
          "text": [
            "\rTraining:  92%|█████████████████████████████████████████████▉    | 459/500 [01:56<00:10,  3.84it/s]"
          ]
        },
        {
          "output_type": "stream",
          "name": "stdout",
          "text": [
            "[0.01404067 0.11816142 0.40426436 0.45028626 0.01324729]\n",
            "[ 0  4  8 17  1]\n"
          ]
        },
        {
          "output_type": "stream",
          "name": "stderr",
          "text": [
            "\rTraining:  92%|██████████████████████████████████████████████    | 460/500 [01:56<00:10,  3.87it/s]"
          ]
        },
        {
          "output_type": "stream",
          "name": "stdout",
          "text": [
            "[0.01404067 0.11816142 0.40426436 0.45028626 0.01324729]\n",
            "[ 0  5 13 11  1]\n"
          ]
        },
        {
          "output_type": "stream",
          "name": "stderr",
          "text": [
            "\rTraining:  92%|██████████████████████████████████████████████    | 461/500 [01:56<00:10,  3.85it/s]"
          ]
        },
        {
          "output_type": "stream",
          "name": "stdout",
          "text": [
            "[0.01404067 0.11816142 0.40426436 0.45028626 0.01324729]\n",
            "[ 0  3 14 13  0]\n"
          ]
        },
        {
          "output_type": "stream",
          "name": "stderr",
          "text": [
            "\rTraining:  92%|██████████████████████████████████████████████▏   | 462/500 [01:56<00:09,  3.84it/s]"
          ]
        },
        {
          "output_type": "stream",
          "name": "stdout",
          "text": [
            "[0.01404067 0.11816142 0.40426436 0.45028626 0.01324729]\n",
            "[ 0  4 12 14  0]\n"
          ]
        },
        {
          "output_type": "stream",
          "name": "stderr",
          "text": [
            "\rTraining:  93%|██████████████████████████████████████████████▎   | 463/500 [01:57<00:09,  3.85it/s]"
          ]
        },
        {
          "output_type": "stream",
          "name": "stdout",
          "text": [
            "[0.01404067 0.11816142 0.40426436 0.45028626 0.01324729]\n",
            "[ 0  5 11 13  1]\n"
          ]
        },
        {
          "output_type": "stream",
          "name": "stderr",
          "text": [
            "\rTraining:  93%|██████████████████████████████████████████████▍   | 464/500 [01:57<00:09,  3.87it/s]"
          ]
        },
        {
          "output_type": "stream",
          "name": "stdout",
          "text": [
            "[0.01404067 0.11816142 0.40426436 0.45028626 0.01324729]\n",
            "[ 1  6 13 10  0]\n"
          ]
        },
        {
          "output_type": "stream",
          "name": "stderr",
          "text": [
            "\rTraining:  93%|██████████████████████████████████████████████▌   | 465/500 [01:57<00:08,  3.89it/s]"
          ]
        },
        {
          "output_type": "stream",
          "name": "stdout",
          "text": [
            "[0.01404067 0.11816142 0.40426436 0.45028626 0.01324729]\n",
            "[ 0  3 14 13  0]\n"
          ]
        },
        {
          "output_type": "stream",
          "name": "stderr",
          "text": [
            "\rTraining:  93%|██████████████████████████████████████████████▌   | 466/500 [01:57<00:08,  3.83it/s]"
          ]
        },
        {
          "output_type": "stream",
          "name": "stdout",
          "text": [
            "[0.01404067 0.11816142 0.40426436 0.45028626 0.01324729]\n",
            "[ 0  4 13 12  1]\n"
          ]
        },
        {
          "output_type": "stream",
          "name": "stderr",
          "text": [
            "\rTraining:  93%|██████████████████████████████████████████████▋   | 467/500 [01:58<00:08,  3.91it/s]"
          ]
        },
        {
          "output_type": "stream",
          "name": "stdout",
          "text": [
            "[0.01404067 0.11816142 0.40426436 0.45028626 0.01324729]\n",
            "[ 1  2 13 14  0]\n"
          ]
        },
        {
          "output_type": "stream",
          "name": "stderr",
          "text": [
            "\rTraining:  94%|██████████████████████████████████████████████▊   | 468/500 [01:58<00:08,  3.96it/s]"
          ]
        },
        {
          "output_type": "stream",
          "name": "stdout",
          "text": [
            "[0.01404067 0.11816142 0.40426436 0.45028626 0.01324729]\n",
            "[ 0  2 17 10  1]\n"
          ]
        },
        {
          "output_type": "stream",
          "name": "stderr",
          "text": [
            "\rTraining:  94%|██████████████████████████████████████████████▉   | 469/500 [01:58<00:07,  4.00it/s]"
          ]
        },
        {
          "output_type": "stream",
          "name": "stdout",
          "text": [
            "[0.01404067 0.11816142 0.40426436 0.45028626 0.01324729]\n",
            "[ 1  1 15 13  0]\n"
          ]
        },
        {
          "output_type": "stream",
          "name": "stderr",
          "text": [
            "\rTraining:  94%|███████████████████████████████████████████████   | 470/500 [01:58<00:07,  3.99it/s]"
          ]
        },
        {
          "output_type": "stream",
          "name": "stdout",
          "text": [
            "[0.01404067 0.11816142 0.40426436 0.45028626 0.01324729]\n",
            "[ 0  4 14 12  0]\n"
          ]
        },
        {
          "output_type": "stream",
          "name": "stderr",
          "text": [
            "\rTraining:  94%|███████████████████████████████████████████████   | 471/500 [01:59<00:07,  4.03it/s]"
          ]
        },
        {
          "output_type": "stream",
          "name": "stdout",
          "text": [
            "[0.01404067 0.11816142 0.40426436 0.45028626 0.01324729]\n",
            "[ 2  2 11 15  0]\n"
          ]
        },
        {
          "output_type": "stream",
          "name": "stderr",
          "text": [
            "\rTraining:  94%|███████████████████████████████████████████████▏  | 472/500 [01:59<00:06,  4.08it/s]"
          ]
        },
        {
          "output_type": "stream",
          "name": "stdout",
          "text": [
            "[0.01404067 0.11816142 0.40426436 0.45028626 0.01324729]\n",
            "[ 1  5  8 16  0]\n"
          ]
        },
        {
          "output_type": "stream",
          "name": "stderr",
          "text": [
            "\rTraining:  95%|███████████████████████████████████████████████▎  | 473/500 [01:59<00:06,  4.09it/s]"
          ]
        },
        {
          "output_type": "stream",
          "name": "stdout",
          "text": [
            "[0.01404067 0.11816142 0.40426436 0.45028626 0.01324729]\n",
            "[ 0  4 13 12  1]\n"
          ]
        },
        {
          "output_type": "stream",
          "name": "stderr",
          "text": [
            "\rTraining:  95%|███████████████████████████████████████████████▍  | 474/500 [01:59<00:06,  4.08it/s]"
          ]
        },
        {
          "output_type": "stream",
          "name": "stdout",
          "text": [
            "[0.01404067 0.11816142 0.40426436 0.45028626 0.01324729]\n",
            "[ 1  2 12 15  0]\n"
          ]
        },
        {
          "output_type": "stream",
          "name": "stderr",
          "text": [
            "\rTraining:  95%|███████████████████████████████████████████████▌  | 475/500 [02:00<00:06,  4.09it/s]"
          ]
        },
        {
          "output_type": "stream",
          "name": "stdout",
          "text": [
            "[0.01404067 0.11816142 0.40426436 0.45028626 0.01324729]\n",
            "[ 0  4 16 10  0]\n"
          ]
        },
        {
          "output_type": "stream",
          "name": "stderr",
          "text": [
            "\rTraining:  95%|███████████████████████████████████████████████▌  | 476/500 [02:00<00:05,  4.08it/s]"
          ]
        },
        {
          "output_type": "stream",
          "name": "stdout",
          "text": [
            "[0.01404067 0.11816142 0.40426436 0.45028626 0.01324729]\n",
            "[ 0  6 10 14  0]\n"
          ]
        },
        {
          "output_type": "stream",
          "name": "stderr",
          "text": [
            "\rTraining:  95%|███████████████████████████████████████████████▋  | 477/500 [02:00<00:05,  4.06it/s]"
          ]
        },
        {
          "output_type": "stream",
          "name": "stdout",
          "text": [
            "[0.01404067 0.11816142 0.40426436 0.45028626 0.01324729]\n",
            "[ 1  2 14 12  1]\n"
          ]
        },
        {
          "output_type": "stream",
          "name": "stderr",
          "text": [
            "\rTraining:  96%|███████████████████████████████████████████████▊  | 478/500 [02:00<00:05,  4.08it/s]"
          ]
        },
        {
          "output_type": "stream",
          "name": "stdout",
          "text": [
            "[0.01404067 0.11816142 0.40426436 0.45028626 0.01324729]\n",
            "[ 0  5 13 10  2]\n"
          ]
        },
        {
          "output_type": "stream",
          "name": "stderr",
          "text": [
            "\rTraining:  96%|███████████████████████████████████████████████▉  | 479/500 [02:01<00:05,  4.03it/s]"
          ]
        },
        {
          "output_type": "stream",
          "name": "stdout",
          "text": [
            "[0.01404067 0.11816142 0.40426436 0.45028626 0.01324729]\n",
            "[ 0  2 11 16  1]\n"
          ]
        },
        {
          "output_type": "stream",
          "name": "stderr",
          "text": [
            "\rTraining:  96%|████████████████████████████████████████████████  | 480/500 [02:01<00:04,  4.07it/s]"
          ]
        },
        {
          "output_type": "stream",
          "name": "stdout",
          "text": [
            "[0.01404067 0.11816142 0.40426436 0.45028626 0.01324729]\n",
            "[ 0  3 14 12  1]\n"
          ]
        },
        {
          "output_type": "stream",
          "name": "stderr",
          "text": [
            "\rTraining:  96%|████████████████████████████████████████████████  | 481/500 [02:01<00:04,  4.11it/s]"
          ]
        },
        {
          "output_type": "stream",
          "name": "stdout",
          "text": [
            "[0.01404067 0.11816142 0.40426436 0.45028626 0.01324729]\n",
            "[ 0  3 10 17  0]\n"
          ]
        },
        {
          "output_type": "stream",
          "name": "stderr",
          "text": [
            "\rTraining:  96%|████████████████████████████████████████████████▏ | 482/500 [02:01<00:04,  4.12it/s]"
          ]
        },
        {
          "output_type": "stream",
          "name": "stdout",
          "text": [
            "[0.01404067 0.11816142 0.40426436 0.45028626 0.01324729]\n",
            "[ 0  5 10 14  1]\n"
          ]
        },
        {
          "output_type": "stream",
          "name": "stderr",
          "text": [
            "\rTraining:  97%|████████████████████████████████████████████████▎ | 483/500 [02:01<00:04,  4.08it/s]"
          ]
        },
        {
          "output_type": "stream",
          "name": "stdout",
          "text": [
            "[0.01404067 0.11816142 0.40426436 0.45028626 0.01324729]\n",
            "[ 1  5  7 17  0]\n"
          ]
        },
        {
          "output_type": "stream",
          "name": "stderr",
          "text": [
            "\rTraining:  97%|████████████████████████████████████████████████▍ | 484/500 [02:02<00:03,  4.07it/s]"
          ]
        },
        {
          "output_type": "stream",
          "name": "stdout",
          "text": [
            "[0.01404067 0.11816142 0.40426436 0.45028626 0.01324729]\n",
            "[ 0  3  9 18  0]\n"
          ]
        },
        {
          "output_type": "stream",
          "name": "stderr",
          "text": [
            "\rTraining:  97%|████████████████████████████████████████████████▌ | 485/500 [02:02<00:03,  4.09it/s]"
          ]
        },
        {
          "output_type": "stream",
          "name": "stdout",
          "text": [
            "[0.01404067 0.11816142 0.40426436 0.45028626 0.01324729]\n",
            "[ 0  1 16 13  0]\n"
          ]
        },
        {
          "output_type": "stream",
          "name": "stderr",
          "text": [
            "\rTraining:  97%|████████████████████████████████████████████████▌ | 486/500 [02:02<00:03,  4.10it/s]"
          ]
        },
        {
          "output_type": "stream",
          "name": "stdout",
          "text": [
            "[0.01404067 0.11816142 0.40426436 0.45028626 0.01324729]\n",
            "[ 0  4 11 15  0]\n"
          ]
        },
        {
          "output_type": "stream",
          "name": "stderr",
          "text": [
            "\rTraining:  97%|████████████████████████████████████████████████▋ | 487/500 [02:02<00:03,  3.98it/s]"
          ]
        },
        {
          "output_type": "stream",
          "name": "stdout",
          "text": [
            "[0.01404067 0.11816142 0.40426436 0.45028626 0.01324729]\n",
            "[ 0  5  5 20  0]\n"
          ]
        },
        {
          "output_type": "stream",
          "name": "stderr",
          "text": [
            "\rTraining:  98%|████████████████████████████████████████████████▊ | 488/500 [02:03<00:03,  3.92it/s]"
          ]
        },
        {
          "output_type": "stream",
          "name": "stdout",
          "text": [
            "[0.01404067 0.11816142 0.40426436 0.45028626 0.01324729]\n",
            "[ 0  1 16 10  3]\n"
          ]
        },
        {
          "output_type": "stream",
          "name": "stderr",
          "text": [
            "\rTraining:  98%|████████████████████████████████████████████████▉ | 489/500 [02:03<00:02,  3.89it/s]"
          ]
        },
        {
          "output_type": "stream",
          "name": "stdout",
          "text": [
            "[0.01404067 0.11816142 0.40426436 0.45028626 0.01324729]\n",
            "[ 0  6 11 13  0]\n"
          ]
        },
        {
          "output_type": "stream",
          "name": "stderr",
          "text": [
            "\rTraining:  98%|█████████████████████████████████████████████████ | 490/500 [02:03<00:02,  3.89it/s]"
          ]
        },
        {
          "output_type": "stream",
          "name": "stdout",
          "text": [
            "[0.01404067 0.11816142 0.40426436 0.45028626 0.01324729]\n",
            "[ 0  4 12 13  1]\n"
          ]
        },
        {
          "output_type": "stream",
          "name": "stderr",
          "text": [
            "\rTraining:  98%|█████████████████████████████████████████████████ | 491/500 [02:04<00:02,  3.84it/s]"
          ]
        },
        {
          "output_type": "stream",
          "name": "stdout",
          "text": [
            "[0.01404067 0.11816142 0.40426436 0.45028626 0.01324729]\n",
            "[ 0  3 14 12  1]\n"
          ]
        },
        {
          "output_type": "stream",
          "name": "stderr",
          "text": [
            "\rTraining:  98%|█████████████████████████████████████████████████▏| 492/500 [02:04<00:02,  3.85it/s]"
          ]
        },
        {
          "output_type": "stream",
          "name": "stdout",
          "text": [
            "[0.01404067 0.11816142 0.40426436 0.45028626 0.01324729]\n",
            "[ 0  3 10 17  0]\n"
          ]
        },
        {
          "output_type": "stream",
          "name": "stderr",
          "text": [
            "\rTraining:  99%|█████████████████████████████████████████████████▎| 493/500 [02:04<00:01,  3.80it/s]"
          ]
        },
        {
          "output_type": "stream",
          "name": "stdout",
          "text": [
            "[0.01404067 0.11816142 0.40426436 0.45028626 0.01324729]\n",
            "[ 1  2 12 14  1]\n"
          ]
        },
        {
          "output_type": "stream",
          "name": "stderr",
          "text": [
            "\rTraining:  99%|█████████████████████████████████████████████████▍| 494/500 [02:04<00:01,  3.86it/s]"
          ]
        },
        {
          "output_type": "stream",
          "name": "stdout",
          "text": [
            "[0.01404067 0.11816142 0.40426436 0.45028626 0.01324729]\n",
            "[ 0  2 16 12  0]\n"
          ]
        },
        {
          "output_type": "stream",
          "name": "stderr",
          "text": [
            "\rTraining:  99%|█████████████████████████████████████████████████▌| 495/500 [02:05<00:01,  3.81it/s]"
          ]
        },
        {
          "output_type": "stream",
          "name": "stdout",
          "text": [
            "[0.01404067 0.11816142 0.40426436 0.45028626 0.01324729]\n",
            "[ 1  2 16 11  0]\n"
          ]
        },
        {
          "output_type": "stream",
          "name": "stderr",
          "text": [
            "\rTraining:  99%|█████████████████████████████████████████████████▌| 496/500 [02:05<00:01,  3.92it/s]"
          ]
        },
        {
          "output_type": "stream",
          "name": "stdout",
          "text": [
            "[0.01404067 0.11816142 0.40426436 0.45028626 0.01324729]\n",
            "[ 1  2 15 11  1]\n"
          ]
        },
        {
          "output_type": "stream",
          "name": "stderr",
          "text": [
            "\rTraining:  99%|█████████████████████████████████████████████████▋| 497/500 [02:05<00:00,  3.84it/s]"
          ]
        },
        {
          "output_type": "stream",
          "name": "stdout",
          "text": [
            "[0.01404067 0.11816142 0.40426436 0.45028626 0.01324729]\n",
            "[ 1  3 16 10  0]\n"
          ]
        },
        {
          "output_type": "stream",
          "name": "stderr",
          "text": [
            "\rTraining: 100%|█████████████████████████████████████████████████▊| 498/500 [02:05<00:00,  3.89it/s]"
          ]
        },
        {
          "output_type": "stream",
          "name": "stdout",
          "text": [
            "[0.01404067 0.11816142 0.40426436 0.45028626 0.01324729]\n",
            "[ 0  3 13 13  1]\n"
          ]
        },
        {
          "output_type": "stream",
          "name": "stderr",
          "text": [
            "\rTraining: 100%|█████████████████████████████████████████████████▉| 499/500 [02:06<00:00,  3.89it/s]"
          ]
        },
        {
          "output_type": "stream",
          "name": "stdout",
          "text": [
            "[0.01404067 0.11816142 0.40426436 0.45028626 0.01324729]\n",
            "[ 0  4 14 11  1]\n"
          ]
        },
        {
          "output_type": "stream",
          "name": "stderr",
          "text": [
            "Training: 100%|██████████████████████████████████████████████████| 500/500 [02:06<00:00,  3.96it/s]\n"
          ]
        }
      ]
    },
    {
      "cell_type": "code",
      "source": [
        "print(c.numpy()) \n",
        "print(w.numpy())\n",
        "print(b.numpy())"
      ],
      "metadata": {
        "colab": {
          "base_uri": "https://localhost:8080/"
        },
        "id": "QxolGATOGFhI",
        "outputId": "4021ec67-8235-490a-8a25-183cd913473f"
      },
      "id": "QxolGATOGFhI",
      "execution_count": 8,
      "outputs": [
        {
          "output_type": "stream",
          "name": "stdout",
          "text": [
            "[[-1.6177177]\n",
            " [ 2.8010244]]\n",
            "[[-1.5958989]\n",
            " [ 0.7392875]]\n",
            "[[1.4284531]]\n"
          ]
        }
      ]
    },
    {
      "cell_type": "markdown",
      "source": [
        "###### Plotting samples from target distribution "
      ],
      "metadata": {
        "id": "68zMz4s3GI-a"
      },
      "id": "68zMz4s3GI-a"
    },
    {
      "cell_type": "code",
      "source": [
        "n = 1500\n",
        "ustar_samples = tf.cast(ptarget.sample(n), dtype=tf.float32)\n",
        "\n",
        "given.plot_samples_2d(ustar_samples)"
      ],
      "metadata": {
        "colab": {
          "base_uri": "https://localhost:8080/",
          "height": 354
        },
        "id": "0aqyauknGboS",
        "outputId": "8d160efe-c919-49eb-b79e-68f03e4620d1"
      },
      "id": "0aqyauknGboS",
      "execution_count": 9,
      "outputs": [
        {
          "output_type": "stream",
          "name": "stdout",
          "text": [
            "[0.01404067 0.11816142 0.40426436 0.45028626 0.01324729]\n",
            "[ 20 169 632 660  19]\n"
          ]
        },
        {
          "output_type": "display_data",
          "data": {
            "image/png": "[encoded data removed]",
            "text/plain": [
              "<Figure size 360x360 with 1 Axes>"
            ]
          },
          "metadata": {
            "needs_background": "light"
          }
        }
      ]
    },
    {
      "cell_type": "markdown",
      "source": [
        "###### Plotting histogram"
      ],
      "metadata": {
        "id": "VHoBHZHBjF9i"
      },
      "id": "VHoBHZHBjF9i"
    },
    {
      "cell_type": "code",
      "source": [
        "x = tf.cast(ptarget.sample(n_samples), dtype=tf.float32)\n",
        "u = T(x, c, w, b)\n",
        "pstar_x = ptarget.prob(np.asarray(x))\n",
        "px_x = psource.prob(np.asarray(u))*tf.math.abs(det_J(x, c, w, b))\n",
        "diff = tf.math.abs(pstar_x - px_x)\n",
        "diff = tf.reshape(diff, (-1, ))\n",
        "plt.hist(diff, bins=50)    \n",
        "plt.show()"
      ],
      "metadata": {
        "colab": {
          "base_uri": "https://localhost:8080/",
          "height": 301
        },
        "id": "rBbYNFv1jFlJ",
        "outputId": "23593de2-d8d8-4a45-f3ab-3adbda402dc1"
      },
      "id": "rBbYNFv1jFlJ",
      "execution_count": 10,
      "outputs": [
        {
          "output_type": "stream",
          "name": "stdout",
          "text": [
            "[0.01404067 0.11816142 0.40426436 0.45028626 0.01324729]\n",
            "[ 0  4 12 13  1]\n"
          ]
        },
        {
          "output_type": "display_data",
          "data": {
            "image/png": "[encoded data removed]",
            "text/plain": [
              "<Figure size 432x288 with 1 Axes>"
            ]
          },
          "metadata": {
            "needs_background": "light"
          }
        }
      ]
    },
    {
      "cell_type": "markdown",
      "source": [
        "### **Q1 a Observations** \n",
        "\n",
        "#### **Theory**\n",
        "\n",
        "According to the problem statement we can only sample from $p^*_x$. So here we make use of KL Divergence for our loss function given by the following\n",
        "\n",
        "$Loss = D[p^*_x(x)\\,||\\,p_x(x;\\,\\theta)]$ \n",
        "\n",
        "which approximates to the following expected value expression (we would later take the monte carlo approximation to get the expected value)\n",
        "\n",
        "$ \\underset{\\rm x\\sim p^*_x}{\\rm E} [\\,- log(p_u(u)) - log(|J_{T^{-1}}(x;\\theta)|)\\,]$\n",
        "\n",
        "Here we need to calculate $u (=T^{-1}(x))$ and $|J_{T^{-1}}(x;\\theta)|$\n",
        "\n",
        "We can get $u$ by reverse Planar Flow transformation given as follows\n",
        "\n",
        "$u = T(x) = x + c\\cdot h(w^Tx + b)$. \\\\\n",
        "\n",
        "And to calculate the mod of determinant of Jacobian we use this expression taught in class\n",
        "\n",
        "$|J_T(x; \\theta)| = |1+h'(w^Tx+b)c^Tw|$ \\\\\n",
        "\n",
        "Note that the $T$ used above is the reverse Planar transformation (which we are approximating to $T^{-1}$ as we cannot find $T^{-1}$ explicitly)\n",
        "\n",
        "#### **Workflow**\n",
        "\n",
        "We start off by sampling from our target probability distribution i.e. $p^*_x$ to get $x$ . We use the reverse Planar transformation here, to get samples from our modelled distribution denoted by $u$. We can get probability values of $u$ from $p_u$ and then take the logarithm of the same to get $log(p_u(u))$\n",
        "\n",
        "Next, to get the Jacobian term, we start with a function to calculate the determinant of the same using Gradient Tape and a loop. Then we take the absolute value of the same and finally a logarithm to get the term $log(|J_T(x; \\theta)|)$\n",
        "\n",
        "Finally to get the expected values we simply use Monte-Carlo Approximation as follows\n",
        "\n",
        "$Loss = \\frac{1}{N}\\sum_{i=1}^{N} - log(p_u(T(x_i)) - log(|J_{T}(x_i;\\theta)|)$\n",
        "\n",
        "#### **Observations**\n",
        "\n",
        "$p_x(x) = p_u(T^{-1}(x)).|J_{T^{-1}}(x;\\theta)| = p_u(T^{-1}(x)).|J_T(T^{-1}(x);\\theta)|^{-1}$  \\\\\n",
        "\n",
        "- From the above formulations, we can clearly see that we need the reverse transformation function to plot the samples from our modelled distribution, i.e. we need $T^{-1}$ which is not trivial to find out. Hence we cannot really plot the samples from $p_x$\n",
        "\n",
        "- From the histogram plot we can concurr that the difference between the predicted and actual probabilities is not zero which tells us that the model is highly erroneous for this particular case. Also, the histogram is very noisy hinting that the model is inaccurate here.\n"
      ],
      "metadata": {
        "id": "zqUP02iMp8HY"
      },
      "id": "zqUP02iMp8HY"
    },
    {
      "cell_type": "markdown",
      "source": [
        "### Question 1b"
      ],
      "metadata": {
        "id": "3VPV4AzOs4Z5"
      },
      "id": "3VPV4AzOs4Z5"
    },
    {
      "cell_type": "code",
      "source": [
        "##### Q1 b. #####\n",
        "\n",
        "epoch = 500\n",
        "ptarget = given.GMM()\n",
        "psource = given.Gaussian(mu=np.asarray([0, 0]), sigma=np.asarray([[1, 0], [0, 1]]))\n",
        "n_samples = 30\n",
        "eta = 0.001"
      ],
      "metadata": {
        "id": "97aIld27wl5s"
      },
      "id": "97aIld27wl5s",
      "execution_count": 11,
      "outputs": []
    },
    {
      "cell_type": "code",
      "source": [
        "# modelling planar flow function\n",
        "\n",
        "def T(u, c, w, b):\n",
        "  # return u + c*(tf.math.tanh(tf.matmul(u, w) + b))\n",
        "  return u + tf.matmul(tf.math.tanh(tf.matmul(u, w) + b), tf.transpose(c))"
      ],
      "metadata": {
        "id": "IgjEh_cShxJn"
      },
      "id": "IgjEh_cShxJn",
      "execution_count": 12,
      "outputs": []
    },
    {
      "cell_type": "code",
      "source": [
        "# function to find determinant of jacobian\n",
        "\n",
        "def det_J(u, c, w, b):\n",
        "\n",
        "  detJ = []\n",
        "\n",
        "  for i in u:\n",
        "    with tf.GradientTape(persistent=True) as tape:\n",
        "      m = tf.matmul(tf.transpose(w), tf.reshape(i, (2,1))) + b\n",
        "      h = tf.math.tanh(m)\n",
        "    dh_dm = tape.gradient(h, m)\n",
        "    det = 1 + (dh_dm)*tf.matmul(tf.transpose(w), c)\n",
        "    detJ.append(det)\n",
        "\n",
        "  return detJ"
      ],
      "metadata": {
        "id": "5eNzYW3unoPr"
      },
      "id": "5eNzYW3unoPr",
      "execution_count": 13,
      "outputs": []
    },
    {
      "cell_type": "code",
      "source": [
        "# initializing parameters\n",
        "\n",
        "c = tf.Variable(tf.random.uniform([2, 1], 0, 1), trainable=True, dtype=tf.float32)\n",
        "w = tf.Variable(tf.random.uniform([2, 1], 0, 1), trainable=True, dtype=tf.float32)\n",
        "b = tf.Variable(tf.random.uniform([1, 1], 0, 1), trainable=True, dtype=tf.float32)"
      ],
      "metadata": {
        "id": "5FEdX78VmSZ-"
      },
      "id": "5FEdX78VmSZ-",
      "execution_count": 14,
      "outputs": []
    },
    {
      "cell_type": "code",
      "execution_count": 15,
      "id": "sustained-terror",
      "metadata": {
        "id": "sustained-terror"
      },
      "outputs": [],
      "source": [
        "# S = 30\n",
        "# D = 2\n",
        "\n",
        "def step2(c, w, b, ptarget, psource, eta, n_samples, loss=False):\n",
        "  with tf.GradientTape(persistent=True) as tape2:\n",
        "    # ptarget = given.GMM()\n",
        "    # psource = given.Gaussian(mu=[0, 0], sigma=[[1, 0], [0, 1]])\n",
        "    # n_samples = 30\n",
        "\n",
        "    u = tf.cast(psource.sample(n_samples), dtype=tf.float32) # u = 30 x 2\n",
        "    p_u_u = psource.prob(np.asarray(u)) # p_u_u = 30 x 1\n",
        "    log_puu = tf.cast(tf.math.log(p_u_u), dtype=tf.float32) # log_puu = 30 x 1\n",
        "\n",
        "    x = T(u, c, w, b) # x = 30 x 2\n",
        "    p_x_star = ptarget.prob(np.asarray(x))   \n",
        "    log_pxstar = tf.cast(tf.math.log(p_x_star), dtype=tf.float32)\n",
        "\n",
        "    mod_det_J = tf.math.abs(det_J(u, c, w, b))\n",
        "    log_det_J = tf.math.log(mod_det_J)\n",
        "\n",
        "    # print(log_puu)\n",
        "    # print(log_det_J)\n",
        "    # print(log_pxstar)\n",
        "\n",
        "    mc_loss = tf.reduce_sum(log_puu - log_det_J - log_pxstar)/n_samples\n",
        "    \n",
        "  dloss_dc = tape2.gradient(mc_loss, c)\n",
        "  dloss_dw = tape2.gradient(mc_loss, w)\n",
        "  dloss_db = tape2.gradient(mc_loss, b)\n",
        "  c.assign(c - eta*dloss_dc)\n",
        "  w.assign(w - eta*dloss_dw)\n",
        "  b.assign(b - eta*dloss_db)\n",
        "\n",
        "  if loss:\n",
        "    return c, w, b, mc_loss.numpy()\n",
        "  else:\n",
        "    return c, w, b"
      ]
    },
    {
      "cell_type": "code",
      "source": [
        "for _ in tqdm.trange(epoch, desc=\"Training\", bar_format='{l_bar}{bar:50}{r_bar}'):\n",
        "  c, w, b = step2(c, w, b, ptarget, psource, eta, n_samples)"
      ],
      "metadata": {
        "id": "TznC_mHWwgvN",
        "colab": {
          "base_uri": "https://localhost:8080/"
        },
        "outputId": "ba059bda-4f9a-4c23-ee04-1e4185906b4e"
      },
      "id": "TznC_mHWwgvN",
      "execution_count": 16,
      "outputs": [
        {
          "output_type": "stream",
          "name": "stderr",
          "text": [
            "Training: 100%|██████████████████████████████████████████████████| 500/500 [02:03<00:00,  4.05it/s]\n"
          ]
        }
      ]
    },
    {
      "cell_type": "code",
      "source": [
        "print(c.numpy()) \n",
        "print(w.numpy())\n",
        "print(b.numpy())"
      ],
      "metadata": {
        "colab": {
          "base_uri": "https://localhost:8080/"
        },
        "id": "EUczgHeDzvAV",
        "outputId": "f9d144a8-bbe7-48d9-822f-2303bd4037c1"
      },
      "id": "EUczgHeDzvAV",
      "execution_count": 17,
      "outputs": [
        {
          "output_type": "stream",
          "name": "stdout",
          "text": [
            "[[3.152804 ]\n",
            " [2.7277367]]\n",
            "[[0.8965918]\n",
            " [0.7685758]]\n",
            "[[-0.02308104]]\n"
          ]
        }
      ]
    },
    {
      "cell_type": "markdown",
      "source": [
        "###### Plotting samples from modelled distribution and target distribution respectively"
      ],
      "metadata": {
        "id": "Y5TT_S7M8c8O"
      },
      "id": "Y5TT_S7M8c8O"
    },
    {
      "cell_type": "code",
      "source": [
        "n = 1500\n",
        "\n",
        "u_samples = tf.cast(psource.sample(n), dtype=tf.float32)\n",
        "x_samples = T(u_samples, c, w, b)\n",
        "\n",
        "given.plot_samples_2d(x_samples)"
      ],
      "metadata": {
        "colab": {
          "base_uri": "https://localhost:8080/",
          "height": 320
        },
        "id": "3MOua1cq36Lk",
        "outputId": "0845b9b8-4fc3-4891-fbf6-9b19ab8a44fe"
      },
      "id": "3MOua1cq36Lk",
      "execution_count": 18,
      "outputs": [
        {
          "output_type": "display_data",
          "data": {
            "image/png": "[encoded data removed]",
            "text/plain": [
              "<Figure size 360x360 with 1 Axes>"
            ]
          },
          "metadata": {
            "needs_background": "light"
          }
        }
      ]
    },
    {
      "cell_type": "code",
      "source": [
        "xstar_samples = tf.cast(ptarget.sample(n), dtype=tf.float32)\n",
        "\n",
        "given.plot_samples_2d(xstar_samples)"
      ],
      "metadata": {
        "colab": {
          "base_uri": "https://localhost:8080/",
          "height": 354
        },
        "id": "rjtrJdI25Es0",
        "outputId": "dbe86392-8b6e-4ad4-cbbf-c7460de5eafd"
      },
      "id": "rjtrJdI25Es0",
      "execution_count": 19,
      "outputs": [
        {
          "output_type": "stream",
          "name": "stdout",
          "text": [
            "[0.0791544  0.24323255 0.23282868 0.38328046 0.06150391]\n",
            "[105 373 356 576  90]\n"
          ]
        },
        {
          "output_type": "display_data",
          "data": {
            "image/png": "[encoded data removed]",
            "text/plain": [
              "<Figure size 360x360 with 1 Axes>"
            ]
          },
          "metadata": {
            "needs_background": "light"
          }
        }
      ]
    },
    {
      "cell_type": "markdown",
      "source": [
        "###### Plotting histogram"
      ],
      "metadata": {
        "id": "kdG_DDXVBJsj"
      },
      "id": "kdG_DDXVBJsj"
    },
    {
      "cell_type": "code",
      "source": [
        "u_o = tf.cast(psource.sample(n), dtype=tf.float32)\n",
        "x_o = tf.cast(T(u_o, c, w, b), dtype=tf.float32)\n",
        "pstar_x = ptarget.prob(np.asarray(x_o))\n",
        "px_x = psource.prob(np.asarray(u_o))/tf.math.abs(det_J(u_o, c, w, b))\n",
        "diff = tf.math.abs(pstar_x - px_x)\n",
        "diff = tf.reshape(diff, (-1, ))\n",
        "plt.hist(diff, bins=50)    \n",
        "plt.show()"
      ],
      "metadata": {
        "colab": {
          "base_uri": "https://localhost:8080/",
          "height": 266
        },
        "id": "uD7MG6MH8vg5",
        "outputId": "fa9fd87a-32c4-4fa6-d544-02d5b1788d4b"
      },
      "id": "uD7MG6MH8vg5",
      "execution_count": 20,
      "outputs": [
        {
          "output_type": "display_data",
          "data": {
            "image/png": "[encoded data removed]",
            "text/plain": [
              "<Figure size 432x288 with 1 Axes>"
            ]
          },
          "metadata": {
            "needs_background": "light"
          }
        }
      ]
    },
    {
      "cell_type": "markdown",
      "id": "adjustable-incentive",
      "metadata": {
        "id": "adjustable-incentive"
      },
      "source": [
        "### **Q1 b Observations**\n",
        "\n",
        "#### **Theory**\n",
        "\n",
        "In the problem statement we are given only the values of $p^*_x$. So here, we make use of reverse KL divergence to calculate our loss function which is given by \n",
        "\n",
        "\n",
        "$Loss = D[p_x(x;\\,\\theta)\\,||\\,p^*_x(x)]$ \n",
        "\n",
        "\n",
        "which approximates to the following expected value expression (we would later take the monte carlo approximation to get the expected value)\n",
        "\n",
        "\n",
        "$\\underset{\\rm u\\sim p_u}{\\rm E} [\\,log(p_u(u)) + log(|J_T(u;\\theta)|^{-1}) - log(p^*_x(T(u)))\\,]$\n",
        "\n",
        "\n",
        "Here, we need to calculate $u$ and $|J_T(u;\\theta)|$\n",
        "\n",
        "\n",
        "$u$ is given by $T(x)$ which is a transformation function\n",
        "\n",
        "\n",
        "For the transformation function, we make use of Planar Flow Model \n",
        "\n",
        "$x = T(u) = u + c\\cdot h(w^Tu + b)$ \n",
        "\n",
        "And to calculate the mod of determinant of Jacobian we use this expression taught in class\n",
        "\n",
        "$|J_T(u; \\theta)| = |1+h'(w^Tu+b)c^Tw|$ \\\\\n",
        "\n",
        "#### **Workflow**\n",
        "\n",
        "We start off by sampling from our source probability distribution i.e. $p_u$ to get $u$. From here, we can easily get the probability vaues of the sampled $u$ form the source probability distribution and take the logarithm of the same to get the term $log(p_u(u))$\n",
        "\n",
        "To get the Jacobian term, we start with a function to calculate the determinant of the same using Gradient Tape and a loop. Then we take the absolute value of the same and finally a logarithm to get the term $log(|J_T(u;\\theta)|^{-1})$\n",
        "\n",
        "Then we can apply the Planar Flow transformation to the $u$ obtained above to sample $x$ from our Planar Flow Model $p_x(x)$. We can get the probability values from the target distribution and further take their logarithm to get $log(p^*_x(x))$\n",
        "\n",
        "Finally to get the expected values we simply use Monte-Carlo Approximation as follows\n",
        "\n",
        "$Loss = \\frac{1}{N}\\sum_{i=1}^{N} log(p_u(u_i)) - log(|J_T(u_i;\\theta)|) - log(p^*_x(T(u_i)))$\n",
        "\n",
        "\n",
        "#### **Observations**\n",
        "- Here, we observe that our model is able to mimic a somewhat stretched gaussian distribution. The plots from the target distribution have some \"clusters\" of probability masses. However, our modelled distribution's sample plot is very far away from the actual target distribution in the sense that it is unable to form the probability masses into distinct segments. The two plots are very dissimilar telling us that our model is not giving the best of even plausible results for this problem case\n",
        "\n",
        "- For the histogram we see that the majority of cases lay in the near to zero bin, which may suggest that the difference in the probabilities of our modelled distribution and our target distribution is very very less. However, we can clearly see a fault here. In the above cases, Planar model did not seem to fit properly on our target distribution. Howcome our histogram is so... perfect? Well, here due to the transformation, the distributions might not be in the same scale and simply taking their difference is not the best way to analyse our model's performance. Theindividual values may be very low and their difference might be near zero, which may put them in the \"near zero\" bin; however, we can clearly see that this is a faulty thing to do\n"
      ]
    },
    {
      "cell_type": "markdown",
      "source": [
        "### Q1 c."
      ],
      "metadata": {
        "id": "-nBxHc7kD7cV"
      },
      "id": "-nBxHc7kD7cV"
    },
    {
      "cell_type": "code",
      "execution_count": 21,
      "id": "behind-mineral",
      "metadata": {
        "id": "behind-mineral"
      },
      "outputs": [],
      "source": [
        "##### Q1 c. #####\n",
        "lepoch = 500"
      ]
    },
    {
      "cell_type": "code",
      "source": [
        "# plotting loss for Q1 a\n",
        "\n",
        "c = tf.Variable(tf.random.uniform([2, 1], 0, 1), trainable=True, dtype=tf.float32) \n",
        "w = tf.Variable(tf.random.uniform([2, 1], 0, 1), trainable=True, dtype=tf.float32) \n",
        "b = tf.Variable(tf.random.uniform([1, 1], 0, 1), trainable=True, dtype=tf.float32)\n",
        "\n",
        "loss = []\n",
        "\n",
        "for i in tqdm.trange(lepoch, desc=\"Training\", bar_format='{l_bar}{bar:50}{r_bar}'):\n",
        "    c, w, b, l = step1(c, w, b, ptarget, psource, eta, n_samples, loss=True)\n",
        "    loss.append(l)\n",
        "\n",
        "plt.plot(loss)\n",
        "plt.show()"
      ],
      "metadata": {
        "colab": {
          "base_uri": "https://localhost:8080/",
          "height": 1000
        },
        "id": "caIhOiRGau40",
        "outputId": "081c9773-db8f-4933-81da-285047e61f4a"
      },
      "id": "caIhOiRGau40",
      "execution_count": 22,
      "outputs": [
        {
          "output_type": "stream",
          "name": "stderr",
          "text": [
            "\rTraining:   0%|                                                  | 0/500 [00:00<?, ?it/s]"
          ]
        },
        {
          "output_type": "stream",
          "name": "stdout",
          "text": [
            "[0.0791544  0.24323255 0.23282868 0.38328046 0.06150391]\n",
            "[ 1 13  7  8  1]\n"
          ]
        },
        {
          "output_type": "stream",
          "name": "stderr",
          "text": [
            "\rTraining:   0%|                                                  | 1/500 [00:00<04:06,  2.02it/s]"
          ]
        },
        {
          "output_type": "stream",
          "name": "stdout",
          "text": [
            "[0.0791544  0.24323255 0.23282868 0.38328046 0.06150391]\n",
            "[ 2 10  7 11  0]\n"
          ]
        },
        {
          "output_type": "stream",
          "name": "stderr",
          "text": [
            "\rTraining:   0%|▏                                                 | 2/500 [00:01<04:51,  1.71it/s]"
          ]
        },
        {
          "output_type": "stream",
          "name": "stdout",
          "text": [
            "[0.0791544  0.24323255 0.23282868 0.38328046 0.06150391]\n",
            "[ 1  9  6 14  0]\n"
          ]
        },
        {
          "output_type": "stream",
          "name": "stderr",
          "text": [
            "\rTraining:   1%|▎                                                 | 3/500 [00:01<05:01,  1.65it/s]"
          ]
        },
        {
          "output_type": "stream",
          "name": "stdout",
          "text": [
            "[0.0791544  0.24323255 0.23282868 0.38328046 0.06150391]\n",
            "[ 3  7  7 12  1]\n"
          ]
        },
        {
          "output_type": "stream",
          "name": "stderr",
          "text": [
            "\rTraining:   1%|▍                                                 | 4/500 [00:02<04:43,  1.75it/s]"
          ]
        },
        {
          "output_type": "stream",
          "name": "stdout",
          "text": [
            "[0.0791544  0.24323255 0.23282868 0.38328046 0.06150391]\n",
            "[ 4  5  7 10  4]\n"
          ]
        },
        {
          "output_type": "stream",
          "name": "stderr",
          "text": [
            "\rTraining:   1%|▌                                                 | 5/500 [00:02<04:29,  1.84it/s]"
          ]
        },
        {
          "output_type": "stream",
          "name": "stdout",
          "text": [
            "[0.0791544  0.24323255 0.23282868 0.38328046 0.06150391]\n",
            "[ 4  4 10  9  3]\n"
          ]
        },
        {
          "output_type": "stream",
          "name": "stderr",
          "text": [
            "\rTraining:   1%|▌                                                 | 6/500 [00:03<04:22,  1.88it/s]"
          ]
        },
        {
          "output_type": "stream",
          "name": "stdout",
          "text": [
            "[0.0791544  0.24323255 0.23282868 0.38328046 0.06150391]\n",
            "[ 4  7  4 10  5]\n"
          ]
        },
        {
          "output_type": "stream",
          "name": "stderr",
          "text": [
            "\rTraining:   1%|▋                                                 | 7/500 [00:03<04:40,  1.76it/s]"
          ]
        },
        {
          "output_type": "stream",
          "name": "stdout",
          "text": [
            "[0.0791544  0.24323255 0.23282868 0.38328046 0.06150391]\n",
            "[ 0 11  4 14  1]\n"
          ]
        },
        {
          "output_type": "stream",
          "name": "stderr",
          "text": [
            "\rTraining:   2%|▊                                                 | 8/500 [00:04<04:46,  1.72it/s]"
          ]
        },
        {
          "output_type": "stream",
          "name": "stdout",
          "text": [
            "[0.0791544  0.24323255 0.23282868 0.38328046 0.06150391]\n",
            "[ 2  6  9 12  1]\n"
          ]
        },
        {
          "output_type": "stream",
          "name": "stderr",
          "text": [
            "\rTraining:   2%|▉                                                 | 9/500 [00:05<04:37,  1.77it/s]"
          ]
        },
        {
          "output_type": "stream",
          "name": "stdout",
          "text": [
            "[0.0791544  0.24323255 0.23282868 0.38328046 0.06150391]\n",
            "[ 2  8 12  6  2]\n"
          ]
        },
        {
          "output_type": "stream",
          "name": "stderr",
          "text": [
            "\rTraining:   2%|█                                                 | 10/500 [00:05<04:28,  1.83it/s]"
          ]
        },
        {
          "output_type": "stream",
          "name": "stdout",
          "text": [
            "[0.0791544  0.24323255 0.23282868 0.38328046 0.06150391]\n",
            "[1 8 9 9 3]\n"
          ]
        },
        {
          "output_type": "stream",
          "name": "stderr",
          "text": [
            "\rTraining:   2%|█                                                 | 11/500 [00:06<04:18,  1.89it/s]"
          ]
        },
        {
          "output_type": "stream",
          "name": "stdout",
          "text": [
            "[0.0791544  0.24323255 0.23282868 0.38328046 0.06150391]\n",
            "[ 2  7  6 10  5]\n"
          ]
        },
        {
          "output_type": "stream",
          "name": "stderr",
          "text": [
            "\rTraining:   2%|█▏                                                | 12/500 [00:06<04:20,  1.88it/s]"
          ]
        },
        {
          "output_type": "stream",
          "name": "stdout",
          "text": [
            "[0.0791544  0.24323255 0.23282868 0.38328046 0.06150391]\n",
            "[4 9 9 8 0]\n"
          ]
        },
        {
          "output_type": "stream",
          "name": "stderr",
          "text": [
            "\rTraining:   3%|█▎                                                | 13/500 [00:07<04:18,  1.88it/s]"
          ]
        },
        {
          "output_type": "stream",
          "name": "stdout",
          "text": [
            "[0.0791544  0.24323255 0.23282868 0.38328046 0.06150391]\n",
            "[4 7 8 8 3]\n"
          ]
        },
        {
          "output_type": "stream",
          "name": "stderr",
          "text": [
            "\rTraining:   3%|█▍                                                | 14/500 [00:07<04:26,  1.82it/s]"
          ]
        },
        {
          "output_type": "stream",
          "name": "stdout",
          "text": [
            "[0.0791544  0.24323255 0.23282868 0.38328046 0.06150391]\n",
            "[ 2  8 10  9  1]\n"
          ]
        },
        {
          "output_type": "stream",
          "name": "stderr",
          "text": [
            "\rTraining:   3%|█▌                                                | 15/500 [00:07<03:43,  2.17it/s]"
          ]
        },
        {
          "output_type": "stream",
          "name": "stdout",
          "text": [
            "[0.0791544  0.24323255 0.23282868 0.38328046 0.06150391]\n",
            "[ 1  8  7 11  3]\n"
          ]
        },
        {
          "output_type": "stream",
          "name": "stderr",
          "text": [
            "\rTraining:   3%|█▌                                                | 16/500 [00:08<03:11,  2.52it/s]"
          ]
        },
        {
          "output_type": "stream",
          "name": "stdout",
          "text": [
            "[0.0791544  0.24323255 0.23282868 0.38328046 0.06150391]\n",
            "[ 0 10  7 13  0]\n"
          ]
        },
        {
          "output_type": "stream",
          "name": "stderr",
          "text": [
            "\rTraining:   3%|█▋                                                | 17/500 [00:08<02:49,  2.85it/s]"
          ]
        },
        {
          "output_type": "stream",
          "name": "stdout",
          "text": [
            "[0.0791544  0.24323255 0.23282868 0.38328046 0.06150391]\n",
            "[ 1  8  7 11  3]\n"
          ]
        },
        {
          "output_type": "stream",
          "name": "stderr",
          "text": [
            "\rTraining:   4%|█▊                                                | 18/500 [00:08<02:37,  3.07it/s]"
          ]
        },
        {
          "output_type": "stream",
          "name": "stdout",
          "text": [
            "[0.0791544  0.24323255 0.23282868 0.38328046 0.06150391]\n",
            "[ 1  7 13  9  0]\n"
          ]
        },
        {
          "output_type": "stream",
          "name": "stderr",
          "text": [
            "\rTraining:   4%|█▉                                                | 19/500 [00:08<02:25,  3.31it/s]"
          ]
        },
        {
          "output_type": "stream",
          "name": "stdout",
          "text": [
            "[0.0791544  0.24323255 0.23282868 0.38328046 0.06150391]\n",
            "[ 0  8  5 14  3]\n"
          ]
        },
        {
          "output_type": "stream",
          "name": "stderr",
          "text": [
            "\rTraining:   4%|██                                                | 20/500 [00:09<02:19,  3.45it/s]"
          ]
        },
        {
          "output_type": "stream",
          "name": "stdout",
          "text": [
            "[0.0791544  0.24323255 0.23282868 0.38328046 0.06150391]\n",
            "[ 1  6  6 15  2]\n"
          ]
        },
        {
          "output_type": "stream",
          "name": "stderr",
          "text": [
            "\rTraining:   4%|██                                                | 21/500 [00:09<02:14,  3.57it/s]"
          ]
        },
        {
          "output_type": "stream",
          "name": "stdout",
          "text": [
            "[0.0791544  0.24323255 0.23282868 0.38328046 0.06150391]\n",
            "[ 0  5  6 16  3]\n"
          ]
        },
        {
          "output_type": "stream",
          "name": "stderr",
          "text": [
            "\rTraining:   4%|██▏                                               | 22/500 [00:09<02:12,  3.62it/s]"
          ]
        },
        {
          "output_type": "stream",
          "name": "stdout",
          "text": [
            "[0.0791544  0.24323255 0.23282868 0.38328046 0.06150391]\n",
            "[ 1  9  5 13  2]\n"
          ]
        },
        {
          "output_type": "stream",
          "name": "stderr",
          "text": [
            "\rTraining:   5%|██▎                                               | 23/500 [00:10<02:08,  3.71it/s]"
          ]
        },
        {
          "output_type": "stream",
          "name": "stdout",
          "text": [
            "[0.0791544  0.24323255 0.23282868 0.38328046 0.06150391]\n",
            "[ 1  5  6 17  1]\n"
          ]
        },
        {
          "output_type": "stream",
          "name": "stderr",
          "text": [
            "\rTraining:   5%|██▍                                               | 24/500 [00:10<02:07,  3.73it/s]"
          ]
        },
        {
          "output_type": "stream",
          "name": "stdout",
          "text": [
            "[0.0791544  0.24323255 0.23282868 0.38328046 0.06150391]\n",
            "[ 3  8  5 12  2]\n"
          ]
        },
        {
          "output_type": "stream",
          "name": "stderr",
          "text": [
            "\rTraining:   5%|██▌                                               | 25/500 [00:10<02:04,  3.83it/s]"
          ]
        },
        {
          "output_type": "stream",
          "name": "stdout",
          "text": [
            "[0.0791544  0.24323255 0.23282868 0.38328046 0.06150391]\n",
            "[ 2 16  3  8  1]\n"
          ]
        },
        {
          "output_type": "stream",
          "name": "stderr",
          "text": [
            "\rTraining:   5%|██▌                                               | 26/500 [00:10<02:03,  3.82it/s]"
          ]
        },
        {
          "output_type": "stream",
          "name": "stdout",
          "text": [
            "[0.0791544  0.24323255 0.23282868 0.38328046 0.06150391]\n",
            "[ 3  6  5 14  2]\n"
          ]
        },
        {
          "output_type": "stream",
          "name": "stderr",
          "text": [
            "\rTraining:   5%|██▋                                               | 27/500 [00:11<02:01,  3.90it/s]"
          ]
        },
        {
          "output_type": "stream",
          "name": "stdout",
          "text": [
            "[0.0791544  0.24323255 0.23282868 0.38328046 0.06150391]\n",
            "[ 1 10  5 12  2]\n"
          ]
        },
        {
          "output_type": "stream",
          "name": "stderr",
          "text": [
            "\rTraining:   6%|██▊                                               | 28/500 [00:11<01:58,  3.99it/s]"
          ]
        },
        {
          "output_type": "stream",
          "name": "stdout",
          "text": [
            "[0.0791544  0.24323255 0.23282868 0.38328046 0.06150391]\n",
            "[4 5 8 9 4]\n"
          ]
        },
        {
          "output_type": "stream",
          "name": "stderr",
          "text": [
            "\rTraining:   6%|██▉                                               | 29/500 [00:11<01:56,  4.05it/s]"
          ]
        },
        {
          "output_type": "stream",
          "name": "stdout",
          "text": [
            "[0.0791544  0.24323255 0.23282868 0.38328046 0.06150391]\n",
            "[ 0 10  6 12  2]\n"
          ]
        },
        {
          "output_type": "stream",
          "name": "stderr",
          "text": [
            "\rTraining:   6%|███                                               | 30/500 [00:11<01:58,  3.96it/s]"
          ]
        },
        {
          "output_type": "stream",
          "name": "stdout",
          "text": [
            "[0.0791544  0.24323255 0.23282868 0.38328046 0.06150391]\n",
            "[ 4  7 11  8  0]\n"
          ]
        },
        {
          "output_type": "stream",
          "name": "stderr",
          "text": [
            "\rTraining:   6%|███                                               | 31/500 [00:12<01:57,  3.99it/s]"
          ]
        },
        {
          "output_type": "stream",
          "name": "stdout",
          "text": [
            "[0.0791544  0.24323255 0.23282868 0.38328046 0.06150391]\n",
            "[ 3  6  7 13  1]\n"
          ]
        },
        {
          "output_type": "stream",
          "name": "stderr",
          "text": [
            "\rTraining:   6%|███▏                                              | 32/500 [00:12<01:57,  3.99it/s]"
          ]
        },
        {
          "output_type": "stream",
          "name": "stdout",
          "text": [
            "[0.0791544  0.24323255 0.23282868 0.38328046 0.06150391]\n",
            "[ 2  3 10 12  3]\n"
          ]
        },
        {
          "output_type": "stream",
          "name": "stderr",
          "text": [
            "\rTraining:   7%|███▎                                              | 33/500 [00:12<01:58,  3.93it/s]"
          ]
        },
        {
          "output_type": "stream",
          "name": "stdout",
          "text": [
            "[0.0791544  0.24323255 0.23282868 0.38328046 0.06150391]\n",
            "[ 1  6  6 11  6]\n"
          ]
        },
        {
          "output_type": "stream",
          "name": "stderr",
          "text": [
            "\rTraining:   7%|███▍                                              | 34/500 [00:12<02:00,  3.88it/s]"
          ]
        },
        {
          "output_type": "stream",
          "name": "stdout",
          "text": [
            "[0.0791544  0.24323255 0.23282868 0.38328046 0.06150391]\n",
            "[ 5 10  3 10  2]\n"
          ]
        },
        {
          "output_type": "stream",
          "name": "stderr",
          "text": [
            "\rTraining:   7%|███▌                                              | 35/500 [00:13<01:58,  3.91it/s]"
          ]
        },
        {
          "output_type": "stream",
          "name": "stdout",
          "text": [
            "[0.0791544  0.24323255 0.23282868 0.38328046 0.06150391]\n",
            "[ 1  8  8 10  3]\n"
          ]
        },
        {
          "output_type": "stream",
          "name": "stderr",
          "text": [
            "\rTraining:   7%|███▌                                              | 36/500 [00:13<01:58,  3.93it/s]"
          ]
        },
        {
          "output_type": "stream",
          "name": "stdout",
          "text": [
            "[0.0791544  0.24323255 0.23282868 0.38328046 0.06150391]\n",
            "[ 2  8  8 11  1]\n"
          ]
        },
        {
          "output_type": "stream",
          "name": "stderr",
          "text": [
            "\rTraining:   7%|███▋                                              | 37/500 [00:13<01:58,  3.91it/s]"
          ]
        },
        {
          "output_type": "stream",
          "name": "stdout",
          "text": [
            "[0.0791544  0.24323255 0.23282868 0.38328046 0.06150391]\n",
            "[ 2  8  8 11  1]\n"
          ]
        },
        {
          "output_type": "stream",
          "name": "stderr",
          "text": [
            "\rTraining:   8%|███▊                                              | 38/500 [00:13<02:01,  3.81it/s]"
          ]
        },
        {
          "output_type": "stream",
          "name": "stdout",
          "text": [
            "[0.0791544  0.24323255 0.23282868 0.38328046 0.06150391]\n",
            "[ 2 11  4 11  2]\n"
          ]
        },
        {
          "output_type": "stream",
          "name": "stderr",
          "text": [
            "\rTraining:   8%|███▉                                              | 39/500 [00:14<01:59,  3.86it/s]"
          ]
        },
        {
          "output_type": "stream",
          "name": "stdout",
          "text": [
            "[0.0791544  0.24323255 0.23282868 0.38328046 0.06150391]\n",
            "[ 2  7 11  8  2]\n"
          ]
        },
        {
          "output_type": "stream",
          "name": "stderr",
          "text": [
            "\rTraining:   8%|████                                              | 40/500 [00:14<01:57,  3.92it/s]"
          ]
        },
        {
          "output_type": "stream",
          "name": "stdout",
          "text": [
            "[0.0791544  0.24323255 0.23282868 0.38328046 0.06150391]\n",
            "[ 3  7 13  4  3]\n"
          ]
        },
        {
          "output_type": "stream",
          "name": "stderr",
          "text": [
            "\rTraining:   8%|████                                              | 41/500 [00:14<01:55,  3.99it/s]"
          ]
        },
        {
          "output_type": "stream",
          "name": "stdout",
          "text": [
            "[0.0791544  0.24323255 0.23282868 0.38328046 0.06150391]\n",
            "[ 2 10  7 10  1]\n"
          ]
        },
        {
          "output_type": "stream",
          "name": "stderr",
          "text": [
            "\rTraining:   8%|████▏                                             | 42/500 [00:14<01:54,  4.00it/s]"
          ]
        },
        {
          "output_type": "stream",
          "name": "stdout",
          "text": [
            "[0.0791544  0.24323255 0.23282868 0.38328046 0.06150391]\n",
            "[ 4  5  7 11  3]\n"
          ]
        },
        {
          "output_type": "stream",
          "name": "stderr",
          "text": [
            "\rTraining:   9%|████▎                                             | 43/500 [00:15<01:51,  4.09it/s]"
          ]
        },
        {
          "output_type": "stream",
          "name": "stdout",
          "text": [
            "[0.0791544  0.24323255 0.23282868 0.38328046 0.06150391]\n",
            "[ 3 10  7  9  1]\n"
          ]
        },
        {
          "output_type": "stream",
          "name": "stderr",
          "text": [
            "\rTraining:   9%|████▍                                             | 44/500 [00:15<01:49,  4.15it/s]"
          ]
        },
        {
          "output_type": "stream",
          "name": "stdout",
          "text": [
            "[0.0791544  0.24323255 0.23282868 0.38328046 0.06150391]\n",
            "[ 2  5 12  9  2]\n"
          ]
        },
        {
          "output_type": "stream",
          "name": "stderr",
          "text": [
            "\rTraining:   9%|████▌                                             | 45/500 [00:15<01:48,  4.19it/s]"
          ]
        },
        {
          "output_type": "stream",
          "name": "stdout",
          "text": [
            "[0.0791544  0.24323255 0.23282868 0.38328046 0.06150391]\n",
            "[2 8 9 9 2]\n"
          ]
        },
        {
          "output_type": "stream",
          "name": "stderr",
          "text": [
            "\rTraining:   9%|████▌                                             | 46/500 [00:15<01:52,  4.05it/s]"
          ]
        },
        {
          "output_type": "stream",
          "name": "stdout",
          "text": [
            "[0.0791544  0.24323255 0.23282868 0.38328046 0.06150391]\n",
            "[ 0 11  5 10  4]\n"
          ]
        },
        {
          "output_type": "stream",
          "name": "stderr",
          "text": [
            "\rTraining:   9%|████▋                                             | 47/500 [00:16<01:52,  4.02it/s]"
          ]
        },
        {
          "output_type": "stream",
          "name": "stdout",
          "text": [
            "[0.0791544  0.24323255 0.23282868 0.38328046 0.06150391]\n",
            "[2 8 9 9 2]\n"
          ]
        },
        {
          "output_type": "stream",
          "name": "stderr",
          "text": [
            "\rTraining:  10%|████▊                                             | 48/500 [00:16<01:51,  4.04it/s]"
          ]
        },
        {
          "output_type": "stream",
          "name": "stdout",
          "text": [
            "[0.0791544  0.24323255 0.23282868 0.38328046 0.06150391]\n",
            "[ 2  4  6 16  2]\n"
          ]
        },
        {
          "output_type": "stream",
          "name": "stderr",
          "text": [
            "\rTraining:  10%|████▉                                             | 49/500 [00:16<01:49,  4.11it/s]"
          ]
        },
        {
          "output_type": "stream",
          "name": "stdout",
          "text": [
            "[0.0791544  0.24323255 0.23282868 0.38328046 0.06150391]\n",
            "[ 0  8 10 12  0]\n"
          ]
        },
        {
          "output_type": "stream",
          "name": "stderr",
          "text": [
            "\rTraining:  10%|█████                                             | 50/500 [00:16<01:51,  4.05it/s]"
          ]
        },
        {
          "output_type": "stream",
          "name": "stdout",
          "text": [
            "[0.0791544  0.24323255 0.23282868 0.38328046 0.06150391]\n",
            "[ 5 12  7  4  2]\n"
          ]
        },
        {
          "output_type": "stream",
          "name": "stderr",
          "text": [
            "\rTraining:  10%|█████                                             | 51/500 [00:17<01:51,  4.02it/s]"
          ]
        },
        {
          "output_type": "stream",
          "name": "stdout",
          "text": [
            "[0.0791544  0.24323255 0.23282868 0.38328046 0.06150391]\n",
            "[ 3  3 10 12  2]\n"
          ]
        },
        {
          "output_type": "stream",
          "name": "stderr",
          "text": [
            "\rTraining:  10%|█████▏                                            | 52/500 [00:17<01:50,  4.06it/s]"
          ]
        },
        {
          "output_type": "stream",
          "name": "stdout",
          "text": [
            "[0.0791544  0.24323255 0.23282868 0.38328046 0.06150391]\n",
            "[ 2  7  6 15  0]\n"
          ]
        },
        {
          "output_type": "stream",
          "name": "stderr",
          "text": [
            "\rTraining:  11%|█████▎                                            | 53/500 [00:17<01:49,  4.10it/s]"
          ]
        },
        {
          "output_type": "stream",
          "name": "stdout",
          "text": [
            "[0.0791544  0.24323255 0.23282868 0.38328046 0.06150391]\n",
            "[ 5  6  8 10  1]\n"
          ]
        },
        {
          "output_type": "stream",
          "name": "stderr",
          "text": [
            "\rTraining:  11%|█████▍                                            | 54/500 [00:17<01:48,  4.11it/s]"
          ]
        },
        {
          "output_type": "stream",
          "name": "stdout",
          "text": [
            "[0.0791544  0.24323255 0.23282868 0.38328046 0.06150391]\n",
            "[ 3  8  5 12  2]\n"
          ]
        },
        {
          "output_type": "stream",
          "name": "stderr",
          "text": [
            "\rTraining:  11%|█████▌                                            | 55/500 [00:18<01:50,  4.03it/s]"
          ]
        },
        {
          "output_type": "stream",
          "name": "stdout",
          "text": [
            "[0.0791544  0.24323255 0.23282868 0.38328046 0.06150391]\n",
            "[ 4  5 10  9  2]\n"
          ]
        },
        {
          "output_type": "stream",
          "name": "stderr",
          "text": [
            "\rTraining:  11%|█████▌                                            | 56/500 [00:18<01:50,  4.02it/s]"
          ]
        },
        {
          "output_type": "stream",
          "name": "stdout",
          "text": [
            "[0.0791544  0.24323255 0.23282868 0.38328046 0.06150391]\n",
            "[ 2  5 11 12  0]\n"
          ]
        },
        {
          "output_type": "stream",
          "name": "stderr",
          "text": [
            "\rTraining:  11%|█████▋                                            | 57/500 [00:18<01:50,  4.02it/s]"
          ]
        },
        {
          "output_type": "stream",
          "name": "stdout",
          "text": [
            "[0.0791544  0.24323255 0.23282868 0.38328046 0.06150391]\n",
            "[ 2 10  6 10  2]\n"
          ]
        },
        {
          "output_type": "stream",
          "name": "stderr",
          "text": [
            "\rTraining:  12%|█████▊                                            | 58/500 [00:18<01:51,  3.97it/s]"
          ]
        },
        {
          "output_type": "stream",
          "name": "stdout",
          "text": [
            "[0.0791544  0.24323255 0.23282868 0.38328046 0.06150391]\n",
            "[ 1 10  5 14  0]\n"
          ]
        },
        {
          "output_type": "stream",
          "name": "stderr",
          "text": [
            "\rTraining:  12%|█████▉                                            | 59/500 [00:19<01:52,  3.91it/s]"
          ]
        },
        {
          "output_type": "stream",
          "name": "stdout",
          "text": [
            "[0.0791544  0.24323255 0.23282868 0.38328046 0.06150391]\n",
            "[ 4  5  5 12  4]\n"
          ]
        },
        {
          "output_type": "stream",
          "name": "stderr",
          "text": [
            "\rTraining:  12%|██████                                            | 60/500 [00:19<01:52,  3.92it/s]"
          ]
        },
        {
          "output_type": "stream",
          "name": "stdout",
          "text": [
            "[0.0791544  0.24323255 0.23282868 0.38328046 0.06150391]\n",
            "[ 2  7 11 10  0]\n"
          ]
        },
        {
          "output_type": "stream",
          "name": "stderr",
          "text": [
            "\rTraining:  12%|██████                                            | 61/500 [00:19<01:52,  3.90it/s]"
          ]
        },
        {
          "output_type": "stream",
          "name": "stdout",
          "text": [
            "[0.0791544  0.24323255 0.23282868 0.38328046 0.06150391]\n",
            "[6 8 8 7 1]\n"
          ]
        },
        {
          "output_type": "stream",
          "name": "stderr",
          "text": [
            "\rTraining:  12%|██████▏                                           | 62/500 [00:19<01:51,  3.92it/s]"
          ]
        },
        {
          "output_type": "stream",
          "name": "stdout",
          "text": [
            "[0.0791544  0.24323255 0.23282868 0.38328046 0.06150391]\n",
            "[ 3  5  8 11  3]\n"
          ]
        },
        {
          "output_type": "stream",
          "name": "stderr",
          "text": [
            "\rTraining:  13%|██████▎                                           | 63/500 [00:20<01:51,  3.90it/s]"
          ]
        },
        {
          "output_type": "stream",
          "name": "stdout",
          "text": [
            "[0.0791544  0.24323255 0.23282868 0.38328046 0.06150391]\n",
            "[ 0  8  5 14  3]\n"
          ]
        },
        {
          "output_type": "stream",
          "name": "stderr",
          "text": [
            "\rTraining:  13%|██████▍                                           | 64/500 [00:20<01:49,  3.99it/s]"
          ]
        },
        {
          "output_type": "stream",
          "name": "stdout",
          "text": [
            "[0.0791544  0.24323255 0.23282868 0.38328046 0.06150391]\n",
            "[ 1 10  7  9  3]\n"
          ]
        },
        {
          "output_type": "stream",
          "name": "stderr",
          "text": [
            "\rTraining:  13%|██████▌                                           | 65/500 [00:20<01:45,  4.11it/s]"
          ]
        },
        {
          "output_type": "stream",
          "name": "stdout",
          "text": [
            "[0.0791544  0.24323255 0.23282868 0.38328046 0.06150391]\n",
            "[ 2  6  5 14  3]\n"
          ]
        },
        {
          "output_type": "stream",
          "name": "stderr",
          "text": [
            "\rTraining:  13%|██████▌                                           | 66/500 [00:20<01:45,  4.11it/s]"
          ]
        },
        {
          "output_type": "stream",
          "name": "stdout",
          "text": [
            "[0.0791544  0.24323255 0.23282868 0.38328046 0.06150391]\n",
            "[ 2  6  7 14  1]\n"
          ]
        },
        {
          "output_type": "stream",
          "name": "stderr",
          "text": [
            "\rTraining:  13%|██████▋                                           | 67/500 [00:21<01:45,  4.11it/s]"
          ]
        },
        {
          "output_type": "stream",
          "name": "stdout",
          "text": [
            "[0.0791544  0.24323255 0.23282868 0.38328046 0.06150391]\n",
            "[ 2  6  7 14  1]\n"
          ]
        },
        {
          "output_type": "stream",
          "name": "stderr",
          "text": [
            "\rTraining:  14%|██████▊                                           | 68/500 [00:21<01:43,  4.18it/s]"
          ]
        },
        {
          "output_type": "stream",
          "name": "stdout",
          "text": [
            "[0.0791544  0.24323255 0.23282868 0.38328046 0.06150391]\n",
            "[ 0 10  8  9  3]\n"
          ]
        },
        {
          "output_type": "stream",
          "name": "stderr",
          "text": [
            "\rTraining:  14%|██████▉                                           | 69/500 [00:21<01:42,  4.19it/s]"
          ]
        },
        {
          "output_type": "stream",
          "name": "stdout",
          "text": [
            "[0.0791544  0.24323255 0.23282868 0.38328046 0.06150391]\n",
            "[3 6 8 8 5]\n"
          ]
        },
        {
          "output_type": "stream",
          "name": "stderr",
          "text": [
            "\rTraining:  14%|███████                                           | 70/500 [00:21<01:43,  4.16it/s]"
          ]
        },
        {
          "output_type": "stream",
          "name": "stdout",
          "text": [
            "[0.0791544  0.24323255 0.23282868 0.38328046 0.06150391]\n",
            "[ 2  8  5 13  2]\n"
          ]
        },
        {
          "output_type": "stream",
          "name": "stderr",
          "text": [
            "\rTraining:  14%|███████                                           | 71/500 [00:22<01:46,  4.02it/s]"
          ]
        },
        {
          "output_type": "stream",
          "name": "stdout",
          "text": [
            "[0.0791544  0.24323255 0.23282868 0.38328046 0.06150391]\n",
            "[ 0 10  7 13  0]\n"
          ]
        },
        {
          "output_type": "stream",
          "name": "stderr",
          "text": [
            "\rTraining:  14%|███████▏                                          | 72/500 [00:22<01:45,  4.06it/s]"
          ]
        },
        {
          "output_type": "stream",
          "name": "stdout",
          "text": [
            "[0.0791544  0.24323255 0.23282868 0.38328046 0.06150391]\n",
            "[ 3  7  7 12  1]\n"
          ]
        },
        {
          "output_type": "stream",
          "name": "stderr",
          "text": [
            "\rTraining:  15%|███████▎                                          | 73/500 [00:22<01:46,  4.00it/s]"
          ]
        },
        {
          "output_type": "stream",
          "name": "stdout",
          "text": [
            "[0.0791544  0.24323255 0.23282868 0.38328046 0.06150391]\n",
            "[ 2  7  7 10  4]\n"
          ]
        },
        {
          "output_type": "stream",
          "name": "stderr",
          "text": [
            "\rTraining:  15%|███████▍                                          | 74/500 [00:22<01:47,  3.95it/s]"
          ]
        },
        {
          "output_type": "stream",
          "name": "stdout",
          "text": [
            "[0.0791544  0.24323255 0.23282868 0.38328046 0.06150391]\n",
            "[ 2  5  5 15  3]\n"
          ]
        },
        {
          "output_type": "stream",
          "name": "stderr",
          "text": [
            "\rTraining:  15%|███████▌                                          | 75/500 [00:23<01:48,  3.90it/s]"
          ]
        },
        {
          "output_type": "stream",
          "name": "stdout",
          "text": [
            "[0.0791544  0.24323255 0.23282868 0.38328046 0.06150391]\n",
            "[ 1  7  8 11  3]\n"
          ]
        },
        {
          "output_type": "stream",
          "name": "stderr",
          "text": [
            "\rTraining:  15%|███████▌                                          | 76/500 [00:23<01:48,  3.89it/s]"
          ]
        },
        {
          "output_type": "stream",
          "name": "stdout",
          "text": [
            "[0.0791544  0.24323255 0.23282868 0.38328046 0.06150391]\n",
            "[ 4  3  6 15  2]\n"
          ]
        },
        {
          "output_type": "stream",
          "name": "stderr",
          "text": [
            "\rTraining:  15%|███████▋                                          | 77/500 [00:23<01:47,  3.95it/s]"
          ]
        },
        {
          "output_type": "stream",
          "name": "stdout",
          "text": [
            "[0.0791544  0.24323255 0.23282868 0.38328046 0.06150391]\n",
            "[ 5 13  3  9  0]\n"
          ]
        },
        {
          "output_type": "stream",
          "name": "stderr",
          "text": [
            "\rTraining:  16%|███████▊                                          | 78/500 [00:23<01:47,  3.91it/s]"
          ]
        },
        {
          "output_type": "stream",
          "name": "stdout",
          "text": [
            "[0.0791544  0.24323255 0.23282868 0.38328046 0.06150391]\n",
            "[ 2  6  9 11  2]\n"
          ]
        },
        {
          "output_type": "stream",
          "name": "stderr",
          "text": [
            "\rTraining:  16%|███████▉                                          | 79/500 [00:24<01:50,  3.82it/s]"
          ]
        },
        {
          "output_type": "stream",
          "name": "stdout",
          "text": [
            "[0.0791544  0.24323255 0.23282868 0.38328046 0.06150391]\n",
            "[ 4  4  8 14  0]\n"
          ]
        },
        {
          "output_type": "stream",
          "name": "stderr",
          "text": [
            "\rTraining:  16%|████████                                          | 80/500 [00:24<01:47,  3.92it/s]"
          ]
        },
        {
          "output_type": "stream",
          "name": "stdout",
          "text": [
            "[0.0791544  0.24323255 0.23282868 0.38328046 0.06150391]\n",
            "[1 8 9 9 3]\n"
          ]
        },
        {
          "output_type": "stream",
          "name": "stderr",
          "text": [
            "\rTraining:  16%|████████                                          | 81/500 [00:24<01:43,  4.04it/s]"
          ]
        },
        {
          "output_type": "stream",
          "name": "stdout",
          "text": [
            "[0.0791544  0.24323255 0.23282868 0.38328046 0.06150391]\n",
            "[ 3  8  6 10  3]\n"
          ]
        },
        {
          "output_type": "stream",
          "name": "stderr",
          "text": [
            "\rTraining:  16%|████████▏                                         | 82/500 [00:24<01:43,  4.03it/s]"
          ]
        },
        {
          "output_type": "stream",
          "name": "stdout",
          "text": [
            "[0.0791544  0.24323255 0.23282868 0.38328046 0.06150391]\n",
            "[ 2  7  8 12  1]\n"
          ]
        },
        {
          "output_type": "stream",
          "name": "stderr",
          "text": [
            "\rTraining:  17%|████████▎                                         | 83/500 [00:25<01:43,  4.01it/s]"
          ]
        },
        {
          "output_type": "stream",
          "name": "stdout",
          "text": [
            "[0.0791544  0.24323255 0.23282868 0.38328046 0.06150391]\n",
            "[ 3  7  6 12  2]\n"
          ]
        },
        {
          "output_type": "stream",
          "name": "stderr",
          "text": [
            "\rTraining:  17%|████████▍                                         | 84/500 [00:25<01:41,  4.09it/s]"
          ]
        },
        {
          "output_type": "stream",
          "name": "stdout",
          "text": [
            "[0.0791544  0.24323255 0.23282868 0.38328046 0.06150391]\n",
            "[ 3  6  6 14  1]\n"
          ]
        },
        {
          "output_type": "stream",
          "name": "stderr",
          "text": [
            "\rTraining:  17%|████████▌                                         | 85/500 [00:25<01:42,  4.04it/s]"
          ]
        },
        {
          "output_type": "stream",
          "name": "stdout",
          "text": [
            "[0.0791544  0.24323255 0.23282868 0.38328046 0.06150391]\n",
            "[ 4  5  5 14  2]\n"
          ]
        },
        {
          "output_type": "stream",
          "name": "stderr",
          "text": [
            "\rTraining:  17%|████████▌                                         | 86/500 [00:25<01:43,  3.99it/s]"
          ]
        },
        {
          "output_type": "stream",
          "name": "stdout",
          "text": [
            "[0.0791544  0.24323255 0.23282868 0.38328046 0.06150391]\n",
            "[ 1  9  8 10  2]\n"
          ]
        },
        {
          "output_type": "stream",
          "name": "stderr",
          "text": [
            "\rTraining:  17%|████████▋                                         | 87/500 [00:26<01:45,  3.92it/s]"
          ]
        },
        {
          "output_type": "stream",
          "name": "stdout",
          "text": [
            "[0.0791544  0.24323255 0.23282868 0.38328046 0.06150391]\n",
            "[ 0 11  6 10  3]\n"
          ]
        },
        {
          "output_type": "stream",
          "name": "stderr",
          "text": [
            "\rTraining:  18%|████████▊                                         | 88/500 [00:26<01:45,  3.89it/s]"
          ]
        },
        {
          "output_type": "stream",
          "name": "stdout",
          "text": [
            "[0.0791544  0.24323255 0.23282868 0.38328046 0.06150391]\n",
            "[7 6 7 8 2]\n"
          ]
        },
        {
          "output_type": "stream",
          "name": "stderr",
          "text": [
            "\rTraining:  18%|████████▉                                         | 89/500 [00:26<01:43,  3.96it/s]"
          ]
        },
        {
          "output_type": "stream",
          "name": "stdout",
          "text": [
            "[0.0791544  0.24323255 0.23282868 0.38328046 0.06150391]\n",
            "[ 4  8  6 11  1]\n"
          ]
        },
        {
          "output_type": "stream",
          "name": "stderr",
          "text": [
            "\rTraining:  18%|█████████                                         | 90/500 [00:26<01:40,  4.07it/s]"
          ]
        },
        {
          "output_type": "stream",
          "name": "stdout",
          "text": [
            "[0.0791544  0.24323255 0.23282868 0.38328046 0.06150391]\n",
            "[ 2  8 11  8  1]\n"
          ]
        },
        {
          "output_type": "stream",
          "name": "stderr",
          "text": [
            "\rTraining:  18%|█████████                                         | 91/500 [00:27<01:43,  3.97it/s]"
          ]
        },
        {
          "output_type": "stream",
          "name": "stdout",
          "text": [
            "[0.0791544  0.24323255 0.23282868 0.38328046 0.06150391]\n",
            "[ 1  8  9 12  0]\n"
          ]
        },
        {
          "output_type": "stream",
          "name": "stderr",
          "text": [
            "\rTraining:  18%|█████████▏                                        | 92/500 [00:27<01:42,  3.96it/s]"
          ]
        },
        {
          "output_type": "stream",
          "name": "stdout",
          "text": [
            "[0.0791544  0.24323255 0.23282868 0.38328046 0.06150391]\n",
            "[ 0  9  8 13  0]\n"
          ]
        },
        {
          "output_type": "stream",
          "name": "stderr",
          "text": [
            "\rTraining:  19%|█████████▎                                        | 93/500 [00:27<01:39,  4.08it/s]"
          ]
        },
        {
          "output_type": "stream",
          "name": "stdout",
          "text": [
            "[0.0791544  0.24323255 0.23282868 0.38328046 0.06150391]\n",
            "[ 3  5  7 13  2]\n"
          ]
        },
        {
          "output_type": "stream",
          "name": "stderr",
          "text": [
            "\rTraining:  19%|█████████▍                                        | 94/500 [00:27<01:39,  4.08it/s]"
          ]
        },
        {
          "output_type": "stream",
          "name": "stdout",
          "text": [
            "[0.0791544  0.24323255 0.23282868 0.38328046 0.06150391]\n",
            "[1 9 8 9 3]\n"
          ]
        },
        {
          "output_type": "stream",
          "name": "stderr",
          "text": [
            "\rTraining:  19%|█████████▌                                        | 95/500 [00:28<01:38,  4.09it/s]"
          ]
        },
        {
          "output_type": "stream",
          "name": "stdout",
          "text": [
            "[0.0791544  0.24323255 0.23282868 0.38328046 0.06150391]\n",
            "[ 2  6  4 15  3]\n"
          ]
        },
        {
          "output_type": "stream",
          "name": "stderr",
          "text": [
            "\rTraining:  19%|█████████▌                                        | 96/500 [00:28<01:40,  4.00it/s]"
          ]
        },
        {
          "output_type": "stream",
          "name": "stdout",
          "text": [
            "[0.0791544  0.24323255 0.23282868 0.38328046 0.06150391]\n",
            "[ 1  6  6 16  1]\n"
          ]
        },
        {
          "output_type": "stream",
          "name": "stderr",
          "text": [
            "\rTraining:  19%|█████████▋                                        | 97/500 [00:28<01:41,  3.96it/s]"
          ]
        },
        {
          "output_type": "stream",
          "name": "stdout",
          "text": [
            "[0.0791544  0.24323255 0.23282868 0.38328046 0.06150391]\n",
            "[ 2  6  6 13  3]\n"
          ]
        },
        {
          "output_type": "stream",
          "name": "stderr",
          "text": [
            "\rTraining:  20%|█████████▊                                        | 98/500 [00:28<01:42,  3.94it/s]"
          ]
        },
        {
          "output_type": "stream",
          "name": "stdout",
          "text": [
            "[0.0791544  0.24323255 0.23282868 0.38328046 0.06150391]\n",
            "[ 2 10  6 12  0]\n"
          ]
        },
        {
          "output_type": "stream",
          "name": "stderr",
          "text": [
            "\rTraining:  20%|█████████▉                                        | 99/500 [00:29<01:41,  3.93it/s]"
          ]
        },
        {
          "output_type": "stream",
          "name": "stdout",
          "text": [
            "[0.0791544  0.24323255 0.23282868 0.38328046 0.06150391]\n",
            "[ 4  2 12  9  3]\n"
          ]
        },
        {
          "output_type": "stream",
          "name": "stderr",
          "text": [
            "\rTraining:  20%|██████████                                        | 100/500 [00:29<01:41,  3.93it/s]"
          ]
        },
        {
          "output_type": "stream",
          "name": "stdout",
          "text": [
            "[0.0791544  0.24323255 0.23282868 0.38328046 0.06150391]\n",
            "[ 2  6  7 13  2]\n"
          ]
        },
        {
          "output_type": "stream",
          "name": "stderr",
          "text": [
            "\rTraining:  20%|██████████                                        | 101/500 [00:29<01:39,  4.01it/s]"
          ]
        },
        {
          "output_type": "stream",
          "name": "stdout",
          "text": [
            "[0.0791544  0.24323255 0.23282868 0.38328046 0.06150391]\n",
            "[ 2  6  7 10  5]\n"
          ]
        },
        {
          "output_type": "stream",
          "name": "stderr",
          "text": [
            "\rTraining:  20%|██████████▏                                       | 102/500 [00:29<01:37,  4.07it/s]"
          ]
        },
        {
          "output_type": "stream",
          "name": "stdout",
          "text": [
            "[0.0791544  0.24323255 0.23282868 0.38328046 0.06150391]\n",
            "[ 4  6  4 15  1]\n"
          ]
        },
        {
          "output_type": "stream",
          "name": "stderr",
          "text": [
            "\rTraining:  21%|██████████▎                                       | 103/500 [00:30<01:39,  3.99it/s]"
          ]
        },
        {
          "output_type": "stream",
          "name": "stdout",
          "text": [
            "[0.0791544  0.24323255 0.23282868 0.38328046 0.06150391]\n",
            "[ 3  9  3 15  0]\n"
          ]
        },
        {
          "output_type": "stream",
          "name": "stderr",
          "text": [
            "\rTraining:  21%|██████████▍                                       | 104/500 [00:30<01:41,  3.92it/s]"
          ]
        },
        {
          "output_type": "stream",
          "name": "stdout",
          "text": [
            "[0.0791544  0.24323255 0.23282868 0.38328046 0.06150391]\n",
            "[ 4  4  9 11  2]\n"
          ]
        },
        {
          "output_type": "stream",
          "name": "stderr",
          "text": [
            "\rTraining:  21%|██████████▌                                       | 105/500 [00:30<01:40,  3.94it/s]"
          ]
        },
        {
          "output_type": "stream",
          "name": "stdout",
          "text": [
            "[0.0791544  0.24323255 0.23282868 0.38328046 0.06150391]\n",
            "[ 2  8  8 10  2]\n"
          ]
        },
        {
          "output_type": "stream",
          "name": "stderr",
          "text": [
            "\rTraining:  21%|██████████▌                                       | 106/500 [00:30<01:41,  3.89it/s]"
          ]
        },
        {
          "output_type": "stream",
          "name": "stdout",
          "text": [
            "[0.0791544  0.24323255 0.23282868 0.38328046 0.06150391]\n",
            "[ 1 11  5 13  0]\n"
          ]
        },
        {
          "output_type": "stream",
          "name": "stderr",
          "text": [
            "\rTraining:  21%|██████████▋                                       | 107/500 [00:31<01:40,  3.91it/s]"
          ]
        },
        {
          "output_type": "stream",
          "name": "stdout",
          "text": [
            "[0.0791544  0.24323255 0.23282868 0.38328046 0.06150391]\n",
            "[ 0  5  7 15  3]\n"
          ]
        },
        {
          "output_type": "stream",
          "name": "stderr",
          "text": [
            "\rTraining:  22%|██████████▊                                       | 108/500 [00:31<01:40,  3.90it/s]"
          ]
        },
        {
          "output_type": "stream",
          "name": "stdout",
          "text": [
            "[0.0791544  0.24323255 0.23282868 0.38328046 0.06150391]\n",
            "[ 3  7  5 15  0]\n"
          ]
        },
        {
          "output_type": "stream",
          "name": "stderr",
          "text": [
            "\rTraining:  22%|██████████▉                                       | 109/500 [00:31<01:39,  3.95it/s]"
          ]
        },
        {
          "output_type": "stream",
          "name": "stdout",
          "text": [
            "[0.0791544  0.24323255 0.23282868 0.38328046 0.06150391]\n",
            "[ 2  9  3 15  1]\n"
          ]
        },
        {
          "output_type": "stream",
          "name": "stderr",
          "text": [
            "\rTraining:  22%|███████████                                       | 110/500 [00:31<01:37,  4.00it/s]"
          ]
        },
        {
          "output_type": "stream",
          "name": "stdout",
          "text": [
            "[0.0791544  0.24323255 0.23282868 0.38328046 0.06150391]\n",
            "[ 2  6  7 12  3]\n"
          ]
        },
        {
          "output_type": "stream",
          "name": "stderr",
          "text": [
            "\rTraining:  22%|███████████                                       | 111/500 [00:32<01:38,  3.94it/s]"
          ]
        },
        {
          "output_type": "stream",
          "name": "stdout",
          "text": [
            "[0.0791544  0.24323255 0.23282868 0.38328046 0.06150391]\n",
            "[ 1  9  8 12  0]\n"
          ]
        },
        {
          "output_type": "stream",
          "name": "stderr",
          "text": [
            "\rTraining:  22%|███████████▏                                      | 112/500 [00:32<01:37,  3.97it/s]"
          ]
        },
        {
          "output_type": "stream",
          "name": "stdout",
          "text": [
            "[0.0791544  0.24323255 0.23282868 0.38328046 0.06150391]\n",
            "[ 1  5 10 11  3]\n"
          ]
        },
        {
          "output_type": "stream",
          "name": "stderr",
          "text": [
            "\rTraining:  23%|███████████▎                                      | 113/500 [00:32<01:39,  3.91it/s]"
          ]
        },
        {
          "output_type": "stream",
          "name": "stdout",
          "text": [
            "[0.0791544  0.24323255 0.23282868 0.38328046 0.06150391]\n",
            "[ 3  4  7 12  4]\n"
          ]
        },
        {
          "output_type": "stream",
          "name": "stderr",
          "text": [
            "\rTraining:  23%|███████████▍                                      | 114/500 [00:32<01:39,  3.88it/s]"
          ]
        },
        {
          "output_type": "stream",
          "name": "stdout",
          "text": [
            "[0.0791544  0.24323255 0.23282868 0.38328046 0.06150391]\n",
            "[ 0  5  7 16  2]\n"
          ]
        },
        {
          "output_type": "stream",
          "name": "stderr",
          "text": [
            "\rTraining:  23%|███████████▌                                      | 115/500 [00:33<01:38,  3.89it/s]"
          ]
        },
        {
          "output_type": "stream",
          "name": "stdout",
          "text": [
            "[0.0791544  0.24323255 0.23282868 0.38328046 0.06150391]\n",
            "[ 2  8  5 13  2]\n"
          ]
        },
        {
          "output_type": "stream",
          "name": "stderr",
          "text": [
            "\rTraining:  23%|███████████▌                                      | 116/500 [00:33<01:38,  3.89it/s]"
          ]
        },
        {
          "output_type": "stream",
          "name": "stdout",
          "text": [
            "[0.0791544  0.24323255 0.23282868 0.38328046 0.06150391]\n",
            "[ 1  8  7 13  1]\n"
          ]
        },
        {
          "output_type": "stream",
          "name": "stderr",
          "text": [
            "\rTraining:  23%|███████████▋                                      | 117/500 [00:33<01:35,  4.00it/s]"
          ]
        },
        {
          "output_type": "stream",
          "name": "stdout",
          "text": [
            "[0.0791544  0.24323255 0.23282868 0.38328046 0.06150391]\n",
            "[ 2  7  7 12  2]\n"
          ]
        },
        {
          "output_type": "stream",
          "name": "stderr",
          "text": [
            "\rTraining:  24%|███████████▊                                      | 118/500 [00:33<01:34,  4.02it/s]"
          ]
        },
        {
          "output_type": "stream",
          "name": "stdout",
          "text": [
            "[0.0791544  0.24323255 0.23282868 0.38328046 0.06150391]\n",
            "[ 3  5  7 13  2]\n"
          ]
        },
        {
          "output_type": "stream",
          "name": "stderr",
          "text": [
            "\rTraining:  24%|███████████▉                                      | 119/500 [00:34<01:34,  4.05it/s]"
          ]
        },
        {
          "output_type": "stream",
          "name": "stdout",
          "text": [
            "[0.0791544  0.24323255 0.23282868 0.38328046 0.06150391]\n",
            "[ 1  8  6 11  4]\n"
          ]
        },
        {
          "output_type": "stream",
          "name": "stderr",
          "text": [
            "\rTraining:  24%|████████████                                      | 120/500 [00:34<01:34,  4.03it/s]"
          ]
        },
        {
          "output_type": "stream",
          "name": "stdout",
          "text": [
            "[0.0791544  0.24323255 0.23282868 0.38328046 0.06150391]\n",
            "[ 3  4  7 14  2]\n"
          ]
        },
        {
          "output_type": "stream",
          "name": "stderr",
          "text": [
            "\rTraining:  24%|████████████                                      | 121/500 [00:34<01:34,  4.02it/s]"
          ]
        },
        {
          "output_type": "stream",
          "name": "stdout",
          "text": [
            "[0.0791544  0.24323255 0.23282868 0.38328046 0.06150391]\n",
            "[ 6 11  5  7  1]\n"
          ]
        },
        {
          "output_type": "stream",
          "name": "stderr",
          "text": [
            "\rTraining:  24%|████████████▏                                     | 122/500 [00:34<01:33,  4.03it/s]"
          ]
        },
        {
          "output_type": "stream",
          "name": "stdout",
          "text": [
            "[0.0791544  0.24323255 0.23282868 0.38328046 0.06150391]\n",
            "[ 4  8  4 10  4]\n"
          ]
        },
        {
          "output_type": "stream",
          "name": "stderr",
          "text": [
            "\rTraining:  25%|████████████▎                                     | 123/500 [00:35<01:33,  4.04it/s]"
          ]
        },
        {
          "output_type": "stream",
          "name": "stdout",
          "text": [
            "[0.0791544  0.24323255 0.23282868 0.38328046 0.06150391]\n",
            "[ 1  3  4 19  3]\n"
          ]
        },
        {
          "output_type": "stream",
          "name": "stderr",
          "text": [
            "\rTraining:  25%|████████████▍                                     | 124/500 [00:35<01:36,  3.89it/s]"
          ]
        },
        {
          "output_type": "stream",
          "name": "stdout",
          "text": [
            "[0.0791544  0.24323255 0.23282868 0.38328046 0.06150391]\n",
            "[ 2  5  4 18  1]\n"
          ]
        },
        {
          "output_type": "stream",
          "name": "stderr",
          "text": [
            "\rTraining:  25%|████████████▌                                     | 125/500 [00:35<01:36,  3.88it/s]"
          ]
        },
        {
          "output_type": "stream",
          "name": "stdout",
          "text": [
            "[0.0791544  0.24323255 0.23282868 0.38328046 0.06150391]\n",
            "[ 2  6  5 13  4]\n"
          ]
        },
        {
          "output_type": "stream",
          "name": "stderr",
          "text": [
            "\rTraining:  25%|████████████▌                                     | 126/500 [00:35<01:35,  3.94it/s]"
          ]
        },
        {
          "output_type": "stream",
          "name": "stdout",
          "text": [
            "[0.0791544  0.24323255 0.23282868 0.38328046 0.06150391]\n",
            "[ 0  7  4 18  1]\n"
          ]
        },
        {
          "output_type": "stream",
          "name": "stderr",
          "text": [
            "\rTraining:  25%|████████████▋                                     | 127/500 [00:36<01:34,  3.94it/s]"
          ]
        },
        {
          "output_type": "stream",
          "name": "stdout",
          "text": [
            "[0.0791544  0.24323255 0.23282868 0.38328046 0.06150391]\n",
            "[ 1  9  4 14  2]\n"
          ]
        },
        {
          "output_type": "stream",
          "name": "stderr",
          "text": [
            "\rTraining:  26%|████████████▊                                     | 128/500 [00:36<01:36,  3.85it/s]"
          ]
        },
        {
          "output_type": "stream",
          "name": "stdout",
          "text": [
            "[0.0791544  0.24323255 0.23282868 0.38328046 0.06150391]\n",
            "[5 9 8 6 2]\n"
          ]
        },
        {
          "output_type": "stream",
          "name": "stderr",
          "text": [
            "\rTraining:  26%|████████████▉                                     | 129/500 [00:36<01:35,  3.90it/s]"
          ]
        },
        {
          "output_type": "stream",
          "name": "stdout",
          "text": [
            "[0.0791544  0.24323255 0.23282868 0.38328046 0.06150391]\n",
            "[2 9 9 8 2]\n"
          ]
        },
        {
          "output_type": "stream",
          "name": "stderr",
          "text": [
            "\rTraining:  26%|█████████████                                     | 130/500 [00:36<01:34,  3.90it/s]"
          ]
        },
        {
          "output_type": "stream",
          "name": "stdout",
          "text": [
            "[0.0791544  0.24323255 0.23282868 0.38328046 0.06150391]\n",
            "[ 3 12  4 10  1]\n"
          ]
        },
        {
          "output_type": "stream",
          "name": "stderr",
          "text": [
            "\rTraining:  26%|█████████████                                     | 131/500 [00:37<01:35,  3.87it/s]"
          ]
        },
        {
          "output_type": "stream",
          "name": "stdout",
          "text": [
            "[0.0791544  0.24323255 0.23282868 0.38328046 0.06150391]\n",
            "[ 3  7  7 11  2]\n"
          ]
        },
        {
          "output_type": "stream",
          "name": "stderr",
          "text": [
            "\rTraining:  26%|█████████████▏                                    | 132/500 [00:37<01:35,  3.85it/s]"
          ]
        },
        {
          "output_type": "stream",
          "name": "stdout",
          "text": [
            "[0.0791544  0.24323255 0.23282868 0.38328046 0.06150391]\n",
            "[ 3  9  6 10  2]\n"
          ]
        },
        {
          "output_type": "stream",
          "name": "stderr",
          "text": [
            "\rTraining:  27%|█████████████▎                                    | 133/500 [00:37<01:35,  3.86it/s]"
          ]
        },
        {
          "output_type": "stream",
          "name": "stdout",
          "text": [
            "[0.0791544  0.24323255 0.23282868 0.38328046 0.06150391]\n",
            "[ 2  6  9 12  1]\n"
          ]
        },
        {
          "output_type": "stream",
          "name": "stderr",
          "text": [
            "\rTraining:  27%|█████████████▍                                    | 134/500 [00:37<01:35,  3.82it/s]"
          ]
        },
        {
          "output_type": "stream",
          "name": "stdout",
          "text": [
            "[0.0791544  0.24323255 0.23282868 0.38328046 0.06150391]\n",
            "[ 2 10  6  9  3]\n"
          ]
        },
        {
          "output_type": "stream",
          "name": "stderr",
          "text": [
            "\rTraining:  27%|█████████████▌                                    | 135/500 [00:38<01:34,  3.88it/s]"
          ]
        },
        {
          "output_type": "stream",
          "name": "stdout",
          "text": [
            "[0.0791544  0.24323255 0.23282868 0.38328046 0.06150391]\n",
            "[ 4  4 10 12  0]\n"
          ]
        },
        {
          "output_type": "stream",
          "name": "stderr",
          "text": [
            "\rTraining:  27%|█████████████▌                                    | 136/500 [00:38<01:33,  3.91it/s]"
          ]
        },
        {
          "output_type": "stream",
          "name": "stdout",
          "text": [
            "[0.0791544  0.24323255 0.23282868 0.38328046 0.06150391]\n",
            "[ 4  6 11  9  0]\n"
          ]
        },
        {
          "output_type": "stream",
          "name": "stderr",
          "text": [
            "\rTraining:  27%|█████████████▋                                    | 137/500 [00:38<01:31,  3.99it/s]"
          ]
        },
        {
          "output_type": "stream",
          "name": "stdout",
          "text": [
            "[0.0791544  0.24323255 0.23282868 0.38328046 0.06150391]\n",
            "[ 4  7  4 14  1]\n"
          ]
        },
        {
          "output_type": "stream",
          "name": "stderr",
          "text": [
            "\rTraining:  28%|█████████████▊                                    | 138/500 [00:38<01:29,  4.03it/s]"
          ]
        },
        {
          "output_type": "stream",
          "name": "stdout",
          "text": [
            "[0.0791544  0.24323255 0.23282868 0.38328046 0.06150391]\n",
            "[ 2  7  6 14  1]\n"
          ]
        },
        {
          "output_type": "stream",
          "name": "stderr",
          "text": [
            "\rTraining:  28%|█████████████▉                                    | 139/500 [00:39<01:31,  3.96it/s]"
          ]
        },
        {
          "output_type": "stream",
          "name": "stdout",
          "text": [
            "[0.0791544  0.24323255 0.23282868 0.38328046 0.06150391]\n",
            "[ 1  9  4 14  2]\n"
          ]
        },
        {
          "output_type": "stream",
          "name": "stderr",
          "text": [
            "\rTraining:  28%|██████████████                                    | 140/500 [00:39<01:34,  3.82it/s]"
          ]
        },
        {
          "output_type": "stream",
          "name": "stdout",
          "text": [
            "[0.0791544  0.24323255 0.23282868 0.38328046 0.06150391]\n",
            "[ 3  5  7 12  3]\n"
          ]
        },
        {
          "output_type": "stream",
          "name": "stderr",
          "text": [
            "\rTraining:  28%|██████████████                                    | 141/500 [00:39<01:33,  3.85it/s]"
          ]
        },
        {
          "output_type": "stream",
          "name": "stdout",
          "text": [
            "[0.0791544  0.24323255 0.23282868 0.38328046 0.06150391]\n",
            "[ 1  8  5 16  0]\n"
          ]
        },
        {
          "output_type": "stream",
          "name": "stderr",
          "text": [
            "\rTraining:  28%|██████████████▏                                   | 142/500 [00:40<01:33,  3.85it/s]"
          ]
        },
        {
          "output_type": "stream",
          "name": "stdout",
          "text": [
            "[0.0791544  0.24323255 0.23282868 0.38328046 0.06150391]\n",
            "[ 4 10  4  7  5]\n"
          ]
        },
        {
          "output_type": "stream",
          "name": "stderr",
          "text": [
            "\rTraining:  29%|██████████████▎                                   | 143/500 [00:40<01:32,  3.85it/s]"
          ]
        },
        {
          "output_type": "stream",
          "name": "stdout",
          "text": [
            "[0.0791544  0.24323255 0.23282868 0.38328046 0.06150391]\n",
            "[4 6 9 8 3]\n"
          ]
        },
        {
          "output_type": "stream",
          "name": "stderr",
          "text": [
            "\rTraining:  29%|██████████████▍                                   | 144/500 [00:40<01:32,  3.83it/s]"
          ]
        },
        {
          "output_type": "stream",
          "name": "stdout",
          "text": [
            "[0.0791544  0.24323255 0.23282868 0.38328046 0.06150391]\n",
            "[ 2  8  2 15  3]\n"
          ]
        },
        {
          "output_type": "stream",
          "name": "stderr",
          "text": [
            "\rTraining:  29%|██████████████▍                                   | 145/500 [00:40<01:32,  3.84it/s]"
          ]
        },
        {
          "output_type": "stream",
          "name": "stdout",
          "text": [
            "[0.0791544  0.24323255 0.23282868 0.38328046 0.06150391]\n",
            "[ 2  6  6 13  3]\n"
          ]
        },
        {
          "output_type": "stream",
          "name": "stderr",
          "text": [
            "\rTraining:  29%|██████████████▌                                   | 146/500 [00:41<01:30,  3.92it/s]"
          ]
        },
        {
          "output_type": "stream",
          "name": "stdout",
          "text": [
            "[0.0791544  0.24323255 0.23282868 0.38328046 0.06150391]\n",
            "[ 2  7  3 16  2]\n"
          ]
        },
        {
          "output_type": "stream",
          "name": "stderr",
          "text": [
            "\rTraining:  29%|██████████████▋                                   | 147/500 [00:41<01:28,  3.99it/s]"
          ]
        },
        {
          "output_type": "stream",
          "name": "stdout",
          "text": [
            "[0.0791544  0.24323255 0.23282868 0.38328046 0.06150391]\n",
            "[5 8 6 9 2]\n"
          ]
        },
        {
          "output_type": "stream",
          "name": "stderr",
          "text": [
            "\rTraining:  30%|██████████████▊                                   | 148/500 [00:41<01:27,  4.02it/s]"
          ]
        },
        {
          "output_type": "stream",
          "name": "stdout",
          "text": [
            "[0.0791544  0.24323255 0.23282868 0.38328046 0.06150391]\n",
            "[ 3  8 11  5  3]\n"
          ]
        },
        {
          "output_type": "stream",
          "name": "stderr",
          "text": [
            "\rTraining:  30%|██████████████▉                                   | 149/500 [00:41<01:27,  4.02it/s]"
          ]
        },
        {
          "output_type": "stream",
          "name": "stdout",
          "text": [
            "[0.0791544  0.24323255 0.23282868 0.38328046 0.06150391]\n",
            "[ 0  6  5 19  0]\n"
          ]
        },
        {
          "output_type": "stream",
          "name": "stderr",
          "text": [
            "\rTraining:  30%|███████████████                                   | 150/500 [00:42<01:27,  3.99it/s]"
          ]
        },
        {
          "output_type": "stream",
          "name": "stdout",
          "text": [
            "[0.0791544  0.24323255 0.23282868 0.38328046 0.06150391]\n",
            "[6 7 9 7 1]\n"
          ]
        },
        {
          "output_type": "stream",
          "name": "stderr",
          "text": [
            "\rTraining:  30%|███████████████                                   | 151/500 [00:42<01:26,  4.01it/s]"
          ]
        },
        {
          "output_type": "stream",
          "name": "stdout",
          "text": [
            "[0.0791544  0.24323255 0.23282868 0.38328046 0.06150391]\n",
            "[ 2  4  8 15  1]\n"
          ]
        },
        {
          "output_type": "stream",
          "name": "stderr",
          "text": [
            "\rTraining:  30%|███████████████▏                                  | 152/500 [00:42<01:26,  4.00it/s]"
          ]
        },
        {
          "output_type": "stream",
          "name": "stdout",
          "text": [
            "[0.0791544  0.24323255 0.23282868 0.38328046 0.06150391]\n",
            "[ 2  7  4 16  1]\n"
          ]
        },
        {
          "output_type": "stream",
          "name": "stderr",
          "text": [
            "\rTraining:  31%|███████████████▎                                  | 153/500 [00:42<01:25,  4.06it/s]"
          ]
        },
        {
          "output_type": "stream",
          "name": "stdout",
          "text": [
            "[0.0791544  0.24323255 0.23282868 0.38328046 0.06150391]\n",
            "[ 1  6  8 12  3]\n"
          ]
        },
        {
          "output_type": "stream",
          "name": "stderr",
          "text": [
            "\rTraining:  31%|███████████████▍                                  | 154/500 [00:42<01:24,  4.10it/s]"
          ]
        },
        {
          "output_type": "stream",
          "name": "stdout",
          "text": [
            "[0.0791544  0.24323255 0.23282868 0.38328046 0.06150391]\n",
            "[ 2  6  5 17  0]\n"
          ]
        },
        {
          "output_type": "stream",
          "name": "stderr",
          "text": [
            "\rTraining:  31%|███████████████▌                                  | 155/500 [00:43<01:24,  4.11it/s]"
          ]
        },
        {
          "output_type": "stream",
          "name": "stdout",
          "text": [
            "[0.0791544  0.24323255 0.23282868 0.38328046 0.06150391]\n",
            "[ 3  4  7 14  2]\n"
          ]
        },
        {
          "output_type": "stream",
          "name": "stderr",
          "text": [
            "\rTraining:  31%|███████████████▌                                  | 156/500 [00:43<01:23,  4.11it/s]"
          ]
        },
        {
          "output_type": "stream",
          "name": "stdout",
          "text": [
            "[0.0791544  0.24323255 0.23282868 0.38328046 0.06150391]\n",
            "[4 8 9 8 1]\n"
          ]
        },
        {
          "output_type": "stream",
          "name": "stderr",
          "text": [
            "\rTraining:  31%|███████████████▋                                  | 157/500 [00:43<01:22,  4.14it/s]"
          ]
        },
        {
          "output_type": "stream",
          "name": "stdout",
          "text": [
            "[0.0791544  0.24323255 0.23282868 0.38328046 0.06150391]\n",
            "[ 5  3  8 13  1]\n"
          ]
        },
        {
          "output_type": "stream",
          "name": "stderr",
          "text": [
            "\rTraining:  32%|███████████████▊                                  | 158/500 [00:43<01:22,  4.13it/s]"
          ]
        },
        {
          "output_type": "stream",
          "name": "stdout",
          "text": [
            "[0.0791544  0.24323255 0.23282868 0.38328046 0.06150391]\n",
            "[ 3  4  8 10  5]\n"
          ]
        },
        {
          "output_type": "stream",
          "name": "stderr",
          "text": [
            "\rTraining:  32%|███████████████▉                                  | 159/500 [00:44<01:22,  4.12it/s]"
          ]
        },
        {
          "output_type": "stream",
          "name": "stdout",
          "text": [
            "[0.0791544  0.24323255 0.23282868 0.38328046 0.06150391]\n",
            "[ 1  8  7 11  3]\n"
          ]
        },
        {
          "output_type": "stream",
          "name": "stderr",
          "text": [
            "\rTraining:  32%|████████████████                                  | 160/500 [00:44<01:22,  4.10it/s]"
          ]
        },
        {
          "output_type": "stream",
          "name": "stdout",
          "text": [
            "[0.0791544  0.24323255 0.23282868 0.38328046 0.06150391]\n",
            "[ 2 10  6 11  1]\n"
          ]
        },
        {
          "output_type": "stream",
          "name": "stderr",
          "text": [
            "\rTraining:  32%|████████████████                                  | 161/500 [00:44<01:22,  4.11it/s]"
          ]
        },
        {
          "output_type": "stream",
          "name": "stdout",
          "text": [
            "[0.0791544  0.24323255 0.23282868 0.38328046 0.06150391]\n",
            "[ 2  8  7 11  2]\n"
          ]
        },
        {
          "output_type": "stream",
          "name": "stderr",
          "text": [
            "\rTraining:  32%|████████████████▏                                 | 162/500 [00:44<01:21,  4.15it/s]"
          ]
        },
        {
          "output_type": "stream",
          "name": "stdout",
          "text": [
            "[0.0791544  0.24323255 0.23282868 0.38328046 0.06150391]\n",
            "[ 3  7  9 11  0]\n"
          ]
        },
        {
          "output_type": "stream",
          "name": "stderr",
          "text": [
            "\rTraining:  33%|████████████████▎                                 | 163/500 [00:45<01:21,  4.14it/s]"
          ]
        },
        {
          "output_type": "stream",
          "name": "stdout",
          "text": [
            "[0.0791544  0.24323255 0.23282868 0.38328046 0.06150391]\n",
            "[ 3  5  8 14  0]\n"
          ]
        },
        {
          "output_type": "stream",
          "name": "stderr",
          "text": [
            "\rTraining:  33%|████████████████▍                                 | 164/500 [00:45<01:21,  4.10it/s]"
          ]
        },
        {
          "output_type": "stream",
          "name": "stdout",
          "text": [
            "[0.0791544  0.24323255 0.23282868 0.38328046 0.06150391]\n",
            "[ 1  8  8 12  1]\n"
          ]
        },
        {
          "output_type": "stream",
          "name": "stderr",
          "text": [
            "\rTraining:  33%|████████████████▌                                 | 165/500 [00:45<01:22,  4.08it/s]"
          ]
        },
        {
          "output_type": "stream",
          "name": "stdout",
          "text": [
            "[0.0791544  0.24323255 0.23282868 0.38328046 0.06150391]\n",
            "[ 3  8  5 12  2]\n"
          ]
        },
        {
          "output_type": "stream",
          "name": "stderr",
          "text": [
            "\rTraining:  33%|████████████████▌                                 | 166/500 [00:45<01:21,  4.08it/s]"
          ]
        },
        {
          "output_type": "stream",
          "name": "stdout",
          "text": [
            "[0.0791544  0.24323255 0.23282868 0.38328046 0.06150391]\n",
            "[ 1  5  8 15  1]\n"
          ]
        },
        {
          "output_type": "stream",
          "name": "stderr",
          "text": [
            "\rTraining:  33%|████████████████▋                                 | 167/500 [00:46<01:22,  4.01it/s]"
          ]
        },
        {
          "output_type": "stream",
          "name": "stdout",
          "text": [
            "[0.0791544  0.24323255 0.23282868 0.38328046 0.06150391]\n",
            "[ 2  6  9 11  2]\n"
          ]
        },
        {
          "output_type": "stream",
          "name": "stderr",
          "text": [
            "\rTraining:  34%|████████████████▊                                 | 168/500 [00:46<01:23,  3.97it/s]"
          ]
        },
        {
          "output_type": "stream",
          "name": "stdout",
          "text": [
            "[0.0791544  0.24323255 0.23282868 0.38328046 0.06150391]\n",
            "[ 2  7 14  7  0]\n"
          ]
        },
        {
          "output_type": "stream",
          "name": "stderr",
          "text": [
            "\rTraining:  34%|████████████████▉                                 | 169/500 [00:46<01:24,  3.90it/s]"
          ]
        },
        {
          "output_type": "stream",
          "name": "stdout",
          "text": [
            "[0.0791544  0.24323255 0.23282868 0.38328046 0.06150391]\n",
            "[ 2  7  9 10  2]\n"
          ]
        },
        {
          "output_type": "stream",
          "name": "stderr",
          "text": [
            "\rTraining:  34%|█████████████████                                 | 170/500 [00:46<01:25,  3.87it/s]"
          ]
        },
        {
          "output_type": "stream",
          "name": "stdout",
          "text": [
            "[0.0791544  0.24323255 0.23282868 0.38328046 0.06150391]\n",
            "[2 9 6 8 5]\n"
          ]
        },
        {
          "output_type": "stream",
          "name": "stderr",
          "text": [
            "\rTraining:  34%|█████████████████                                 | 171/500 [00:47<01:25,  3.85it/s]"
          ]
        },
        {
          "output_type": "stream",
          "name": "stdout",
          "text": [
            "[0.0791544  0.24323255 0.23282868 0.38328046 0.06150391]\n",
            "[ 2  8  5 14  1]\n"
          ]
        },
        {
          "output_type": "stream",
          "name": "stderr",
          "text": [
            "\rTraining:  34%|█████████████████▏                                | 172/500 [00:47<01:25,  3.82it/s]"
          ]
        },
        {
          "output_type": "stream",
          "name": "stdout",
          "text": [
            "[0.0791544  0.24323255 0.23282868 0.38328046 0.06150391]\n",
            "[3 8 6 9 4]\n"
          ]
        },
        {
          "output_type": "stream",
          "name": "stderr",
          "text": [
            "\rTraining:  35%|█████████████████▎                                | 173/500 [00:47<01:25,  3.80it/s]"
          ]
        },
        {
          "output_type": "stream",
          "name": "stdout",
          "text": [
            "[0.0791544  0.24323255 0.23282868 0.38328046 0.06150391]\n",
            "[ 0  7  8 15  0]\n"
          ]
        },
        {
          "output_type": "stream",
          "name": "stderr",
          "text": [
            "\rTraining:  35%|█████████████████▍                                | 174/500 [00:48<01:25,  3.83it/s]"
          ]
        },
        {
          "output_type": "stream",
          "name": "stdout",
          "text": [
            "[0.0791544  0.24323255 0.23282868 0.38328046 0.06150391]\n",
            "[ 2  5  7 13  3]\n"
          ]
        },
        {
          "output_type": "stream",
          "name": "stderr",
          "text": [
            "\rTraining:  35%|█████████████████▌                                | 175/500 [00:48<01:25,  3.82it/s]"
          ]
        },
        {
          "output_type": "stream",
          "name": "stdout",
          "text": [
            "[0.0791544  0.24323255 0.23282868 0.38328046 0.06150391]\n",
            "[ 2  6  9 12  1]\n"
          ]
        },
        {
          "output_type": "stream",
          "name": "stderr",
          "text": [
            "\rTraining:  35%|█████████████████▌                                | 176/500 [00:48<01:25,  3.80it/s]"
          ]
        },
        {
          "output_type": "stream",
          "name": "stdout",
          "text": [
            "[0.0791544  0.24323255 0.23282868 0.38328046 0.06150391]\n",
            "[ 2  2 11 13  2]\n"
          ]
        },
        {
          "output_type": "stream",
          "name": "stderr",
          "text": [
            "\rTraining:  35%|█████████████████▋                                | 177/500 [00:48<01:22,  3.90it/s]"
          ]
        },
        {
          "output_type": "stream",
          "name": "stdout",
          "text": [
            "[0.0791544  0.24323255 0.23282868 0.38328046 0.06150391]\n",
            "[ 0 12  6 10  2]\n"
          ]
        },
        {
          "output_type": "stream",
          "name": "stderr",
          "text": [
            "\rTraining:  36%|█████████████████▊                                | 178/500 [00:49<01:20,  3.99it/s]"
          ]
        },
        {
          "output_type": "stream",
          "name": "stdout",
          "text": [
            "[0.0791544  0.24323255 0.23282868 0.38328046 0.06150391]\n",
            "[ 2  4  8 12  4]\n"
          ]
        },
        {
          "output_type": "stream",
          "name": "stderr",
          "text": [
            "\rTraining:  36%|█████████████████▉                                | 179/500 [00:49<01:22,  3.91it/s]"
          ]
        },
        {
          "output_type": "stream",
          "name": "stdout",
          "text": [
            "[0.0791544  0.24323255 0.23282868 0.38328046 0.06150391]\n",
            "[ 3  7  2 16  2]\n"
          ]
        },
        {
          "output_type": "stream",
          "name": "stderr",
          "text": [
            "\rTraining:  36%|██████████████████                                | 180/500 [00:49<01:23,  3.84it/s]"
          ]
        },
        {
          "output_type": "stream",
          "name": "stdout",
          "text": [
            "[0.0791544  0.24323255 0.23282868 0.38328046 0.06150391]\n",
            "[2 9 7 9 3]\n"
          ]
        },
        {
          "output_type": "stream",
          "name": "stderr",
          "text": [
            "\rTraining:  36%|██████████████████                                | 181/500 [00:49<01:22,  3.86it/s]"
          ]
        },
        {
          "output_type": "stream",
          "name": "stdout",
          "text": [
            "[0.0791544  0.24323255 0.23282868 0.38328046 0.06150391]\n",
            "[ 3  7  7 12  1]\n"
          ]
        },
        {
          "output_type": "stream",
          "name": "stderr",
          "text": [
            "\rTraining:  36%|██████████████████▏                               | 182/500 [00:50<01:21,  3.89it/s]"
          ]
        },
        {
          "output_type": "stream",
          "name": "stdout",
          "text": [
            "[0.0791544  0.24323255 0.23282868 0.38328046 0.06150391]\n",
            "[ 2  6  7 15  0]\n"
          ]
        },
        {
          "output_type": "stream",
          "name": "stderr",
          "text": [
            "\rTraining:  37%|██████████████████▎                               | 183/500 [00:50<01:19,  3.97it/s]"
          ]
        },
        {
          "output_type": "stream",
          "name": "stdout",
          "text": [
            "[0.0791544  0.24323255 0.23282868 0.38328046 0.06150391]\n",
            "[ 3  7  4 13  3]\n"
          ]
        },
        {
          "output_type": "stream",
          "name": "stderr",
          "text": [
            "\rTraining:  37%|██████████████████▍                               | 184/500 [00:50<01:17,  4.06it/s]"
          ]
        },
        {
          "output_type": "stream",
          "name": "stdout",
          "text": [
            "[0.0791544  0.24323255 0.23282868 0.38328046 0.06150391]\n",
            "[ 1  7 11  8  3]\n"
          ]
        },
        {
          "output_type": "stream",
          "name": "stderr",
          "text": [
            "\rTraining:  37%|██████████████████▌                               | 185/500 [00:50<01:18,  4.01it/s]"
          ]
        },
        {
          "output_type": "stream",
          "name": "stdout",
          "text": [
            "[0.0791544  0.24323255 0.23282868 0.38328046 0.06150391]\n",
            "[ 3  8  6 10  3]\n"
          ]
        },
        {
          "output_type": "stream",
          "name": "stderr",
          "text": [
            "\rTraining:  37%|██████████████████▌                               | 186/500 [00:51<01:18,  4.01it/s]"
          ]
        },
        {
          "output_type": "stream",
          "name": "stdout",
          "text": [
            "[0.0791544  0.24323255 0.23282868 0.38328046 0.06150391]\n",
            "[ 6 11  8  5  0]\n"
          ]
        },
        {
          "output_type": "stream",
          "name": "stderr",
          "text": [
            "\rTraining:  37%|██████████████████▋                               | 187/500 [00:51<01:17,  4.06it/s]"
          ]
        },
        {
          "output_type": "stream",
          "name": "stdout",
          "text": [
            "[0.0791544  0.24323255 0.23282868 0.38328046 0.06150391]\n",
            "[ 2  7  6 14  1]\n"
          ]
        },
        {
          "output_type": "stream",
          "name": "stderr",
          "text": [
            "\rTraining:  38%|██████████████████▊                               | 188/500 [00:51<01:15,  4.13it/s]"
          ]
        },
        {
          "output_type": "stream",
          "name": "stdout",
          "text": [
            "[0.0791544  0.24323255 0.23282868 0.38328046 0.06150391]\n",
            "[ 1  9  6 13  1]\n"
          ]
        },
        {
          "output_type": "stream",
          "name": "stderr",
          "text": [
            "\rTraining:  38%|██████████████████▉                               | 189/500 [00:51<01:15,  4.12it/s]"
          ]
        },
        {
          "output_type": "stream",
          "name": "stdout",
          "text": [
            "[0.0791544  0.24323255 0.23282868 0.38328046 0.06150391]\n",
            "[ 4  4  6 15  1]\n"
          ]
        },
        {
          "output_type": "stream",
          "name": "stderr",
          "text": [
            "\rTraining:  38%|███████████████████                               | 190/500 [00:51<01:14,  4.15it/s]"
          ]
        },
        {
          "output_type": "stream",
          "name": "stdout",
          "text": [
            "[0.0791544  0.24323255 0.23282868 0.38328046 0.06150391]\n",
            "[8 3 9 8 2]\n"
          ]
        },
        {
          "output_type": "stream",
          "name": "stderr",
          "text": [
            "\rTraining:  38%|███████████████████                               | 191/500 [00:52<01:17,  4.01it/s]"
          ]
        },
        {
          "output_type": "stream",
          "name": "stdout",
          "text": [
            "[0.0791544  0.24323255 0.23282868 0.38328046 0.06150391]\n",
            "[ 4  3 15  8  0]\n"
          ]
        },
        {
          "output_type": "stream",
          "name": "stderr",
          "text": [
            "\rTraining:  38%|███████████████████▏                              | 192/500 [00:52<01:17,  3.98it/s]"
          ]
        },
        {
          "output_type": "stream",
          "name": "stdout",
          "text": [
            "[0.0791544  0.24323255 0.23282868 0.38328046 0.06150391]\n",
            "[ 2  8  9 11  0]\n"
          ]
        },
        {
          "output_type": "stream",
          "name": "stderr",
          "text": [
            "\rTraining:  39%|███████████████████▎                              | 193/500 [00:52<01:18,  3.89it/s]"
          ]
        },
        {
          "output_type": "stream",
          "name": "stdout",
          "text": [
            "[0.0791544  0.24323255 0.23282868 0.38328046 0.06150391]\n",
            "[ 3  5  5 17  0]\n"
          ]
        },
        {
          "output_type": "stream",
          "name": "stderr",
          "text": [
            "\rTraining:  39%|███████████████████▍                              | 194/500 [00:53<01:18,  3.90it/s]"
          ]
        },
        {
          "output_type": "stream",
          "name": "stdout",
          "text": [
            "[0.0791544  0.24323255 0.23282868 0.38328046 0.06150391]\n",
            "[ 2  5  7 11  5]\n"
          ]
        },
        {
          "output_type": "stream",
          "name": "stderr",
          "text": [
            "\rTraining:  39%|███████████████████▌                              | 195/500 [00:53<01:18,  3.90it/s]"
          ]
        },
        {
          "output_type": "stream",
          "name": "stdout",
          "text": [
            "[0.0791544  0.24323255 0.23282868 0.38328046 0.06150391]\n",
            "[ 2  7  6 13  2]\n"
          ]
        },
        {
          "output_type": "stream",
          "name": "stderr",
          "text": [
            "\rTraining:  39%|███████████████████▌                              | 196/500 [00:53<01:17,  3.94it/s]"
          ]
        },
        {
          "output_type": "stream",
          "name": "stdout",
          "text": [
            "[0.0791544  0.24323255 0.23282868 0.38328046 0.06150391]\n",
            "[ 2  6  3 17  2]\n"
          ]
        },
        {
          "output_type": "stream",
          "name": "stderr",
          "text": [
            "\rTraining:  39%|███████████████████▋                              | 197/500 [00:53<01:18,  3.88it/s]"
          ]
        },
        {
          "output_type": "stream",
          "name": "stdout",
          "text": [
            "[0.0791544  0.24323255 0.23282868 0.38328046 0.06150391]\n",
            "[ 1  9  7 12  1]\n"
          ]
        },
        {
          "output_type": "stream",
          "name": "stderr",
          "text": [
            "\rTraining:  40%|███████████████████▊                              | 198/500 [00:54<01:17,  3.92it/s]"
          ]
        },
        {
          "output_type": "stream",
          "name": "stdout",
          "text": [
            "[0.0791544  0.24323255 0.23282868 0.38328046 0.06150391]\n",
            "[ 5  4 10  8  3]\n"
          ]
        },
        {
          "output_type": "stream",
          "name": "stderr",
          "text": [
            "\rTraining:  40%|███████████████████▉                              | 199/500 [00:54<01:17,  3.89it/s]"
          ]
        },
        {
          "output_type": "stream",
          "name": "stdout",
          "text": [
            "[0.0791544  0.24323255 0.23282868 0.38328046 0.06150391]\n",
            "[ 4  6  6 10  4]\n"
          ]
        },
        {
          "output_type": "stream",
          "name": "stderr",
          "text": [
            "\rTraining:  40%|████████████████████                              | 200/500 [00:54<01:16,  3.90it/s]"
          ]
        },
        {
          "output_type": "stream",
          "name": "stdout",
          "text": [
            "[0.0791544  0.24323255 0.23282868 0.38328046 0.06150391]\n",
            "[ 1  8 10  9  2]\n"
          ]
        },
        {
          "output_type": "stream",
          "name": "stderr",
          "text": [
            "\rTraining:  40%|████████████████████                              | 201/500 [00:54<01:17,  3.85it/s]"
          ]
        },
        {
          "output_type": "stream",
          "name": "stdout",
          "text": [
            "[0.0791544  0.24323255 0.23282868 0.38328046 0.06150391]\n",
            "[2 8 8 9 3]\n"
          ]
        },
        {
          "output_type": "stream",
          "name": "stderr",
          "text": [
            "\rTraining:  40%|████████████████████▏                             | 202/500 [00:55<01:16,  3.88it/s]"
          ]
        },
        {
          "output_type": "stream",
          "name": "stdout",
          "text": [
            "[0.0791544  0.24323255 0.23282868 0.38328046 0.06150391]\n",
            "[ 0  7  6 15  2]\n"
          ]
        },
        {
          "output_type": "stream",
          "name": "stderr",
          "text": [
            "\rTraining:  41%|████████████████████▎                             | 203/500 [00:55<01:15,  3.92it/s]"
          ]
        },
        {
          "output_type": "stream",
          "name": "stdout",
          "text": [
            "[0.0791544  0.24323255 0.23282868 0.38328046 0.06150391]\n",
            "[ 3  9  8 10  0]\n"
          ]
        },
        {
          "output_type": "stream",
          "name": "stderr",
          "text": [
            "\rTraining:  41%|████████████████████▍                             | 204/500 [00:55<01:14,  3.97it/s]"
          ]
        },
        {
          "output_type": "stream",
          "name": "stdout",
          "text": [
            "[0.0791544  0.24323255 0.23282868 0.38328046 0.06150391]\n",
            "[ 8  2  6 12  2]\n"
          ]
        },
        {
          "output_type": "stream",
          "name": "stderr",
          "text": [
            "\rTraining:  41%|████████████████████▌                             | 205/500 [00:55<01:15,  3.93it/s]"
          ]
        },
        {
          "output_type": "stream",
          "name": "stdout",
          "text": [
            "[0.0791544  0.24323255 0.23282868 0.38328046 0.06150391]\n",
            "[ 2  5  5 17  1]\n"
          ]
        },
        {
          "output_type": "stream",
          "name": "stderr",
          "text": [
            "\rTraining:  41%|████████████████████▌                             | 206/500 [00:56<01:15,  3.88it/s]"
          ]
        },
        {
          "output_type": "stream",
          "name": "stdout",
          "text": [
            "[0.0791544  0.24323255 0.23282868 0.38328046 0.06150391]\n",
            "[ 4  5  6 13  2]\n"
          ]
        },
        {
          "output_type": "stream",
          "name": "stderr",
          "text": [
            "\rTraining:  41%|████████████████████▋                             | 207/500 [00:56<01:15,  3.89it/s]"
          ]
        },
        {
          "output_type": "stream",
          "name": "stdout",
          "text": [
            "[0.0791544  0.24323255 0.23282868 0.38328046 0.06150391]\n",
            "[ 0  8  5 13  4]\n"
          ]
        },
        {
          "output_type": "stream",
          "name": "stderr",
          "text": [
            "\rTraining:  42%|████████████████████▊                             | 208/500 [00:56<01:14,  3.92it/s]"
          ]
        },
        {
          "output_type": "stream",
          "name": "stdout",
          "text": [
            "[0.0791544  0.24323255 0.23282868 0.38328046 0.06150391]\n",
            "[ 5  9  5 10  1]\n"
          ]
        },
        {
          "output_type": "stream",
          "name": "stderr",
          "text": [
            "\rTraining:  42%|████████████████████▉                             | 209/500 [00:56<01:15,  3.85it/s]"
          ]
        },
        {
          "output_type": "stream",
          "name": "stdout",
          "text": [
            "[0.0791544  0.24323255 0.23282868 0.38328046 0.06150391]\n",
            "[ 5  6  5 12  2]\n"
          ]
        },
        {
          "output_type": "stream",
          "name": "stderr",
          "text": [
            "\rTraining:  42%|█████████████████████                             | 210/500 [00:57<01:14,  3.89it/s]"
          ]
        },
        {
          "output_type": "stream",
          "name": "stdout",
          "text": [
            "[0.0791544  0.24323255 0.23282868 0.38328046 0.06150391]\n",
            "[ 4  8  5 12  1]\n"
          ]
        },
        {
          "output_type": "stream",
          "name": "stderr",
          "text": [
            "\rTraining:  42%|█████████████████████                             | 211/500 [00:57<01:12,  3.99it/s]"
          ]
        },
        {
          "output_type": "stream",
          "name": "stdout",
          "text": [
            "[0.0791544  0.24323255 0.23282868 0.38328046 0.06150391]\n",
            "[ 4  6  4 14  2]\n"
          ]
        },
        {
          "output_type": "stream",
          "name": "stderr",
          "text": [
            "\rTraining:  42%|█████████████████████▏                            | 212/500 [00:57<01:11,  4.05it/s]"
          ]
        },
        {
          "output_type": "stream",
          "name": "stdout",
          "text": [
            "[0.0791544  0.24323255 0.23282868 0.38328046 0.06150391]\n",
            "[ 1  6  8 15  0]\n"
          ]
        },
        {
          "output_type": "stream",
          "name": "stderr",
          "text": [
            "\rTraining:  43%|█████████████████████▎                            | 213/500 [00:57<01:12,  3.96it/s]"
          ]
        },
        {
          "output_type": "stream",
          "name": "stdout",
          "text": [
            "[0.0791544  0.24323255 0.23282868 0.38328046 0.06150391]\n",
            "[ 4  4  5 15  2]\n"
          ]
        },
        {
          "output_type": "stream",
          "name": "stderr",
          "text": [
            "\rTraining:  43%|█████████████████████▍                            | 214/500 [00:58<01:11,  3.99it/s]"
          ]
        },
        {
          "output_type": "stream",
          "name": "stdout",
          "text": [
            "[0.0791544  0.24323255 0.23282868 0.38328046 0.06150391]\n",
            "[ 4  5 10 10  1]\n"
          ]
        },
        {
          "output_type": "stream",
          "name": "stderr",
          "text": [
            "\rTraining:  43%|█████████████████████▌                            | 215/500 [00:58<01:10,  4.04it/s]"
          ]
        },
        {
          "output_type": "stream",
          "name": "stdout",
          "text": [
            "[0.0791544  0.24323255 0.23282868 0.38328046 0.06150391]\n",
            "[ 1  7  6 15  1]\n"
          ]
        },
        {
          "output_type": "stream",
          "name": "stderr",
          "text": [
            "\rTraining:  43%|█████████████████████▌                            | 216/500 [00:58<01:09,  4.08it/s]"
          ]
        },
        {
          "output_type": "stream",
          "name": "stdout",
          "text": [
            "[0.0791544  0.24323255 0.23282868 0.38328046 0.06150391]\n",
            "[ 0  4 12 13  1]\n"
          ]
        },
        {
          "output_type": "stream",
          "name": "stderr",
          "text": [
            "\rTraining:  43%|█████████████████████▋                            | 217/500 [00:58<01:10,  4.04it/s]"
          ]
        },
        {
          "output_type": "stream",
          "name": "stdout",
          "text": [
            "[0.0791544  0.24323255 0.23282868 0.38328046 0.06150391]\n",
            "[ 2  7  7 14  0]\n"
          ]
        },
        {
          "output_type": "stream",
          "name": "stderr",
          "text": [
            "\rTraining:  44%|█████████████████████▊                            | 218/500 [00:59<01:09,  4.06it/s]"
          ]
        },
        {
          "output_type": "stream",
          "name": "stdout",
          "text": [
            "[0.0791544  0.24323255 0.23282868 0.38328046 0.06150391]\n",
            "[ 3  6  9 12  0]\n"
          ]
        },
        {
          "output_type": "stream",
          "name": "stderr",
          "text": [
            "\rTraining:  44%|█████████████████████▉                            | 219/500 [00:59<01:08,  4.08it/s]"
          ]
        },
        {
          "output_type": "stream",
          "name": "stdout",
          "text": [
            "[0.0791544  0.24323255 0.23282868 0.38328046 0.06150391]\n",
            "[ 3  8  6 12  1]\n"
          ]
        },
        {
          "output_type": "stream",
          "name": "stderr",
          "text": [
            "\rTraining:  44%|██████████████████████                            | 220/500 [00:59<01:07,  4.14it/s]"
          ]
        },
        {
          "output_type": "stream",
          "name": "stdout",
          "text": [
            "[0.0791544  0.24323255 0.23282868 0.38328046 0.06150391]\n",
            "[ 2  8  6 13  1]\n"
          ]
        },
        {
          "output_type": "stream",
          "name": "stderr",
          "text": [
            "\rTraining:  44%|██████████████████████                            | 221/500 [00:59<01:08,  4.04it/s]"
          ]
        },
        {
          "output_type": "stream",
          "name": "stdout",
          "text": [
            "[0.0791544  0.24323255 0.23282868 0.38328046 0.06150391]\n",
            "[ 4  9  3 14  0]\n"
          ]
        },
        {
          "output_type": "stream",
          "name": "stderr",
          "text": [
            "\rTraining:  44%|██████████████████████▏                           | 222/500 [01:00<01:07,  4.09it/s]"
          ]
        },
        {
          "output_type": "stream",
          "name": "stdout",
          "text": [
            "[0.0791544  0.24323255 0.23282868 0.38328046 0.06150391]\n",
            "[ 3 14  5  7  1]\n"
          ]
        },
        {
          "output_type": "stream",
          "name": "stderr",
          "text": [
            "\rTraining:  45%|██████████████████████▎                           | 223/500 [01:00<01:08,  4.04it/s]"
          ]
        },
        {
          "output_type": "stream",
          "name": "stdout",
          "text": [
            "[0.0791544  0.24323255 0.23282868 0.38328046 0.06150391]\n",
            "[4 9 5 7 5]\n"
          ]
        },
        {
          "output_type": "stream",
          "name": "stderr",
          "text": [
            "\rTraining:  45%|██████████████████████▍                           | 224/500 [01:00<01:09,  3.99it/s]"
          ]
        },
        {
          "output_type": "stream",
          "name": "stdout",
          "text": [
            "[0.0791544  0.24323255 0.23282868 0.38328046 0.06150391]\n",
            "[ 0  9  6 14  1]\n"
          ]
        },
        {
          "output_type": "stream",
          "name": "stderr",
          "text": [
            "\rTraining:  45%|██████████████████████▌                           | 225/500 [01:00<01:10,  3.91it/s]"
          ]
        },
        {
          "output_type": "stream",
          "name": "stdout",
          "text": [
            "[0.0791544  0.24323255 0.23282868 0.38328046 0.06150391]\n",
            "[7 8 5 9 1]\n"
          ]
        },
        {
          "output_type": "stream",
          "name": "stderr",
          "text": [
            "\rTraining:  45%|██████████████████████▌                           | 226/500 [01:01<01:09,  3.96it/s]"
          ]
        },
        {
          "output_type": "stream",
          "name": "stdout",
          "text": [
            "[0.0791544  0.24323255 0.23282868 0.38328046 0.06150391]\n",
            "[ 2  9  4 15  0]\n"
          ]
        },
        {
          "output_type": "stream",
          "name": "stderr",
          "text": [
            "\rTraining:  45%|██████████████████████▋                           | 227/500 [01:01<01:09,  3.95it/s]"
          ]
        },
        {
          "output_type": "stream",
          "name": "stdout",
          "text": [
            "[0.0791544  0.24323255 0.23282868 0.38328046 0.06150391]\n",
            "[ 2  8 12  7  1]\n"
          ]
        },
        {
          "output_type": "stream",
          "name": "stderr",
          "text": [
            "\rTraining:  46%|██████████████████████▊                           | 228/500 [01:01<01:09,  3.94it/s]"
          ]
        },
        {
          "output_type": "stream",
          "name": "stdout",
          "text": [
            "[0.0791544  0.24323255 0.23282868 0.38328046 0.06150391]\n",
            "[ 2 11  8  8  1]\n"
          ]
        },
        {
          "output_type": "stream",
          "name": "stderr",
          "text": [
            "\rTraining:  46%|██████████████████████▉                           | 229/500 [01:01<01:09,  3.89it/s]"
          ]
        },
        {
          "output_type": "stream",
          "name": "stdout",
          "text": [
            "[0.0791544  0.24323255 0.23282868 0.38328046 0.06150391]\n",
            "[ 2  8  6 11  3]\n"
          ]
        },
        {
          "output_type": "stream",
          "name": "stderr",
          "text": [
            "\rTraining:  46%|███████████████████████                           | 230/500 [01:02<01:09,  3.89it/s]"
          ]
        },
        {
          "output_type": "stream",
          "name": "stdout",
          "text": [
            "[0.0791544  0.24323255 0.23282868 0.38328046 0.06150391]\n",
            "[ 2 12  8  8  0]\n"
          ]
        },
        {
          "output_type": "stream",
          "name": "stderr",
          "text": [
            "\rTraining:  46%|███████████████████████                           | 231/500 [01:02<01:07,  3.98it/s]"
          ]
        },
        {
          "output_type": "stream",
          "name": "stdout",
          "text": [
            "[0.0791544  0.24323255 0.23282868 0.38328046 0.06150391]\n",
            "[ 2  4  8 14  2]\n"
          ]
        },
        {
          "output_type": "stream",
          "name": "stderr",
          "text": [
            "\rTraining:  46%|███████████████████████▏                          | 232/500 [01:02<01:06,  4.04it/s]"
          ]
        },
        {
          "output_type": "stream",
          "name": "stdout",
          "text": [
            "[0.0791544  0.24323255 0.23282868 0.38328046 0.06150391]\n",
            "[6 6 9 8 1]\n"
          ]
        },
        {
          "output_type": "stream",
          "name": "stderr",
          "text": [
            "\rTraining:  47%|███████████████████████▎                          | 233/500 [01:02<01:07,  3.97it/s]"
          ]
        },
        {
          "output_type": "stream",
          "name": "stdout",
          "text": [
            "[0.0791544  0.24323255 0.23282868 0.38328046 0.06150391]\n",
            "[ 1  8  8 13  0]\n"
          ]
        },
        {
          "output_type": "stream",
          "name": "stderr",
          "text": [
            "\rTraining:  47%|███████████████████████▍                          | 234/500 [01:03<01:06,  4.00it/s]"
          ]
        },
        {
          "output_type": "stream",
          "name": "stdout",
          "text": [
            "[0.0791544  0.24323255 0.23282868 0.38328046 0.06150391]\n",
            "[ 4  5  5 13  3]\n"
          ]
        },
        {
          "output_type": "stream",
          "name": "stderr",
          "text": [
            "\rTraining:  47%|███████████████████████▌                          | 235/500 [01:03<01:05,  4.05it/s]"
          ]
        },
        {
          "output_type": "stream",
          "name": "stdout",
          "text": [
            "[0.0791544  0.24323255 0.23282868 0.38328046 0.06150391]\n",
            "[ 3  7 11  8  1]\n"
          ]
        },
        {
          "output_type": "stream",
          "name": "stderr",
          "text": [
            "\rTraining:  47%|███████████████████████▌                          | 236/500 [01:03<01:05,  4.04it/s]"
          ]
        },
        {
          "output_type": "stream",
          "name": "stdout",
          "text": [
            "[0.0791544  0.24323255 0.23282868 0.38328046 0.06150391]\n",
            "[ 0  8  6 15  1]\n"
          ]
        },
        {
          "output_type": "stream",
          "name": "stderr",
          "text": [
            "\rTraining:  47%|███████████████████████▋                          | 237/500 [01:03<01:06,  3.96it/s]"
          ]
        },
        {
          "output_type": "stream",
          "name": "stdout",
          "text": [
            "[0.0791544  0.24323255 0.23282868 0.38328046 0.06150391]\n",
            "[ 3  9  5 11  2]\n"
          ]
        },
        {
          "output_type": "stream",
          "name": "stderr",
          "text": [
            "\rTraining:  48%|███████████████████████▊                          | 238/500 [01:04<01:05,  3.98it/s]"
          ]
        },
        {
          "output_type": "stream",
          "name": "stdout",
          "text": [
            "[0.0791544  0.24323255 0.23282868 0.38328046 0.06150391]\n",
            "[ 0  6  8 15  1]\n"
          ]
        },
        {
          "output_type": "stream",
          "name": "stderr",
          "text": [
            "\rTraining:  48%|███████████████████████▉                          | 239/500 [01:04<01:06,  3.94it/s]"
          ]
        },
        {
          "output_type": "stream",
          "name": "stdout",
          "text": [
            "[0.0791544  0.24323255 0.23282868 0.38328046 0.06150391]\n",
            "[ 3  7  4 13  3]\n"
          ]
        },
        {
          "output_type": "stream",
          "name": "stderr",
          "text": [
            "\rTraining:  48%|████████████████████████                          | 240/500 [01:04<01:05,  3.99it/s]"
          ]
        },
        {
          "output_type": "stream",
          "name": "stdout",
          "text": [
            "[0.0791544  0.24323255 0.23282868 0.38328046 0.06150391]\n",
            "[ 5  5 11  9  0]\n"
          ]
        },
        {
          "output_type": "stream",
          "name": "stderr",
          "text": [
            "\rTraining:  48%|████████████████████████                          | 241/500 [01:04<01:04,  3.99it/s]"
          ]
        },
        {
          "output_type": "stream",
          "name": "stdout",
          "text": [
            "[0.0791544  0.24323255 0.23282868 0.38328046 0.06150391]\n",
            "[ 1  8 14  7  0]\n"
          ]
        },
        {
          "output_type": "stream",
          "name": "stderr",
          "text": [
            "\rTraining:  48%|████████████████████████▏                         | 242/500 [01:05<01:05,  3.97it/s]"
          ]
        },
        {
          "output_type": "stream",
          "name": "stdout",
          "text": [
            "[0.0791544  0.24323255 0.23282868 0.38328046 0.06150391]\n",
            "[ 1  6 13 10  0]\n"
          ]
        },
        {
          "output_type": "stream",
          "name": "stderr",
          "text": [
            "\rTraining:  49%|████████████████████████▎                         | 243/500 [01:05<01:04,  3.96it/s]"
          ]
        },
        {
          "output_type": "stream",
          "name": "stdout",
          "text": [
            "[0.0791544  0.24323255 0.23282868 0.38328046 0.06150391]\n",
            "[ 1  3 11 13  2]\n"
          ]
        },
        {
          "output_type": "stream",
          "name": "stderr",
          "text": [
            "\rTraining:  49%|████████████████████████▍                         | 244/500 [01:05<01:04,  3.98it/s]"
          ]
        },
        {
          "output_type": "stream",
          "name": "stdout",
          "text": [
            "[0.0791544  0.24323255 0.23282868 0.38328046 0.06150391]\n",
            "[ 6  9  4 10  1]\n"
          ]
        },
        {
          "output_type": "stream",
          "name": "stderr",
          "text": [
            "\rTraining:  49%|████████████████████████▌                         | 245/500 [01:05<01:06,  3.83it/s]"
          ]
        },
        {
          "output_type": "stream",
          "name": "stdout",
          "text": [
            "[0.0791544  0.24323255 0.23282868 0.38328046 0.06150391]\n",
            "[ 0 11  8  9  2]\n"
          ]
        },
        {
          "output_type": "stream",
          "name": "stderr",
          "text": [
            "\rTraining:  49%|████████████████████████▌                         | 246/500 [01:06<01:06,  3.81it/s]"
          ]
        },
        {
          "output_type": "stream",
          "name": "stdout",
          "text": [
            "[0.0791544  0.24323255 0.23282868 0.38328046 0.06150391]\n",
            "[ 6  9  5 10  0]\n"
          ]
        },
        {
          "output_type": "stream",
          "name": "stderr",
          "text": [
            "\rTraining:  49%|████████████████████████▋                         | 247/500 [01:06<01:04,  3.90it/s]"
          ]
        },
        {
          "output_type": "stream",
          "name": "stdout",
          "text": [
            "[0.0791544  0.24323255 0.23282868 0.38328046 0.06150391]\n",
            "[ 4 10  3 10  3]\n"
          ]
        },
        {
          "output_type": "stream",
          "name": "stderr",
          "text": [
            "\rTraining:  50%|████████████████████████▊                         | 248/500 [01:06<01:03,  3.99it/s]"
          ]
        },
        {
          "output_type": "stream",
          "name": "stdout",
          "text": [
            "[0.0791544  0.24323255 0.23282868 0.38328046 0.06150391]\n",
            "[ 2  6  7 14  1]\n"
          ]
        },
        {
          "output_type": "stream",
          "name": "stderr",
          "text": [
            "\rTraining:  50%|████████████████████████▉                         | 249/500 [01:06<01:03,  3.98it/s]"
          ]
        },
        {
          "output_type": "stream",
          "name": "stdout",
          "text": [
            "[0.0791544  0.24323255 0.23282868 0.38328046 0.06150391]\n",
            "[ 1  5  9 14  1]\n"
          ]
        },
        {
          "output_type": "stream",
          "name": "stderr",
          "text": [
            "\rTraining:  50%|█████████████████████████                         | 250/500 [01:07<01:03,  3.91it/s]"
          ]
        },
        {
          "output_type": "stream",
          "name": "stdout",
          "text": [
            "[0.0791544  0.24323255 0.23282868 0.38328046 0.06150391]\n",
            "[ 3  5  8 14  0]\n"
          ]
        },
        {
          "output_type": "stream",
          "name": "stderr",
          "text": [
            "\rTraining:  50%|█████████████████████████                         | 251/500 [01:07<01:03,  3.89it/s]"
          ]
        },
        {
          "output_type": "stream",
          "name": "stdout",
          "text": [
            "[0.0791544  0.24323255 0.23282868 0.38328046 0.06150391]\n",
            "[ 2  6 10 11  1]\n"
          ]
        },
        {
          "output_type": "stream",
          "name": "stderr",
          "text": [
            "\rTraining:  50%|█████████████████████████▏                        | 252/500 [01:07<01:03,  3.89it/s]"
          ]
        },
        {
          "output_type": "stream",
          "name": "stdout",
          "text": [
            "[0.0791544  0.24323255 0.23282868 0.38328046 0.06150391]\n",
            "[ 3  7  6 11  3]\n"
          ]
        },
        {
          "output_type": "stream",
          "name": "stderr",
          "text": [
            "\rTraining:  51%|█████████████████████████▎                        | 253/500 [01:07<01:02,  3.94it/s]"
          ]
        },
        {
          "output_type": "stream",
          "name": "stdout",
          "text": [
            "[0.0791544  0.24323255 0.23282868 0.38328046 0.06150391]\n",
            "[ 4  5  6 12  3]\n"
          ]
        },
        {
          "output_type": "stream",
          "name": "stderr",
          "text": [
            "\rTraining:  51%|█████████████████████████▍                        | 254/500 [01:08<01:03,  3.87it/s]"
          ]
        },
        {
          "output_type": "stream",
          "name": "stdout",
          "text": [
            "[0.0791544  0.24323255 0.23282868 0.38328046 0.06150391]\n",
            "[ 3  3  8 14  2]\n"
          ]
        },
        {
          "output_type": "stream",
          "name": "stderr",
          "text": [
            "\rTraining:  51%|█████████████████████████▌                        | 255/500 [01:08<01:02,  3.91it/s]"
          ]
        },
        {
          "output_type": "stream",
          "name": "stdout",
          "text": [
            "[0.0791544  0.24323255 0.23282868 0.38328046 0.06150391]\n",
            "[ 3  8  4 12  3]\n"
          ]
        },
        {
          "output_type": "stream",
          "name": "stderr",
          "text": [
            "\rTraining:  51%|█████████████████████████▌                        | 256/500 [01:08<01:02,  3.88it/s]"
          ]
        },
        {
          "output_type": "stream",
          "name": "stdout",
          "text": [
            "[0.0791544  0.24323255 0.23282868 0.38328046 0.06150391]\n",
            "[ 4  7  8 10  1]\n"
          ]
        },
        {
          "output_type": "stream",
          "name": "stderr",
          "text": [
            "\rTraining:  51%|█████████████████████████▋                        | 257/500 [01:08<01:02,  3.90it/s]"
          ]
        },
        {
          "output_type": "stream",
          "name": "stdout",
          "text": [
            "[0.0791544  0.24323255 0.23282868 0.38328046 0.06150391]\n",
            "[ 3  5  8 11  3]\n"
          ]
        },
        {
          "output_type": "stream",
          "name": "stderr",
          "text": [
            "\rTraining:  52%|█████████████████████████▊                        | 258/500 [01:09<01:02,  3.88it/s]"
          ]
        },
        {
          "output_type": "stream",
          "name": "stdout",
          "text": [
            "[0.0791544  0.24323255 0.23282868 0.38328046 0.06150391]\n",
            "[ 2 14  8  4  2]\n"
          ]
        },
        {
          "output_type": "stream",
          "name": "stderr",
          "text": [
            "\rTraining:  52%|█████████████████████████▉                        | 259/500 [01:09<00:59,  4.02it/s]"
          ]
        },
        {
          "output_type": "stream",
          "name": "stdout",
          "text": [
            "[0.0791544  0.24323255 0.23282868 0.38328046 0.06150391]\n",
            "[ 3  7  6 12  2]\n"
          ]
        },
        {
          "output_type": "stream",
          "name": "stderr",
          "text": [
            "\rTraining:  52%|██████████████████████████                        | 260/500 [01:09<00:58,  4.09it/s]"
          ]
        },
        {
          "output_type": "stream",
          "name": "stdout",
          "text": [
            "[0.0791544  0.24323255 0.23282868 0.38328046 0.06150391]\n",
            "[ 0 10 11  6  3]\n"
          ]
        },
        {
          "output_type": "stream",
          "name": "stderr",
          "text": [
            "\rTraining:  52%|██████████████████████████                        | 261/500 [01:09<00:58,  4.06it/s]"
          ]
        },
        {
          "output_type": "stream",
          "name": "stdout",
          "text": [
            "[0.0791544  0.24323255 0.23282868 0.38328046 0.06150391]\n",
            "[ 4  9  4 12  1]\n"
          ]
        },
        {
          "output_type": "stream",
          "name": "stderr",
          "text": [
            "\rTraining:  52%|██████████████████████████▏                       | 262/500 [01:10<00:58,  4.05it/s]"
          ]
        },
        {
          "output_type": "stream",
          "name": "stdout",
          "text": [
            "[0.0791544  0.24323255 0.23282868 0.38328046 0.06150391]\n",
            "[ 0  6 11 12  1]\n"
          ]
        },
        {
          "output_type": "stream",
          "name": "stderr",
          "text": [
            "\rTraining:  53%|██████████████████████████▎                       | 263/500 [01:10<00:57,  4.10it/s]"
          ]
        },
        {
          "output_type": "stream",
          "name": "stdout",
          "text": [
            "[0.0791544  0.24323255 0.23282868 0.38328046 0.06150391]\n",
            "[ 1  7 10  9  3]\n"
          ]
        },
        {
          "output_type": "stream",
          "name": "stderr",
          "text": [
            "\rTraining:  53%|██████████████████████████▍                       | 264/500 [01:10<00:56,  4.14it/s]"
          ]
        },
        {
          "output_type": "stream",
          "name": "stdout",
          "text": [
            "[0.0791544  0.24323255 0.23282868 0.38328046 0.06150391]\n",
            "[ 3  7  7 10  3]\n"
          ]
        },
        {
          "output_type": "stream",
          "name": "stderr",
          "text": [
            "\rTraining:  53%|██████████████████████████▌                       | 265/500 [01:10<00:57,  4.12it/s]"
          ]
        },
        {
          "output_type": "stream",
          "name": "stdout",
          "text": [
            "[0.0791544  0.24323255 0.23282868 0.38328046 0.06150391]\n",
            "[ 1  9  6 11  3]\n"
          ]
        },
        {
          "output_type": "stream",
          "name": "stderr",
          "text": [
            "\rTraining:  53%|██████████████████████████▌                       | 266/500 [01:11<00:58,  4.01it/s]"
          ]
        },
        {
          "output_type": "stream",
          "name": "stdout",
          "text": [
            "[0.0791544  0.24323255 0.23282868 0.38328046 0.06150391]\n",
            "[4 9 4 9 4]\n"
          ]
        },
        {
          "output_type": "stream",
          "name": "stderr",
          "text": [
            "\rTraining:  53%|██████████████████████████▋                       | 267/500 [01:11<00:57,  4.04it/s]"
          ]
        },
        {
          "output_type": "stream",
          "name": "stdout",
          "text": [
            "[0.0791544  0.24323255 0.23282868 0.38328046 0.06150391]\n",
            "[ 3  7  7 12  1]\n"
          ]
        },
        {
          "output_type": "stream",
          "name": "stderr",
          "text": [
            "\rTraining:  54%|██████████████████████████▊                       | 268/500 [01:11<00:57,  4.07it/s]"
          ]
        },
        {
          "output_type": "stream",
          "name": "stdout",
          "text": [
            "[0.0791544  0.24323255 0.23282868 0.38328046 0.06150391]\n",
            "[ 3  6 12  9  0]\n"
          ]
        },
        {
          "output_type": "stream",
          "name": "stderr",
          "text": [
            "\rTraining:  54%|██████████████████████████▉                       | 269/500 [01:11<00:56,  4.10it/s]"
          ]
        },
        {
          "output_type": "stream",
          "name": "stdout",
          "text": [
            "[0.0791544  0.24323255 0.23282868 0.38328046 0.06150391]\n",
            "[ 0  6  8 16  0]\n"
          ]
        },
        {
          "output_type": "stream",
          "name": "stderr",
          "text": [
            "\rTraining:  54%|███████████████████████████                       | 270/500 [01:12<00:56,  4.04it/s]"
          ]
        },
        {
          "output_type": "stream",
          "name": "stdout",
          "text": [
            "[0.0791544  0.24323255 0.23282868 0.38328046 0.06150391]\n",
            "[ 2  8  6 10  4]\n"
          ]
        },
        {
          "output_type": "stream",
          "name": "stderr",
          "text": [
            "\rTraining:  54%|███████████████████████████                       | 271/500 [01:12<00:55,  4.09it/s]"
          ]
        },
        {
          "output_type": "stream",
          "name": "stdout",
          "text": [
            "[0.0791544  0.24323255 0.23282868 0.38328046 0.06150391]\n",
            "[ 1  8  5 15  1]\n"
          ]
        },
        {
          "output_type": "stream",
          "name": "stderr",
          "text": [
            "\rTraining:  54%|███████████████████████████▏                      | 272/500 [01:12<00:55,  4.08it/s]"
          ]
        },
        {
          "output_type": "stream",
          "name": "stdout",
          "text": [
            "[0.0791544  0.24323255 0.23282868 0.38328046 0.06150391]\n",
            "[ 5 10  5  8  2]\n"
          ]
        },
        {
          "output_type": "stream",
          "name": "stderr",
          "text": [
            "\rTraining:  55%|███████████████████████████▎                      | 273/500 [01:12<00:56,  4.00it/s]"
          ]
        },
        {
          "output_type": "stream",
          "name": "stdout",
          "text": [
            "[0.0791544  0.24323255 0.23282868 0.38328046 0.06150391]\n",
            "[ 5  6  7 12  0]\n"
          ]
        },
        {
          "output_type": "stream",
          "name": "stderr",
          "text": [
            "\rTraining:  55%|███████████████████████████▍                      | 274/500 [01:13<00:57,  3.93it/s]"
          ]
        },
        {
          "output_type": "stream",
          "name": "stdout",
          "text": [
            "[0.0791544  0.24323255 0.23282868 0.38328046 0.06150391]\n",
            "[3 9 9 9 0]\n"
          ]
        },
        {
          "output_type": "stream",
          "name": "stderr",
          "text": [
            "\rTraining:  55%|███████████████████████████▌                      | 275/500 [01:13<00:55,  4.02it/s]"
          ]
        },
        {
          "output_type": "stream",
          "name": "stdout",
          "text": [
            "[0.0791544  0.24323255 0.23282868 0.38328046 0.06150391]\n",
            "[ 2  5  6 10  7]\n"
          ]
        },
        {
          "output_type": "stream",
          "name": "stderr",
          "text": [
            "\rTraining:  55%|███████████████████████████▌                      | 276/500 [01:13<00:54,  4.07it/s]"
          ]
        },
        {
          "output_type": "stream",
          "name": "stdout",
          "text": [
            "[0.0791544  0.24323255 0.23282868 0.38328046 0.06150391]\n",
            "[ 5  4  7 14  0]\n"
          ]
        },
        {
          "output_type": "stream",
          "name": "stderr",
          "text": [
            "\rTraining:  55%|███████████████████████████▋                      | 277/500 [01:13<00:54,  4.07it/s]"
          ]
        },
        {
          "output_type": "stream",
          "name": "stdout",
          "text": [
            "[0.0791544  0.24323255 0.23282868 0.38328046 0.06150391]\n",
            "[5 7 8 9 1]\n"
          ]
        },
        {
          "output_type": "stream",
          "name": "stderr",
          "text": [
            "\rTraining:  56%|███████████████████████████▊                      | 278/500 [01:14<00:54,  4.06it/s]"
          ]
        },
        {
          "output_type": "stream",
          "name": "stdout",
          "text": [
            "[0.0791544  0.24323255 0.23282868 0.38328046 0.06150391]\n",
            "[ 2  5  8 15  0]\n"
          ]
        },
        {
          "output_type": "stream",
          "name": "stderr",
          "text": [
            "\rTraining:  56%|███████████████████████████▉                      | 279/500 [01:14<00:53,  4.10it/s]"
          ]
        },
        {
          "output_type": "stream",
          "name": "stdout",
          "text": [
            "[0.0791544  0.24323255 0.23282868 0.38328046 0.06150391]\n",
            "[ 3 10  5 10  2]\n"
          ]
        },
        {
          "output_type": "stream",
          "name": "stderr",
          "text": [
            "\rTraining:  56%|████████████████████████████                      | 280/500 [01:14<00:53,  4.13it/s]"
          ]
        },
        {
          "output_type": "stream",
          "name": "stdout",
          "text": [
            "[0.0791544  0.24323255 0.23282868 0.38328046 0.06150391]\n",
            "[ 0  9  5 14  2]\n"
          ]
        },
        {
          "output_type": "stream",
          "name": "stderr",
          "text": [
            "\rTraining:  56%|████████████████████████████                      | 281/500 [01:14<00:52,  4.14it/s]"
          ]
        },
        {
          "output_type": "stream",
          "name": "stdout",
          "text": [
            "[0.0791544  0.24323255 0.23282868 0.38328046 0.06150391]\n",
            "[ 4  7  6 10  3]\n"
          ]
        },
        {
          "output_type": "stream",
          "name": "stderr",
          "text": [
            "\rTraining:  56%|████████████████████████████▏                     | 282/500 [01:15<00:52,  4.15it/s]"
          ]
        },
        {
          "output_type": "stream",
          "name": "stdout",
          "text": [
            "[0.0791544  0.24323255 0.23282868 0.38328046 0.06150391]\n",
            "[7 6 7 7 3]\n"
          ]
        },
        {
          "output_type": "stream",
          "name": "stderr",
          "text": [
            "\rTraining:  57%|████████████████████████████▎                     | 283/500 [01:15<00:52,  4.12it/s]"
          ]
        },
        {
          "output_type": "stream",
          "name": "stdout",
          "text": [
            "[0.0791544  0.24323255 0.23282868 0.38328046 0.06150391]\n",
            "[4 7 8 8 3]\n"
          ]
        },
        {
          "output_type": "stream",
          "name": "stderr",
          "text": [
            "\rTraining:  57%|████████████████████████████▍                     | 284/500 [01:15<00:52,  4.14it/s]"
          ]
        },
        {
          "output_type": "stream",
          "name": "stdout",
          "text": [
            "[0.0791544  0.24323255 0.23282868 0.38328046 0.06150391]\n",
            "[ 1  4  9 13  3]\n"
          ]
        },
        {
          "output_type": "stream",
          "name": "stderr",
          "text": [
            "\rTraining:  57%|████████████████████████████▍                     | 285/500 [01:15<00:52,  4.11it/s]"
          ]
        },
        {
          "output_type": "stream",
          "name": "stdout",
          "text": [
            "[0.0791544  0.24323255 0.23282868 0.38328046 0.06150391]\n",
            "[ 1  3  8 18  0]\n"
          ]
        },
        {
          "output_type": "stream",
          "name": "stderr",
          "text": [
            "\rTraining:  57%|████████████████████████████▌                     | 286/500 [01:16<00:52,  4.11it/s]"
          ]
        },
        {
          "output_type": "stream",
          "name": "stdout",
          "text": [
            "[0.0791544  0.24323255 0.23282868 0.38328046 0.06150391]\n",
            "[ 2  7  5 13  3]\n"
          ]
        },
        {
          "output_type": "stream",
          "name": "stderr",
          "text": [
            "\rTraining:  57%|████████████████████████████▋                     | 287/500 [01:16<00:53,  4.02it/s]"
          ]
        },
        {
          "output_type": "stream",
          "name": "stdout",
          "text": [
            "[0.0791544  0.24323255 0.23282868 0.38328046 0.06150391]\n",
            "[ 1  9  7 10  3]\n"
          ]
        },
        {
          "output_type": "stream",
          "name": "stderr",
          "text": [
            "\rTraining:  58%|████████████████████████████▊                     | 288/500 [01:16<00:54,  3.92it/s]"
          ]
        },
        {
          "output_type": "stream",
          "name": "stdout",
          "text": [
            "[0.0791544  0.24323255 0.23282868 0.38328046 0.06150391]\n",
            "[ 5  5  4 11  5]\n"
          ]
        },
        {
          "output_type": "stream",
          "name": "stderr",
          "text": [
            "\rTraining:  58%|████████████████████████████▉                     | 289/500 [01:16<00:53,  3.97it/s]"
          ]
        },
        {
          "output_type": "stream",
          "name": "stdout",
          "text": [
            "[0.0791544  0.24323255 0.23282868 0.38328046 0.06150391]\n",
            "[ 3  5  9 11  2]\n"
          ]
        },
        {
          "output_type": "stream",
          "name": "stderr",
          "text": [
            "\rTraining:  58%|████████████████████████████▉                     | 290/500 [01:17<00:53,  3.95it/s]"
          ]
        },
        {
          "output_type": "stream",
          "name": "stdout",
          "text": [
            "[0.0791544  0.24323255 0.23282868 0.38328046 0.06150391]\n",
            "[ 2 13  8  7  0]\n"
          ]
        },
        {
          "output_type": "stream",
          "name": "stderr",
          "text": [
            "\rTraining:  58%|█████████████████████████████                     | 291/500 [01:17<00:52,  4.02it/s]"
          ]
        },
        {
          "output_type": "stream",
          "name": "stdout",
          "text": [
            "[0.0791544  0.24323255 0.23282868 0.38328046 0.06150391]\n",
            "[ 2  8  2 18  0]\n"
          ]
        },
        {
          "output_type": "stream",
          "name": "stderr",
          "text": [
            "\rTraining:  58%|█████████████████████████████▏                    | 292/500 [01:17<00:51,  4.06it/s]"
          ]
        },
        {
          "output_type": "stream",
          "name": "stdout",
          "text": [
            "[0.0791544  0.24323255 0.23282868 0.38328046 0.06150391]\n",
            "[ 1  9  5 13  2]\n"
          ]
        },
        {
          "output_type": "stream",
          "name": "stderr",
          "text": [
            "\rTraining:  59%|█████████████████████████████▎                    | 293/500 [01:17<00:51,  3.99it/s]"
          ]
        },
        {
          "output_type": "stream",
          "name": "stdout",
          "text": [
            "[0.0791544  0.24323255 0.23282868 0.38328046 0.06150391]\n",
            "[ 3  7  5 14  1]\n"
          ]
        },
        {
          "output_type": "stream",
          "name": "stderr",
          "text": [
            "\rTraining:  59%|█████████████████████████████▍                    | 294/500 [01:18<00:52,  3.94it/s]"
          ]
        },
        {
          "output_type": "stream",
          "name": "stdout",
          "text": [
            "[0.0791544  0.24323255 0.23282868 0.38328046 0.06150391]\n",
            "[ 4  7  5 13  1]\n"
          ]
        },
        {
          "output_type": "stream",
          "name": "stderr",
          "text": [
            "\rTraining:  59%|█████████████████████████████▌                    | 295/500 [01:18<00:52,  3.91it/s]"
          ]
        },
        {
          "output_type": "stream",
          "name": "stdout",
          "text": [
            "[0.0791544  0.24323255 0.23282868 0.38328046 0.06150391]\n",
            "[ 3  5  6 16  0]\n"
          ]
        },
        {
          "output_type": "stream",
          "name": "stderr",
          "text": [
            "\rTraining:  59%|█████████████████████████████▌                    | 296/500 [01:18<00:52,  3.91it/s]"
          ]
        },
        {
          "output_type": "stream",
          "name": "stdout",
          "text": [
            "[0.0791544  0.24323255 0.23282868 0.38328046 0.06150391]\n",
            "[4 7 9 9 1]\n"
          ]
        },
        {
          "output_type": "stream",
          "name": "stderr",
          "text": [
            "\rTraining:  59%|█████████████████████████████▋                    | 297/500 [01:18<00:52,  3.88it/s]"
          ]
        },
        {
          "output_type": "stream",
          "name": "stdout",
          "text": [
            "[0.0791544  0.24323255 0.23282868 0.38328046 0.06150391]\n",
            "[ 0 11  9  8  2]\n"
          ]
        },
        {
          "output_type": "stream",
          "name": "stderr",
          "text": [
            "\rTraining:  60%|█████████████████████████████▊                    | 298/500 [01:19<00:52,  3.88it/s]"
          ]
        },
        {
          "output_type": "stream",
          "name": "stdout",
          "text": [
            "[0.0791544  0.24323255 0.23282868 0.38328046 0.06150391]\n",
            "[ 4  8 10  6  2]\n"
          ]
        },
        {
          "output_type": "stream",
          "name": "stderr",
          "text": [
            "\rTraining:  60%|█████████████████████████████▉                    | 299/500 [01:19<00:51,  3.87it/s]"
          ]
        },
        {
          "output_type": "stream",
          "name": "stdout",
          "text": [
            "[0.0791544  0.24323255 0.23282868 0.38328046 0.06150391]\n",
            "[ 5  5  6 10  4]\n"
          ]
        },
        {
          "output_type": "stream",
          "name": "stderr",
          "text": [
            "\rTraining:  60%|██████████████████████████████                    | 300/500 [01:19<00:51,  3.87it/s]"
          ]
        },
        {
          "output_type": "stream",
          "name": "stdout",
          "text": [
            "[0.0791544  0.24323255 0.23282868 0.38328046 0.06150391]\n",
            "[ 0  7  7 14  2]\n"
          ]
        },
        {
          "output_type": "stream",
          "name": "stderr",
          "text": [
            "\rTraining:  60%|██████████████████████████████                    | 301/500 [01:19<00:51,  3.86it/s]"
          ]
        },
        {
          "output_type": "stream",
          "name": "stdout",
          "text": [
            "[0.0791544  0.24323255 0.23282868 0.38328046 0.06150391]\n",
            "[ 3  7  9 10  1]\n"
          ]
        },
        {
          "output_type": "stream",
          "name": "stderr",
          "text": [
            "\rTraining:  60%|██████████████████████████████▏                   | 302/500 [01:20<00:51,  3.86it/s]"
          ]
        },
        {
          "output_type": "stream",
          "name": "stdout",
          "text": [
            "[0.0791544  0.24323255 0.23282868 0.38328046 0.06150391]\n",
            "[ 5  8  7 10  0]\n"
          ]
        },
        {
          "output_type": "stream",
          "name": "stderr",
          "text": [
            "\rTraining:  61%|██████████████████████████████▎                   | 303/500 [01:20<00:51,  3.81it/s]"
          ]
        },
        {
          "output_type": "stream",
          "name": "stdout",
          "text": [
            "[0.0791544  0.24323255 0.23282868 0.38328046 0.06150391]\n",
            "[ 6  7  1 15  1]\n"
          ]
        },
        {
          "output_type": "stream",
          "name": "stderr",
          "text": [
            "\rTraining:  61%|██████████████████████████████▍                   | 304/500 [01:20<00:51,  3.84it/s]"
          ]
        },
        {
          "output_type": "stream",
          "name": "stdout",
          "text": [
            "[0.0791544  0.24323255 0.23282868 0.38328046 0.06150391]\n",
            "[ 3 10  6 10  1]\n"
          ]
        },
        {
          "output_type": "stream",
          "name": "stderr",
          "text": [
            "\rTraining:  61%|██████████████████████████████▌                   | 305/500 [01:20<00:50,  3.86it/s]"
          ]
        },
        {
          "output_type": "stream",
          "name": "stdout",
          "text": [
            "[0.0791544  0.24323255 0.23282868 0.38328046 0.06150391]\n",
            "[ 1  2 10 12  5]\n"
          ]
        },
        {
          "output_type": "stream",
          "name": "stderr",
          "text": [
            "\rTraining:  61%|██████████████████████████████▌                   | 306/500 [01:21<00:50,  3.88it/s]"
          ]
        },
        {
          "output_type": "stream",
          "name": "stdout",
          "text": [
            "[0.0791544  0.24323255 0.23282868 0.38328046 0.06150391]\n",
            "[ 2 13  6  9  0]\n"
          ]
        },
        {
          "output_type": "stream",
          "name": "stderr",
          "text": [
            "\rTraining:  61%|██████████████████████████████▋                   | 307/500 [01:21<00:50,  3.85it/s]"
          ]
        },
        {
          "output_type": "stream",
          "name": "stdout",
          "text": [
            "[0.0791544  0.24323255 0.23282868 0.38328046 0.06150391]\n",
            "[ 4 12  5  7  2]\n"
          ]
        },
        {
          "output_type": "stream",
          "name": "stderr",
          "text": [
            "\rTraining:  62%|██████████████████████████████▊                   | 308/500 [01:21<00:50,  3.82it/s]"
          ]
        },
        {
          "output_type": "stream",
          "name": "stdout",
          "text": [
            "[0.0791544  0.24323255 0.23282868 0.38328046 0.06150391]\n",
            "[ 3  4  8 14  1]\n"
          ]
        },
        {
          "output_type": "stream",
          "name": "stderr",
          "text": [
            "\rTraining:  62%|██████████████████████████████▉                   | 309/500 [01:21<00:48,  3.92it/s]"
          ]
        },
        {
          "output_type": "stream",
          "name": "stdout",
          "text": [
            "[0.0791544  0.24323255 0.23282868 0.38328046 0.06150391]\n",
            "[ 0  6  7 12  5]\n"
          ]
        },
        {
          "output_type": "stream",
          "name": "stderr",
          "text": [
            "\rTraining:  62%|███████████████████████████████                   | 310/500 [01:22<00:47,  3.96it/s]"
          ]
        },
        {
          "output_type": "stream",
          "name": "stdout",
          "text": [
            "[0.0791544  0.24323255 0.23282868 0.38328046 0.06150391]\n",
            "[ 5  6  5 12  2]\n"
          ]
        },
        {
          "output_type": "stream",
          "name": "stderr",
          "text": [
            "\rTraining:  62%|███████████████████████████████                   | 311/500 [01:22<00:47,  3.95it/s]"
          ]
        },
        {
          "output_type": "stream",
          "name": "stdout",
          "text": [
            "[0.0791544  0.24323255 0.23282868 0.38328046 0.06150391]\n",
            "[ 2  8  4 16  0]\n"
          ]
        },
        {
          "output_type": "stream",
          "name": "stderr",
          "text": [
            "\rTraining:  62%|███████████████████████████████▏                  | 312/500 [01:22<00:46,  4.03it/s]"
          ]
        },
        {
          "output_type": "stream",
          "name": "stdout",
          "text": [
            "[0.0791544  0.24323255 0.23282868 0.38328046 0.06150391]\n",
            "[ 0  8  7 14  1]\n"
          ]
        },
        {
          "output_type": "stream",
          "name": "stderr",
          "text": [
            "\rTraining:  63%|███████████████████████████████▎                  | 313/500 [01:22<00:47,  3.95it/s]"
          ]
        },
        {
          "output_type": "stream",
          "name": "stdout",
          "text": [
            "[0.0791544  0.24323255 0.23282868 0.38328046 0.06150391]\n",
            "[ 4  8  4 11  3]\n"
          ]
        },
        {
          "output_type": "stream",
          "name": "stderr",
          "text": [
            "\rTraining:  63%|███████████████████████████████▍                  | 314/500 [01:23<00:47,  3.88it/s]"
          ]
        },
        {
          "output_type": "stream",
          "name": "stdout",
          "text": [
            "[0.0791544  0.24323255 0.23282868 0.38328046 0.06150391]\n",
            "[ 2  6  6 14  2]\n"
          ]
        },
        {
          "output_type": "stream",
          "name": "stderr",
          "text": [
            "\rTraining:  63%|███████████████████████████████▌                  | 315/500 [01:23<00:48,  3.84it/s]"
          ]
        },
        {
          "output_type": "stream",
          "name": "stdout",
          "text": [
            "[0.0791544  0.24323255 0.23282868 0.38328046 0.06150391]\n",
            "[ 1  7  8 13  1]\n"
          ]
        },
        {
          "output_type": "stream",
          "name": "stderr",
          "text": [
            "\rTraining:  63%|███████████████████████████████▌                  | 316/500 [01:23<00:48,  3.82it/s]"
          ]
        },
        {
          "output_type": "stream",
          "name": "stdout",
          "text": [
            "[0.0791544  0.24323255 0.23282868 0.38328046 0.06150391]\n",
            "[4 8 8 6 4]\n"
          ]
        },
        {
          "output_type": "stream",
          "name": "stderr",
          "text": [
            "\rTraining:  63%|███████████████████████████████▋                  | 317/500 [01:24<00:47,  3.84it/s]"
          ]
        },
        {
          "output_type": "stream",
          "name": "stdout",
          "text": [
            "[0.0791544  0.24323255 0.23282868 0.38328046 0.06150391]\n",
            "[ 2  6  7 15  0]\n"
          ]
        },
        {
          "output_type": "stream",
          "name": "stderr",
          "text": [
            "\rTraining:  64%|███████████████████████████████▊                  | 318/500 [01:24<00:47,  3.86it/s]"
          ]
        },
        {
          "output_type": "stream",
          "name": "stdout",
          "text": [
            "[0.0791544  0.24323255 0.23282868 0.38328046 0.06150391]\n",
            "[ 3  3 11 13  0]\n"
          ]
        },
        {
          "output_type": "stream",
          "name": "stderr",
          "text": [
            "\rTraining:  64%|███████████████████████████████▉                  | 319/500 [01:24<00:47,  3.84it/s]"
          ]
        },
        {
          "output_type": "stream",
          "name": "stdout",
          "text": [
            "[0.0791544  0.24323255 0.23282868 0.38328046 0.06150391]\n",
            "[ 1  9  4 13  3]\n"
          ]
        },
        {
          "output_type": "stream",
          "name": "stderr",
          "text": [
            "\rTraining:  64%|████████████████████████████████                  | 320/500 [01:24<00:46,  3.83it/s]"
          ]
        },
        {
          "output_type": "stream",
          "name": "stdout",
          "text": [
            "[0.0791544  0.24323255 0.23282868 0.38328046 0.06150391]\n",
            "[ 4  5  4 16  1]\n"
          ]
        },
        {
          "output_type": "stream",
          "name": "stderr",
          "text": [
            "\rTraining:  64%|████████████████████████████████                  | 321/500 [01:25<00:46,  3.85it/s]"
          ]
        },
        {
          "output_type": "stream",
          "name": "stdout",
          "text": [
            "[0.0791544  0.24323255 0.23282868 0.38328046 0.06150391]\n",
            "[ 3  5  8 11  3]\n"
          ]
        },
        {
          "output_type": "stream",
          "name": "stderr",
          "text": [
            "\rTraining:  64%|████████████████████████████████▏                 | 322/500 [01:25<00:46,  3.86it/s]"
          ]
        },
        {
          "output_type": "stream",
          "name": "stdout",
          "text": [
            "[0.0791544  0.24323255 0.23282868 0.38328046 0.06150391]\n",
            "[ 1  8  8 11  2]\n"
          ]
        },
        {
          "output_type": "stream",
          "name": "stderr",
          "text": [
            "\rTraining:  65%|████████████████████████████████▎                 | 323/500 [01:25<00:46,  3.82it/s]"
          ]
        },
        {
          "output_type": "stream",
          "name": "stdout",
          "text": [
            "[0.0791544  0.24323255 0.23282868 0.38328046 0.06150391]\n",
            "[ 3  9  1 16  1]\n"
          ]
        },
        {
          "output_type": "stream",
          "name": "stderr",
          "text": [
            "\rTraining:  65%|████████████████████████████████▍                 | 324/500 [01:25<00:46,  3.79it/s]"
          ]
        },
        {
          "output_type": "stream",
          "name": "stdout",
          "text": [
            "[0.0791544  0.24323255 0.23282868 0.38328046 0.06150391]\n",
            "[ 4 11  5  7  3]\n"
          ]
        },
        {
          "output_type": "stream",
          "name": "stderr",
          "text": [
            "\rTraining:  65%|████████████████████████████████▌                 | 325/500 [01:26<00:46,  3.79it/s]"
          ]
        },
        {
          "output_type": "stream",
          "name": "stdout",
          "text": [
            "[0.0791544  0.24323255 0.23282868 0.38328046 0.06150391]\n",
            "[ 3  1 11 14  1]\n"
          ]
        },
        {
          "output_type": "stream",
          "name": "stderr",
          "text": [
            "\rTraining:  65%|████████████████████████████████▌                 | 326/500 [01:26<00:45,  3.80it/s]"
          ]
        },
        {
          "output_type": "stream",
          "name": "stdout",
          "text": [
            "[0.0791544  0.24323255 0.23282868 0.38328046 0.06150391]\n",
            "[ 2 10  8  8  2]\n"
          ]
        },
        {
          "output_type": "stream",
          "name": "stderr",
          "text": [
            "\rTraining:  65%|████████████████████████████████▋                 | 327/500 [01:26<00:45,  3.81it/s]"
          ]
        },
        {
          "output_type": "stream",
          "name": "stdout",
          "text": [
            "[0.0791544  0.24323255 0.23282868 0.38328046 0.06150391]\n",
            "[ 2  4  8 15  1]\n"
          ]
        },
        {
          "output_type": "stream",
          "name": "stderr",
          "text": [
            "\rTraining:  66%|████████████████████████████████▊                 | 328/500 [01:26<00:45,  3.79it/s]"
          ]
        },
        {
          "output_type": "stream",
          "name": "stdout",
          "text": [
            "[0.0791544  0.24323255 0.23282868 0.38328046 0.06150391]\n",
            "[ 1  4  6 15  4]\n"
          ]
        },
        {
          "output_type": "stream",
          "name": "stderr",
          "text": [
            "\rTraining:  66%|████████████████████████████████▉                 | 329/500 [01:27<00:45,  3.79it/s]"
          ]
        },
        {
          "output_type": "stream",
          "name": "stdout",
          "text": [
            "[0.0791544  0.24323255 0.23282868 0.38328046 0.06150391]\n",
            "[ 3  6 10  9  2]\n"
          ]
        },
        {
          "output_type": "stream",
          "name": "stderr",
          "text": [
            "\rTraining:  66%|█████████████████████████████████                 | 330/500 [01:27<00:46,  3.68it/s]"
          ]
        },
        {
          "output_type": "stream",
          "name": "stdout",
          "text": [
            "[0.0791544  0.24323255 0.23282868 0.38328046 0.06150391]\n",
            "[ 2  7  7 13  1]\n"
          ]
        },
        {
          "output_type": "stream",
          "name": "stderr",
          "text": [
            "\rTraining:  66%|█████████████████████████████████                 | 331/500 [01:27<00:45,  3.73it/s]"
          ]
        },
        {
          "output_type": "stream",
          "name": "stdout",
          "text": [
            "[0.0791544  0.24323255 0.23282868 0.38328046 0.06150391]\n",
            "[2 8 9 7 4]\n"
          ]
        },
        {
          "output_type": "stream",
          "name": "stderr",
          "text": [
            "\rTraining:  66%|█████████████████████████████████▏                | 332/500 [01:28<00:44,  3.75it/s]"
          ]
        },
        {
          "output_type": "stream",
          "name": "stdout",
          "text": [
            "[0.0791544  0.24323255 0.23282868 0.38328046 0.06150391]\n",
            "[ 1 10  5 13  1]\n"
          ]
        },
        {
          "output_type": "stream",
          "name": "stderr",
          "text": [
            "\rTraining:  67%|█████████████████████████████████▎                | 333/500 [01:28<00:43,  3.81it/s]"
          ]
        },
        {
          "output_type": "stream",
          "name": "stdout",
          "text": [
            "[0.0791544  0.24323255 0.23282868 0.38328046 0.06150391]\n",
            "[ 0  9  7 13  1]\n"
          ]
        },
        {
          "output_type": "stream",
          "name": "stderr",
          "text": [
            "\rTraining:  67%|█████████████████████████████████▍                | 334/500 [01:28<00:42,  3.89it/s]"
          ]
        },
        {
          "output_type": "stream",
          "name": "stdout",
          "text": [
            "[0.0791544  0.24323255 0.23282868 0.38328046 0.06150391]\n",
            "[ 0  6 10  9  5]\n"
          ]
        },
        {
          "output_type": "stream",
          "name": "stderr",
          "text": [
            "\rTraining:  67%|█████████████████████████████████▌                | 335/500 [01:28<00:41,  4.00it/s]"
          ]
        },
        {
          "output_type": "stream",
          "name": "stdout",
          "text": [
            "[0.0791544  0.24323255 0.23282868 0.38328046 0.06150391]\n",
            "[3 9 9 9 0]\n"
          ]
        },
        {
          "output_type": "stream",
          "name": "stderr",
          "text": [
            "\rTraining:  67%|█████████████████████████████████▌                | 336/500 [01:28<00:40,  4.01it/s]"
          ]
        },
        {
          "output_type": "stream",
          "name": "stdout",
          "text": [
            "[0.0791544  0.24323255 0.23282868 0.38328046 0.06150391]\n",
            "[ 1  6  6 13  4]\n"
          ]
        },
        {
          "output_type": "stream",
          "name": "stderr",
          "text": [
            "\rTraining:  67%|█████████████████████████████████▋                | 337/500 [01:29<00:40,  4.06it/s]"
          ]
        },
        {
          "output_type": "stream",
          "name": "stdout",
          "text": [
            "[0.0791544  0.24323255 0.23282868 0.38328046 0.06150391]\n",
            "[ 3 11  5  9  2]\n"
          ]
        },
        {
          "output_type": "stream",
          "name": "stderr",
          "text": [
            "\rTraining:  68%|█████████████████████████████████▊                | 338/500 [01:29<00:39,  4.06it/s]"
          ]
        },
        {
          "output_type": "stream",
          "name": "stdout",
          "text": [
            "[0.0791544  0.24323255 0.23282868 0.38328046 0.06150391]\n",
            "[ 2  4  8 13  3]\n"
          ]
        },
        {
          "output_type": "stream",
          "name": "stderr",
          "text": [
            "\rTraining:  68%|█████████████████████████████████▉                | 339/500 [01:29<00:39,  4.09it/s]"
          ]
        },
        {
          "output_type": "stream",
          "name": "stdout",
          "text": [
            "[0.0791544  0.24323255 0.23282868 0.38328046 0.06150391]\n",
            "[ 1 12  5 11  1]\n"
          ]
        },
        {
          "output_type": "stream",
          "name": "stderr",
          "text": [
            "\rTraining:  68%|██████████████████████████████████                | 340/500 [01:29<00:39,  4.10it/s]"
          ]
        },
        {
          "output_type": "stream",
          "name": "stdout",
          "text": [
            "[0.0791544  0.24323255 0.23282868 0.38328046 0.06150391]\n",
            "[ 1  9 10  9  1]\n"
          ]
        },
        {
          "output_type": "stream",
          "name": "stderr",
          "text": [
            "\rTraining:  68%|██████████████████████████████████                | 341/500 [01:30<00:39,  4.05it/s]"
          ]
        },
        {
          "output_type": "stream",
          "name": "stdout",
          "text": [
            "[0.0791544  0.24323255 0.23282868 0.38328046 0.06150391]\n",
            "[3 8 7 8 4]\n"
          ]
        },
        {
          "output_type": "stream",
          "name": "stderr",
          "text": [
            "\rTraining:  68%|██████████████████████████████████▏               | 342/500 [01:30<00:38,  4.06it/s]"
          ]
        },
        {
          "output_type": "stream",
          "name": "stdout",
          "text": [
            "[0.0791544  0.24323255 0.23282868 0.38328046 0.06150391]\n",
            "[ 1  8  8 11  2]\n"
          ]
        },
        {
          "output_type": "stream",
          "name": "stderr",
          "text": [
            "\rTraining:  69%|██████████████████████████████████▎               | 343/500 [01:30<00:39,  4.01it/s]"
          ]
        },
        {
          "output_type": "stream",
          "name": "stdout",
          "text": [
            "[0.0791544  0.24323255 0.23282868 0.38328046 0.06150391]\n",
            "[ 0  5  2 20  3]\n"
          ]
        },
        {
          "output_type": "stream",
          "name": "stderr",
          "text": [
            "\rTraining:  69%|██████████████████████████████████▍               | 344/500 [01:30<00:38,  4.07it/s]"
          ]
        },
        {
          "output_type": "stream",
          "name": "stdout",
          "text": [
            "[0.0791544  0.24323255 0.23282868 0.38328046 0.06150391]\n",
            "[ 4 11  6  8  1]\n"
          ]
        },
        {
          "output_type": "stream",
          "name": "stderr",
          "text": [
            "\rTraining:  69%|██████████████████████████████████▌               | 345/500 [01:31<00:37,  4.09it/s]"
          ]
        },
        {
          "output_type": "stream",
          "name": "stdout",
          "text": [
            "[0.0791544  0.24323255 0.23282868 0.38328046 0.06150391]\n",
            "[ 4  7  8 10  1]\n"
          ]
        },
        {
          "output_type": "stream",
          "name": "stderr",
          "text": [
            "\rTraining:  69%|██████████████████████████████████▌               | 346/500 [01:31<00:37,  4.10it/s]"
          ]
        },
        {
          "output_type": "stream",
          "name": "stdout",
          "text": [
            "[0.0791544  0.24323255 0.23282868 0.38328046 0.06150391]\n",
            "[ 3 14  5  8  0]\n"
          ]
        },
        {
          "output_type": "stream",
          "name": "stderr",
          "text": [
            "\rTraining:  69%|██████████████████████████████████▋               | 347/500 [01:31<00:37,  4.04it/s]"
          ]
        },
        {
          "output_type": "stream",
          "name": "stdout",
          "text": [
            "[0.0791544  0.24323255 0.23282868 0.38328046 0.06150391]\n",
            "[3 9 9 8 1]\n"
          ]
        },
        {
          "output_type": "stream",
          "name": "stderr",
          "text": [
            "\rTraining:  70%|██████████████████████████████████▊               | 348/500 [01:31<00:37,  4.06it/s]"
          ]
        },
        {
          "output_type": "stream",
          "name": "stdout",
          "text": [
            "[0.0791544  0.24323255 0.23282868 0.38328046 0.06150391]\n",
            "[ 5  7  6 10  2]\n"
          ]
        },
        {
          "output_type": "stream",
          "name": "stderr",
          "text": [
            "\rTraining:  70%|██████████████████████████████████▉               | 349/500 [01:32<00:37,  4.04it/s]"
          ]
        },
        {
          "output_type": "stream",
          "name": "stdout",
          "text": [
            "[0.0791544  0.24323255 0.23282868 0.38328046 0.06150391]\n",
            "[ 2  9  7 10  2]\n"
          ]
        },
        {
          "output_type": "stream",
          "name": "stderr",
          "text": [
            "\rTraining:  70%|███████████████████████████████████               | 350/500 [01:32<00:36,  4.09it/s]"
          ]
        },
        {
          "output_type": "stream",
          "name": "stdout",
          "text": [
            "[0.0791544  0.24323255 0.23282868 0.38328046 0.06150391]\n",
            "[ 4  3  6 14  3]\n"
          ]
        },
        {
          "output_type": "stream",
          "name": "stderr",
          "text": [
            "\rTraining:  70%|███████████████████████████████████               | 351/500 [01:32<00:36,  4.06it/s]"
          ]
        },
        {
          "output_type": "stream",
          "name": "stdout",
          "text": [
            "[0.0791544  0.24323255 0.23282868 0.38328046 0.06150391]\n",
            "[ 1  6  6 16  1]\n"
          ]
        },
        {
          "output_type": "stream",
          "name": "stderr",
          "text": [
            "\rTraining:  70%|███████████████████████████████████▏              | 352/500 [01:32<00:36,  4.01it/s]"
          ]
        },
        {
          "output_type": "stream",
          "name": "stdout",
          "text": [
            "[0.0791544  0.24323255 0.23282868 0.38328046 0.06150391]\n",
            "[ 3  9  5 13  0]\n"
          ]
        },
        {
          "output_type": "stream",
          "name": "stderr",
          "text": [
            "\rTraining:  71%|███████████████████████████████████▎              | 353/500 [01:33<00:36,  4.03it/s]"
          ]
        },
        {
          "output_type": "stream",
          "name": "stdout",
          "text": [
            "[0.0791544  0.24323255 0.23282868 0.38328046 0.06150391]\n",
            "[ 2  5  5 14  4]\n"
          ]
        },
        {
          "output_type": "stream",
          "name": "stderr",
          "text": [
            "\rTraining:  71%|███████████████████████████████████▍              | 354/500 [01:33<00:35,  4.06it/s]"
          ]
        },
        {
          "output_type": "stream",
          "name": "stdout",
          "text": [
            "[0.0791544  0.24323255 0.23282868 0.38328046 0.06150391]\n",
            "[ 1 10  8 11  0]\n"
          ]
        },
        {
          "output_type": "stream",
          "name": "stderr",
          "text": [
            "\rTraining:  71%|███████████████████████████████████▌              | 355/500 [01:33<00:36,  3.98it/s]"
          ]
        },
        {
          "output_type": "stream",
          "name": "stdout",
          "text": [
            "[0.0791544  0.24323255 0.23282868 0.38328046 0.06150391]\n",
            "[ 3 12  3 11  1]\n"
          ]
        },
        {
          "output_type": "stream",
          "name": "stderr",
          "text": [
            "\rTraining:  71%|███████████████████████████████████▌              | 356/500 [01:33<00:36,  3.98it/s]"
          ]
        },
        {
          "output_type": "stream",
          "name": "stdout",
          "text": [
            "[0.0791544  0.24323255 0.23282868 0.38328046 0.06150391]\n",
            "[ 5  9  2 12  2]\n"
          ]
        },
        {
          "output_type": "stream",
          "name": "stderr",
          "text": [
            "\rTraining:  71%|███████████████████████████████████▋              | 357/500 [01:34<00:36,  3.95it/s]"
          ]
        },
        {
          "output_type": "stream",
          "name": "stdout",
          "text": [
            "[0.0791544  0.24323255 0.23282868 0.38328046 0.06150391]\n",
            "[ 3  6  8 11  2]\n"
          ]
        },
        {
          "output_type": "stream",
          "name": "stderr",
          "text": [
            "\rTraining:  72%|███████████████████████████████████▊              | 358/500 [01:34<00:36,  3.93it/s]"
          ]
        },
        {
          "output_type": "stream",
          "name": "stdout",
          "text": [
            "[0.0791544  0.24323255 0.23282868 0.38328046 0.06150391]\n",
            "[ 1  5  9 13  2]\n"
          ]
        },
        {
          "output_type": "stream",
          "name": "stderr",
          "text": [
            "\rTraining:  72%|███████████████████████████████████▉              | 359/500 [01:34<00:36,  3.87it/s]"
          ]
        },
        {
          "output_type": "stream",
          "name": "stdout",
          "text": [
            "[0.0791544  0.24323255 0.23282868 0.38328046 0.06150391]\n",
            "[ 1 10  7  9  3]\n"
          ]
        },
        {
          "output_type": "stream",
          "name": "stderr",
          "text": [
            "\rTraining:  72%|████████████████████████████████████              | 360/500 [01:34<00:35,  3.89it/s]"
          ]
        },
        {
          "output_type": "stream",
          "name": "stdout",
          "text": [
            "[0.0791544  0.24323255 0.23282868 0.38328046 0.06150391]\n",
            "[ 4  8  5 11  2]\n"
          ]
        },
        {
          "output_type": "stream",
          "name": "stderr",
          "text": [
            "\rTraining:  72%|████████████████████████████████████              | 361/500 [01:35<00:36,  3.83it/s]"
          ]
        },
        {
          "output_type": "stream",
          "name": "stdout",
          "text": [
            "[0.0791544  0.24323255 0.23282868 0.38328046 0.06150391]\n",
            "[ 3 10  4 10  3]\n"
          ]
        },
        {
          "output_type": "stream",
          "name": "stderr",
          "text": [
            "\rTraining:  72%|████████████████████████████████████▏             | 362/500 [01:35<00:35,  3.90it/s]"
          ]
        },
        {
          "output_type": "stream",
          "name": "stdout",
          "text": [
            "[0.0791544  0.24323255 0.23282868 0.38328046 0.06150391]\n",
            "[ 1  6  8 12  3]\n"
          ]
        },
        {
          "output_type": "stream",
          "name": "stderr",
          "text": [
            "\rTraining:  73%|████████████████████████████████████▎             | 363/500 [01:35<00:35,  3.87it/s]"
          ]
        },
        {
          "output_type": "stream",
          "name": "stdout",
          "text": [
            "[0.0791544  0.24323255 0.23282868 0.38328046 0.06150391]\n",
            "[ 4  2 13  9  2]\n"
          ]
        },
        {
          "output_type": "stream",
          "name": "stderr",
          "text": [
            "\rTraining:  73%|████████████████████████████████████▍             | 364/500 [01:36<00:35,  3.87it/s]"
          ]
        },
        {
          "output_type": "stream",
          "name": "stdout",
          "text": [
            "[0.0791544  0.24323255 0.23282868 0.38328046 0.06150391]\n",
            "[ 4  6  8 11  1]\n"
          ]
        },
        {
          "output_type": "stream",
          "name": "stderr",
          "text": [
            "\rTraining:  73%|████████████████████████████████████▌             | 365/500 [01:36<00:34,  3.90it/s]"
          ]
        },
        {
          "output_type": "stream",
          "name": "stdout",
          "text": [
            "[0.0791544  0.24323255 0.23282868 0.38328046 0.06150391]\n",
            "[ 3  4  6 13  4]\n"
          ]
        },
        {
          "output_type": "stream",
          "name": "stderr",
          "text": [
            "\rTraining:  73%|████████████████████████████████████▌             | 366/500 [01:36<00:34,  3.92it/s]"
          ]
        },
        {
          "output_type": "stream",
          "name": "stdout",
          "text": [
            "[0.0791544  0.24323255 0.23282868 0.38328046 0.06150391]\n",
            "[ 4  6 12  6  2]\n"
          ]
        },
        {
          "output_type": "stream",
          "name": "stderr",
          "text": [
            "\rTraining:  73%|████████████████████████████████████▋             | 367/500 [01:36<00:34,  3.89it/s]"
          ]
        },
        {
          "output_type": "stream",
          "name": "stdout",
          "text": [
            "[0.0791544  0.24323255 0.23282868 0.38328046 0.06150391]\n",
            "[ 3  8  8 11  0]\n"
          ]
        },
        {
          "output_type": "stream",
          "name": "stderr",
          "text": [
            "\rTraining:  74%|████████████████████████████████████▊             | 368/500 [01:37<00:34,  3.87it/s]"
          ]
        },
        {
          "output_type": "stream",
          "name": "stdout",
          "text": [
            "[0.0791544  0.24323255 0.23282868 0.38328046 0.06150391]\n",
            "[ 2 12  7  7  2]\n"
          ]
        },
        {
          "output_type": "stream",
          "name": "stderr",
          "text": [
            "\rTraining:  74%|████████████████████████████████████▉             | 369/500 [01:37<00:33,  3.95it/s]"
          ]
        },
        {
          "output_type": "stream",
          "name": "stdout",
          "text": [
            "[0.0791544  0.24323255 0.23282868 0.38328046 0.06150391]\n",
            "[ 3  5  8 13  1]\n"
          ]
        },
        {
          "output_type": "stream",
          "name": "stderr",
          "text": [
            "\rTraining:  74%|█████████████████████████████████████             | 370/500 [01:37<00:32,  4.00it/s]"
          ]
        },
        {
          "output_type": "stream",
          "name": "stdout",
          "text": [
            "[0.0791544  0.24323255 0.23282868 0.38328046 0.06150391]\n",
            "[ 3  8  6 12  1]\n"
          ]
        },
        {
          "output_type": "stream",
          "name": "stderr",
          "text": [
            "\rTraining:  74%|█████████████████████████████████████             | 371/500 [01:37<00:32,  3.98it/s]"
          ]
        },
        {
          "output_type": "stream",
          "name": "stdout",
          "text": [
            "[0.0791544  0.24323255 0.23282868 0.38328046 0.06150391]\n",
            "[ 1  6 11 12  0]\n"
          ]
        },
        {
          "output_type": "stream",
          "name": "stderr",
          "text": [
            "\rTraining:  74%|█████████████████████████████████████▏            | 372/500 [01:38<00:32,  3.91it/s]"
          ]
        },
        {
          "output_type": "stream",
          "name": "stdout",
          "text": [
            "[0.0791544  0.24323255 0.23282868 0.38328046 0.06150391]\n",
            "[ 2  7  5 14  2]\n"
          ]
        },
        {
          "output_type": "stream",
          "name": "stderr",
          "text": [
            "\rTraining:  75%|█████████████████████████████████████▎            | 373/500 [01:38<00:32,  3.89it/s]"
          ]
        },
        {
          "output_type": "stream",
          "name": "stdout",
          "text": [
            "[0.0791544  0.24323255 0.23282868 0.38328046 0.06150391]\n",
            "[ 4  4  7 11  4]\n"
          ]
        },
        {
          "output_type": "stream",
          "name": "stderr",
          "text": [
            "\rTraining:  75%|█████████████████████████████████████▍            | 374/500 [01:38<00:32,  3.91it/s]"
          ]
        },
        {
          "output_type": "stream",
          "name": "stdout",
          "text": [
            "[0.0791544  0.24323255 0.23282868 0.38328046 0.06150391]\n",
            "[2 5 9 9 5]\n"
          ]
        },
        {
          "output_type": "stream",
          "name": "stderr",
          "text": [
            "\rTraining:  75%|█████████████████████████████████████▌            | 375/500 [01:38<00:32,  3.88it/s]"
          ]
        },
        {
          "output_type": "stream",
          "name": "stdout",
          "text": [
            "[0.0791544  0.24323255 0.23282868 0.38328046 0.06150391]\n",
            "[ 1  9  4 15  1]\n"
          ]
        },
        {
          "output_type": "stream",
          "name": "stderr",
          "text": [
            "\rTraining:  75%|█████████████████████████████████████▌            | 376/500 [01:39<00:31,  3.89it/s]"
          ]
        },
        {
          "output_type": "stream",
          "name": "stdout",
          "text": [
            "[0.0791544  0.24323255 0.23282868 0.38328046 0.06150391]\n",
            "[ 0  6 10 11  3]\n"
          ]
        },
        {
          "output_type": "stream",
          "name": "stderr",
          "text": [
            "\rTraining:  75%|█████████████████████████████████████▋            | 377/500 [01:39<00:31,  3.89it/s]"
          ]
        },
        {
          "output_type": "stream",
          "name": "stdout",
          "text": [
            "[0.0791544  0.24323255 0.23282868 0.38328046 0.06150391]\n",
            "[ 4 11  4  8  3]\n"
          ]
        },
        {
          "output_type": "stream",
          "name": "stderr",
          "text": [
            "\rTraining:  76%|█████████████████████████████████████▊            | 378/500 [01:39<00:31,  3.86it/s]"
          ]
        },
        {
          "output_type": "stream",
          "name": "stdout",
          "text": [
            "[0.0791544  0.24323255 0.23282868 0.38328046 0.06150391]\n",
            "[ 1  6  9 14  0]\n"
          ]
        },
        {
          "output_type": "stream",
          "name": "stderr",
          "text": [
            "\rTraining:  76%|█████████████████████████████████████▉            | 379/500 [01:39<00:31,  3.82it/s]"
          ]
        },
        {
          "output_type": "stream",
          "name": "stdout",
          "text": [
            "[0.0791544  0.24323255 0.23282868 0.38328046 0.06150391]\n",
            "[ 2  7  8 11  2]\n"
          ]
        },
        {
          "output_type": "stream",
          "name": "stderr",
          "text": [
            "\rTraining:  76%|██████████████████████████████████████            | 380/500 [01:40<00:31,  3.82it/s]"
          ]
        },
        {
          "output_type": "stream",
          "name": "stdout",
          "text": [
            "[0.0791544  0.24323255 0.23282868 0.38328046 0.06150391]\n",
            "[ 3  8  7 11  1]\n"
          ]
        },
        {
          "output_type": "stream",
          "name": "stderr",
          "text": [
            "\rTraining:  76%|██████████████████████████████████████            | 381/500 [01:40<00:31,  3.81it/s]"
          ]
        },
        {
          "output_type": "stream",
          "name": "stdout",
          "text": [
            "[0.0791544  0.24323255 0.23282868 0.38328046 0.06150391]\n",
            "[ 2  6  3 17  2]\n"
          ]
        },
        {
          "output_type": "stream",
          "name": "stderr",
          "text": [
            "\rTraining:  76%|██████████████████████████████████████▏           | 382/500 [01:40<00:30,  3.87it/s]"
          ]
        },
        {
          "output_type": "stream",
          "name": "stdout",
          "text": [
            "[0.0791544  0.24323255 0.23282868 0.38328046 0.06150391]\n",
            "[ 2  6  9 13  0]\n"
          ]
        },
        {
          "output_type": "stream",
          "name": "stderr",
          "text": [
            "\rTraining:  77%|██████████████████████████████████████▎           | 383/500 [01:40<00:30,  3.89it/s]"
          ]
        },
        {
          "output_type": "stream",
          "name": "stdout",
          "text": [
            "[0.0791544  0.24323255 0.23282868 0.38328046 0.06150391]\n",
            "[ 7  3  7 11  2]\n"
          ]
        },
        {
          "output_type": "stream",
          "name": "stderr",
          "text": [
            "\rTraining:  77%|██████████████████████████████████████▍           | 384/500 [01:41<00:29,  3.91it/s]"
          ]
        },
        {
          "output_type": "stream",
          "name": "stdout",
          "text": [
            "[0.0791544  0.24323255 0.23282868 0.38328046 0.06150391]\n",
            "[ 4  9  4 12  1]\n"
          ]
        },
        {
          "output_type": "stream",
          "name": "stderr",
          "text": [
            "\rTraining:  77%|██████████████████████████████████████▌           | 385/500 [01:41<00:29,  3.92it/s]"
          ]
        },
        {
          "output_type": "stream",
          "name": "stdout",
          "text": [
            "[0.0791544  0.24323255 0.23282868 0.38328046 0.06150391]\n",
            "[ 3  8  7 12  0]\n"
          ]
        },
        {
          "output_type": "stream",
          "name": "stderr",
          "text": [
            "\rTraining:  77%|██████████████████████████████████████▌           | 386/500 [01:41<00:29,  3.88it/s]"
          ]
        },
        {
          "output_type": "stream",
          "name": "stdout",
          "text": [
            "[0.0791544  0.24323255 0.23282868 0.38328046 0.06150391]\n",
            "[ 2  4  7 15  2]\n"
          ]
        },
        {
          "output_type": "stream",
          "name": "stderr",
          "text": [
            "\rTraining:  77%|██████████████████████████████████████▋           | 387/500 [01:41<00:28,  3.94it/s]"
          ]
        },
        {
          "output_type": "stream",
          "name": "stdout",
          "text": [
            "[0.0791544  0.24323255 0.23282868 0.38328046 0.06150391]\n",
            "[ 3  8  6 10  3]\n"
          ]
        },
        {
          "output_type": "stream",
          "name": "stderr",
          "text": [
            "\rTraining:  78%|██████████████████████████████████████▊           | 388/500 [01:42<00:28,  3.97it/s]"
          ]
        },
        {
          "output_type": "stream",
          "name": "stdout",
          "text": [
            "[0.0791544  0.24323255 0.23282868 0.38328046 0.06150391]\n",
            "[ 2  7  6 14  1]\n"
          ]
        },
        {
          "output_type": "stream",
          "name": "stderr",
          "text": [
            "\rTraining:  78%|██████████████████████████████████████▉           | 389/500 [01:42<00:28,  3.91it/s]"
          ]
        },
        {
          "output_type": "stream",
          "name": "stdout",
          "text": [
            "[0.0791544  0.24323255 0.23282868 0.38328046 0.06150391]\n",
            "[ 3  3  7 16  1]\n"
          ]
        },
        {
          "output_type": "stream",
          "name": "stderr",
          "text": [
            "\rTraining:  78%|███████████████████████████████████████           | 390/500 [01:42<00:27,  3.94it/s]"
          ]
        },
        {
          "output_type": "stream",
          "name": "stdout",
          "text": [
            "[0.0791544  0.24323255 0.23282868 0.38328046 0.06150391]\n",
            "[ 2 10  9  9  0]\n"
          ]
        },
        {
          "output_type": "stream",
          "name": "stderr",
          "text": [
            "\rTraining:  78%|███████████████████████████████████████           | 391/500 [01:42<00:28,  3.86it/s]"
          ]
        },
        {
          "output_type": "stream",
          "name": "stdout",
          "text": [
            "[0.0791544  0.24323255 0.23282868 0.38328046 0.06150391]\n",
            "[ 1 10  4 13  2]\n"
          ]
        },
        {
          "output_type": "stream",
          "name": "stderr",
          "text": [
            "\rTraining:  78%|███████████████████████████████████████▏          | 392/500 [01:43<00:27,  3.87it/s]"
          ]
        },
        {
          "output_type": "stream",
          "name": "stdout",
          "text": [
            "[0.0791544  0.24323255 0.23282868 0.38328046 0.06150391]\n",
            "[ 1  8  8 10  3]\n"
          ]
        },
        {
          "output_type": "stream",
          "name": "stderr",
          "text": [
            "\rTraining:  79%|███████████████████████████████████████▎          | 393/500 [01:43<00:27,  3.86it/s]"
          ]
        },
        {
          "output_type": "stream",
          "name": "stdout",
          "text": [
            "[0.0791544  0.24323255 0.23282868 0.38328046 0.06150391]\n",
            "[ 3  7  4 12  4]\n"
          ]
        },
        {
          "output_type": "stream",
          "name": "stderr",
          "text": [
            "\rTraining:  79%|███████████████████████████████████████▍          | 394/500 [01:43<00:27,  3.84it/s]"
          ]
        },
        {
          "output_type": "stream",
          "name": "stdout",
          "text": [
            "[0.0791544  0.24323255 0.23282868 0.38328046 0.06150391]\n",
            "[ 0  5  9 14  2]\n"
          ]
        },
        {
          "output_type": "stream",
          "name": "stderr",
          "text": [
            "\rTraining:  79%|███████████████████████████████████████▌          | 395/500 [01:43<00:27,  3.76it/s]"
          ]
        },
        {
          "output_type": "stream",
          "name": "stdout",
          "text": [
            "[0.0791544  0.24323255 0.23282868 0.38328046 0.06150391]\n",
            "[3 8 8 9 2]\n"
          ]
        },
        {
          "output_type": "stream",
          "name": "stderr",
          "text": [
            "\rTraining:  79%|███████████████████████████████████████▌          | 396/500 [01:44<00:27,  3.79it/s]"
          ]
        },
        {
          "output_type": "stream",
          "name": "stdout",
          "text": [
            "[0.0791544  0.24323255 0.23282868 0.38328046 0.06150391]\n",
            "[ 0  5 11 12  2]\n"
          ]
        },
        {
          "output_type": "stream",
          "name": "stderr",
          "text": [
            "\rTraining:  79%|███████████████████████████████████████▋          | 397/500 [01:44<00:26,  3.83it/s]"
          ]
        },
        {
          "output_type": "stream",
          "name": "stdout",
          "text": [
            "[0.0791544  0.24323255 0.23282868 0.38328046 0.06150391]\n",
            "[ 2 10  5 12  1]\n"
          ]
        },
        {
          "output_type": "stream",
          "name": "stderr",
          "text": [
            "\rTraining:  80%|███████████████████████████████████████▊          | 398/500 [01:44<00:26,  3.91it/s]"
          ]
        },
        {
          "output_type": "stream",
          "name": "stdout",
          "text": [
            "[0.0791544  0.24323255 0.23282868 0.38328046 0.06150391]\n",
            "[ 3  7  6 12  2]\n"
          ]
        },
        {
          "output_type": "stream",
          "name": "stderr",
          "text": [
            "\rTraining:  80%|███████████████████████████████████████▉          | 399/500 [01:45<00:27,  3.73it/s]"
          ]
        },
        {
          "output_type": "stream",
          "name": "stdout",
          "text": [
            "[0.0791544  0.24323255 0.23282868 0.38328046 0.06150391]\n",
            "[ 4 10  3 10  3]\n"
          ]
        },
        {
          "output_type": "stream",
          "name": "stderr",
          "text": [
            "\rTraining:  80%|████████████████████████████████████████          | 400/500 [01:45<00:37,  2.69it/s]"
          ]
        },
        {
          "output_type": "stream",
          "name": "stdout",
          "text": [
            "[0.0791544  0.24323255 0.23282868 0.38328046 0.06150391]\n",
            "[ 2  7  8 12  1]\n"
          ]
        },
        {
          "output_type": "stream",
          "name": "stderr",
          "text": [
            "\rTraining:  80%|████████████████████████████████████████          | 401/500 [01:45<00:33,  2.97it/s]"
          ]
        },
        {
          "output_type": "stream",
          "name": "stdout",
          "text": [
            "[0.0791544  0.24323255 0.23282868 0.38328046 0.06150391]\n",
            "[ 1  6  9 12  2]\n"
          ]
        },
        {
          "output_type": "stream",
          "name": "stderr",
          "text": [
            "\rTraining:  80%|████████████████████████████████████████▏         | 402/500 [01:46<00:30,  3.22it/s]"
          ]
        },
        {
          "output_type": "stream",
          "name": "stdout",
          "text": [
            "[0.0791544  0.24323255 0.23282868 0.38328046 0.06150391]\n",
            "[ 1 10  7 12  0]\n"
          ]
        },
        {
          "output_type": "stream",
          "name": "stderr",
          "text": [
            "\rTraining:  81%|████████████████████████████████████████▎         | 403/500 [01:46<00:28,  3.38it/s]"
          ]
        },
        {
          "output_type": "stream",
          "name": "stdout",
          "text": [
            "[0.0791544  0.24323255 0.23282868 0.38328046 0.06150391]\n",
            "[ 4  8  6 11  1]\n"
          ]
        },
        {
          "output_type": "stream",
          "name": "stderr",
          "text": [
            "\rTraining:  81%|████████████████████████████████████████▍         | 404/500 [01:46<00:27,  3.53it/s]"
          ]
        },
        {
          "output_type": "stream",
          "name": "stdout",
          "text": [
            "[0.0791544  0.24323255 0.23282868 0.38328046 0.06150391]\n",
            "[ 2 10  4 11  3]\n"
          ]
        },
        {
          "output_type": "stream",
          "name": "stderr",
          "text": [
            "\rTraining:  81%|████████████████████████████████████████▌         | 405/500 [01:46<00:26,  3.57it/s]"
          ]
        },
        {
          "output_type": "stream",
          "name": "stdout",
          "text": [
            "[0.0791544  0.24323255 0.23282868 0.38328046 0.06150391]\n",
            "[ 1  8  8 11  2]\n"
          ]
        },
        {
          "output_type": "stream",
          "name": "stderr",
          "text": [
            "\rTraining:  81%|████████████████████████████████████████▌         | 406/500 [01:47<00:25,  3.64it/s]"
          ]
        },
        {
          "output_type": "stream",
          "name": "stdout",
          "text": [
            "[0.0791544  0.24323255 0.23282868 0.38328046 0.06150391]\n",
            "[ 2  7  7 13  1]\n"
          ]
        },
        {
          "output_type": "stream",
          "name": "stderr",
          "text": [
            "\rTraining:  81%|████████████████████████████████████████▋         | 407/500 [01:47<00:24,  3.73it/s]"
          ]
        },
        {
          "output_type": "stream",
          "name": "stdout",
          "text": [
            "[0.0791544  0.24323255 0.23282868 0.38328046 0.06150391]\n",
            "[ 2  6  8 13  1]\n"
          ]
        },
        {
          "output_type": "stream",
          "name": "stderr",
          "text": [
            "\rTraining:  82%|████████████████████████████████████████▊         | 408/500 [01:47<00:23,  3.83it/s]"
          ]
        },
        {
          "output_type": "stream",
          "name": "stdout",
          "text": [
            "[0.0791544  0.24323255 0.23282868 0.38328046 0.06150391]\n",
            "[ 5  6  7 10  2]\n"
          ]
        },
        {
          "output_type": "stream",
          "name": "stderr",
          "text": [
            "\rTraining:  82%|████████████████████████████████████████▉         | 409/500 [01:47<00:23,  3.86it/s]"
          ]
        },
        {
          "output_type": "stream",
          "name": "stdout",
          "text": [
            "[0.0791544  0.24323255 0.23282868 0.38328046 0.06150391]\n",
            "[ 2  8  5 14  1]\n"
          ]
        },
        {
          "output_type": "stream",
          "name": "stderr",
          "text": [
            "\rTraining:  82%|█████████████████████████████████████████         | 410/500 [01:48<00:23,  3.80it/s]"
          ]
        },
        {
          "output_type": "stream",
          "name": "stdout",
          "text": [
            "[0.0791544  0.24323255 0.23282868 0.38328046 0.06150391]\n",
            "[ 2  7  7 11  3]\n"
          ]
        },
        {
          "output_type": "stream",
          "name": "stderr",
          "text": [
            "\rTraining:  82%|█████████████████████████████████████████         | 411/500 [01:48<00:23,  3.83it/s]"
          ]
        },
        {
          "output_type": "stream",
          "name": "stdout",
          "text": [
            "[0.0791544  0.24323255 0.23282868 0.38328046 0.06150391]\n",
            "[ 4  5  8 11  2]\n"
          ]
        },
        {
          "output_type": "stream",
          "name": "stderr",
          "text": [
            "\rTraining:  82%|█████████████████████████████████████████▏        | 412/500 [01:48<00:22,  3.87it/s]"
          ]
        },
        {
          "output_type": "stream",
          "name": "stdout",
          "text": [
            "[0.0791544  0.24323255 0.23282868 0.38328046 0.06150391]\n",
            "[ 1  4  8 14  3]\n"
          ]
        },
        {
          "output_type": "stream",
          "name": "stderr",
          "text": [
            "\rTraining:  83%|█████████████████████████████████████████▎        | 413/500 [01:49<00:23,  3.77it/s]"
          ]
        },
        {
          "output_type": "stream",
          "name": "stdout",
          "text": [
            "[0.0791544  0.24323255 0.23282868 0.38328046 0.06150391]\n",
            "[ 4  6  5 11  4]\n"
          ]
        },
        {
          "output_type": "stream",
          "name": "stderr",
          "text": [
            "\rTraining:  83%|█████████████████████████████████████████▍        | 414/500 [01:49<00:22,  3.86it/s]"
          ]
        },
        {
          "output_type": "stream",
          "name": "stdout",
          "text": [
            "[0.0791544  0.24323255 0.23282868 0.38328046 0.06150391]\n",
            "[ 1  8  7 13  1]\n"
          ]
        },
        {
          "output_type": "stream",
          "name": "stderr",
          "text": [
            "\rTraining:  83%|█████████████████████████████████████████▌        | 415/500 [01:49<00:21,  3.94it/s]"
          ]
        },
        {
          "output_type": "stream",
          "name": "stdout",
          "text": [
            "[0.0791544  0.24323255 0.23282868 0.38328046 0.06150391]\n",
            "[ 3  7  9 10  1]\n"
          ]
        },
        {
          "output_type": "stream",
          "name": "stderr",
          "text": [
            "\rTraining:  83%|█████████████████████████████████████████▌        | 416/500 [01:49<00:21,  3.95it/s]"
          ]
        },
        {
          "output_type": "stream",
          "name": "stdout",
          "text": [
            "[0.0791544  0.24323255 0.23282868 0.38328046 0.06150391]\n",
            "[ 2 11  7  9  1]\n"
          ]
        },
        {
          "output_type": "stream",
          "name": "stderr",
          "text": [
            "\rTraining:  83%|█████████████████████████████████████████▋        | 417/500 [01:50<00:21,  3.95it/s]"
          ]
        },
        {
          "output_type": "stream",
          "name": "stdout",
          "text": [
            "[0.0791544  0.24323255 0.23282868 0.38328046 0.06150391]\n",
            "[ 3  4 11 11  1]\n"
          ]
        },
        {
          "output_type": "stream",
          "name": "stderr",
          "text": [
            "\rTraining:  84%|█████████████████████████████████████████▊        | 418/500 [01:50<00:20,  3.96it/s]"
          ]
        },
        {
          "output_type": "stream",
          "name": "stdout",
          "text": [
            "[0.0791544  0.24323255 0.23282868 0.38328046 0.06150391]\n",
            "[ 2  6  6 14  2]\n"
          ]
        },
        {
          "output_type": "stream",
          "name": "stderr",
          "text": [
            "\rTraining:  84%|█████████████████████████████████████████▉        | 419/500 [01:50<00:20,  3.94it/s]"
          ]
        },
        {
          "output_type": "stream",
          "name": "stdout",
          "text": [
            "[0.0791544  0.24323255 0.23282868 0.38328046 0.06150391]\n",
            "[ 1  7 10 10  2]\n"
          ]
        },
        {
          "output_type": "stream",
          "name": "stderr",
          "text": [
            "\rTraining:  84%|██████████████████████████████████████████        | 420/500 [01:50<00:20,  3.91it/s]"
          ]
        },
        {
          "output_type": "stream",
          "name": "stdout",
          "text": [
            "[0.0791544  0.24323255 0.23282868 0.38328046 0.06150391]\n",
            "[ 2  8  6 11  3]\n"
          ]
        },
        {
          "output_type": "stream",
          "name": "stderr",
          "text": [
            "\rTraining:  84%|██████████████████████████████████████████        | 421/500 [01:51<00:20,  3.84it/s]"
          ]
        },
        {
          "output_type": "stream",
          "name": "stdout",
          "text": [
            "[0.0791544  0.24323255 0.23282868 0.38328046 0.06150391]\n",
            "[ 1  5  8 16  0]\n"
          ]
        },
        {
          "output_type": "stream",
          "name": "stderr",
          "text": [
            "\rTraining:  84%|██████████████████████████████████████████▏       | 422/500 [01:51<00:20,  3.87it/s]"
          ]
        },
        {
          "output_type": "stream",
          "name": "stdout",
          "text": [
            "[0.0791544  0.24323255 0.23282868 0.38328046 0.06150391]\n",
            "[ 1  8  8 12  1]\n"
          ]
        },
        {
          "output_type": "stream",
          "name": "stderr",
          "text": [
            "\rTraining:  85%|██████████████████████████████████████████▎       | 423/500 [01:51<00:19,  3.88it/s]"
          ]
        },
        {
          "output_type": "stream",
          "name": "stdout",
          "text": [
            "[0.0791544  0.24323255 0.23282868 0.38328046 0.06150391]\n",
            "[4 6 9 6 5]\n"
          ]
        },
        {
          "output_type": "stream",
          "name": "stderr",
          "text": [
            "\rTraining:  85%|██████████████████████████████████████████▍       | 424/500 [01:51<00:19,  3.91it/s]"
          ]
        },
        {
          "output_type": "stream",
          "name": "stdout",
          "text": [
            "[0.0791544  0.24323255 0.23282868 0.38328046 0.06150391]\n",
            "[ 2  7  8 10  3]\n"
          ]
        },
        {
          "output_type": "stream",
          "name": "stderr",
          "text": [
            "\rTraining:  85%|██████████████████████████████████████████▌       | 425/500 [01:52<00:19,  3.85it/s]"
          ]
        },
        {
          "output_type": "stream",
          "name": "stdout",
          "text": [
            "[0.0791544  0.24323255 0.23282868 0.38328046 0.06150391]\n",
            "[ 6  5  5 13  1]\n"
          ]
        },
        {
          "output_type": "stream",
          "name": "stderr",
          "text": [
            "\rTraining:  85%|██████████████████████████████████████████▌       | 426/500 [01:52<00:18,  3.92it/s]"
          ]
        },
        {
          "output_type": "stream",
          "name": "stdout",
          "text": [
            "[0.0791544  0.24323255 0.23282868 0.38328046 0.06150391]\n",
            "[ 3 11  9  7  0]\n"
          ]
        },
        {
          "output_type": "stream",
          "name": "stderr",
          "text": [
            "\rTraining:  85%|██████████████████████████████████████████▋       | 427/500 [01:52<00:18,  4.04it/s]"
          ]
        },
        {
          "output_type": "stream",
          "name": "stdout",
          "text": [
            "[0.0791544  0.24323255 0.23282868 0.38328046 0.06150391]\n",
            "[ 3  2 11 12  2]\n"
          ]
        },
        {
          "output_type": "stream",
          "name": "stderr",
          "text": [
            "\rTraining:  86%|██████████████████████████████████████████▊       | 428/500 [01:52<00:17,  4.03it/s]"
          ]
        },
        {
          "output_type": "stream",
          "name": "stdout",
          "text": [
            "[0.0791544  0.24323255 0.23282868 0.38328046 0.06150391]\n",
            "[ 5  8  6 10  1]\n"
          ]
        },
        {
          "output_type": "stream",
          "name": "stderr",
          "text": [
            "\rTraining:  86%|██████████████████████████████████████████▉       | 429/500 [01:53<00:17,  4.00it/s]"
          ]
        },
        {
          "output_type": "stream",
          "name": "stdout",
          "text": [
            "[0.0791544  0.24323255 0.23282868 0.38328046 0.06150391]\n",
            "[3 9 7 9 2]\n"
          ]
        },
        {
          "output_type": "stream",
          "name": "stderr",
          "text": [
            "\rTraining:  86%|███████████████████████████████████████████       | 430/500 [01:53<00:17,  4.04it/s]"
          ]
        },
        {
          "output_type": "stream",
          "name": "stdout",
          "text": [
            "[0.0791544  0.24323255 0.23282868 0.38328046 0.06150391]\n",
            "[ 1  6  6 16  1]\n"
          ]
        },
        {
          "output_type": "stream",
          "name": "stderr",
          "text": [
            "\rTraining:  86%|███████████████████████████████████████████       | 431/500 [01:53<00:16,  4.08it/s]"
          ]
        },
        {
          "output_type": "stream",
          "name": "stdout",
          "text": [
            "[0.0791544  0.24323255 0.23282868 0.38328046 0.06150391]\n",
            "[ 3 10  6  9  2]\n"
          ]
        },
        {
          "output_type": "stream",
          "name": "stderr",
          "text": [
            "\rTraining:  86%|███████████████████████████████████████████▏      | 432/500 [01:53<00:16,  4.09it/s]"
          ]
        },
        {
          "output_type": "stream",
          "name": "stdout",
          "text": [
            "[0.0791544  0.24323255 0.23282868 0.38328046 0.06150391]\n",
            "[ 3  6  4 14  3]\n"
          ]
        },
        {
          "output_type": "stream",
          "name": "stderr",
          "text": [
            "\rTraining:  87%|███████████████████████████████████████████▎      | 433/500 [01:54<00:16,  4.04it/s]"
          ]
        },
        {
          "output_type": "stream",
          "name": "stdout",
          "text": [
            "[0.0791544  0.24323255 0.23282868 0.38328046 0.06150391]\n",
            "[ 4  8  6 11  1]\n"
          ]
        },
        {
          "output_type": "stream",
          "name": "stderr",
          "text": [
            "\rTraining:  87%|███████████████████████████████████████████▍      | 434/500 [01:54<00:16,  4.06it/s]"
          ]
        },
        {
          "output_type": "stream",
          "name": "stdout",
          "text": [
            "[0.0791544  0.24323255 0.23282868 0.38328046 0.06150391]\n",
            "[ 3 12  5  8  2]\n"
          ]
        },
        {
          "output_type": "stream",
          "name": "stderr",
          "text": [
            "\rTraining:  87%|███████████████████████████████████████████▌      | 435/500 [01:54<00:15,  4.14it/s]"
          ]
        },
        {
          "output_type": "stream",
          "name": "stdout",
          "text": [
            "[0.0791544  0.24323255 0.23282868 0.38328046 0.06150391]\n",
            "[ 5  8  6 10  1]\n"
          ]
        },
        {
          "output_type": "stream",
          "name": "stderr",
          "text": [
            "\rTraining:  87%|███████████████████████████████████████████▌      | 436/500 [01:54<00:15,  4.12it/s]"
          ]
        },
        {
          "output_type": "stream",
          "name": "stdout",
          "text": [
            "[0.0791544  0.24323255 0.23282868 0.38328046 0.06150391]\n",
            "[ 1  8  7 14  0]\n"
          ]
        },
        {
          "output_type": "stream",
          "name": "stderr",
          "text": [
            "\rTraining:  87%|███████████████████████████████████████████▋      | 437/500 [01:55<00:15,  4.10it/s]"
          ]
        },
        {
          "output_type": "stream",
          "name": "stdout",
          "text": [
            "[0.0791544  0.24323255 0.23282868 0.38328046 0.06150391]\n",
            "[ 3 10  5 11  1]\n"
          ]
        },
        {
          "output_type": "stream",
          "name": "stderr",
          "text": [
            "\rTraining:  88%|███████████████████████████████████████████▊      | 438/500 [01:55<00:15,  4.02it/s]"
          ]
        },
        {
          "output_type": "stream",
          "name": "stdout",
          "text": [
            "[0.0791544  0.24323255 0.23282868 0.38328046 0.06150391]\n",
            "[5 9 4 9 3]\n"
          ]
        },
        {
          "output_type": "stream",
          "name": "stderr",
          "text": [
            "\rTraining:  88%|███████████████████████████████████████████▉      | 439/500 [01:55<00:14,  4.07it/s]"
          ]
        },
        {
          "output_type": "stream",
          "name": "stdout",
          "text": [
            "[0.0791544  0.24323255 0.23282868 0.38328046 0.06150391]\n",
            "[ 1  5  7 17  0]\n"
          ]
        },
        {
          "output_type": "stream",
          "name": "stderr",
          "text": [
            "\rTraining:  88%|████████████████████████████████████████████      | 440/500 [01:55<00:14,  4.11it/s]"
          ]
        },
        {
          "output_type": "stream",
          "name": "stdout",
          "text": [
            "[0.0791544  0.24323255 0.23282868 0.38328046 0.06150391]\n",
            "[ 1 11  5 11  2]\n"
          ]
        },
        {
          "output_type": "stream",
          "name": "stderr",
          "text": [
            "\rTraining:  88%|████████████████████████████████████████████      | 441/500 [01:55<00:14,  4.09it/s]"
          ]
        },
        {
          "output_type": "stream",
          "name": "stdout",
          "text": [
            "[0.0791544  0.24323255 0.23282868 0.38328046 0.06150391]\n",
            "[ 1  8  4 14  3]\n"
          ]
        },
        {
          "output_type": "stream",
          "name": "stderr",
          "text": [
            "\rTraining:  88%|████████████████████████████████████████████▏     | 442/500 [01:56<00:14,  4.02it/s]"
          ]
        },
        {
          "output_type": "stream",
          "name": "stdout",
          "text": [
            "[0.0791544  0.24323255 0.23282868 0.38328046 0.06150391]\n",
            "[ 3  7  4 13  3]\n"
          ]
        },
        {
          "output_type": "stream",
          "name": "stderr",
          "text": [
            "\rTraining:  89%|████████████████████████████████████████████▎     | 443/500 [01:56<00:14,  4.03it/s]"
          ]
        },
        {
          "output_type": "stream",
          "name": "stdout",
          "text": [
            "[0.0791544  0.24323255 0.23282868 0.38328046 0.06150391]\n",
            "[ 4  1  7 14  4]\n"
          ]
        },
        {
          "output_type": "stream",
          "name": "stderr",
          "text": [
            "\rTraining:  89%|████████████████████████████████████████████▍     | 444/500 [01:56<00:13,  4.05it/s]"
          ]
        },
        {
          "output_type": "stream",
          "name": "stdout",
          "text": [
            "[0.0791544  0.24323255 0.23282868 0.38328046 0.06150391]\n",
            "[ 2  6  9 11  2]\n"
          ]
        },
        {
          "output_type": "stream",
          "name": "stderr",
          "text": [
            "\rTraining:  89%|████████████████████████████████████████████▌     | 445/500 [01:56<00:13,  4.04it/s]"
          ]
        },
        {
          "output_type": "stream",
          "name": "stdout",
          "text": [
            "[0.0791544  0.24323255 0.23282868 0.38328046 0.06150391]\n",
            "[ 1 13  5 11  0]\n"
          ]
        },
        {
          "output_type": "stream",
          "name": "stderr",
          "text": [
            "\rTraining:  89%|████████████████████████████████████████████▌     | 446/500 [01:57<00:13,  3.93it/s]"
          ]
        },
        {
          "output_type": "stream",
          "name": "stdout",
          "text": [
            "[0.0791544  0.24323255 0.23282868 0.38328046 0.06150391]\n",
            "[ 2  3  8 16  1]\n"
          ]
        },
        {
          "output_type": "stream",
          "name": "stderr",
          "text": [
            "\rTraining:  89%|████████████████████████████████████████████▋     | 447/500 [01:57<00:13,  3.92it/s]"
          ]
        },
        {
          "output_type": "stream",
          "name": "stdout",
          "text": [
            "[0.0791544  0.24323255 0.23282868 0.38328046 0.06150391]\n",
            "[ 2  6  7 14  1]\n"
          ]
        },
        {
          "output_type": "stream",
          "name": "stderr",
          "text": [
            "\rTraining:  90%|████████████████████████████████████████████▊     | 448/500 [01:57<00:13,  3.86it/s]"
          ]
        },
        {
          "output_type": "stream",
          "name": "stdout",
          "text": [
            "[0.0791544  0.24323255 0.23282868 0.38328046 0.06150391]\n",
            "[ 2  9  6 10  3]\n"
          ]
        },
        {
          "output_type": "stream",
          "name": "stderr",
          "text": [
            "\rTraining:  90%|████████████████████████████████████████████▉     | 449/500 [01:58<00:13,  3.86it/s]"
          ]
        },
        {
          "output_type": "stream",
          "name": "stdout",
          "text": [
            "[0.0791544  0.24323255 0.23282868 0.38328046 0.06150391]\n",
            "[ 1 12  3 14  0]\n"
          ]
        },
        {
          "output_type": "stream",
          "name": "stderr",
          "text": [
            "\rTraining:  90%|█████████████████████████████████████████████     | 450/500 [01:58<00:13,  3.78it/s]"
          ]
        },
        {
          "output_type": "stream",
          "name": "stdout",
          "text": [
            "[0.0791544  0.24323255 0.23282868 0.38328046 0.06150391]\n",
            "[ 5  6  4 14  1]\n"
          ]
        },
        {
          "output_type": "stream",
          "name": "stderr",
          "text": [
            "\rTraining:  90%|█████████████████████████████████████████████     | 451/500 [01:58<00:12,  3.84it/s]"
          ]
        },
        {
          "output_type": "stream",
          "name": "stdout",
          "text": [
            "[0.0791544  0.24323255 0.23282868 0.38328046 0.06150391]\n",
            "[ 4  6  5 14  1]\n"
          ]
        },
        {
          "output_type": "stream",
          "name": "stderr",
          "text": [
            "\rTraining:  90%|█████████████████████████████████████████████▏    | 452/500 [01:58<00:12,  3.72it/s]"
          ]
        },
        {
          "output_type": "stream",
          "name": "stdout",
          "text": [
            "[0.0791544  0.24323255 0.23282868 0.38328046 0.06150391]\n",
            "[ 3  8  6 10  3]\n"
          ]
        },
        {
          "output_type": "stream",
          "name": "stderr",
          "text": [
            "\rTraining:  91%|█████████████████████████████████████████████▎    | 453/500 [01:59<00:12,  3.73it/s]"
          ]
        },
        {
          "output_type": "stream",
          "name": "stdout",
          "text": [
            "[0.0791544  0.24323255 0.23282868 0.38328046 0.06150391]\n",
            "[ 3  8 10  8  1]\n"
          ]
        },
        {
          "output_type": "stream",
          "name": "stderr",
          "text": [
            "\rTraining:  91%|█████████████████████████████████████████████▍    | 454/500 [01:59<00:12,  3.74it/s]"
          ]
        },
        {
          "output_type": "stream",
          "name": "stdout",
          "text": [
            "[0.0791544  0.24323255 0.23282868 0.38328046 0.06150391]\n",
            "[ 3  5  7 13  2]\n"
          ]
        },
        {
          "output_type": "stream",
          "name": "stderr",
          "text": [
            "\rTraining:  91%|█████████████████████████████████████████████▌    | 455/500 [01:59<00:11,  3.80it/s]"
          ]
        },
        {
          "output_type": "stream",
          "name": "stdout",
          "text": [
            "[0.0791544  0.24323255 0.23282868 0.38328046 0.06150391]\n",
            "[ 2  8  7 12  1]\n"
          ]
        },
        {
          "output_type": "stream",
          "name": "stderr",
          "text": [
            "\rTraining:  91%|█████████████████████████████████████████████▌    | 456/500 [01:59<00:11,  3.74it/s]"
          ]
        },
        {
          "output_type": "stream",
          "name": "stdout",
          "text": [
            "[0.0791544  0.24323255 0.23282868 0.38328046 0.06150391]\n",
            "[ 1  6 10 11  2]\n"
          ]
        },
        {
          "output_type": "stream",
          "name": "stderr",
          "text": [
            "\rTraining:  91%|█████████████████████████████████████████████▋    | 457/500 [02:00<00:11,  3.70it/s]"
          ]
        },
        {
          "output_type": "stream",
          "name": "stdout",
          "text": [
            "[0.0791544  0.24323255 0.23282868 0.38328046 0.06150391]\n",
            "[ 5  5  5 11  4]\n"
          ]
        },
        {
          "output_type": "stream",
          "name": "stderr",
          "text": [
            "\rTraining:  92%|█████████████████████████████████████████████▊    | 458/500 [02:00<00:10,  3.84it/s]"
          ]
        },
        {
          "output_type": "stream",
          "name": "stdout",
          "text": [
            "[0.0791544  0.24323255 0.23282868 0.38328046 0.06150391]\n",
            "[ 2 10  8  8  2]\n"
          ]
        },
        {
          "output_type": "stream",
          "name": "stderr",
          "text": [
            "\rTraining:  92%|█████████████████████████████████████████████▉    | 459/500 [02:00<00:10,  3.90it/s]"
          ]
        },
        {
          "output_type": "stream",
          "name": "stdout",
          "text": [
            "[0.0791544  0.24323255 0.23282868 0.38328046 0.06150391]\n",
            "[ 0  7  5 16  2]\n"
          ]
        },
        {
          "output_type": "stream",
          "name": "stderr",
          "text": [
            "\rTraining:  92%|██████████████████████████████████████████████    | 460/500 [02:00<00:10,  3.90it/s]"
          ]
        },
        {
          "output_type": "stream",
          "name": "stdout",
          "text": [
            "[0.0791544  0.24323255 0.23282868 0.38328046 0.06150391]\n",
            "[ 2  8 10  9  1]\n"
          ]
        },
        {
          "output_type": "stream",
          "name": "stderr",
          "text": [
            "\rTraining:  92%|██████████████████████████████████████████████    | 461/500 [02:01<00:10,  3.83it/s]"
          ]
        },
        {
          "output_type": "stream",
          "name": "stdout",
          "text": [
            "[0.0791544  0.24323255 0.23282868 0.38328046 0.06150391]\n",
            "[3 8 9 9 1]\n"
          ]
        },
        {
          "output_type": "stream",
          "name": "stderr",
          "text": [
            "\rTraining:  92%|██████████████████████████████████████████████▏   | 462/500 [02:01<00:09,  3.82it/s]"
          ]
        },
        {
          "output_type": "stream",
          "name": "stdout",
          "text": [
            "[0.0791544  0.24323255 0.23282868 0.38328046 0.06150391]\n",
            "[ 1 12  7  8  2]\n"
          ]
        },
        {
          "output_type": "stream",
          "name": "stderr",
          "text": [
            "\rTraining:  93%|██████████████████████████████████████████████▎   | 463/500 [02:01<00:09,  3.85it/s]"
          ]
        },
        {
          "output_type": "stream",
          "name": "stdout",
          "text": [
            "[0.0791544  0.24323255 0.23282868 0.38328046 0.06150391]\n",
            "[ 0 10  3 15  2]\n"
          ]
        },
        {
          "output_type": "stream",
          "name": "stderr",
          "text": [
            "\rTraining:  93%|██████████████████████████████████████████████▍   | 464/500 [02:02<00:09,  3.82it/s]"
          ]
        },
        {
          "output_type": "stream",
          "name": "stdout",
          "text": [
            "[0.0791544  0.24323255 0.23282868 0.38328046 0.06150391]\n",
            "[ 1  4 10 12  3]\n"
          ]
        },
        {
          "output_type": "stream",
          "name": "stderr",
          "text": [
            "\rTraining:  93%|██████████████████████████████████████████████▌   | 465/500 [02:02<00:09,  3.77it/s]"
          ]
        },
        {
          "output_type": "stream",
          "name": "stdout",
          "text": [
            "[0.0791544  0.24323255 0.23282868 0.38328046 0.06150391]\n",
            "[ 2  5  8 11  4]\n"
          ]
        },
        {
          "output_type": "stream",
          "name": "stderr",
          "text": [
            "\rTraining:  93%|██████████████████████████████████████████████▌   | 466/500 [02:02<00:08,  3.83it/s]"
          ]
        },
        {
          "output_type": "stream",
          "name": "stdout",
          "text": [
            "[0.0791544  0.24323255 0.23282868 0.38328046 0.06150391]\n",
            "[ 1  6  4 17  2]\n"
          ]
        },
        {
          "output_type": "stream",
          "name": "stderr",
          "text": [
            "\rTraining:  93%|██████████████████████████████████████████████▋   | 467/500 [02:02<00:08,  3.81it/s]"
          ]
        },
        {
          "output_type": "stream",
          "name": "stdout",
          "text": [
            "[0.0791544  0.24323255 0.23282868 0.38328046 0.06150391]\n",
            "[ 2  6  9 13  0]\n"
          ]
        },
        {
          "output_type": "stream",
          "name": "stderr",
          "text": [
            "\rTraining:  94%|██████████████████████████████████████████████▊   | 468/500 [02:03<00:08,  3.81it/s]"
          ]
        },
        {
          "output_type": "stream",
          "name": "stdout",
          "text": [
            "[0.0791544  0.24323255 0.23282868 0.38328046 0.06150391]\n",
            "[ 3  8  7 11  1]\n"
          ]
        },
        {
          "output_type": "stream",
          "name": "stderr",
          "text": [
            "\rTraining:  94%|██████████████████████████████████████████████▉   | 469/500 [02:03<00:08,  3.81it/s]"
          ]
        },
        {
          "output_type": "stream",
          "name": "stdout",
          "text": [
            "[0.0791544  0.24323255 0.23282868 0.38328046 0.06150391]\n",
            "[ 2  6  8 13  1]\n"
          ]
        },
        {
          "output_type": "stream",
          "name": "stderr",
          "text": [
            "\rTraining:  94%|███████████████████████████████████████████████   | 470/500 [02:03<00:07,  3.82it/s]"
          ]
        },
        {
          "output_type": "stream",
          "name": "stdout",
          "text": [
            "[0.0791544  0.24323255 0.23282868 0.38328046 0.06150391]\n",
            "[ 3  8  8 11  0]\n"
          ]
        },
        {
          "output_type": "stream",
          "name": "stderr",
          "text": [
            "\rTraining:  94%|███████████████████████████████████████████████   | 471/500 [02:03<00:07,  3.82it/s]"
          ]
        },
        {
          "output_type": "stream",
          "name": "stdout",
          "text": [
            "[0.0791544  0.24323255 0.23282868 0.38328046 0.06150391]\n",
            "[ 2  7  7 12  2]\n"
          ]
        },
        {
          "output_type": "stream",
          "name": "stderr",
          "text": [
            "\rTraining:  94%|███████████████████████████████████████████████▏  | 472/500 [02:04<00:07,  3.79it/s]"
          ]
        },
        {
          "output_type": "stream",
          "name": "stdout",
          "text": [
            "[0.0791544  0.24323255 0.23282868 0.38328046 0.06150391]\n",
            "[ 4  4  6 11  5]\n"
          ]
        },
        {
          "output_type": "stream",
          "name": "stderr",
          "text": [
            "\rTraining:  95%|███████████████████████████████████████████████▎  | 473/500 [02:04<00:07,  3.79it/s]"
          ]
        },
        {
          "output_type": "stream",
          "name": "stdout",
          "text": [
            "[0.0791544  0.24323255 0.23282868 0.38328046 0.06150391]\n",
            "[ 5  4  8 12  1]\n"
          ]
        },
        {
          "output_type": "stream",
          "name": "stderr",
          "text": [
            "\rTraining:  95%|███████████████████████████████████████████████▍  | 474/500 [02:04<00:06,  3.86it/s]"
          ]
        },
        {
          "output_type": "stream",
          "name": "stdout",
          "text": [
            "[0.0791544  0.24323255 0.23282868 0.38328046 0.06150391]\n",
            "[ 6  5  8 10  1]\n"
          ]
        },
        {
          "output_type": "stream",
          "name": "stderr",
          "text": [
            "\rTraining:  95%|███████████████████████████████████████████████▌  | 475/500 [02:04<00:06,  3.97it/s]"
          ]
        },
        {
          "output_type": "stream",
          "name": "stdout",
          "text": [
            "[0.0791544  0.24323255 0.23282868 0.38328046 0.06150391]\n",
            "[ 2 11  8  7  2]\n"
          ]
        },
        {
          "output_type": "stream",
          "name": "stderr",
          "text": [
            "\rTraining:  95%|███████████████████████████████████████████████▌  | 476/500 [02:05<00:06,  3.92it/s]"
          ]
        },
        {
          "output_type": "stream",
          "name": "stdout",
          "text": [
            "[0.0791544  0.24323255 0.23282868 0.38328046 0.06150391]\n",
            "[ 3  6 11 10  0]\n"
          ]
        },
        {
          "output_type": "stream",
          "name": "stderr",
          "text": [
            "\rTraining:  95%|███████████████████████████████████████████████▋  | 477/500 [02:05<00:06,  3.83it/s]"
          ]
        },
        {
          "output_type": "stream",
          "name": "stdout",
          "text": [
            "[0.0791544  0.24323255 0.23282868 0.38328046 0.06150391]\n",
            "[ 2 11  5 11  1]\n"
          ]
        },
        {
          "output_type": "stream",
          "name": "stderr",
          "text": [
            "\rTraining:  96%|███████████████████████████████████████████████▊  | 478/500 [02:05<00:05,  3.93it/s]"
          ]
        },
        {
          "output_type": "stream",
          "name": "stdout",
          "text": [
            "[0.0791544  0.24323255 0.23282868 0.38328046 0.06150391]\n",
            "[ 3  8  8 10  1]\n"
          ]
        },
        {
          "output_type": "stream",
          "name": "stderr",
          "text": [
            "\rTraining:  96%|███████████████████████████████████████████████▉  | 479/500 [02:05<00:05,  3.93it/s]"
          ]
        },
        {
          "output_type": "stream",
          "name": "stdout",
          "text": [
            "[0.0791544  0.24323255 0.23282868 0.38328046 0.06150391]\n",
            "[ 0  7  8 13  2]\n"
          ]
        },
        {
          "output_type": "stream",
          "name": "stderr",
          "text": [
            "\rTraining:  96%|████████████████████████████████████████████████  | 480/500 [02:06<00:05,  3.92it/s]"
          ]
        },
        {
          "output_type": "stream",
          "name": "stdout",
          "text": [
            "[0.0791544  0.24323255 0.23282868 0.38328046 0.06150391]\n",
            "[ 4 10  6  8  2]\n"
          ]
        },
        {
          "output_type": "stream",
          "name": "stderr",
          "text": [
            "\rTraining:  96%|████████████████████████████████████████████████  | 481/500 [02:06<00:04,  3.82it/s]"
          ]
        },
        {
          "output_type": "stream",
          "name": "stdout",
          "text": [
            "[0.0791544  0.24323255 0.23282868 0.38328046 0.06150391]\n",
            "[ 0 10  9 11  0]\n"
          ]
        },
        {
          "output_type": "stream",
          "name": "stderr",
          "text": [
            "\rTraining:  96%|████████████████████████████████████████████████▏ | 482/500 [02:06<00:04,  3.84it/s]"
          ]
        },
        {
          "output_type": "stream",
          "name": "stdout",
          "text": [
            "[0.0791544  0.24323255 0.23282868 0.38328046 0.06150391]\n",
            "[ 4  6  6 13  1]\n"
          ]
        },
        {
          "output_type": "stream",
          "name": "stderr",
          "text": [
            "\rTraining:  97%|████████████████████████████████████████████████▎ | 483/500 [02:06<00:04,  3.86it/s]"
          ]
        },
        {
          "output_type": "stream",
          "name": "stdout",
          "text": [
            "[0.0791544  0.24323255 0.23282868 0.38328046 0.06150391]\n",
            "[ 2  6  9 12  1]\n"
          ]
        },
        {
          "output_type": "stream",
          "name": "stderr",
          "text": [
            "\rTraining:  97%|████████████████████████████████████████████████▍ | 484/500 [02:07<00:04,  3.90it/s]"
          ]
        },
        {
          "output_type": "stream",
          "name": "stdout",
          "text": [
            "[0.0791544  0.24323255 0.23282868 0.38328046 0.06150391]\n",
            "[ 3  5  8 12  2]\n"
          ]
        },
        {
          "output_type": "stream",
          "name": "stderr",
          "text": [
            "\rTraining:  97%|████████████████████████████████████████████████▌ | 485/500 [02:07<00:03,  3.93it/s]"
          ]
        },
        {
          "output_type": "stream",
          "name": "stdout",
          "text": [
            "[0.0791544  0.24323255 0.23282868 0.38328046 0.06150391]\n",
            "[ 0  7  3 17  3]\n"
          ]
        },
        {
          "output_type": "stream",
          "name": "stderr",
          "text": [
            "\rTraining:  97%|████████████████████████████████████████████████▌ | 486/500 [02:07<00:03,  4.00it/s]"
          ]
        },
        {
          "output_type": "stream",
          "name": "stdout",
          "text": [
            "[0.0791544  0.24323255 0.23282868 0.38328046 0.06150391]\n",
            "[ 0 10  9 11  0]\n"
          ]
        },
        {
          "output_type": "stream",
          "name": "stderr",
          "text": [
            "\rTraining:  97%|████████████████████████████████████████████████▋ | 487/500 [02:07<00:03,  4.04it/s]"
          ]
        },
        {
          "output_type": "stream",
          "name": "stdout",
          "text": [
            "[0.0791544  0.24323255 0.23282868 0.38328046 0.06150391]\n",
            "[ 2  8 10  9  1]\n"
          ]
        },
        {
          "output_type": "stream",
          "name": "stderr",
          "text": [
            "\rTraining:  98%|████████████████████████████████████████████████▊ | 488/500 [02:08<00:03,  4.00it/s]"
          ]
        },
        {
          "output_type": "stream",
          "name": "stdout",
          "text": [
            "[0.0791544  0.24323255 0.23282868 0.38328046 0.06150391]\n",
            "[5 7 8 8 2]\n"
          ]
        },
        {
          "output_type": "stream",
          "name": "stderr",
          "text": [
            "\rTraining:  98%|████████████████████████████████████████████████▉ | 489/500 [02:08<00:02,  3.99it/s]"
          ]
        },
        {
          "output_type": "stream",
          "name": "stdout",
          "text": [
            "[0.0791544  0.24323255 0.23282868 0.38328046 0.06150391]\n",
            "[ 2  4  8 13  3]\n"
          ]
        },
        {
          "output_type": "stream",
          "name": "stderr",
          "text": [
            "\rTraining:  98%|█████████████████████████████████████████████████ | 490/500 [02:08<00:02,  4.09it/s]"
          ]
        },
        {
          "output_type": "stream",
          "name": "stdout",
          "text": [
            "[0.0791544  0.24323255 0.23282868 0.38328046 0.06150391]\n",
            "[ 2 10  5 11  2]\n"
          ]
        },
        {
          "output_type": "stream",
          "name": "stderr",
          "text": [
            "\rTraining:  98%|█████████████████████████████████████████████████ | 491/500 [02:08<00:02,  4.07it/s]"
          ]
        },
        {
          "output_type": "stream",
          "name": "stdout",
          "text": [
            "[0.0791544  0.24323255 0.23282868 0.38328046 0.06150391]\n",
            "[ 1  4  6 17  2]\n"
          ]
        },
        {
          "output_type": "stream",
          "name": "stderr",
          "text": [
            "\rTraining:  98%|█████████████████████████████████████████████████▏| 492/500 [02:09<00:02,  3.94it/s]"
          ]
        },
        {
          "output_type": "stream",
          "name": "stdout",
          "text": [
            "[0.0791544  0.24323255 0.23282868 0.38328046 0.06150391]\n",
            "[ 3  7  7 12  1]\n"
          ]
        },
        {
          "output_type": "stream",
          "name": "stderr",
          "text": [
            "\rTraining:  99%|█████████████████████████████████████████████████▎| 493/500 [02:09<00:01,  3.87it/s]"
          ]
        },
        {
          "output_type": "stream",
          "name": "stdout",
          "text": [
            "[0.0791544  0.24323255 0.23282868 0.38328046 0.06150391]\n",
            "[ 4 10  5 11  0]\n"
          ]
        },
        {
          "output_type": "stream",
          "name": "stderr",
          "text": [
            "\rTraining:  99%|█████████████████████████████████████████████████▍| 494/500 [02:09<00:01,  3.92it/s]"
          ]
        },
        {
          "output_type": "stream",
          "name": "stdout",
          "text": [
            "[0.0791544  0.24323255 0.23282868 0.38328046 0.06150391]\n",
            "[ 5  6  8 11  0]\n"
          ]
        },
        {
          "output_type": "stream",
          "name": "stderr",
          "text": [
            "\rTraining:  99%|█████████████████████████████████████████████████▌| 495/500 [02:09<00:01,  4.01it/s]"
          ]
        },
        {
          "output_type": "stream",
          "name": "stdout",
          "text": [
            "[0.0791544  0.24323255 0.23282868 0.38328046 0.06150391]\n",
            "[ 1 11  9  8  1]\n"
          ]
        },
        {
          "output_type": "stream",
          "name": "stderr",
          "text": [
            "\rTraining:  99%|█████████████████████████████████████████████████▌| 496/500 [02:10<00:00,  4.01it/s]"
          ]
        },
        {
          "output_type": "stream",
          "name": "stdout",
          "text": [
            "[0.0791544  0.24323255 0.23282868 0.38328046 0.06150391]\n",
            "[ 4  7  6 11  2]\n"
          ]
        },
        {
          "output_type": "stream",
          "name": "stderr",
          "text": [
            "\rTraining:  99%|█████████████████████████████████████████████████▋| 497/500 [02:10<00:00,  3.95it/s]"
          ]
        },
        {
          "output_type": "stream",
          "name": "stdout",
          "text": [
            "[0.0791544  0.24323255 0.23282868 0.38328046 0.06150391]\n",
            "[ 2 10  7 11  0]\n"
          ]
        },
        {
          "output_type": "stream",
          "name": "stderr",
          "text": [
            "\rTraining: 100%|█████████████████████████████████████████████████▊| 498/500 [02:10<00:00,  3.95it/s]"
          ]
        },
        {
          "output_type": "stream",
          "name": "stdout",
          "text": [
            "[0.0791544  0.24323255 0.23282868 0.38328046 0.06150391]\n",
            "[ 1  9  8 11  1]\n"
          ]
        },
        {
          "output_type": "stream",
          "name": "stderr",
          "text": [
            "\rTraining: 100%|█████████████████████████████████████████████████▉| 499/500 [02:10<00:00,  3.96it/s]"
          ]
        },
        {
          "output_type": "stream",
          "name": "stdout",
          "text": [
            "[0.0791544  0.24323255 0.23282868 0.38328046 0.06150391]\n",
            "[ 2 11  8  8  1]\n"
          ]
        },
        {
          "output_type": "stream",
          "name": "stderr",
          "text": [
            "Training: 100%|██████████████████████████████████████████████████| 500/500 [02:11<00:00,  3.81it/s]\n"
          ]
        },
        {
          "output_type": "display_data",
          "data": {
            "image/png": "[encoded data removed]",
            "text/plain": [
              "<Figure size 432x288 with 1 Axes>"
            ]
          },
          "metadata": {
            "needs_background": "light"
          }
        }
      ]
    },
    {
      "cell_type": "code",
      "source": [
        "# plotting loss for Q1 b\n",
        "c = tf.Variable(tf.random.uniform([2, 1], 0, 1), trainable=True, dtype=tf.float32) \n",
        "w = tf.Variable(tf.random.uniform([2, 1], 0, 1), trainable=True, dtype=tf.float32) \n",
        "b = tf.Variable(tf.random.uniform([1, 1], 0, 1), trainable=True, dtype=tf.float32)\n",
        "\n",
        "loss = []\n",
        "\n",
        "for i in tqdm.trange(lepoch, desc=\"Training\", bar_format='{l_bar}{bar:50}{r_bar}'):\n",
        "    c, w, b, l = step2(c, w, b, ptarget, psource, eta, n_samples, loss=True)\n",
        "    loss.append(l)\n",
        "\n",
        "plt.plot(loss)\n",
        "plt.show()"
      ],
      "metadata": {
        "colab": {
          "base_uri": "https://localhost:8080/",
          "height": 282
        },
        "id": "MCZ4tOtEFu-J",
        "outputId": "b3684fbd-2e04-4fcf-bc3e-530b6b6b022b"
      },
      "id": "MCZ4tOtEFu-J",
      "execution_count": 23,
      "outputs": [
        {
          "output_type": "stream",
          "name": "stderr",
          "text": [
            "Training: 100%|██████████████████████████████████████████████████| 500/500 [02:12<00:00,  3.78it/s]\n"
          ]
        },
        {
          "output_type": "display_data",
          "data": {
            "image/png": "[encoded data removed]",
            "text/plain": [
              "<Figure size 432x288 with 1 Axes>"
            ]
          },
          "metadata": {
            "needs_background": "light"
          }
        }
      ]
    },
    {
      "cell_type": "markdown",
      "source": [
        "### **Q1 c Observations**\n",
        "\n",
        "We have plotted the loss values (for both parts of problem 1) obtained throughout the epochs to understand our model in a better manner. Here, we observe that the loss values keep oscillating about a base loss value and at the same time, this base value keeps increasing. The loss is clearly increasing instead of converging to smaller values\n",
        "\n",
        "Our model is not able to track the losses and reduce them to better its performance. A possible reason can be the fact that there are very less parameters ($2D+1 = 5$) to train which does not work well here."
      ],
      "metadata": {
        "id": "TLF_opyIGEB8"
      },
      "id": "TLF_opyIGEB8"
    },
    {
      "cell_type": "markdown",
      "id": "surrounded-philippines",
      "metadata": {
        "id": "surrounded-philippines"
      },
      "source": [
        "# Q2: Importance Sampling\n",
        "Use the codes and models of Q1 to solve this problem\n",
        "1. Assume you do not have access to `ptarget.sample()` but only to `ptarget.prob()`. Estimate $E[x^2]$ using the NF models of Q1a and Q1b. Write your obervations in the markdown block below the plots. [5 marks]\n",
        "2. Evaluation: Now using the complete class `ptarget`, find $E[x^2]$ and compare it with the value computed in Q2.1. Write your obervations in the markdown block below the plots. [5 marks]"
      ]
    },
    {
      "cell_type": "markdown",
      "id": "spiritual-contents",
      "metadata": {
        "id": "spiritual-contents"
      },
      "source": [
        "## YOUR CODE:"
      ]
    },
    {
      "cell_type": "code",
      "source": [
        "epoch = 500\n",
        "n_samples = 30\n",
        "eta = 0.001"
      ],
      "metadata": {
        "id": "Un8VslmnKlbx"
      },
      "id": "Un8VslmnKlbx",
      "execution_count": 24,
      "outputs": []
    },
    {
      "cell_type": "code",
      "source": [
        "# Training model \n",
        "\n",
        "c = tf.Variable(tf.random.uniform([2, 1], 0, 1), trainable=True, dtype=tf.float32) \n",
        "w = tf.Variable(tf.random.uniform([2, 1], 0, 1), trainable=True, dtype=tf.float32) \n",
        "b = tf.Variable(tf.random.uniform([1, 1], 0, 1), trainable=True, dtype=tf.float32)\n",
        "\n",
        "for i in tqdm.trange(epoch, desc=\"Training\", bar_format='{l_bar}{bar:50}{r_bar}'):\n",
        "    c, w, b = step2(c, w, b, ptarget, psource, eta, n_samples, loss=False)"
      ],
      "metadata": {
        "colab": {
          "base_uri": "https://localhost:8080/"
        },
        "id": "QoOYzXVBIK6b",
        "outputId": "87f0d268-df0b-48b1-dbf1-3035684c7e30"
      },
      "id": "QoOYzXVBIK6b",
      "execution_count": 25,
      "outputs": [
        {
          "output_type": "stream",
          "name": "stderr",
          "text": [
            "Training: 100%|██████████████████████████████████████████████████| 500/500 [02:16<00:00,  3.67it/s]\n"
          ]
        }
      ]
    },
    {
      "cell_type": "code",
      "execution_count": 26,
      "id": "balanced-emphasis",
      "metadata": {
        "colab": {
          "base_uri": "https://localhost:8080/"
        },
        "id": "balanced-emphasis",
        "outputId": "d9ca4976-eb8f-4f2e-ea96-bd315fbd7a80"
      },
      "outputs": [
        {
          "output_type": "stream",
          "name": "stdout",
          "text": [
            "tf.Tensor([[12.452383 18.333187]], shape=(1, 2), dtype=float32)\n"
          ]
        }
      ],
      "source": [
        "##### Q2.1 #####\n",
        "\n",
        "u = tf.cast(psource.sample(n_samples), dtype=tf.float32)\n",
        "x = T(np.asarray(u), c, w, b)\n",
        "p_star = ptarget.prob(np.asarray(x))\n",
        "psp = psource.prob(np.asarray(u))\n",
        "z = det_J(u, c, w, b)\n",
        "p = []\n",
        "for i in range(n_samples):\n",
        "  p.append(psp[i]/z[i])\n",
        "fx = np.asarray(x)**2\n",
        "mean = [0, 0]\n",
        "for i in range(n_samples):\n",
        "    mean += fx[i]*(p_star[i]/p[i])\n",
        "print(mean/n_samples)"
      ]
    },
    {
      "cell_type": "markdown",
      "id": "political-chest",
      "metadata": {
        "id": "political-chest"
      },
      "source": [
        "### **Q2.1 Observations**\n",
        "\n",
        "According to lectures, expression for expected value is as follows\n",
        "\n",
        "$\\underset{\\rm x\\sim p(x)}{\\rm E} [\\,f(x)\\,] = \\int_{x} f(x)p(x) dx = \\int_{x} f(x)\\frac{p(x)}{q(x)}q(x)dx = \\underset{\\rm x\\sim q(x)}{\\rm E} [\\,f(x)\\frac{p(x)}{q(x)}\\,]$\n",
        "\n",
        "We have rearranged the functions to get the latter term\n",
        "\n",
        "Now, substitute $p(x)$ by $p^*_x(x)$ and $q(x)$ by $p_x(x)$ to get this modified expression; since sampling is from $q(x)$, in our modified expression, sampling will be from $p_x(x)$\n",
        "\n",
        "$\\int_{x} x^2p^*_x(x) dx = \\int_{x} f(x)\\frac{p^*_x(x)}{p_x(x)}p_x(x)dx = \\underset{\\rm x\\sim p_x(x)}{\\rm E} [\\,x^2\\frac{p^*_x(x)}{p_x(x)}\\,]$\n",
        "\n",
        "We use Monte-Carlo approximation to get the expected value\n",
        "\n",
        "The mean values differ quite significantly telling us that our model is not acurate as all"
      ]
    },
    {
      "cell_type": "code",
      "execution_count": 27,
      "id": "specialized-accused",
      "metadata": {
        "colab": {
          "base_uri": "https://localhost:8080/"
        },
        "id": "specialized-accused",
        "outputId": "48809d9d-c8c4-421b-a966-0a84e04bea51"
      },
      "outputs": [
        {
          "output_type": "stream",
          "name": "stdout",
          "text": [
            "[0.0791544  0.24323255 0.23282868 0.38328046 0.06150391]\n",
            "[ 4  8  7 11  0]\n"
          ]
        },
        {
          "output_type": "execute_result",
          "data": {
            "text/plain": [
              "array([9.14006013, 5.38149713])"
            ]
          },
          "metadata": {},
          "execution_count": 27
        }
      ],
      "source": [
        "##### Q2.2 #####\n",
        "x = ptarget.sample(n_samples)\n",
        "np.mean(x**2, axis=0)"
      ]
    },
    {
      "cell_type": "markdown",
      "source": [
        "### **Q2.2 Observations**\n",
        "\n",
        "We observe that the Monte Carlo approximations calculated using the expression\n",
        "\n",
        "$\\underset{\\rm x\\sim p^*_x(x)}{\\rm E} [\\,x^2\\,] = \\frac{1}{N}\\sum_{i=1}^{N} x_i^2$ (in lecture notes)\n",
        "\n",
        "differ greatly, which is because our model is not fitting properly for this problem set\n",
        "\n",
        "All of the plots, calculations, everything points to the observation that Planar Flow model cannot work for this given case"
      ],
      "metadata": {
        "id": "yGRa2G-lc24H"
      },
      "id": "yGRa2G-lc24H"
    }
  ],
  "metadata": {
    "kernelspec": {
      "display_name": "Python 3",
      "language": "python",
      "name": "python3"
    },
    "language_info": {
      "codemirror_mode": {
        "name": "ipython",
        "version": 3
      },
      "file_extension": ".py",
      "mimetype": "text/x-python",
      "name": "python",
      "nbconvert_exporter": "python",
      "pygments_lexer": "ipython3",
      "version": "3.9.5"
    },
    "colab": {
      "name": "190454_lakshita_CodingQuiz1.ipynb",
      "provenance": []
    },
    "accelerator": "GPU"
  },
  "nbformat": 4,
  "nbformat_minor": 5
}